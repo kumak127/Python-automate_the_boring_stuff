{
 "cells": [
  {
   "cell_type": "markdown",
   "metadata": {},
   "source": [
    "# 例外を起こす"
   ]
  },
  {
   "cell_type": "code",
   "execution_count": 4,
   "metadata": {},
   "outputs": [
    {
     "ename": "Exception",
     "evalue": "これはエラーメッセージです",
     "output_type": "error",
     "traceback": [
      "\u001b[1;31m---------------------------------------------------------------------------\u001b[0m",
      "\u001b[1;31mException\u001b[0m                                 Traceback (most recent call last)",
      "\u001b[1;32m<ipython-input-4-d1dbfbc4b117>\u001b[0m in \u001b[0;36m<module>\u001b[1;34m\u001b[0m\n\u001b[1;32m----> 1\u001b[1;33m \u001b[1;32mraise\u001b[0m \u001b[0mException\u001b[0m\u001b[1;33m(\u001b[0m\u001b[1;34m\"これはエラーメッセージです\"\u001b[0m\u001b[1;33m)\u001b[0m\u001b[1;33m\u001b[0m\u001b[1;33m\u001b[0m\u001b[0m\n\u001b[0m",
      "\u001b[1;31mException\u001b[0m: これはエラーメッセージです"
     ]
    }
   ],
   "source": [
    "raise Exception(\"これはエラーメッセージです\")"
   ]
  },
  {
   "cell_type": "markdown",
   "metadata": {},
   "source": [
    "例外は eaise 文を使うことで起こすことができる\n",
    "\n",
    "raise文に Exception 関数を使って状況の理解に役立つエラーメッセージ(エラーの詳細)を表示"
   ]
  },
  {
   "cell_type": "code",
   "execution_count": 5,
   "metadata": {},
   "outputs": [],
   "source": [
    "def box_print(symbol, width, height):\n",
    "    if len(symbol) != 1:\n",
    "        raise Exception(\"symbolは1文字の文字列でないといけない\")\n",
    "    if width <= 2:\n",
    "        raise Exception(\"widthは2より大きくなければいけない\")\n",
    "    if height <= 2:\n",
    "        raise Exception(\"heightは2より大きくなければいけない\")\n",
    "    print(symbol * width)\n",
    "    for i in range(height - 2):\n",
    "        print(symbol + \" \" * (width - 2) + symbol)\n",
    "    print(symbol * width)"
   ]
  },
  {
   "cell_type": "code",
   "execution_count": 8,
   "metadata": {},
   "outputs": [
    {
     "name": "stdout",
     "output_type": "stream",
     "text": [
      "****\n",
      "*  *\n",
      "*  *\n",
      "****\n",
      "OOOOOOOOOOOOOOOOOOOO\n",
      "O                  O\n",
      "O                  O\n",
      "O                  O\n",
      "OOOOOOOOOOOOOOOOOOOO\n",
      "例外が起こりました: widthは2より大きくなければいけない\n",
      "例外が起こりました: symbolは1文字の文字列でないといけない\n"
     ]
    }
   ],
   "source": [
    "for sym, w, h in ((\"*\", 4,4), ('O', 20, 5), (\"x\", 1, 3), (\"ZZ\", 3, 3)):\n",
    "    try:\n",
    "        box_print(sym, w, h)\n",
    "    except Exception as err:\n",
    "        print(\"例外が起こりました: \" + str(err))"
   ]
  },
  {
   "cell_type": "markdown",
   "metadata": {},
   "source": [
    "基本的に関数の中に raise 文を使ってエラーを起こし、関数を使うプログラムの中に try 文を使ってエラーを処理する\n",
    "\n",
    "上の関数内にifを使って特定の状況においてエラーに起こすようにして、Exception(例外)と()内にエラーの詳細を入れる\n",
    "\n",
    "下の関数を実際に使った処理中に、上で設定したExceptionErrorが起こった場合にprintで\"例外が起こりました\"という文章とともに、\n",
    "\n",
    "as 文を使ってエラーの詳細を err に受け取って表示している"
   ]
  },
  {
   "cell_type": "markdown",
   "metadata": {},
   "source": [
    "# トレースバックを文字列として受け取る"
   ]
  },
  {
   "cell_type": "code",
   "execution_count": 9,
   "metadata": {},
   "outputs": [
    {
     "ename": "Exception",
     "evalue": "これはエラーメッセージです",
     "output_type": "error",
     "traceback": [
      "\u001b[1;31m---------------------------------------------------------------------------\u001b[0m",
      "\u001b[1;31mException\u001b[0m                                 Traceback (most recent call last)",
      "\u001b[1;32m<ipython-input-9-a4db11509810>\u001b[0m in \u001b[0;36m<module>\u001b[1;34m\u001b[0m\n\u001b[0;32m      5\u001b[0m     \u001b[1;32mraise\u001b[0m \u001b[0mException\u001b[0m\u001b[1;33m(\u001b[0m\u001b[1;34m\"これはエラーメッセージです\"\u001b[0m\u001b[1;33m)\u001b[0m\u001b[1;33m\u001b[0m\u001b[1;33m\u001b[0m\u001b[0m\n\u001b[0;32m      6\u001b[0m \u001b[1;33m\u001b[0m\u001b[0m\n\u001b[1;32m----> 7\u001b[1;33m \u001b[0mspam\u001b[0m\u001b[1;33m(\u001b[0m\u001b[1;33m)\u001b[0m\u001b[1;33m\u001b[0m\u001b[1;33m\u001b[0m\u001b[0m\n\u001b[0m",
      "\u001b[1;32m<ipython-input-9-a4db11509810>\u001b[0m in \u001b[0;36mspam\u001b[1;34m()\u001b[0m\n\u001b[0;32m      1\u001b[0m \u001b[1;32mdef\u001b[0m \u001b[0mspam\u001b[0m\u001b[1;33m(\u001b[0m\u001b[1;33m)\u001b[0m\u001b[1;33m:\u001b[0m\u001b[1;33m\u001b[0m\u001b[1;33m\u001b[0m\u001b[0m\n\u001b[1;32m----> 2\u001b[1;33m     \u001b[0mbacon\u001b[0m\u001b[1;33m(\u001b[0m\u001b[1;33m)\u001b[0m\u001b[1;33m\u001b[0m\u001b[1;33m\u001b[0m\u001b[0m\n\u001b[0m\u001b[0;32m      3\u001b[0m \u001b[1;33m\u001b[0m\u001b[0m\n\u001b[0;32m      4\u001b[0m \u001b[1;32mdef\u001b[0m \u001b[0mbacon\u001b[0m\u001b[1;33m(\u001b[0m\u001b[1;33m)\u001b[0m\u001b[1;33m:\u001b[0m\u001b[1;33m\u001b[0m\u001b[1;33m\u001b[0m\u001b[0m\n\u001b[0;32m      5\u001b[0m     \u001b[1;32mraise\u001b[0m \u001b[0mException\u001b[0m\u001b[1;33m(\u001b[0m\u001b[1;34m\"これはエラーメッセージです\"\u001b[0m\u001b[1;33m)\u001b[0m\u001b[1;33m\u001b[0m\u001b[1;33m\u001b[0m\u001b[0m\n",
      "\u001b[1;32m<ipython-input-9-a4db11509810>\u001b[0m in \u001b[0;36mbacon\u001b[1;34m()\u001b[0m\n\u001b[0;32m      3\u001b[0m \u001b[1;33m\u001b[0m\u001b[0m\n\u001b[0;32m      4\u001b[0m \u001b[1;32mdef\u001b[0m \u001b[0mbacon\u001b[0m\u001b[1;33m(\u001b[0m\u001b[1;33m)\u001b[0m\u001b[1;33m:\u001b[0m\u001b[1;33m\u001b[0m\u001b[1;33m\u001b[0m\u001b[0m\n\u001b[1;32m----> 5\u001b[1;33m     \u001b[1;32mraise\u001b[0m \u001b[0mException\u001b[0m\u001b[1;33m(\u001b[0m\u001b[1;34m\"これはエラーメッセージです\"\u001b[0m\u001b[1;33m)\u001b[0m\u001b[1;33m\u001b[0m\u001b[1;33m\u001b[0m\u001b[0m\n\u001b[0m\u001b[0;32m      6\u001b[0m \u001b[1;33m\u001b[0m\u001b[0m\n\u001b[0;32m      7\u001b[0m \u001b[0mspam\u001b[0m\u001b[1;33m(\u001b[0m\u001b[1;33m)\u001b[0m\u001b[1;33m\u001b[0m\u001b[1;33m\u001b[0m\u001b[0m\n",
      "\u001b[1;31mException\u001b[0m: これはエラーメッセージです"
     ]
    }
   ],
   "source": [
    "def spam():\n",
    "    bacon()\n",
    "    \n",
    "def bacon():\n",
    "    raise Exception(\"これはエラーメッセージです\")\n",
    "    \n",
    "spam()"
   ]
  },
  {
   "cell_type": "markdown",
   "metadata": {},
   "source": [
    "トレースバックとはこのようなエラーの情報のことで、\n",
    "\n",
    "上から、7行目のspamから2行目のbaconが呼ばれ、2行目のbaconが5行目のExceptionエラーを起こしていることがわかる"
   ]
  },
  {
   "cell_type": "code",
   "execution_count": 1,
   "metadata": {},
   "outputs": [],
   "source": [
    "import traceback"
   ]
  },
  {
   "cell_type": "code",
   "execution_count": 2,
   "metadata": {},
   "outputs": [
    {
     "name": "stdout",
     "output_type": "stream",
     "text": [
      "Traceback (most recent call last):\n",
      "  File \"<ipython-input-2-a7bf2f0523cb>\", line 8, in <module>\n",
      "    spam()\n",
      "  File \"<ipython-input-2-a7bf2f0523cb>\", line 2, in spam\n",
      "    bacon()\n",
      "  File \"<ipython-input-2-a7bf2f0523cb>\", line 5, in bacon\n",
      "    raise Exception(\"これはエラーメッセージです\")\n",
      "Exception: これはエラーメッセージです\n",
      "\n",
      "エラー内容をファイルに書き出しました\n"
     ]
    }
   ],
   "source": [
    "def spam():\n",
    "    bacon()\n",
    "    \n",
    "def bacon():\n",
    "    raise Exception(\"これはエラーメッセージです\")\n",
    "\n",
    "try:    \n",
    "    spam()\n",
    "except:\n",
    "    with open(r\".\\pydata\\errorInfo.txt\", \"w\") as f:\n",
    "        f.write(traceback.format_exc()) \n",
    "    print(traceback.format_exc())\n",
    "    print(\"エラー内容をファイルに書き出しました\")"
   ]
  },
  {
   "cell_type": "markdown",
   "metadata": {},
   "source": [
    "traceback モジュールの format_exc 関数を使うことで例外を処理しながら\n",
    "\n",
    "トレースバックの内容を文字列として表示したり、ファイルに書き出したりできる"
   ]
  },
  {
   "cell_type": "markdown",
   "metadata": {},
   "source": [
    "# アサート (プログラムの正常性チェック)"
   ]
  },
  {
   "cell_type": "code",
   "execution_count": 16,
   "metadata": {},
   "outputs": [
    {
     "ename": "AssertionError",
     "evalue": "誕生日は27です",
     "output_type": "error",
     "traceback": [
      "\u001b[1;31m---------------------------------------------------------------------------\u001b[0m",
      "\u001b[1;31mAssertionError\u001b[0m                            Traceback (most recent call last)",
      "\u001b[1;32m<ipython-input-16-74e635be9275>\u001b[0m in \u001b[0;36m<module>\u001b[1;34m\u001b[0m\n\u001b[0;32m      2\u001b[0m \u001b[1;32massert\u001b[0m \u001b[0mmy_birthday\u001b[0m \u001b[1;33m==\u001b[0m \u001b[1;36m27\u001b[0m\u001b[1;33m,\u001b[0m \u001b[1;34m\"誕生日は27です\"\u001b[0m\u001b[1;33m\u001b[0m\u001b[1;33m\u001b[0m\u001b[0m\n\u001b[0;32m      3\u001b[0m \u001b[0mmy_birthday\u001b[0m \u001b[1;33m=\u001b[0m \u001b[1;36m27\u001b[0m\u001b[1;33m-\u001b[0m\u001b[1;36m15\u001b[0m\u001b[1;33m\u001b[0m\u001b[1;33m\u001b[0m\u001b[0m\n\u001b[1;32m----> 4\u001b[1;33m \u001b[1;32massert\u001b[0m \u001b[0mmy_birthday\u001b[0m \u001b[1;33m==\u001b[0m \u001b[1;36m27\u001b[0m\u001b[1;33m,\u001b[0m \u001b[1;34m\"誕生日は27です\"\u001b[0m\u001b[1;33m\u001b[0m\u001b[1;33m\u001b[0m\u001b[0m\n\u001b[0m",
      "\u001b[1;31mAssertionError\u001b[0m: 誕生日は27です"
     ]
    }
   ],
   "source": [
    "my_birthday = 27\n",
    "assert my_birthday == 27, \"誕生日は27です\"\n",
    "my_birthday = 27 - 15\n",
    "assert my_birthday == 27, \"誕生日は27です\""
   ]
  },
  {
   "cell_type": "markdown",
   "metadata": {},
   "source": [
    "assert 文は、`assert 条件式 , 条件がFalseになったときに表示する文字列` で構成されて、Falseのときに AssertionError を起こす\n",
    "\n",
    "最初に代入した値が、プログラムの中で無意識に別の代入が行われてしまい期待した値と違い、予想と違う動きをするかもしれない\n",
    "\n",
    "その時に assert を使うことで、値が自分の希望と違っていないか把握でき、違う場合は AssertionError と詳細な文字列で教えてくれる\n",
    "\n",
    "この文をプログラムの各地に書くことで間違いに早く気づけ訂正することができるプログラマーのための処理ができる\n",
    "\n",
    "try だとプログラム的に流されてしまうようなミスでも、assert だと処理を異常停止してミスを教えてくれるという利点がある"
   ]
  },
  {
   "cell_type": "code",
   "execution_count": 22,
   "metadata": {},
   "outputs": [],
   "source": [
    "market_2nd = {\"ns\": \"green\", \"ew\": \"red\"}\n",
    "mission_16th = {\"ns\": \"red\", \"ew\": \"green\"}"
   ]
  },
  {
   "cell_type": "code",
   "execution_count": 18,
   "metadata": {},
   "outputs": [],
   "source": [
    "def switch_lights(stoplight):\n",
    "    for key in stoplight.keys():\n",
    "        if stoplight[key] == \"green\":\n",
    "            stoplight[key] = \"yellow\"\n",
    "        elif stoplight[key] == \"yellow\":\n",
    "            stoplight[key] = \"red\"\n",
    "        elif stoplight[key] == \"red\":\n",
    "            stoplight[key] = \"green\""
   ]
  },
  {
   "cell_type": "code",
   "execution_count": 19,
   "metadata": {},
   "outputs": [],
   "source": [
    "switch_lights(market_2nd)"
   ]
  },
  {
   "cell_type": "code",
   "execution_count": 20,
   "metadata": {},
   "outputs": [
    {
     "data": {
      "text/plain": [
       "{'ns': 'yellow', 'ew': 'green'}"
      ]
     },
     "execution_count": 20,
     "metadata": {},
     "output_type": "execute_result"
    }
   ],
   "source": [
    "market_2nd"
   ]
  },
  {
   "cell_type": "code",
   "execution_count": 25,
   "metadata": {},
   "outputs": [],
   "source": [
    "market_2nd = {\"ns\": \"green\", \"ew\": \"red\"}\n",
    "mission_16th = {\"ns\": \"red\", \"ew\": \"green\"}"
   ]
  },
  {
   "cell_type": "code",
   "execution_count": 26,
   "metadata": {},
   "outputs": [],
   "source": [
    "def switch_lights(stoplight):\n",
    "    for key in stoplight.keys():\n",
    "        if stoplight[key] == \"green\":\n",
    "            stoplight[key] = \"yellow\"\n",
    "        elif stoplight[key] == \"yellow\":\n",
    "            stoplight[key] = \"red\"\n",
    "        elif stoplight[key] == \"red\":\n",
    "            stoplight[key] = \"green\"\n",
    "    assert \"red\" in stoplight.values() , \"赤信号がない\" + str(stoplight)"
   ]
  },
  {
   "cell_type": "code",
   "execution_count": 27,
   "metadata": {},
   "outputs": [
    {
     "ename": "AssertionError",
     "evalue": "赤信号がない{'ns': 'yellow', 'ew': 'green'}",
     "output_type": "error",
     "traceback": [
      "\u001b[1;31m---------------------------------------------------------------------------\u001b[0m",
      "\u001b[1;31mAssertionError\u001b[0m                            Traceback (most recent call last)",
      "\u001b[1;32m<ipython-input-27-10e2acf39659>\u001b[0m in \u001b[0;36m<module>\u001b[1;34m\u001b[0m\n\u001b[1;32m----> 1\u001b[1;33m \u001b[0mswitch_lights\u001b[0m\u001b[1;33m(\u001b[0m\u001b[0mmarket_2nd\u001b[0m\u001b[1;33m)\u001b[0m\u001b[1;33m\u001b[0m\u001b[1;33m\u001b[0m\u001b[0m\n\u001b[0m",
      "\u001b[1;32m<ipython-input-26-b07be36cea9b>\u001b[0m in \u001b[0;36mswitch_lights\u001b[1;34m(stoplight)\u001b[0m\n\u001b[0;32m      7\u001b[0m         \u001b[1;32melif\u001b[0m \u001b[0mstoplight\u001b[0m\u001b[1;33m[\u001b[0m\u001b[0mkey\u001b[0m\u001b[1;33m]\u001b[0m \u001b[1;33m==\u001b[0m \u001b[1;34m\"red\"\u001b[0m\u001b[1;33m:\u001b[0m\u001b[1;33m\u001b[0m\u001b[1;33m\u001b[0m\u001b[0m\n\u001b[0;32m      8\u001b[0m             \u001b[0mstoplight\u001b[0m\u001b[1;33m[\u001b[0m\u001b[0mkey\u001b[0m\u001b[1;33m]\u001b[0m \u001b[1;33m=\u001b[0m \u001b[1;34m\"green\"\u001b[0m\u001b[1;33m\u001b[0m\u001b[1;33m\u001b[0m\u001b[0m\n\u001b[1;32m----> 9\u001b[1;33m     \u001b[1;32massert\u001b[0m \u001b[1;34m\"red\"\u001b[0m \u001b[1;32min\u001b[0m \u001b[0mstoplight\u001b[0m\u001b[1;33m.\u001b[0m\u001b[0mvalues\u001b[0m\u001b[1;33m(\u001b[0m\u001b[1;33m)\u001b[0m \u001b[1;33m,\u001b[0m \u001b[1;34m\"赤信号がない\"\u001b[0m \u001b[1;33m+\u001b[0m \u001b[0mstr\u001b[0m\u001b[1;33m(\u001b[0m\u001b[0mstoplight\u001b[0m\u001b[1;33m)\u001b[0m\u001b[1;33m\u001b[0m\u001b[1;33m\u001b[0m\u001b[0m\n\u001b[0m",
      "\u001b[1;31mAssertionError\u001b[0m: 赤信号がない{'ns': 'yellow', 'ew': 'green'}"
     ]
    }
   ],
   "source": [
    "switch_lights(market_2nd)"
   ]
  },
  {
   "cell_type": "markdown",
   "metadata": {},
   "source": [
    "信号を次の色に変える関数を作った\n",
    "\n",
    "1回目だと問題なく処理が行われるが実際に使うと事故が起きてしまう\n",
    "\n",
    "2回目の処理で assert 文を使い、どちらかがredになっていない場合にErrorを起こすようにする\n",
    "\n",
    "これでエラーが起こった時の状態と、redがない時があることを知ることができる"
   ]
  },
  {
   "cell_type": "markdown",
   "metadata": {},
   "source": [
    "# ログをとる(logging モジュール)"
   ]
  },
  {
   "cell_type": "code",
   "execution_count": 3,
   "metadata": {},
   "outputs": [
    {
     "name": "stderr",
     "output_type": "stream",
     "text": [
      " 2020-10-02 11:06:20,672 - DEBUG - プログラム開始\n"
     ]
    }
   ],
   "source": [
    "import logging\n",
    "logging.basicConfig(level=logging.DEBUG, format=\" %(asctime)s - %(levelname)s - %(message)s\")\n",
    "logging.debug(\"プログラム開始\")"
   ]
  },
  {
   "cell_type": "code",
   "execution_count": 4,
   "metadata": {},
   "outputs": [
    {
     "name": "stderr",
     "output_type": "stream",
     "text": [
      " 2020-10-02 11:06:21,469 - DEBUG - factorial(5)開始\n",
      " 2020-10-02 11:06:21,469 - DEBUG - i=1,total=1\n",
      " 2020-10-02 11:06:21,474 - DEBUG - i=2,total=2\n",
      " 2020-10-02 11:06:21,475 - DEBUG - i=3,total=6\n",
      " 2020-10-02 11:06:21,477 - DEBUG - i=4,total=24\n",
      " 2020-10-02 11:06:21,478 - DEBUG - i=5,total=120\n",
      " 2020-10-02 11:06:21,478 - DEBUG - factorial(5)終了\n",
      " 2020-10-02 11:06:21,479 - DEBUG - プログラム終了\n"
     ]
    },
    {
     "name": "stdout",
     "output_type": "stream",
     "text": [
      "120\n"
     ]
    }
   ],
   "source": [
    "def factorial(n):\n",
    "    logging.debug(\"factorial({})開始\".format(n))\n",
    "    total = 1\n",
    "    for i in range(1, n+1):\n",
    "        total *= i\n",
    "        logging.debug(\"i={},total={}\".format(i, total))\n",
    "    logging.debug(\"factorial({})終了\".format(n))\n",
    "    return total\n",
    "\n",
    "print(factorial(5))\n",
    "logging.debug(\"プログラム終了\")"
   ]
  },
  {
   "cell_type": "markdown",
   "metadata": {},
   "source": [
    "ログ(どういう処理が行われているか記録したもの)を表示するには、logging モジュールをインポートする必要がある\n",
    "\n",
    "次に logging.basicConfing で何を表示するかということを決める(level でログレベルの設定、format で表示の仕方を設定)\n",
    "\n",
    "処理のプログラムの間に logging.debug 関数を使うことでログを出力し処理の状態を知ることができる"
   ]
  },
  {
   "cell_type": "code",
   "execution_count": 5,
   "metadata": {},
   "outputs": [
    {
     "name": "stderr",
     "output_type": "stream",
     "text": [
      " 2020-10-02 11:06:22,970 - DEBUG - デバッグ用詳細情報\n",
      " 2020-10-02 11:06:22,971 - INFO - loggingモジュールは動作中\n",
      " 2020-10-02 11:06:22,973 - WARNING - エラーメッセージがログ出力されようとしている\n",
      " 2020-10-02 11:06:22,973 - ERROR - エラーが発生した\n",
      " 2020-10-02 11:06:22,973 - CRITICAL - プログラムは回復不能\n"
     ]
    }
   ],
   "source": [
    "logging.basicConfig(level=logging.DEBUG, format=\" %(asctime)s - %(levelname)s - %(message)s\")\n",
    "logging.debug(\"デバッグ用詳細情報\")\n",
    "logging.info(\"loggingモジュールは動作中\")\n",
    "logging.warning(\"エラーメッセージがログ出力されようとしている\")\n",
    "logging.error(\"エラーが発生した\")\n",
    "logging.critical(\"プログラムは回復不能\")"
   ]
  },
  {
   "cell_type": "markdown",
   "metadata": {},
   "source": [
    "ログレベルを使えうことで、ログメッセージの重要性をわかりやすく伝えることができる\n",
    "\n",
    "DEBUG < INFO < WARNING < ERROR < CRITICAL の順に重要性が上がっていく\n",
    "\n",
    "logging.basicConfig の引数の level に logging.DEBUG を渡せばすべてのログレベルのメッセージを表示され、 ERROR を渡せば ERROR と CRITICAL のログレベルのメッセージが表示される"
   ]
  },
  {
   "cell_type": "markdown",
   "metadata": {},
   "source": [
    "|レベル|ログ出力関数|説明|\n",
    "|:-|:-|:-|\n",
    "|DEBUG|logging.debug())|最低レベル。詳細情報用。問題解析用に用いることが多い|\n",
    "|INFO|logging.info()|各種のイベントの情報を記録したりプログラムの要所で動作確認をしたりするために用いる|\n",
    "|WARNING|logging.warning()|プログラムが機能しないことはないが将来そうなりそうな潜在的な問題を示すのに用いる|\n",
    "|ERROR|logging.error()|プログラムが何か動作に失敗したことによるエラーを記載するために用いる|\n",
    "|CRITICAL|logging.critical()|最高レベル。プログラムが実行を中止する致命的なエラーが起こったか起ころうとしていることを示すのに用いる|"
   ]
  },
  {
   "cell_type": "code",
   "execution_count": 6,
   "metadata": {},
   "outputs": [
    {
     "name": "stderr",
     "output_type": "stream",
     "text": [
      " 2020-10-02 11:06:25,907 - CRITICAL - 致命的エラー\n",
      " 2020-10-02 11:06:25,912 - ERROR - エラー\n",
      " 2020-10-02 11:06:25,913 - CRITICAL - 致命的エラー\n"
     ]
    }
   ],
   "source": [
    "logging.basicConfig(level=\"logging.INFO\", format=\" %(asctime)s - %(levelname)s - %(message)s\")\n",
    "logging.critical(\"致命的エラー\")\n",
    "logging.error(\"エラー\")\n",
    "logging.disable(logging.ERROR)\n",
    "logging.critical(\"致命的エラー\")\n",
    "logging.error(\"エラー\")"
   ]
  },
  {
   "cell_type": "markdown",
   "metadata": {},
   "source": [
    "logging.disable を使うことでログの出力を無効化することができ、プログラムの logging 部分を削除する必要がなくなる\n",
    "\n",
    "logging.disable の引数にログレベルを与えることで、それ以降は与えたログレベルから重要度の低いすべてのログメッセージを無効化することができる\n",
    "\n",
    "そのため logging.disable はインポート文のすぐ後に書くことが望まれる"
   ]
  },
  {
   "cell_type": "code",
   "execution_count": 7,
   "metadata": {},
   "outputs": [
    {
     "name": "stderr",
     "output_type": "stream",
     "text": [
      " 2020-10-02 11:06:28,551 - CRITICAL - デバッグ用の詳細情報\n"
     ]
    }
   ],
   "source": [
    "logging.basicConfig(filename=r\".\\pydata\\myPlogramLog.txt\",\n",
    "                    level=logging.DEBUG, format=\" %(asctime)s - %(levelname)s - %(message)s\")\n",
    "logging.critical(\"デバッグ用の詳細情報\")"
   ]
  },
  {
   "cell_type": "markdown",
   "metadata": {},
   "source": [
    "logging.basicConfig の引数に filename としてファイルのパスを渡すことで、ログメッセージをファイルに保存することができる"
   ]
  },
  {
   "cell_type": "code",
   "execution_count": null,
   "metadata": {},
   "outputs": [],
   "source": []
  }
 ],
 "metadata": {
  "kernelspec": {
   "display_name": "Python 3",
   "language": "python",
   "name": "python3"
  },
  "language_info": {
   "codemirror_mode": {
    "name": "ipython",
    "version": 3
   },
   "file_extension": ".py",
   "mimetype": "text/x-python",
   "name": "python",
   "nbconvert_exporter": "python",
   "pygments_lexer": "ipython3",
   "version": "3.7.6"
  }
 },
 "nbformat": 4,
 "nbformat_minor": 4
}
