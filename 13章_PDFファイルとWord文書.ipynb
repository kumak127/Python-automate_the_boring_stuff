{
 "cells": [
  {
   "cell_type": "markdown",
   "metadata": {},
   "source": [
    "# PDFからテキストを抽出する"
   ]
  },
  {
   "cell_type": "code",
   "execution_count": 1,
   "metadata": {},
   "outputs": [
    {
     "data": {
      "text/plain": [
       "19"
      ]
     },
     "execution_count": 1,
     "metadata": {},
     "output_type": "execute_result"
    }
   ],
   "source": [
    "import PyPDF2\n",
    "pdf_file_obj = open(r\".\\pydata\\meetingminutes.pdf\", \"rb\")\n",
    "pdf_reader = PyPDF2.PdfFileReader(pdf_file_obj)\n",
    "pdf_reader.numPages"
   ]
  },
  {
   "cell_type": "code",
   "execution_count": 2,
   "metadata": {},
   "outputs": [
    {
     "data": {
      "text/plain": [
       "'OOFFFFIICCIIAALL  BBOOAARRDD  MMIINNUUTTEESS   Meeting of \\nMarch 7\\n, 2014\\n        \\n     The Board of Elementary and Secondary Education shall provide leadership and \\ncreate policies for education that expand opportunities for children, empower \\nfamilies and communities, and advance Louisiana in an increasingly \\ncompetitive glob\\nal market.\\n BOARD \\n of ELEMENTARY\\n and \\n SECONDARY\\n EDUCATION\\n  '"
      ]
     },
     "execution_count": 2,
     "metadata": {},
     "output_type": "execute_result"
    }
   ],
   "source": [
    "page_obj = pdf_reader.getPage(0)\n",
    "page_obj.extractText()"
   ]
  },
  {
   "cell_type": "code",
   "execution_count": 3,
   "metadata": {},
   "outputs": [
    {
     "data": {
      "text/plain": [
       "PyPDF2.pdf.PdfFileReader"
      ]
     },
     "execution_count": 3,
     "metadata": {},
     "output_type": "execute_result"
    }
   ],
   "source": [
    "type(pdf_reader)"
   ]
  },
  {
   "cell_type": "code",
   "execution_count": 4,
   "metadata": {},
   "outputs": [
    {
     "data": {
      "text/plain": [
       "PyPDF2.pdf.PageObject"
      ]
     },
     "execution_count": 4,
     "metadata": {},
     "output_type": "execute_result"
    }
   ],
   "source": [
    "type(page_obj)"
   ]
  },
  {
   "cell_type": "markdown",
   "metadata": {},
   "source": [
    "PDFファイルからテキストを抽出するには PyPDF2 モジュールという外部モジュールを使う\n",
    "\n",
    "インポートしたらPDFファイルをバイナリ読み込みモードで開き、Fileオブジェクトを作る\n",
    "\n",
    "次に、PyPDF2 の PdfFileReader 関数にFileオブジェクトを渡し、PdfFileReader オブジェクトを生成する\n",
    "\n",
    "PdfFileReaderオブジェクトの numPages あとりびゅうーとには総ページ数が入っている\n",
    "\n",
    "次に、PdfFileReaderオブジェクトの getPage メソッドにページ数(先頭が0)を渡し、Page オブジェクトを生成する\n",
    "\n",
    "最後に、Pageオブジェクトの extractText メソッドを使うことでPDFファイルのテキストを抽出できる"
   ]
  },
  {
   "cell_type": "markdown",
   "metadata": {},
   "source": [
    "# PDFの暗号を解く"
   ]
  },
  {
   "cell_type": "code",
   "execution_count": 5,
   "metadata": {},
   "outputs": [
    {
     "data": {
      "text/plain": [
       "True"
      ]
     },
     "execution_count": 5,
     "metadata": {},
     "output_type": "execute_result"
    }
   ],
   "source": [
    "import PyPDF2\n",
    "pdf_reader = PyPDF2.PdfFileReader(open(r\".\\pydata\\encrypted.pdf\", \"rb\"))\n",
    "pdf_reader.isEncrypted"
   ]
  },
  {
   "cell_type": "code",
   "execution_count": 6,
   "metadata": {},
   "outputs": [
    {
     "ename": "PdfReadError",
     "evalue": "file has not been decrypted",
     "output_type": "error",
     "traceback": [
      "\u001b[1;31m---------------------------------------------------------------------------\u001b[0m",
      "\u001b[1;31mPdfReadError\u001b[0m                              Traceback (most recent call last)",
      "\u001b[1;32m<ipython-input-6-165fa3312b09>\u001b[0m in \u001b[0;36m<module>\u001b[1;34m\u001b[0m\n\u001b[1;32m----> 1\u001b[1;33m \u001b[0mpage_pbj\u001b[0m \u001b[1;33m=\u001b[0m \u001b[0mpdf_reader\u001b[0m\u001b[1;33m.\u001b[0m\u001b[0mgetPage\u001b[0m\u001b[1;33m(\u001b[0m\u001b[1;36m0\u001b[0m\u001b[1;33m)\u001b[0m\u001b[1;33m\u001b[0m\u001b[1;33m\u001b[0m\u001b[0m\n\u001b[0m",
      "\u001b[1;32m~\\anaconda3\\lib\\site-packages\\PyPDF2\\pdf.py\u001b[0m in \u001b[0;36mgetPage\u001b[1;34m(self, pageNumber)\u001b[0m\n\u001b[0;32m   1174\u001b[0m         \u001b[1;31m#assert not self.trailer.has_key(\"/Encrypt\")\u001b[0m\u001b[1;33m\u001b[0m\u001b[1;33m\u001b[0m\u001b[1;33m\u001b[0m\u001b[0m\n\u001b[0;32m   1175\u001b[0m         \u001b[1;32mif\u001b[0m \u001b[0mself\u001b[0m\u001b[1;33m.\u001b[0m\u001b[0mflattenedPages\u001b[0m \u001b[1;33m==\u001b[0m \u001b[1;32mNone\u001b[0m\u001b[1;33m:\u001b[0m\u001b[1;33m\u001b[0m\u001b[1;33m\u001b[0m\u001b[0m\n\u001b[1;32m-> 1176\u001b[1;33m             \u001b[0mself\u001b[0m\u001b[1;33m.\u001b[0m\u001b[0m_flatten\u001b[0m\u001b[1;33m(\u001b[0m\u001b[1;33m)\u001b[0m\u001b[1;33m\u001b[0m\u001b[1;33m\u001b[0m\u001b[0m\n\u001b[0m\u001b[0;32m   1177\u001b[0m         \u001b[1;32mreturn\u001b[0m \u001b[0mself\u001b[0m\u001b[1;33m.\u001b[0m\u001b[0mflattenedPages\u001b[0m\u001b[1;33m[\u001b[0m\u001b[0mpageNumber\u001b[0m\u001b[1;33m]\u001b[0m\u001b[1;33m\u001b[0m\u001b[1;33m\u001b[0m\u001b[0m\n\u001b[0;32m   1178\u001b[0m \u001b[1;33m\u001b[0m\u001b[0m\n",
      "\u001b[1;32m~\\anaconda3\\lib\\site-packages\\PyPDF2\\pdf.py\u001b[0m in \u001b[0;36m_flatten\u001b[1;34m(self, pages, inherit, indirectRef)\u001b[0m\n\u001b[0;32m   1503\u001b[0m         \u001b[1;32mif\u001b[0m \u001b[0mpages\u001b[0m \u001b[1;33m==\u001b[0m \u001b[1;32mNone\u001b[0m\u001b[1;33m:\u001b[0m\u001b[1;33m\u001b[0m\u001b[1;33m\u001b[0m\u001b[0m\n\u001b[0;32m   1504\u001b[0m             \u001b[0mself\u001b[0m\u001b[1;33m.\u001b[0m\u001b[0mflattenedPages\u001b[0m \u001b[1;33m=\u001b[0m \u001b[1;33m[\u001b[0m\u001b[1;33m]\u001b[0m\u001b[1;33m\u001b[0m\u001b[1;33m\u001b[0m\u001b[0m\n\u001b[1;32m-> 1505\u001b[1;33m             \u001b[0mcatalog\u001b[0m \u001b[1;33m=\u001b[0m \u001b[0mself\u001b[0m\u001b[1;33m.\u001b[0m\u001b[0mtrailer\u001b[0m\u001b[1;33m[\u001b[0m\u001b[1;34m\"/Root\"\u001b[0m\u001b[1;33m]\u001b[0m\u001b[1;33m.\u001b[0m\u001b[0mgetObject\u001b[0m\u001b[1;33m(\u001b[0m\u001b[1;33m)\u001b[0m\u001b[1;33m\u001b[0m\u001b[1;33m\u001b[0m\u001b[0m\n\u001b[0m\u001b[0;32m   1506\u001b[0m             \u001b[0mpages\u001b[0m \u001b[1;33m=\u001b[0m \u001b[0mcatalog\u001b[0m\u001b[1;33m[\u001b[0m\u001b[1;34m\"/Pages\"\u001b[0m\u001b[1;33m]\u001b[0m\u001b[1;33m.\u001b[0m\u001b[0mgetObject\u001b[0m\u001b[1;33m(\u001b[0m\u001b[1;33m)\u001b[0m\u001b[1;33m\u001b[0m\u001b[1;33m\u001b[0m\u001b[0m\n\u001b[0;32m   1507\u001b[0m \u001b[1;33m\u001b[0m\u001b[0m\n",
      "\u001b[1;32m~\\anaconda3\\lib\\site-packages\\PyPDF2\\generic.py\u001b[0m in \u001b[0;36m__getitem__\u001b[1;34m(self, key)\u001b[0m\n\u001b[0;32m    514\u001b[0m \u001b[1;33m\u001b[0m\u001b[0m\n\u001b[0;32m    515\u001b[0m     \u001b[1;32mdef\u001b[0m \u001b[0m__getitem__\u001b[0m\u001b[1;33m(\u001b[0m\u001b[0mself\u001b[0m\u001b[1;33m,\u001b[0m \u001b[0mkey\u001b[0m\u001b[1;33m)\u001b[0m\u001b[1;33m:\u001b[0m\u001b[1;33m\u001b[0m\u001b[1;33m\u001b[0m\u001b[0m\n\u001b[1;32m--> 516\u001b[1;33m         \u001b[1;32mreturn\u001b[0m \u001b[0mdict\u001b[0m\u001b[1;33m.\u001b[0m\u001b[0m__getitem__\u001b[0m\u001b[1;33m(\u001b[0m\u001b[0mself\u001b[0m\u001b[1;33m,\u001b[0m \u001b[0mkey\u001b[0m\u001b[1;33m)\u001b[0m\u001b[1;33m.\u001b[0m\u001b[0mgetObject\u001b[0m\u001b[1;33m(\u001b[0m\u001b[1;33m)\u001b[0m\u001b[1;33m\u001b[0m\u001b[1;33m\u001b[0m\u001b[0m\n\u001b[0m\u001b[0;32m    517\u001b[0m \u001b[1;33m\u001b[0m\u001b[0m\n\u001b[0;32m    518\u001b[0m     \u001b[1;31m##\u001b[0m\u001b[1;33m\u001b[0m\u001b[1;33m\u001b[0m\u001b[1;33m\u001b[0m\u001b[0m\n",
      "\u001b[1;32m~\\anaconda3\\lib\\site-packages\\PyPDF2\\generic.py\u001b[0m in \u001b[0;36mgetObject\u001b[1;34m(self)\u001b[0m\n\u001b[0;32m    176\u001b[0m \u001b[1;33m\u001b[0m\u001b[0m\n\u001b[0;32m    177\u001b[0m     \u001b[1;32mdef\u001b[0m \u001b[0mgetObject\u001b[0m\u001b[1;33m(\u001b[0m\u001b[0mself\u001b[0m\u001b[1;33m)\u001b[0m\u001b[1;33m:\u001b[0m\u001b[1;33m\u001b[0m\u001b[1;33m\u001b[0m\u001b[0m\n\u001b[1;32m--> 178\u001b[1;33m         \u001b[1;32mreturn\u001b[0m \u001b[0mself\u001b[0m\u001b[1;33m.\u001b[0m\u001b[0mpdf\u001b[0m\u001b[1;33m.\u001b[0m\u001b[0mgetObject\u001b[0m\u001b[1;33m(\u001b[0m\u001b[0mself\u001b[0m\u001b[1;33m)\u001b[0m\u001b[1;33m.\u001b[0m\u001b[0mgetObject\u001b[0m\u001b[1;33m(\u001b[0m\u001b[1;33m)\u001b[0m\u001b[1;33m\u001b[0m\u001b[1;33m\u001b[0m\u001b[0m\n\u001b[0m\u001b[0;32m    179\u001b[0m \u001b[1;33m\u001b[0m\u001b[0m\n\u001b[0;32m    180\u001b[0m     \u001b[1;32mdef\u001b[0m \u001b[0m__repr__\u001b[0m\u001b[1;33m(\u001b[0m\u001b[0mself\u001b[0m\u001b[1;33m)\u001b[0m\u001b[1;33m:\u001b[0m\u001b[1;33m\u001b[0m\u001b[1;33m\u001b[0m\u001b[0m\n",
      "\u001b[1;32m~\\anaconda3\\lib\\site-packages\\PyPDF2\\pdf.py\u001b[0m in \u001b[0;36mgetObject\u001b[1;34m(self, indirectReference)\u001b[0m\n\u001b[0;32m   1615\u001b[0m                 \u001b[1;31m# if we don't have the encryption key:\u001b[0m\u001b[1;33m\u001b[0m\u001b[1;33m\u001b[0m\u001b[1;33m\u001b[0m\u001b[0m\n\u001b[0;32m   1616\u001b[0m                 \u001b[1;32mif\u001b[0m \u001b[1;32mnot\u001b[0m \u001b[0mhasattr\u001b[0m\u001b[1;33m(\u001b[0m\u001b[0mself\u001b[0m\u001b[1;33m,\u001b[0m \u001b[1;34m'_decryption_key'\u001b[0m\u001b[1;33m)\u001b[0m\u001b[1;33m:\u001b[0m\u001b[1;33m\u001b[0m\u001b[1;33m\u001b[0m\u001b[0m\n\u001b[1;32m-> 1617\u001b[1;33m                     \u001b[1;32mraise\u001b[0m \u001b[0mutils\u001b[0m\u001b[1;33m.\u001b[0m\u001b[0mPdfReadError\u001b[0m\u001b[1;33m(\u001b[0m\u001b[1;34m\"file has not been decrypted\"\u001b[0m\u001b[1;33m)\u001b[0m\u001b[1;33m\u001b[0m\u001b[1;33m\u001b[0m\u001b[0m\n\u001b[0m\u001b[0;32m   1618\u001b[0m                 \u001b[1;31m# otherwise, decrypt here...\u001b[0m\u001b[1;33m\u001b[0m\u001b[1;33m\u001b[0m\u001b[1;33m\u001b[0m\u001b[0m\n\u001b[0;32m   1619\u001b[0m                 \u001b[1;32mimport\u001b[0m \u001b[0mstruct\u001b[0m\u001b[1;33m\u001b[0m\u001b[1;33m\u001b[0m\u001b[0m\n",
      "\u001b[1;31mPdfReadError\u001b[0m: file has not been decrypted"
     ]
    }
   ],
   "source": [
    "page_pbj = pdf_reader.getPage(0)"
   ]
  },
  {
   "cell_type": "markdown",
   "metadata": {},
   "source": [
    "PDFファイルの中には暗号化されていて読み込むにはパスワードが必要なものがある\n",
    "\n",
    "暗号化されているか確かめるにはPdfFileReaderオブジェクトの isEncrypted アトリビュートを使い、暗号化されていればTrueを返す\n",
    "\n",
    "暗号化されているままPageオブジェクトを使って読み込もうとするとErrorが発生する"
   ]
  },
  {
   "cell_type": "code",
   "execution_count": 7,
   "metadata": {},
   "outputs": [
    {
     "data": {
      "text/plain": [
       "1"
      ]
     },
     "execution_count": 7,
     "metadata": {},
     "output_type": "execute_result"
    }
   ],
   "source": [
    "pdf_reader = PyPDF2.PdfFileReader(open(r\".\\pydata\\encrypted.pdf\", \"rb\"))\n",
    "pdf_reader.decrypt(\"rosebud\")"
   ]
  },
  {
   "cell_type": "code",
   "execution_count": 8,
   "metadata": {},
   "outputs": [
    {
     "data": {
      "text/plain": [
       "'OOFFFFIICCIIAALL  BBOOAARRDD  MMIINNUUTTEESS   Meeting of \\nMarch 7\\n, 2014\\n        \\n     The Board of Elementary and Secondary Education shall provide leadership and \\ncreate policies for education that expand opportunities for children, empower \\nfamilies and communities, and advance Louisiana in an increasingly \\ncompetitive glob\\nal market.\\n BOARD \\n of ELEMENTARY\\n and \\n SECONDARY\\n EDUCATION\\n  '"
      ]
     },
     "execution_count": 8,
     "metadata": {},
     "output_type": "execute_result"
    }
   ],
   "source": [
    "page_obj = pdf_reader.getPage(0)\n",
    "page_obj.extractText()"
   ]
  },
  {
   "cell_type": "markdown",
   "metadata": {},
   "source": [
    "暗号化を解除するには、PdfFileReaderオブジェクトの decrypt メソッドに正しいパスワードを入れることで解除できる\n",
    "\n",
    "解除できた場合には1を返し、パスワードが間違っている場合には0を返す\n",
    "\n",
    "解除後はPageオブジェクトからテキストの抽出は可能だが、一度閉じてしまうとまた開く際に暗号を解く必要がある"
   ]
  },
  {
   "cell_type": "markdown",
   "metadata": {},
   "source": [
    "# PDFを作成する"
   ]
  },
  {
   "cell_type": "code",
   "execution_count": 9,
   "metadata": {},
   "outputs": [],
   "source": [
    "import PyPDF2\n",
    "pdf1_file = open(r\".\\pydata\\meetingminutes.pdf\", \"rb\")\n",
    "pdf2_file = open(r\".\\pydata\\meetingminutes2.pdf\", \"rb\")\n",
    "pdf1_reader = PyPDF2.PdfFileReader(pdf1_file)\n",
    "pdf2_reader = PyPDF2.PdfFileReader(pdf2_file)\n",
    "pdf_writer = PyPDF2.PdfFileWriter()\n",
    "for page_num in range(pdf1_reader.numPages):\n",
    "    page_obj = pdf1_reader.getPage(page_num)\n",
    "    pdf_writer.addPage(page_obj)\n",
    "\n",
    "for page_num in range(pdf2_reader.numPages):\n",
    "    page_obj = pdf2_reader.getPage(page_num)\n",
    "    pdf_writer.addPage(page_obj)\n",
    "\n",
    "pdf_output_file = open(r\".\\pydata\\combinedminutes.pdf\", \"wb\")\n",
    "pdf_writer.write(pdf_output_file)\n",
    "pdf_output_file.close()\n",
    "pdf1_file.close()\n",
    "pdf2_file.close()"
   ]
  },
  {
   "cell_type": "markdown",
   "metadata": {},
   "source": [
    "PDFを作成すると言ってもテキストを書き込むことはできず、既存のPDFのページをコピーしたり、ページを回転したり、ページを重ねたり、暗号化するといったことに限定される\n",
    "\n",
    "コピーするにはPyPDF2モジュールの PdfFileWriter 関数を使ことでできる PdfFileWriter オブジェクトを使う\n",
    "\n",
    "まず既存のPDFファイルのPdfFileReaderオブジェクトとコピーしたいPageオブジェクト、新規のPdfFileWriterオブジェクトを生成する\n",
    "\n",
    "そして、PdfFileWriterオブジェクトの addPage メソッドにコピーしたいPageオブジェクトを渡すことで、PdfFileWriterオブジェクトにPageデータを追加する\n",
    "\n",
    "最後にopen関数でPDFのファイルをバイナリの書き込みモードで作成し、PdfFileWriterオブジェクトの write メソッドに作成したファイルオブジェクトを渡すことで書き込みができる"
   ]
  },
  {
   "cell_type": "markdown",
   "metadata": {},
   "source": [
    "# ページを回転する"
   ]
  },
  {
   "cell_type": "code",
   "execution_count": 10,
   "metadata": {},
   "outputs": [
    {
     "data": {
      "text/plain": [
       "{'/Contents': [IndirectObject(961, 0),\n",
       "  IndirectObject(962, 0),\n",
       "  IndirectObject(963, 0),\n",
       "  IndirectObject(964, 0),\n",
       "  IndirectObject(965, 0),\n",
       "  IndirectObject(966, 0),\n",
       "  IndirectObject(967, 0),\n",
       "  IndirectObject(968, 0)],\n",
       " '/CropBox': [0, 0, 612, 792],\n",
       " '/MediaBox': [0, 0, 612, 792],\n",
       " '/Parent': {'/Count': 9,\n",
       "  '/Kids': [IndirectObject(959, 0),\n",
       "   IndirectObject(1, 0),\n",
       "   IndirectObject(11, 0),\n",
       "   IndirectObject(13, 0),\n",
       "   IndirectObject(15, 0),\n",
       "   IndirectObject(17, 0),\n",
       "   IndirectObject(19, 0),\n",
       "   IndirectObject(24, 0),\n",
       "   IndirectObject(26, 0)],\n",
       "  '/Parent': {'/Count': 19,\n",
       "   '/Kids': [IndirectObject(953, 0),\n",
       "    IndirectObject(954, 0),\n",
       "    IndirectObject(955, 0)],\n",
       "   '/Type': '/Pages'},\n",
       "  '/Type': '/Pages'},\n",
       " '/Resources': {'/ColorSpace': {'/CS0': ['/ICCBased', IndirectObject(969, 0)],\n",
       "   '/CS1': ['/ICCBased', IndirectObject(970, 0)],\n",
       "   '/CS2': ['/ICCBased', IndirectObject(970, 0)]},\n",
       "  '/ExtGState': {'/GS0': {'/AIS': <PyPDF2.generic.BooleanObject at 0x1f84fc5dfc8>,\n",
       "    '/BM': '/Normal',\n",
       "    '/CA': 1,\n",
       "    '/OP': <PyPDF2.generic.BooleanObject at 0x1f84fc5f4c8>,\n",
       "    '/OPM': 1,\n",
       "    '/SA': <PyPDF2.generic.BooleanObject at 0x1f84fc5f7c8>,\n",
       "    '/SMask': '/None',\n",
       "    '/Type': '/ExtGState',\n",
       "    '/ca': 1,\n",
       "    '/op': <PyPDF2.generic.BooleanObject at 0x1f84fc5f888>}},\n",
       "  '/Font': {'/TT0': {'/BaseFont': '/Arial-Black',\n",
       "    '/Encoding': '/WinAnsiEncoding',\n",
       "    '/FirstChar': 0,\n",
       "    '/FontDescriptor': {'/Ascent': 1083,\n",
       "     '/CapHeight': 716,\n",
       "     '/Descent': -307,\n",
       "     '/Flags': 32,\n",
       "     '/FontBBox': [-194, -307, 1688, 1083],\n",
       "     '/FontFamily': 'Arial Black',\n",
       "     '/FontName': '/Arial-Black',\n",
       "     '/FontStretch': '/Normal',\n",
       "     '/FontWeight': 900,\n",
       "     '/ItalicAngle': 0,\n",
       "     '/StemV': 200,\n",
       "     '/Type': '/FontDescriptor',\n",
       "     '/XHeight': 519},\n",
       "    '/LastChar': 255,\n",
       "    '/Subtype': '/TrueType',\n",
       "    '/Type': '/Font',\n",
       "    '/Widths': [750,\n",
       "     333,\n",
       "     333,\n",
       "     333,\n",
       "     333,\n",
       "     333,\n",
       "     333,\n",
       "     333,\n",
       "     333,\n",
       "     333,\n",
       "     333,\n",
       "     333,\n",
       "     333,\n",
       "     333,\n",
       "     333,\n",
       "     333,\n",
       "     333,\n",
       "     333,\n",
       "     333,\n",
       "     333,\n",
       "     333,\n",
       "     333,\n",
       "     333,\n",
       "     333,\n",
       "     333,\n",
       "     333,\n",
       "     333,\n",
       "     333,\n",
       "     333,\n",
       "     333,\n",
       "     333,\n",
       "     333,\n",
       "     333,\n",
       "     333,\n",
       "     500,\n",
       "     660,\n",
       "     667,\n",
       "     1000,\n",
       "     889,\n",
       "     278,\n",
       "     389,\n",
       "     389,\n",
       "     556,\n",
       "     660,\n",
       "     333,\n",
       "     333,\n",
       "     333,\n",
       "     278,\n",
       "     667,\n",
       "     667,\n",
       "     667,\n",
       "     667,\n",
       "     667,\n",
       "     667,\n",
       "     667,\n",
       "     667,\n",
       "     667,\n",
       "     667,\n",
       "     333,\n",
       "     333,\n",
       "     660,\n",
       "     660,\n",
       "     660,\n",
       "     611,\n",
       "     740,\n",
       "     778,\n",
       "     778,\n",
       "     778,\n",
       "     778,\n",
       "     722,\n",
       "     667,\n",
       "     833,\n",
       "     833,\n",
       "     389,\n",
       "     667,\n",
       "     833,\n",
       "     667,\n",
       "     944,\n",
       "     833,\n",
       "     833,\n",
       "     722,\n",
       "     833,\n",
       "     778,\n",
       "     722,\n",
       "     722,\n",
       "     833,\n",
       "     778,\n",
       "     1000,\n",
       "     778,\n",
       "     778,\n",
       "     722,\n",
       "     389,\n",
       "     278,\n",
       "     389,\n",
       "     660,\n",
       "     500,\n",
       "     333,\n",
       "     667,\n",
       "     667,\n",
       "     667,\n",
       "     667,\n",
       "     667,\n",
       "     389,\n",
       "     667,\n",
       "     667,\n",
       "     333,\n",
       "     333,\n",
       "     667,\n",
       "     333,\n",
       "     1000,\n",
       "     667,\n",
       "     667,\n",
       "     667,\n",
       "     667,\n",
       "     444,\n",
       "     611,\n",
       "     444,\n",
       "     667,\n",
       "     611,\n",
       "     944,\n",
       "     667,\n",
       "     611,\n",
       "     556,\n",
       "     389,\n",
       "     278,\n",
       "     389,\n",
       "     660,\n",
       "     500,\n",
       "     667,\n",
       "     500,\n",
       "     278,\n",
       "     667,\n",
       "     500,\n",
       "     1000,\n",
       "     667,\n",
       "     667,\n",
       "     333,\n",
       "     1000,\n",
       "     722,\n",
       "     333,\n",
       "     1000,\n",
       "     500,\n",
       "     722,\n",
       "     500,\n",
       "     500,\n",
       "     278,\n",
       "     278,\n",
       "     500,\n",
       "     500,\n",
       "     500,\n",
       "     500,\n",
       "     1000,\n",
       "     333,\n",
       "     950,\n",
       "     611,\n",
       "     333,\n",
       "     1000,\n",
       "     500,\n",
       "     556,\n",
       "     778,\n",
       "     333,\n",
       "     333,\n",
       "     667,\n",
       "     667,\n",
       "     660,\n",
       "     667,\n",
       "     278,\n",
       "     667,\n",
       "     333,\n",
       "     800,\n",
       "     400,\n",
       "     667,\n",
       "     660,\n",
       "     333,\n",
       "     800,\n",
       "     500,\n",
       "     400,\n",
       "     660,\n",
       "     400,\n",
       "     400,\n",
       "     333,\n",
       "     667,\n",
       "     850,\n",
       "     333,\n",
       "     333,\n",
       "     400,\n",
       "     400,\n",
       "     667,\n",
       "     1000,\n",
       "     1000,\n",
       "     1000,\n",
       "     611,\n",
       "     778,\n",
       "     778,\n",
       "     778,\n",
       "     778,\n",
       "     778,\n",
       "     778,\n",
       "     1000,\n",
       "     778,\n",
       "     722,\n",
       "     722,\n",
       "     722,\n",
       "     722,\n",
       "     389,\n",
       "     389,\n",
       "     389,\n",
       "     389,\n",
       "     778,\n",
       "     833,\n",
       "     833,\n",
       "     833,\n",
       "     833,\n",
       "     833,\n",
       "     833,\n",
       "     660,\n",
       "     833,\n",
       "     833,\n",
       "     833,\n",
       "     833,\n",
       "     833,\n",
       "     778,\n",
       "     722,\n",
       "     667,\n",
       "     667,\n",
       "     667,\n",
       "     667,\n",
       "     667,\n",
       "     667,\n",
       "     667,\n",
       "     1000,\n",
       "     667,\n",
       "     667,\n",
       "     667,\n",
       "     667,\n",
       "     667,\n",
       "     333,\n",
       "     333,\n",
       "     333,\n",
       "     333,\n",
       "     667,\n",
       "     667,\n",
       "     667,\n",
       "     667,\n",
       "     667,\n",
       "     667,\n",
       "     667,\n",
       "     660,\n",
       "     667,\n",
       "     667,\n",
       "     667,\n",
       "     667,\n",
       "     667,\n",
       "     611,\n",
       "     667,\n",
       "     611]},\n",
       "   '/TT1': {'/BaseFont': '/ArialMT',\n",
       "    '/Encoding': '/WinAnsiEncoding',\n",
       "    '/FirstChar': 0,\n",
       "    '/FontDescriptor': {'/Ascent': 1006,\n",
       "     '/CapHeight': 716,\n",
       "     '/Descent': -325,\n",
       "     '/Flags': 32,\n",
       "     '/FontBBox': [-665, -325, 2000, 1006],\n",
       "     '/FontFamily': 'Arial',\n",
       "     '/FontName': '/ArialMT',\n",
       "     '/FontStretch': '/Normal',\n",
       "     '/FontWeight': 400,\n",
       "     '/ItalicAngle': 0,\n",
       "     '/StemV': 88,\n",
       "     '/Type': '/FontDescriptor',\n",
       "     '/XHeight': 519},\n",
       "    '/LastChar': 255,\n",
       "    '/Subtype': '/TrueType',\n",
       "    '/Type': '/Font',\n",
       "    '/Widths': [750,\n",
       "     750,\n",
       "     750,\n",
       "     750,\n",
       "     750,\n",
       "     750,\n",
       "     750,\n",
       "     750,\n",
       "     750,\n",
       "     750,\n",
       "     750,\n",
       "     750,\n",
       "     750,\n",
       "     750,\n",
       "     750,\n",
       "     750,\n",
       "     750,\n",
       "     750,\n",
       "     750,\n",
       "     750,\n",
       "     750,\n",
       "     750,\n",
       "     750,\n",
       "     750,\n",
       "     750,\n",
       "     750,\n",
       "     750,\n",
       "     750,\n",
       "     750,\n",
       "     750,\n",
       "     750,\n",
       "     750,\n",
       "     278,\n",
       "     278,\n",
       "     355,\n",
       "     556,\n",
       "     556,\n",
       "     889,\n",
       "     667,\n",
       "     191,\n",
       "     333,\n",
       "     333,\n",
       "     389,\n",
       "     584,\n",
       "     278,\n",
       "     333,\n",
       "     278,\n",
       "     278,\n",
       "     556,\n",
       "     556,\n",
       "     556,\n",
       "     556,\n",
       "     556,\n",
       "     556,\n",
       "     556,\n",
       "     556,\n",
       "     556,\n",
       "     556,\n",
       "     278,\n",
       "     278,\n",
       "     584,\n",
       "     584,\n",
       "     584,\n",
       "     556,\n",
       "     1015,\n",
       "     667,\n",
       "     667,\n",
       "     722,\n",
       "     722,\n",
       "     667,\n",
       "     611,\n",
       "     778,\n",
       "     722,\n",
       "     278,\n",
       "     500,\n",
       "     667,\n",
       "     556,\n",
       "     833,\n",
       "     722,\n",
       "     778,\n",
       "     667,\n",
       "     778,\n",
       "     722,\n",
       "     667,\n",
       "     611,\n",
       "     722,\n",
       "     667,\n",
       "     944,\n",
       "     667,\n",
       "     667,\n",
       "     611,\n",
       "     278,\n",
       "     278,\n",
       "     278,\n",
       "     469,\n",
       "     556,\n",
       "     333,\n",
       "     556,\n",
       "     556,\n",
       "     500,\n",
       "     556,\n",
       "     556,\n",
       "     278,\n",
       "     556,\n",
       "     556,\n",
       "     222,\n",
       "     222,\n",
       "     500,\n",
       "     222,\n",
       "     833,\n",
       "     556,\n",
       "     556,\n",
       "     556,\n",
       "     556,\n",
       "     333,\n",
       "     500,\n",
       "     278,\n",
       "     556,\n",
       "     500,\n",
       "     722,\n",
       "     500,\n",
       "     500,\n",
       "     500,\n",
       "     334,\n",
       "     260,\n",
       "     334,\n",
       "     584,\n",
       "     350,\n",
       "     556,\n",
       "     350,\n",
       "     222,\n",
       "     556,\n",
       "     333,\n",
       "     1000,\n",
       "     556,\n",
       "     556,\n",
       "     333,\n",
       "     1000,\n",
       "     667,\n",
       "     333,\n",
       "     1000,\n",
       "     350,\n",
       "     611,\n",
       "     350,\n",
       "     350,\n",
       "     222,\n",
       "     222,\n",
       "     333,\n",
       "     333,\n",
       "     350,\n",
       "     556,\n",
       "     1000,\n",
       "     333,\n",
       "     1000,\n",
       "     500,\n",
       "     333,\n",
       "     944,\n",
       "     350,\n",
       "     500,\n",
       "     667,\n",
       "     278,\n",
       "     333,\n",
       "     556,\n",
       "     556,\n",
       "     556,\n",
       "     556,\n",
       "     260,\n",
       "     556,\n",
       "     333,\n",
       "     737,\n",
       "     370,\n",
       "     556,\n",
       "     584,\n",
       "     333,\n",
       "     737,\n",
       "     552,\n",
       "     400,\n",
       "     549,\n",
       "     333,\n",
       "     333,\n",
       "     333,\n",
       "     576,\n",
       "     537,\n",
       "     333,\n",
       "     333,\n",
       "     333,\n",
       "     365,\n",
       "     556,\n",
       "     834,\n",
       "     834,\n",
       "     834,\n",
       "     611,\n",
       "     667,\n",
       "     667,\n",
       "     667,\n",
       "     667,\n",
       "     667,\n",
       "     667,\n",
       "     1000,\n",
       "     722,\n",
       "     667,\n",
       "     667,\n",
       "     667,\n",
       "     667,\n",
       "     278,\n",
       "     278,\n",
       "     278,\n",
       "     278,\n",
       "     722,\n",
       "     722,\n",
       "     778,\n",
       "     778,\n",
       "     778,\n",
       "     778,\n",
       "     778,\n",
       "     584,\n",
       "     778,\n",
       "     722,\n",
       "     722,\n",
       "     722,\n",
       "     722,\n",
       "     667,\n",
       "     667,\n",
       "     611,\n",
       "     556,\n",
       "     556,\n",
       "     556,\n",
       "     556,\n",
       "     556,\n",
       "     556,\n",
       "     889,\n",
       "     500,\n",
       "     556,\n",
       "     556,\n",
       "     556,\n",
       "     556,\n",
       "     278,\n",
       "     278,\n",
       "     278,\n",
       "     278,\n",
       "     556,\n",
       "     556,\n",
       "     556,\n",
       "     556,\n",
       "     556,\n",
       "     556,\n",
       "     556,\n",
       "     549,\n",
       "     611,\n",
       "     556,\n",
       "     556,\n",
       "     556,\n",
       "     556,\n",
       "     500,\n",
       "     556,\n",
       "     500]},\n",
       "   '/TT2': {'/BaseFont': '/Tahoma-Bold',\n",
       "    '/Encoding': '/WinAnsiEncoding',\n",
       "    '/FirstChar': 0,\n",
       "    '/FontDescriptor': {'/Ascent': 1065,\n",
       "     '/CapHeight': 727,\n",
       "     '/Descent': -216,\n",
       "     '/Flags': 32,\n",
       "     '/FontBBox': [-698, -216, 1625, 1065],\n",
       "     '/FontFamily': 'Tahoma',\n",
       "     '/FontName': '/Tahoma-Bold',\n",
       "     '/FontStretch': '/Normal',\n",
       "     '/FontWeight': 700,\n",
       "     '/ItalicAngle': 0,\n",
       "     '/StemV': 172,\n",
       "     '/Type': '/FontDescriptor',\n",
       "     '/XHeight': 548},\n",
       "    '/LastChar': 255,\n",
       "    '/Subtype': '/TrueType',\n",
       "    '/Type': '/Font',\n",
       "    '/Widths': [1000,\n",
       "     1000,\n",
       "     1000,\n",
       "     1000,\n",
       "     1000,\n",
       "     1000,\n",
       "     1000,\n",
       "     1000,\n",
       "     1000,\n",
       "     1000,\n",
       "     1000,\n",
       "     1000,\n",
       "     1000,\n",
       "     1000,\n",
       "     1000,\n",
       "     1000,\n",
       "     1000,\n",
       "     1000,\n",
       "     1000,\n",
       "     1000,\n",
       "     1000,\n",
       "     1000,\n",
       "     1000,\n",
       "     1000,\n",
       "     1000,\n",
       "     1000,\n",
       "     1000,\n",
       "     1000,\n",
       "     1000,\n",
       "     1000,\n",
       "     1000,\n",
       "     1000,\n",
       "     293,\n",
       "     343,\n",
       "     489,\n",
       "     818,\n",
       "     637,\n",
       "     1199,\n",
       "     781,\n",
       "     275,\n",
       "     454,\n",
       "     454,\n",
       "     637,\n",
       "     818,\n",
       "     313,\n",
       "     431,\n",
       "     313,\n",
       "     577,\n",
       "     637,\n",
       "     637,\n",
       "     637,\n",
       "     637,\n",
       "     637,\n",
       "     637,\n",
       "     637,\n",
       "     637,\n",
       "     637,\n",
       "     637,\n",
       "     363,\n",
       "     363,\n",
       "     818,\n",
       "     818,\n",
       "     818,\n",
       "     566,\n",
       "     920,\n",
       "     685,\n",
       "     686,\n",
       "     667,\n",
       "     757,\n",
       "     615,\n",
       "     581,\n",
       "     745,\n",
       "     764,\n",
       "     483,\n",
       "     500,\n",
       "     696,\n",
       "     572,\n",
       "     893,\n",
       "     771,\n",
       "     770,\n",
       "     657,\n",
       "     770,\n",
       "     726,\n",
       "     633,\n",
       "     612,\n",
       "     739,\n",
       "     675,\n",
       "     1028,\n",
       "     685,\n",
       "     670,\n",
       "     623,\n",
       "     454,\n",
       "     577,\n",
       "     454,\n",
       "     818,\n",
       "     637,\n",
       "     546,\n",
       "     599,\n",
       "     632,\n",
       "     527,\n",
       "     629,\n",
       "     594,\n",
       "     382,\n",
       "     629,\n",
       "     640,\n",
       "     302,\n",
       "     363,\n",
       "     603,\n",
       "     302,\n",
       "     954,\n",
       "     640,\n",
       "     617,\n",
       "     629,\n",
       "     629,\n",
       "     434,\n",
       "     515,\n",
       "     416,\n",
       "     640,\n",
       "     579,\n",
       "     890,\n",
       "     604,\n",
       "     576,\n",
       "     526,\n",
       "     623,\n",
       "     637,\n",
       "     623,\n",
       "     818,\n",
       "     637,\n",
       "     637,\n",
       "     637,\n",
       "     275,\n",
       "     637,\n",
       "     489,\n",
       "     1000,\n",
       "     637,\n",
       "     637,\n",
       "     546,\n",
       "     1676,\n",
       "     633,\n",
       "     425,\n",
       "     1037,\n",
       "     637,\n",
       "     623,\n",
       "     637,\n",
       "     637,\n",
       "     275,\n",
       "     275,\n",
       "     489,\n",
       "     489,\n",
       "     637,\n",
       "     637,\n",
       "     909,\n",
       "     546,\n",
       "     861,\n",
       "     515,\n",
       "     425,\n",
       "     985,\n",
       "     637,\n",
       "     526,\n",
       "     670,\n",
       "     293,\n",
       "     343,\n",
       "     637,\n",
       "     637,\n",
       "     637,\n",
       "     637,\n",
       "     637,\n",
       "     637,\n",
       "     546,\n",
       "     929,\n",
       "     508,\n",
       "     703,\n",
       "     818,\n",
       "     431,\n",
       "     929,\n",
       "     637,\n",
       "     520,\n",
       "     818,\n",
       "     539,\n",
       "     539,\n",
       "     546,\n",
       "     651,\n",
       "     637,\n",
       "     363,\n",
       "     546,\n",
       "     539,\n",
       "     539,\n",
       "     703,\n",
       "     1128,\n",
       "     1128,\n",
       "     1128,\n",
       "     566,\n",
       "     685,\n",
       "     685,\n",
       "     685,\n",
       "     685,\n",
       "     685,\n",
       "     685,\n",
       "     989,\n",
       "     667,\n",
       "     615,\n",
       "     615,\n",
       "     615,\n",
       "     615,\n",
       "     483,\n",
       "     483,\n",
       "     483,\n",
       "     483,\n",
       "     774,\n",
       "     771,\n",
       "     770,\n",
       "     770,\n",
       "     770,\n",
       "     770,\n",
       "     770,\n",
       "     818,\n",
       "     770,\n",
       "     739,\n",
       "     739,\n",
       "     739,\n",
       "     739,\n",
       "     670,\n",
       "     659,\n",
       "     646,\n",
       "     599,\n",
       "     599,\n",
       "     599,\n",
       "     599,\n",
       "     599,\n",
       "     599,\n",
       "     937,\n",
       "     527,\n",
       "     594,\n",
       "     594,\n",
       "     594,\n",
       "     594,\n",
       "     302,\n",
       "     302,\n",
       "     302,\n",
       "     302,\n",
       "     620,\n",
       "     640,\n",
       "     617,\n",
       "     617,\n",
       "     617,\n",
       "     617,\n",
       "     617,\n",
       "     818,\n",
       "     617,\n",
       "     640,\n",
       "     640,\n",
       "     640,\n",
       "     640,\n",
       "     576,\n",
       "     629,\n",
       "     576]},\n",
       "   '/TT3': {'/BaseFont': '/Arial-BoldMT',\n",
       "    '/Encoding': '/WinAnsiEncoding',\n",
       "    '/FirstChar': 0,\n",
       "    '/FontDescriptor': {'/Ascent': 1018,\n",
       "     '/CapHeight': 716,\n",
       "     '/Descent': -376,\n",
       "     '/Flags': 32,\n",
       "     '/FontBBox': [-628, -376, 2000, 1018],\n",
       "     '/FontFamily': 'Arial',\n",
       "     '/FontName': '/Arial-BoldMT',\n",
       "     '/FontStretch': '/Normal',\n",
       "     '/FontWeight': 700,\n",
       "     '/ItalicAngle': 0,\n",
       "     '/StemV': 136,\n",
       "     '/Type': '/FontDescriptor',\n",
       "     '/XHeight': 519},\n",
       "    '/LastChar': 255,\n",
       "    '/Subtype': '/TrueType',\n",
       "    '/Type': '/Font',\n",
       "    '/Widths': [750,\n",
       "     750,\n",
       "     750,\n",
       "     750,\n",
       "     750,\n",
       "     750,\n",
       "     750,\n",
       "     750,\n",
       "     750,\n",
       "     750,\n",
       "     750,\n",
       "     750,\n",
       "     750,\n",
       "     750,\n",
       "     750,\n",
       "     750,\n",
       "     750,\n",
       "     750,\n",
       "     750,\n",
       "     750,\n",
       "     750,\n",
       "     750,\n",
       "     750,\n",
       "     750,\n",
       "     750,\n",
       "     750,\n",
       "     750,\n",
       "     750,\n",
       "     750,\n",
       "     750,\n",
       "     750,\n",
       "     750,\n",
       "     278,\n",
       "     333,\n",
       "     474,\n",
       "     556,\n",
       "     556,\n",
       "     889,\n",
       "     722,\n",
       "     238,\n",
       "     333,\n",
       "     333,\n",
       "     389,\n",
       "     584,\n",
       "     278,\n",
       "     333,\n",
       "     278,\n",
       "     278,\n",
       "     556,\n",
       "     556,\n",
       "     556,\n",
       "     556,\n",
       "     556,\n",
       "     556,\n",
       "     556,\n",
       "     556,\n",
       "     556,\n",
       "     556,\n",
       "     333,\n",
       "     333,\n",
       "     584,\n",
       "     584,\n",
       "     584,\n",
       "     611,\n",
       "     975,\n",
       "     722,\n",
       "     722,\n",
       "     722,\n",
       "     722,\n",
       "     667,\n",
       "     611,\n",
       "     778,\n",
       "     722,\n",
       "     278,\n",
       "     556,\n",
       "     722,\n",
       "     611,\n",
       "     833,\n",
       "     722,\n",
       "     778,\n",
       "     667,\n",
       "     778,\n",
       "     722,\n",
       "     667,\n",
       "     611,\n",
       "     722,\n",
       "     667,\n",
       "     944,\n",
       "     667,\n",
       "     667,\n",
       "     611,\n",
       "     333,\n",
       "     278,\n",
       "     333,\n",
       "     584,\n",
       "     556,\n",
       "     333,\n",
       "     556,\n",
       "     611,\n",
       "     556,\n",
       "     611,\n",
       "     556,\n",
       "     333,\n",
       "     611,\n",
       "     611,\n",
       "     278,\n",
       "     278,\n",
       "     556,\n",
       "     278,\n",
       "     889,\n",
       "     611,\n",
       "     611,\n",
       "     611,\n",
       "     611,\n",
       "     389,\n",
       "     556,\n",
       "     333,\n",
       "     611,\n",
       "     556,\n",
       "     778,\n",
       "     556,\n",
       "     556,\n",
       "     500,\n",
       "     389,\n",
       "     280,\n",
       "     389,\n",
       "     584,\n",
       "     350,\n",
       "     556,\n",
       "     350,\n",
       "     278,\n",
       "     556,\n",
       "     500,\n",
       "     1000,\n",
       "     556,\n",
       "     556,\n",
       "     333,\n",
       "     1000,\n",
       "     667,\n",
       "     333,\n",
       "     1000,\n",
       "     350,\n",
       "     611,\n",
       "     350,\n",
       "     350,\n",
       "     278,\n",
       "     278,\n",
       "     500,\n",
       "     500,\n",
       "     350,\n",
       "     556,\n",
       "     1000,\n",
       "     333,\n",
       "     1000,\n",
       "     556,\n",
       "     333,\n",
       "     944,\n",
       "     350,\n",
       "     500,\n",
       "     667,\n",
       "     278,\n",
       "     333,\n",
       "     556,\n",
       "     556,\n",
       "     556,\n",
       "     556,\n",
       "     280,\n",
       "     556,\n",
       "     333,\n",
       "     737,\n",
       "     370,\n",
       "     556,\n",
       "     584,\n",
       "     333,\n",
       "     737,\n",
       "     552,\n",
       "     400,\n",
       "     549,\n",
       "     333,\n",
       "     333,\n",
       "     333,\n",
       "     576,\n",
       "     556,\n",
       "     333,\n",
       "     333,\n",
       "     333,\n",
       "     365,\n",
       "     556,\n",
       "     834,\n",
       "     834,\n",
       "     834,\n",
       "     611,\n",
       "     722,\n",
       "     722,\n",
       "     722,\n",
       "     722,\n",
       "     722,\n",
       "     722,\n",
       "     1000,\n",
       "     722,\n",
       "     667,\n",
       "     667,\n",
       "     667,\n",
       "     667,\n",
       "     278,\n",
       "     278,\n",
       "     278,\n",
       "     278,\n",
       "     722,\n",
       "     722,\n",
       "     778,\n",
       "     778,\n",
       "     778,\n",
       "     778,\n",
       "     778,\n",
       "     584,\n",
       "     778,\n",
       "     722,\n",
       "     722,\n",
       "     722,\n",
       "     722,\n",
       "     667,\n",
       "     667,\n",
       "     611,\n",
       "     556,\n",
       "     556,\n",
       "     556,\n",
       "     556,\n",
       "     556,\n",
       "     556,\n",
       "     889,\n",
       "     556,\n",
       "     556,\n",
       "     556,\n",
       "     556,\n",
       "     556,\n",
       "     278,\n",
       "     278,\n",
       "     278,\n",
       "     278,\n",
       "     611,\n",
       "     611,\n",
       "     611,\n",
       "     611,\n",
       "     611,\n",
       "     611,\n",
       "     611,\n",
       "     549,\n",
       "     611,\n",
       "     611,\n",
       "     611,\n",
       "     611,\n",
       "     611,\n",
       "     556,\n",
       "     611,\n",
       "     556]},\n",
       "   '/TT4': {'/BaseFont': '/TimesNewRomanPSMT',\n",
       "    '/Encoding': '/WinAnsiEncoding',\n",
       "    '/FirstChar': 0,\n",
       "    '/FontDescriptor': {'/Ascent': 1007,\n",
       "     '/CapHeight': 662,\n",
       "     '/Descent': -307,\n",
       "     '/Flags': 34,\n",
       "     '/FontBBox': [-568, -307, 2000, 1007],\n",
       "     '/FontFamily': 'Times New Roman',\n",
       "     '/FontName': '/TimesNewRomanPSMT',\n",
       "     '/FontStretch': '/Normal',\n",
       "     '/FontWeight': 400,\n",
       "     '/ItalicAngle': 0,\n",
       "     '/StemV': 80,\n",
       "     '/Type': '/FontDescriptor',\n",
       "     '/XHeight': 448},\n",
       "    '/LastChar': 255,\n",
       "    '/Subtype': '/TrueType',\n",
       "    '/Type': '/Font',\n",
       "    '/Widths': [778,\n",
       "     778,\n",
       "     778,\n",
       "     778,\n",
       "     778,\n",
       "     778,\n",
       "     778,\n",
       "     778,\n",
       "     778,\n",
       "     778,\n",
       "     778,\n",
       "     778,\n",
       "     778,\n",
       "     778,\n",
       "     778,\n",
       "     778,\n",
       "     778,\n",
       "     778,\n",
       "     778,\n",
       "     778,\n",
       "     778,\n",
       "     778,\n",
       "     778,\n",
       "     778,\n",
       "     778,\n",
       "     778,\n",
       "     778,\n",
       "     778,\n",
       "     778,\n",
       "     778,\n",
       "     778,\n",
       "     778,\n",
       "     250,\n",
       "     333,\n",
       "     408,\n",
       "     500,\n",
       "     500,\n",
       "     833,\n",
       "     778,\n",
       "     180,\n",
       "     333,\n",
       "     333,\n",
       "     500,\n",
       "     564,\n",
       "     250,\n",
       "     333,\n",
       "     250,\n",
       "     278,\n",
       "     500,\n",
       "     500,\n",
       "     500,\n",
       "     500,\n",
       "     500,\n",
       "     500,\n",
       "     500,\n",
       "     500,\n",
       "     500,\n",
       "     500,\n",
       "     278,\n",
       "     278,\n",
       "     564,\n",
       "     564,\n",
       "     564,\n",
       "     444,\n",
       "     921,\n",
       "     722,\n",
       "     667,\n",
       "     667,\n",
       "     722,\n",
       "     611,\n",
       "     556,\n",
       "     722,\n",
       "     722,\n",
       "     333,\n",
       "     389,\n",
       "     722,\n",
       "     611,\n",
       "     889,\n",
       "     722,\n",
       "     722,\n",
       "     556,\n",
       "     722,\n",
       "     667,\n",
       "     556,\n",
       "     611,\n",
       "     722,\n",
       "     722,\n",
       "     944,\n",
       "     722,\n",
       "     722,\n",
       "     611,\n",
       "     333,\n",
       "     278,\n",
       "     333,\n",
       "     469,\n",
       "     500,\n",
       "     333,\n",
       "     444,\n",
       "     500,\n",
       "     444,\n",
       "     500,\n",
       "     444,\n",
       "     333,\n",
       "     500,\n",
       "     500,\n",
       "     278,\n",
       "     278,\n",
       "     500,\n",
       "     278,\n",
       "     778,\n",
       "     500,\n",
       "     500,\n",
       "     500,\n",
       "     500,\n",
       "     333,\n",
       "     389,\n",
       "     278,\n",
       "     500,\n",
       "     500,\n",
       "     722,\n",
       "     500,\n",
       "     500,\n",
       "     444,\n",
       "     480,\n",
       "     200,\n",
       "     480,\n",
       "     541,\n",
       "     350,\n",
       "     500,\n",
       "     350,\n",
       "     333,\n",
       "     500,\n",
       "     444,\n",
       "     1000,\n",
       "     500,\n",
       "     500,\n",
       "     333,\n",
       "     1000,\n",
       "     556,\n",
       "     333,\n",
       "     889,\n",
       "     350,\n",
       "     611,\n",
       "     350,\n",
       "     350,\n",
       "     333,\n",
       "     333,\n",
       "     444,\n",
       "     444,\n",
       "     350,\n",
       "     500,\n",
       "     1000,\n",
       "     333,\n",
       "     980,\n",
       "     389,\n",
       "     333,\n",
       "     722,\n",
       "     350,\n",
       "     444,\n",
       "     722,\n",
       "     250,\n",
       "     333,\n",
       "     500,\n",
       "     500,\n",
       "     500,\n",
       "     500,\n",
       "     200,\n",
       "     500,\n",
       "     333,\n",
       "     760,\n",
       "     276,\n",
       "     500,\n",
       "     564,\n",
       "     333,\n",
       "     760,\n",
       "     500,\n",
       "     400,\n",
       "     549,\n",
       "     300,\n",
       "     300,\n",
       "     333,\n",
       "     576,\n",
       "     453,\n",
       "     333,\n",
       "     333,\n",
       "     300,\n",
       "     310,\n",
       "     500,\n",
       "     750,\n",
       "     750,\n",
       "     750,\n",
       "     444,\n",
       "     722,\n",
       "     722,\n",
       "     722,\n",
       "     722,\n",
       "     722,\n",
       "     722,\n",
       "     889,\n",
       "     667,\n",
       "     611,\n",
       "     611,\n",
       "     611,\n",
       "     611,\n",
       "     333,\n",
       "     333,\n",
       "     333,\n",
       "     333,\n",
       "     722,\n",
       "     722,\n",
       "     722,\n",
       "     722,\n",
       "     722,\n",
       "     722,\n",
       "     722,\n",
       "     564,\n",
       "     722,\n",
       "     722,\n",
       "     722,\n",
       "     722,\n",
       "     722,\n",
       "     722,\n",
       "     556,\n",
       "     500,\n",
       "     444,\n",
       "     444,\n",
       "     444,\n",
       "     444,\n",
       "     444,\n",
       "     444,\n",
       "     667,\n",
       "     444,\n",
       "     444,\n",
       "     444,\n",
       "     444,\n",
       "     444,\n",
       "     278,\n",
       "     278,\n",
       "     278,\n",
       "     278,\n",
       "     500,\n",
       "     500,\n",
       "     500,\n",
       "     500,\n",
       "     500,\n",
       "     500,\n",
       "     500,\n",
       "     549,\n",
       "     500,\n",
       "     500,\n",
       "     500,\n",
       "     500,\n",
       "     500,\n",
       "     500,\n",
       "     500,\n",
       "     500]},\n",
       "   '/TT5': {'/BaseFont': '/ZNNWAA+LucidaCalligraphy-Italic',\n",
       "    '/Encoding': '/WinAnsiEncoding',\n",
       "    '/FirstChar': 32,\n",
       "    '/FontDescriptor': {'/Ascent': 958,\n",
       "     '/CapHeight': 741,\n",
       "     '/Descent': -325,\n",
       "     '/Flags': 98,\n",
       "     '/FontBBox': [-290, -325, 1287, 958],\n",
       "     '/FontFamily': 'Lucida Calligraphy',\n",
       "     '/FontFile2': {'/Filter': '/FlateDecode', '/Length1': 11512},\n",
       "     '/FontName': '/ZNNWAA+LucidaCalligraphy-Italic',\n",
       "     '/FontStretch': '/Normal',\n",
       "     '/FontWeight': 400,\n",
       "     '/ItalicAngle': -12,\n",
       "     '/StemV': 100,\n",
       "     '/Type': '/FontDescriptor',\n",
       "     '/XHeight': 541},\n",
       "    '/LastChar': 121,\n",
       "    '/Subtype': '/TrueType',\n",
       "    '/ToUnicode': {'/Filter': '/FlateDecode'},\n",
       "    '/Type': '/Font',\n",
       "    '/Widths': [332,\n",
       "     0,\n",
       "     0,\n",
       "     0,\n",
       "     0,\n",
       "     0,\n",
       "     0,\n",
       "     0,\n",
       "     0,\n",
       "     0,\n",
       "     0,\n",
       "     0,\n",
       "     283,\n",
       "     0,\n",
       "     283,\n",
       "     0,\n",
       "     0,\n",
       "     0,\n",
       "     0,\n",
       "     0,\n",
       "     0,\n",
       "     0,\n",
       "     0,\n",
       "     0,\n",
       "     0,\n",
       "     0,\n",
       "     0,\n",
       "     0,\n",
       "     0,\n",
       "     0,\n",
       "     0,\n",
       "     0,\n",
       "     0,\n",
       "     0,\n",
       "     786,\n",
       "     0,\n",
       "     0,\n",
       "     735,\n",
       "     0,\n",
       "     0,\n",
       "     0,\n",
       "     0,\n",
       "     0,\n",
       "     0,\n",
       "     669,\n",
       "     0,\n",
       "     0,\n",
       "     0,\n",
       "     0,\n",
       "     0,\n",
       "     0,\n",
       "     581,\n",
       "     715,\n",
       "     0,\n",
       "     0,\n",
       "     0,\n",
       "     0,\n",
       "     0,\n",
       "     0,\n",
       "     0,\n",
       "     0,\n",
       "     0,\n",
       "     0,\n",
       "     0,\n",
       "     0,\n",
       "     668,\n",
       "     615,\n",
       "     546,\n",
       "     668,\n",
       "     542,\n",
       "     409,\n",
       "     614,\n",
       "     664,\n",
       "     376,\n",
       "     0,\n",
       "     631,\n",
       "     339,\n",
       "     1024,\n",
       "     711,\n",
       "     583,\n",
       "     664,\n",
       "     0,\n",
       "     563,\n",
       "     451,\n",
       "     456,\n",
       "     697,\n",
       "     705,\n",
       "     945,\n",
       "     710,\n",
       "     693]}},\n",
       "  '/XObject': {'/Im0': {'/BitsPerComponent': 8,\n",
       "    '/ColorSpace': ['/ICCBased', IndirectObject(970, 0)],\n",
       "    '/DecodeParms': {'/BitsPerComponent': 8, '/Colors': 3, '/Columns': 309},\n",
       "    '/Filter': '/FlateDecode',\n",
       "    '/Height': 309,\n",
       "    '/Name': '/X',\n",
       "    '/Subtype': '/Image',\n",
       "    '/Type': '/XObject',\n",
       "    '/Width': 309}}},\n",
       " '/Rotate': 90,\n",
       " '/StructParents': 0,\n",
       " '/Type': '/Page'}"
      ]
     },
     "execution_count": 10,
     "metadata": {},
     "output_type": "execute_result"
    }
   ],
   "source": [
    "import PyPDF2\n",
    "minutes_file = open(r\".\\pydata\\meetingminutes.pdf\", \"rb\")\n",
    "pdf_reader = PyPDF2.PdfFileReader(minutes_file)\n",
    "page = pdf_reader.getPage(0)\n",
    "page.rotateClockwise(90)"
   ]
  },
  {
   "cell_type": "code",
   "execution_count": 11,
   "metadata": {},
   "outputs": [],
   "source": [
    "pdf_writer = PyPDF2.PdfFileWriter()\n",
    "pdf_writer.addPage(page)\n",
    "result_pdf_file = open(r\".\\pydata\\rotatePage.pdf\", \"wb\")\n",
    "pdf_writer.write(result_pdf_file)\n",
    "result_pdf_file.close()\n",
    "minutes_file.close()"
   ]
  },
  {
   "cell_type": "markdown",
   "metadata": {},
   "source": [
    "ページを回転するにはpageオブジェクトの rotateClockwise を呼び90度単位の数字(90,180,270)を渡すことで回転したページを作ることができる\n",
    "\n",
    "上では回転したページをPdfFileWriterオブジェクトに追加し新しいファイルに書き込んでいる\n",
    "\n",
    "rotatecounterClockwiseを使うと反対側に回転させることができる"
   ]
  },
  {
   "cell_type": "markdown",
   "metadata": {},
   "source": [
    "# ページを重ね合わせる"
   ]
  },
  {
   "cell_type": "code",
   "execution_count": 12,
   "metadata": {},
   "outputs": [],
   "source": [
    "import PyPDF2\n",
    "minutes_file = open(r\".\\pydata\\meetingminutes.pdf\", \"rb\")\n",
    "pdf_reader = PyPDF2.PdfFileReader(minutes_file)\n",
    "minutes_first_page = pdf_reader.getPage(0)\n",
    "pdf_watermark_reader = PyPDF2.PdfFileReader(open(r\".\\pydata\\watermark.pdf\", \"rb\"))\n",
    "minutes_first_page.mergePage(pdf_watermark_reader.getPage(0))\n",
    "pdf_writer = PyPDF2.PdfFileWriter()\n",
    "pdf_writer.addPage(minutes_first_page)\n",
    "for page_num in range(1,pdf_reader.numPages):\n",
    "    page_obj = pdf_reader.getPage(page_num)\n",
    "    pdf_writer.addPage(page_obj)\n",
    "    \n",
    "result_pdf_file = open(r\".\\pydata\\watermarkedCover.pdf\", \"wb\")\n",
    "pdf_writer.write(result_pdf_file)\n",
    "minutes_file.close()\n",
    "result_pdf_file.close()"
   ]
  },
  {
   "cell_type": "markdown",
   "metadata": {},
   "source": [
    "ページを重ね合わせるには、Pageオブジェクトの mergePage メソッドを呼び、引数に透かして埋め込むPageオブジェクトを与えることでできる\n",
    "\n",
    "上では重ねて作ったページをPdfFileWriterオブジェクトに追加した後、残りのページを追加し、新しいPDFファイルを作成している"
   ]
  },
  {
   "cell_type": "markdown",
   "metadata": {},
   "source": [
    "# PDFを暗号化する"
   ]
  },
  {
   "cell_type": "code",
   "execution_count": 13,
   "metadata": {},
   "outputs": [],
   "source": [
    "import PyPDF2\n",
    "pdf_file = open(r\".\\pydata\\meetingminutes.pdf\", \"rb\")\n",
    "pdf_reader = PyPDF2.PdfFileReader(pdf_file)\n",
    "pdf_writer = PyPDF2.PdfFileWriter()\n",
    "for page_num in range(pdf_reader.numPages):\n",
    "    pdf_writer.addPage(pdf_reader.getPage(page_num))\n",
    "\n",
    "pdf_writer.encrypt(\"swordfish\")\n",
    "result_pdf = open(r\".\\pydata\\encryptedminutes.pdf\", \"wb\")\n",
    "pdf_writer.write(result_pdf)\n",
    "result_pdf.close()\n",
    "pdf_file.close()"
   ]
  },
  {
   "cell_type": "markdown",
   "metadata": {},
   "source": [
    "PDFファイルを暗号化するには、PdfFileWriterオブジェクトのwriteメソッドを使って書き込む前に、PdfFileWriterオブジェクトの encrypt メソッドに設定するパスワードを渡すことでできる"
   ]
  },
  {
   "cell_type": "markdown",
   "metadata": {},
   "source": [
    "# Word文書を読み込む"
   ]
  },
  {
   "cell_type": "code",
   "execution_count": 14,
   "metadata": {},
   "outputs": [
    {
     "data": {
      "text/plain": [
       "7"
      ]
     },
     "execution_count": 14,
     "metadata": {},
     "output_type": "execute_result"
    }
   ],
   "source": [
    "import docx\n",
    "doc = docx.Document(r\".\\pydata\\demo.docx\")\n",
    "len(doc.paragraphs)"
   ]
  },
  {
   "cell_type": "code",
   "execution_count": 15,
   "metadata": {},
   "outputs": [
    {
     "data": {
      "text/plain": [
       "'Document Title'"
      ]
     },
     "execution_count": 15,
     "metadata": {},
     "output_type": "execute_result"
    }
   ],
   "source": [
    "doc.paragraphs[0].text"
   ]
  },
  {
   "cell_type": "code",
   "execution_count": 16,
   "metadata": {},
   "outputs": [
    {
     "data": {
      "text/plain": [
       "'A plain paragraph with some bold and some italic'"
      ]
     },
     "execution_count": 16,
     "metadata": {},
     "output_type": "execute_result"
    }
   ],
   "source": [
    "doc.paragraphs[1].text"
   ]
  },
  {
   "cell_type": "code",
   "execution_count": 17,
   "metadata": {},
   "outputs": [
    {
     "data": {
      "text/plain": [
       "4"
      ]
     },
     "execution_count": 17,
     "metadata": {},
     "output_type": "execute_result"
    }
   ],
   "source": [
    "len(doc.paragraphs[1].runs)"
   ]
  },
  {
   "cell_type": "code",
   "execution_count": 18,
   "metadata": {},
   "outputs": [
    {
     "data": {
      "text/plain": [
       "'A plain paragraph with some '"
      ]
     },
     "execution_count": 18,
     "metadata": {},
     "output_type": "execute_result"
    }
   ],
   "source": [
    "doc.paragraphs[1].runs[0].text"
   ]
  },
  {
   "cell_type": "code",
   "execution_count": 19,
   "metadata": {},
   "outputs": [
    {
     "data": {
      "text/plain": [
       "'bold'"
      ]
     },
     "execution_count": 19,
     "metadata": {},
     "output_type": "execute_result"
    }
   ],
   "source": [
    "doc.paragraphs[1].runs[1].text"
   ]
  },
  {
   "cell_type": "code",
   "execution_count": 20,
   "metadata": {},
   "outputs": [
    {
     "data": {
      "text/plain": [
       "' and some '"
      ]
     },
     "execution_count": 20,
     "metadata": {},
     "output_type": "execute_result"
    }
   ],
   "source": [
    "doc.paragraphs[1].runs[2].text"
   ]
  },
  {
   "cell_type": "code",
   "execution_count": 21,
   "metadata": {},
   "outputs": [
    {
     "data": {
      "text/plain": [
       "'italic'"
      ]
     },
     "execution_count": 21,
     "metadata": {},
     "output_type": "execute_result"
    }
   ],
   "source": [
    "doc.paragraphs[1].runs[3].text"
   ]
  },
  {
   "cell_type": "markdown",
   "metadata": {},
   "source": [
    "DocxモジュールではWord文書を3種類のデータ型として表現している\n",
    "\n",
    "Documentオブジェクトは文書全体を表し、Paragraphオブジェクトが文書の段落を表し、Runオブジェクトが同じスタイルの文字列を表す\n",
    "\n",
    "上では、dockモジュールの Document 関数にファイルのパスを渡し、文書すべての内容が入った Document オブジェクトを生成している\n",
    "\n",
    "そのDocumentオブジェクトには、paragraphs アトリビュートがあり、段落ごとにリストとして分けられた paragraphs オブジェクトがある\n",
    "\n",
    "paragraphsオブジェクトには text アトリビュートがあり、格納されている文字列を取り出すことができる\n",
    "\n",
    "paragraphsオブジェクトには runs アトリビュートもあり、文字列のスタイルごとに分けられた runs オブジェクトがリストとして格納されている\n",
    "\n",
    "runsオブジェクトにも text アトリビュートがあり、違う文字列のスタイルが使われるごとに区切られた文字列を取り出すことができる"
   ]
  },
  {
   "cell_type": "markdown",
   "metadata": {},
   "source": [
    "# .docxファイルから全テキスト取得する関数を作る"
   ]
  },
  {
   "cell_type": "code",
   "execution_count": null,
   "metadata": {},
   "outputs": [],
   "source": [
    "# ファイル名をreadDocx.pyにしたとする\n",
    "import docx\n",
    "\n",
    "def get_text(filename):\n",
    "    doc = docx.Document(filename)\n",
    "    full_text = []\n",
    "    for para in doc.paragraphs:\n",
    "        full_text.append(para.text)\n",
    "    return \"\\n\".join(full_text)"
   ]
  },
  {
   "cell_type": "markdown",
   "metadata": {},
   "source": [
    "上のような関数を作れば `import readDocx` として呼び出すことで get_text 関数を使えるようになり、ファイル名を渡すだけですべてのテキストを取得することが容易にできるようになる"
   ]
  },
  {
   "cell_type": "markdown",
   "metadata": {},
   "source": [
    "# PragraphとRunオブジェクトにスタイルを設定する"
   ]
  },
  {
   "cell_type": "markdown",
   "metadata": {},
   "source": [
    "word文書には3種類のスタイルがあり、段落スタイルはParagraphオブジェクト、文字スタイルはRunオブジェクト、リンクスタイルは両方に設定する\n",
    "\n",
    "設定するときはParagraphオブジェクトとRunオブジェクトの style アトリビュートに、設定したいスタイル名を代入することでできるのだが、\n",
    "\n",
    "Runオブジェクトに対しては注意が必要で、スタイル名の後に Char をスペースでつないで入力しなければならない\n",
    "\n",
    "`paragraph_obj.style = \"Quote\"`\n",
    "`run_obj.style = \"Quote Char\"`"
   ]
  },
  {
   "cell_type": "markdown",
   "metadata": {},
   "source": [
    "# Runの属性"
   ]
  },
  {
   "cell_type": "code",
   "execution_count": 22,
   "metadata": {},
   "outputs": [
    {
     "data": {
      "text/plain": [
       "'Document Title'"
      ]
     },
     "execution_count": 22,
     "metadata": {},
     "output_type": "execute_result"
    }
   ],
   "source": [
    "import docx\n",
    "doc = docx.Document(r\".\\pydata\\demo.docx\")\n",
    "doc.paragraphs[0].text"
   ]
  },
  {
   "cell_type": "code",
   "execution_count": 23,
   "metadata": {},
   "outputs": [
    {
     "data": {
      "text/plain": [
       "_ParagraphStyle('Title') id: 2166024619592"
      ]
     },
     "execution_count": 23,
     "metadata": {},
     "output_type": "execute_result"
    }
   ],
   "source": [
    "doc.paragraphs[0].style"
   ]
  },
  {
   "cell_type": "code",
   "execution_count": 24,
   "metadata": {},
   "outputs": [
    {
     "data": {
      "text/plain": [
       "'A plain paragraph with some bold and some italic'"
      ]
     },
     "execution_count": 24,
     "metadata": {},
     "output_type": "execute_result"
    }
   ],
   "source": [
    "doc.paragraphs[0].style = \"Normal\"\n",
    "doc.paragraphs[1].text"
   ]
  },
  {
   "cell_type": "code",
   "execution_count": 25,
   "metadata": {},
   "outputs": [
    {
     "data": {
      "text/plain": [
       "('A plain paragraph with some ', 'bold', ' and some ', 'italic')"
      ]
     },
     "execution_count": 25,
     "metadata": {},
     "output_type": "execute_result"
    }
   ],
   "source": [
    "(doc.paragraphs[1].runs[0].text,doc.paragraphs[1].runs[1].text,doc.paragraphs[1].runs[2].text,doc.paragraphs[1].runs[3].text)"
   ]
  },
  {
   "cell_type": "code",
   "execution_count": 26,
   "metadata": {},
   "outputs": [],
   "source": [
    "doc.paragraphs[1].runs[0].style = \"Quote Char\"\n",
    "doc.paragraphs[1].runs[1].underline = True\n",
    "doc.paragraphs[1].runs[3].underline = True\n",
    "doc.save(r\".\\pydata\\restyled.docx\")"
   ]
  },
  {
   "cell_type": "markdown",
   "metadata": {},
   "source": [
    "上では、Paragraphオブジェクトのtextとstyleを調べ、styleをNormalに設定している\n",
    "\n",
    "そして2つ目のParagraphオブジェクトの中のRunオブジェクトのテストを調べ、1番目のstyleをQuote、3番目と4番目にunderline(下線)を引いている\n",
    "\n",
    "最後にDocumentオブジェクトの save メソッドでファイルに保存している\n",
    "\n",
    "Run属性には様々なスタイル属性があり、True、False、None の3種類の値を設定可能\n",
    "\n",
    "Trueはstyleにかかわらず常に有効、Falseはstyleにかかわらず常に無効、Noneはstyleの設定によって変更される\n",
    "\n",
    "Runオブジェクトの属性一覧\n",
    "\n",
    "|属性|説明|\n",
    "|:-|:-|\n",
    "|bold|太字|\n",
    "|italic|斜線|\n",
    "|underline|下線|\n",
    "|strike|取り消し線|\n",
    "|double_strike|二重取り消し線|\n",
    "|all_caps|すべて大文字|\n",
    "|small_caps|小型大文字、小文字は2ポイント小さく|\n",
    "|shadow|影付き|\n",
    "|outline|文字の輪郭|\n",
    "|rtl|右から左へ|\n",
    "|imprint|凹み|\n",
    "|emboss|エンボス(レリーフ)|"
   ]
  },
  {
   "cell_type": "markdown",
   "metadata": {},
   "source": [
    "# Word文書を書き込む"
   ]
  },
  {
   "cell_type": "code",
   "execution_count": 27,
   "metadata": {},
   "outputs": [
    {
     "data": {
      "text/plain": [
       "<docx.text.paragraph.Paragraph at 0x1f84fe18548>"
      ]
     },
     "execution_count": 27,
     "metadata": {},
     "output_type": "execute_result"
    }
   ],
   "source": [
    "import docx\n",
    "doc = docx.Document()\n",
    "doc.add_paragraph(\"Hello World!\")"
   ]
  },
  {
   "cell_type": "code",
   "execution_count": 28,
   "metadata": {},
   "outputs": [],
   "source": [
    "doc.save(r\".\\pydata\\helloworld.docx\")"
   ]
  },
  {
   "cell_type": "markdown",
   "metadata": {},
   "source": [
    "docxモジュールの Document 関数の引数を渡さずにDocumentオブジェクトを生成すると白紙の文書として新しく作ってくれる\n",
    "\n",
    "Documentオブジェクトの add_paragraph メソッドに文字列を入れると、その文字列を段落として文書に追加してParagraphオブジェクトを返してくれる\n",
    "\n",
    "最後にDocumentオブジェクトのsaveメソッドを使ってファイルに保存する"
   ]
  },
  {
   "cell_type": "code",
   "execution_count": 29,
   "metadata": {},
   "outputs": [
    {
     "data": {
      "text/plain": [
       "<docx.text.paragraph.Paragraph at 0x1f8511ffb48>"
      ]
     },
     "execution_count": 29,
     "metadata": {},
     "output_type": "execute_result"
    }
   ],
   "source": [
    "doc = docx.Document()\n",
    "doc.add_paragraph(\"Hello World!\",\"Title\")"
   ]
  },
  {
   "cell_type": "code",
   "execution_count": 30,
   "metadata": {},
   "outputs": [
    {
     "data": {
      "text/plain": [
       "<docx.text.run.Run at 0x1f852202508>"
      ]
     },
     "execution_count": 30,
     "metadata": {},
     "output_type": "execute_result"
    }
   ],
   "source": [
    "para_obj1 = doc.add_paragraph(\"これは第2段落です\")\n",
    "para_obj2 = doc.add_paragraph(\"これは第3段落です\")\n",
    "para_obj1.add_run(\" これは第2段落に追加したテキストです\")"
   ]
  },
  {
   "cell_type": "code",
   "execution_count": 31,
   "metadata": {},
   "outputs": [],
   "source": [
    "doc.save(r\".\\pydata\\multipleParagraphs.docx\")"
   ]
  },
  {
   "cell_type": "markdown",
   "metadata": {},
   "source": [
    "Documentオブジェクトに対して何度か add_paragraph を呼ぶと新しい段落を追加することができる\n",
    "\n",
    "またParagraphオブジェクトにも add_run メソッドがあり、既存のParagraphオブジェクトに対して使うと末尾にテキストを追加することができる\n",
    "\n",
    "add_runメソッドを使ってテキストを入力するとRunオブジェクトを返す\n",
    "\n",
    "add_paragraph と add_run メソッドの第二引数にはスタイルを渡すこともできる"
   ]
  },
  {
   "cell_type": "markdown",
   "metadata": {},
   "source": [
    "# 見出しを追加する"
   ]
  },
  {
   "cell_type": "code",
   "execution_count": 32,
   "metadata": {},
   "outputs": [
    {
     "data": {
      "text/plain": [
       "<docx.text.paragraph.Paragraph at 0x1f852202148>"
      ]
     },
     "execution_count": 32,
     "metadata": {},
     "output_type": "execute_result"
    }
   ],
   "source": [
    "import docx\n",
    "doc = docx.Document()\n",
    "doc.add_heading(\"Header 0\", 0)"
   ]
  },
  {
   "cell_type": "code",
   "execution_count": 33,
   "metadata": {},
   "outputs": [
    {
     "data": {
      "text/plain": [
       "<docx.text.paragraph.Paragraph at 0x1f852206948>"
      ]
     },
     "execution_count": 33,
     "metadata": {},
     "output_type": "execute_result"
    }
   ],
   "source": [
    "doc.add_heading(\"Header 1\", 1)"
   ]
  },
  {
   "cell_type": "code",
   "execution_count": 34,
   "metadata": {},
   "outputs": [
    {
     "data": {
      "text/plain": [
       "<docx.text.paragraph.Paragraph at 0x1f852206588>"
      ]
     },
     "execution_count": 34,
     "metadata": {},
     "output_type": "execute_result"
    }
   ],
   "source": [
    "doc.add_heading(\"Header 2\", 2)"
   ]
  },
  {
   "cell_type": "code",
   "execution_count": 35,
   "metadata": {},
   "outputs": [
    {
     "data": {
      "text/plain": [
       "<docx.text.paragraph.Paragraph at 0x1f85121b248>"
      ]
     },
     "execution_count": 35,
     "metadata": {},
     "output_type": "execute_result"
    }
   ],
   "source": [
    "doc.add_heading(\"Header 3\", 3)"
   ]
  },
  {
   "cell_type": "code",
   "execution_count": 36,
   "metadata": {},
   "outputs": [
    {
     "data": {
      "text/plain": [
       "<docx.text.paragraph.Paragraph at 0x1f851209808>"
      ]
     },
     "execution_count": 36,
     "metadata": {},
     "output_type": "execute_result"
    }
   ],
   "source": [
    "doc.add_heading(\"Header 4\", 4)"
   ]
  },
  {
   "cell_type": "code",
   "execution_count": 37,
   "metadata": {},
   "outputs": [],
   "source": [
    "doc.save(r\".\\pydata\\headings.docx\")"
   ]
  },
  {
   "cell_type": "markdown",
   "metadata": {},
   "source": [
    "Documentオブジェクトの add_heading メソッドの第一引数に文字列と第二引数に0～4の整数を渡すことで見出しを追加することができる\n",
    "\n",
    "見出しを追加すると、そのParagraphオブジェクトを返してくれる\n",
    "\n",
    "第二引数の整数は、0がタイトル見出しを表し、1～4が見出しのレベルを表し、1が大見出し、4が最小の小見出しになる"
   ]
  },
  {
   "cell_type": "markdown",
   "metadata": {},
   "source": [
    "# 改行と改ページを追加する"
   ]
  },
  {
   "cell_type": "code",
   "execution_count": 38,
   "metadata": {},
   "outputs": [
    {
     "data": {
      "text/plain": [
       "<docx.text.run.Run at 0x1f84fa60f08>"
      ]
     },
     "execution_count": 38,
     "metadata": {},
     "output_type": "execute_result"
    }
   ],
   "source": [
    "import docx\n",
    "doc = docx.Document()\n",
    "para_obj = doc.add_paragraph(\"これは1ページの1行目のテキスト\")\n",
    "run_obj = para_obj.add_run(\" これは1行目の追加テキスト\")\n",
    "run_obj.add_break()\n",
    "para_obj.add_run(\"これは2行目の追加テキスト\")"
   ]
  },
  {
   "cell_type": "code",
   "execution_count": 39,
   "metadata": {},
   "outputs": [
    {
     "data": {
      "text/plain": [
       "<docx.text.paragraph.Paragraph at 0x1f851212148>"
      ]
     },
     "execution_count": 39,
     "metadata": {},
     "output_type": "execute_result"
    }
   ],
   "source": [
    "doc.add_page_break()"
   ]
  },
  {
   "cell_type": "code",
   "execution_count": 40,
   "metadata": {},
   "outputs": [
    {
     "data": {
      "text/plain": [
       "<docx.text.paragraph.Paragraph at 0x1f8511ea288>"
      ]
     },
     "execution_count": 40,
     "metadata": {},
     "output_type": "execute_result"
    }
   ],
   "source": [
    "doc.add_paragraph(\"これは2ページ目のテキスト\")"
   ]
  },
  {
   "cell_type": "code",
   "execution_count": 41,
   "metadata": {},
   "outputs": [],
   "source": [
    "doc.save(r\".\\pydata\\twoPage.docx\")"
   ]
  },
  {
   "cell_type": "markdown",
   "metadata": {},
   "source": [
    "新しい段落を開始せずに(新しいParagraphオブジェクトを作らずに)改行するには、Runオブジェクトの add_break メソッドを呼ぶことでできる\n",
    "\n",
    "改ページを追加するにはDocumentオブジェクトの add_page_break メソッドを呼ぶことでできる"
   ]
  },
  {
   "cell_type": "markdown",
   "metadata": {},
   "source": [
    "# 図を追加する"
   ]
  },
  {
   "cell_type": "code",
   "execution_count": 44,
   "metadata": {},
   "outputs": [
    {
     "data": {
      "text/plain": [
       "<docx.shape.InlineShape at 0x1f85220c208>"
      ]
     },
     "execution_count": 44,
     "metadata": {},
     "output_type": "execute_result"
    }
   ],
   "source": [
    "doc = docx.Document()\n",
    "para_obj = doc.add_paragraph(\"引き延ばされた\")\n",
    "run_obj = para_obj.add_run(\"　猫のロゴ\")\n",
    "doc.add_picture(r\".\\pydata\\catlogo.png\", width=docx.shared.Inches(4), height=docx.shared.Cm(6))"
   ]
  },
  {
   "cell_type": "code",
   "execution_count": 45,
   "metadata": {},
   "outputs": [],
   "source": [
    "doc.save(r\".\\pydata\\catlogo.docx\")"
   ]
  },
  {
   "cell_type": "markdown",
   "metadata": {},
   "source": [
    "画像を追加するにはDocumentオブジェクトの add_picture メソッドに画像ファイルのあるパスを渡すことで、文末に画像を追加してくれる\n",
    "\n",
    "その際に width と height を指定でき、値は dock.shared.Inches もしくは dock.shared.Cm のどちらかに長さを入れることで決めることができる"
   ]
  }
 ],
 "metadata": {
  "kernelspec": {
   "display_name": "Python 3",
   "language": "python",
   "name": "python3"
  },
  "language_info": {
   "codemirror_mode": {
    "name": "ipython",
    "version": 3
   },
   "file_extension": ".py",
   "mimetype": "text/x-python",
   "name": "python",
   "nbconvert_exporter": "python",
   "pygments_lexer": "ipython3",
   "version": "3.7.6"
  }
 },
 "nbformat": 4,
 "nbformat_minor": 4
}
