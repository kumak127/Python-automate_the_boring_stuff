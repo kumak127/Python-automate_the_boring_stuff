{
 "cells": [
  {
   "cell_type": "markdown",
   "metadata": {},
   "source": [
    "# Excel文書を読み込む"
   ]
  },
  {
   "cell_type": "code",
   "execution_count": 1,
   "metadata": {},
   "outputs": [
    {
     "data": {
      "text/plain": [
       "openpyxl.workbook.workbook.Workbook"
      ]
     },
     "execution_count": 1,
     "metadata": {},
     "output_type": "execute_result"
    }
   ],
   "source": [
    "import openpyxl\n",
    "wb = openpyxl.load_workbook(r\".\\pydata\\example.xlsx\")\n",
    "type(wb)"
   ]
  },
  {
   "cell_type": "markdown",
   "metadata": {},
   "source": [
    "Excelなどの.xlsxファイルは openpyxl モジュールを使うことで扱うことができる\n",
    "\n",
    "openpyxlモジュールには load_workbook 関数があり、ファイル名を渡すことで workbookオブジェクトを作ることができる"
   ]
  },
  {
   "cell_type": "code",
   "execution_count": 2,
   "metadata": {},
   "outputs": [
    {
     "name": "stderr",
     "output_type": "stream",
     "text": [
      "C:\\Users\\kumak\\anaconda3\\lib\\site-packages\\ipykernel_launcher.py:1: DeprecationWarning: Call to deprecated function get_sheet_names (Use wb.sheetnames).\n",
      "  \"\"\"Entry point for launching an IPython kernel.\n"
     ]
    },
    {
     "data": {
      "text/plain": [
       "['Sheet1', 'Sheet2', 'Sheet3']"
      ]
     },
     "execution_count": 2,
     "metadata": {},
     "output_type": "execute_result"
    }
   ],
   "source": [
    "wb.get_sheet_names()"
   ]
  },
  {
   "cell_type": "code",
   "execution_count": 3,
   "metadata": {},
   "outputs": [
    {
     "name": "stderr",
     "output_type": "stream",
     "text": [
      "C:\\Users\\kumak\\anaconda3\\lib\\site-packages\\ipykernel_launcher.py:1: DeprecationWarning: Call to deprecated function get_sheet_by_name (Use wb[sheetname]).\n",
      "  \"\"\"Entry point for launching an IPython kernel.\n"
     ]
    },
    {
     "data": {
      "text/plain": [
       "<Worksheet \"Sheet3\">"
      ]
     },
     "execution_count": 3,
     "metadata": {},
     "output_type": "execute_result"
    }
   ],
   "source": [
    "sheet = wb.get_sheet_by_name(\"Sheet3\")\n",
    "sheet"
   ]
  },
  {
   "cell_type": "code",
   "execution_count": 4,
   "metadata": {},
   "outputs": [
    {
     "data": {
      "text/plain": [
       "openpyxl.worksheet.worksheet.Worksheet"
      ]
     },
     "execution_count": 4,
     "metadata": {},
     "output_type": "execute_result"
    }
   ],
   "source": [
    "type(sheet)"
   ]
  },
  {
   "cell_type": "code",
   "execution_count": 5,
   "metadata": {},
   "outputs": [
    {
     "data": {
      "text/plain": [
       "'Sheet3'"
      ]
     },
     "execution_count": 5,
     "metadata": {},
     "output_type": "execute_result"
    }
   ],
   "source": [
    "sheet.title"
   ]
  },
  {
   "cell_type": "code",
   "execution_count": 6,
   "metadata": {},
   "outputs": [
    {
     "data": {
      "text/plain": [
       "<Worksheet \"Sheet1\">"
      ]
     },
     "execution_count": 6,
     "metadata": {},
     "output_type": "execute_result"
    }
   ],
   "source": [
    "another_sheet = wb.active\n",
    "another_sheet"
   ]
  },
  {
   "cell_type": "markdown",
   "metadata": {},
   "source": [
    "workbookオブジェクトの get_sheet_names メソッドを呼び出すと、ワークブックに含まれるシートの名前をリストで取得できる\n",
    "\n",
    "workbookオブジェクトの get_sheet_by_name メソッドにシート名の文字列を渡すことで worksheetオブジェクトを作ることができる\n",
    "\n",
    "worksheetオブジェクトの title アトリビュートを呼び出すことでシートの名前を取得できる\n",
    "\n",
    "また、workbookオブジェクトの active アトリビュートを呼び出すことでアクティブシート(現在表示中のシートまたはExcelを閉じる前の表示していたシート)の Worksheetオブジェクトを作成できる"
   ]
  },
  {
   "cell_type": "code",
   "execution_count": 7,
   "metadata": {},
   "outputs": [
    {
     "name": "stderr",
     "output_type": "stream",
     "text": [
      "C:\\Users\\kumak\\anaconda3\\lib\\site-packages\\ipykernel_launcher.py:1: DeprecationWarning: Call to deprecated function get_sheet_by_name (Use wb[sheetname]).\n",
      "  \"\"\"Entry point for launching an IPython kernel.\n"
     ]
    },
    {
     "data": {
      "text/plain": [
       "<Cell 'Sheet1'.A1>"
      ]
     },
     "execution_count": 7,
     "metadata": {},
     "output_type": "execute_result"
    }
   ],
   "source": [
    "sheet = wb.get_sheet_by_name(\"Sheet1\")\n",
    "sheet[\"A1\"]"
   ]
  },
  {
   "cell_type": "code",
   "execution_count": 8,
   "metadata": {},
   "outputs": [
    {
     "data": {
      "text/plain": [
       "openpyxl.cell.cell.Cell"
      ]
     },
     "execution_count": 8,
     "metadata": {},
     "output_type": "execute_result"
    }
   ],
   "source": [
    "type(sheet[\"A1\"])"
   ]
  },
  {
   "cell_type": "code",
   "execution_count": 9,
   "metadata": {},
   "outputs": [
    {
     "data": {
      "text/plain": [
       "'4/5/2015 1:34:02 PM'"
      ]
     },
     "execution_count": 9,
     "metadata": {},
     "output_type": "execute_result"
    }
   ],
   "source": [
    "sheet[\"A1\"].value"
   ]
  },
  {
   "cell_type": "code",
   "execution_count": 10,
   "metadata": {},
   "outputs": [
    {
     "data": {
      "text/plain": [
       "'Apples'"
      ]
     },
     "execution_count": 10,
     "metadata": {},
     "output_type": "execute_result"
    }
   ],
   "source": [
    "c = sheet[\"B1\"]\n",
    "c.value"
   ]
  },
  {
   "cell_type": "code",
   "execution_count": 11,
   "metadata": {},
   "outputs": [
    {
     "data": {
      "text/plain": [
       "1"
      ]
     },
     "execution_count": 11,
     "metadata": {},
     "output_type": "execute_result"
    }
   ],
   "source": [
    "c.row"
   ]
  },
  {
   "cell_type": "code",
   "execution_count": 12,
   "metadata": {},
   "outputs": [
    {
     "data": {
      "text/plain": [
       "2"
      ]
     },
     "execution_count": 12,
     "metadata": {},
     "output_type": "execute_result"
    }
   ],
   "source": [
    "c.column"
   ]
  },
  {
   "cell_type": "code",
   "execution_count": 13,
   "metadata": {},
   "outputs": [
    {
     "data": {
      "text/plain": [
       "'B1'"
      ]
     },
     "execution_count": 13,
     "metadata": {},
     "output_type": "execute_result"
    }
   ],
   "source": [
    "c.coordinate"
   ]
  },
  {
   "cell_type": "code",
   "execution_count": 14,
   "metadata": {},
   "outputs": [
    {
     "data": {
      "text/plain": [
       "'行 1,列 2 は Apples'"
      ]
     },
     "execution_count": 14,
     "metadata": {},
     "output_type": "execute_result"
    }
   ],
   "source": [
    "f\"行 {c.row},列 {c.column} は {c.value}\""
   ]
  },
  {
   "cell_type": "code",
   "execution_count": 15,
   "metadata": {},
   "outputs": [
    {
     "data": {
      "text/plain": [
       "'セル B1 は Apples'"
      ]
     },
     "execution_count": 15,
     "metadata": {},
     "output_type": "execute_result"
    }
   ],
   "source": [
    "f\"セル {c.coordinate} は {c.value}\""
   ]
  },
  {
   "cell_type": "markdown",
   "metadata": {},
   "source": [
    "Worksheetオブジェクトに行と列の名前を文字列で指定することで Cellオブジェクトを作成することができる\n",
    "\n",
    "Cellオブジェクトには value アトリビュートがあり、セルの内容が入っている\n",
    "\n",
    "Cellオブジェクトには row column coordinate という位置情報(それぞれ行、列、位置)を持つアトリビュートがある"
   ]
  },
  {
   "cell_type": "code",
   "execution_count": 16,
   "metadata": {},
   "outputs": [
    {
     "data": {
      "text/plain": [
       "<Cell 'Sheet1'.B1>"
      ]
     },
     "execution_count": 16,
     "metadata": {},
     "output_type": "execute_result"
    }
   ],
   "source": [
    "sheet.cell(1, 2)"
   ]
  },
  {
   "cell_type": "code",
   "execution_count": 17,
   "metadata": {},
   "outputs": [
    {
     "data": {
      "text/plain": [
       "'Apples'"
      ]
     },
     "execution_count": 17,
     "metadata": {},
     "output_type": "execute_result"
    }
   ],
   "source": [
    "sheet.cell(row=1, column=2).value"
   ]
  },
  {
   "cell_type": "code",
   "execution_count": 18,
   "metadata": {},
   "outputs": [
    {
     "name": "stdout",
     "output_type": "stream",
     "text": [
      "1 Apples\n",
      "3 pears\n",
      "5 Apples\n",
      "7 Strawberries\n"
     ]
    }
   ],
   "source": [
    "for i in range(1, 8, 2):\n",
    "    print(i, sheet.cell(row=i, column=2).value)"
   ]
  },
  {
   "cell_type": "markdown",
   "metadata": {},
   "source": [
    "Worksheetオブジェクトには cell メソッドがあり第一引数に行、第二引数に列を渡すことで簡単にCellオブジェクトを作ることができる\n",
    "\n",
    "for文を使うことで一連のCellオブジェクトを取得できる(上ではi行目の2列目の値を表示)"
   ]
  },
  {
   "cell_type": "code",
   "execution_count": 19,
   "metadata": {},
   "outputs": [
    {
     "data": {
      "text/plain": [
       "7"
      ]
     },
     "execution_count": 19,
     "metadata": {},
     "output_type": "execute_result"
    }
   ],
   "source": [
    "sheet.max_row"
   ]
  },
  {
   "cell_type": "code",
   "execution_count": 20,
   "metadata": {},
   "outputs": [
    {
     "data": {
      "text/plain": [
       "3"
      ]
     },
     "execution_count": 20,
     "metadata": {},
     "output_type": "execute_result"
    }
   ],
   "source": [
    "sheet.max_column"
   ]
  },
  {
   "cell_type": "markdown",
   "metadata": {},
   "source": [
    "Worksheetオブジェクトの max_row や max_column アトリビュートを使うことでシートのサイズを知ることができる"
   ]
  },
  {
   "cell_type": "code",
   "execution_count": 21,
   "metadata": {},
   "outputs": [],
   "source": [
    "from openpyxl.utils import get_column_letter, column_index_from_string"
   ]
  },
  {
   "cell_type": "code",
   "execution_count": 22,
   "metadata": {},
   "outputs": [
    {
     "data": {
      "text/plain": [
       "'A'"
      ]
     },
     "execution_count": 22,
     "metadata": {},
     "output_type": "execute_result"
    }
   ],
   "source": [
    "get_column_letter(1)"
   ]
  },
  {
   "cell_type": "code",
   "execution_count": 23,
   "metadata": {},
   "outputs": [
    {
     "data": {
      "text/plain": [
       "'B'"
      ]
     },
     "execution_count": 23,
     "metadata": {},
     "output_type": "execute_result"
    }
   ],
   "source": [
    "get_column_letter(2)"
   ]
  },
  {
   "cell_type": "code",
   "execution_count": 24,
   "metadata": {},
   "outputs": [
    {
     "data": {
      "text/plain": [
       "'AA'"
      ]
     },
     "execution_count": 24,
     "metadata": {},
     "output_type": "execute_result"
    }
   ],
   "source": [
    "get_column_letter(27)"
   ]
  },
  {
   "cell_type": "code",
   "execution_count": 25,
   "metadata": {},
   "outputs": [
    {
     "data": {
      "text/plain": [
       "'AHP'"
      ]
     },
     "execution_count": 25,
     "metadata": {},
     "output_type": "execute_result"
    }
   ],
   "source": [
    "get_column_letter(900)"
   ]
  },
  {
   "cell_type": "code",
   "execution_count": 26,
   "metadata": {},
   "outputs": [
    {
     "data": {
      "text/plain": [
       "'C'"
      ]
     },
     "execution_count": 26,
     "metadata": {},
     "output_type": "execute_result"
    }
   ],
   "source": [
    "get_column_letter(sheet.max_column)"
   ]
  },
  {
   "cell_type": "code",
   "execution_count": 27,
   "metadata": {},
   "outputs": [
    {
     "data": {
      "text/plain": [
       "27"
      ]
     },
     "execution_count": 27,
     "metadata": {},
     "output_type": "execute_result"
    }
   ],
   "source": [
    "column_index_from_string(\"AA\")"
   ]
  },
  {
   "cell_type": "markdown",
   "metadata": {},
   "source": [
    "列(column)の番号と文字を相互互換するには、openpyxl.utils モジュールの get_column_letter と column_index_from_string メソッドを使う\n",
    "\n",
    "get_column_letter メソッドは列の番号をアルファベットの文字に変換する\n",
    "\n",
    "column_index_from_string メソッドはアルファベットの文字を列の番号に変換する"
   ]
  },
  {
   "cell_type": "code",
   "execution_count": 28,
   "metadata": {},
   "outputs": [
    {
     "name": "stderr",
     "output_type": "stream",
     "text": [
      "C:\\Users\\kumak\\anaconda3\\lib\\site-packages\\ipykernel_launcher.py:3: DeprecationWarning: Call to deprecated function get_sheet_by_name (Use wb[sheetname]).\n",
      "  This is separate from the ipykernel package so we can avoid doing imports until\n"
     ]
    },
    {
     "data": {
      "text/plain": [
       "((<Cell 'Sheet1'.A1>, <Cell 'Sheet1'.B1>, <Cell 'Sheet1'.C1>),\n",
       " (<Cell 'Sheet1'.A2>, <Cell 'Sheet1'.B2>, <Cell 'Sheet1'.C2>),\n",
       " (<Cell 'Sheet1'.A3>, <Cell 'Sheet1'.B3>, <Cell 'Sheet1'.C3>))"
      ]
     },
     "execution_count": 28,
     "metadata": {},
     "output_type": "execute_result"
    }
   ],
   "source": [
    "import openpyxl\n",
    "wb = openpyxl.load_workbook(r\".\\pydata\\example.xlsx\")\n",
    "sheet = wb.get_sheet_by_name(\"Sheet1\")\n",
    "tuple(sheet[\"A1\": \"C3\"])"
   ]
  },
  {
   "cell_type": "code",
   "execution_count": 29,
   "metadata": {},
   "outputs": [
    {
     "name": "stdout",
     "output_type": "stream",
     "text": [
      "A1 4/5/2015 1:34:02 PM\n",
      "B1 Apples\n",
      "C1 73\n",
      "--- END OF ROW ---\n",
      "A2 4/5/2015 3:41:23 AM\n",
      "B2 Cherries\n",
      "C2 85\n",
      "--- END OF ROW ---\n",
      "A3 4/6/2015 12:46:51 PM\n",
      "B3 pears\n",
      "C3 14\n",
      "--- END OF ROW ---\n"
     ]
    }
   ],
   "source": [
    "for row_of_cell_objects in sheet[\"A1\": \"C3\"]:\n",
    "    for cell_obj in row_of_cell_objects:\n",
    "        print(cell_obj.coordinate, cell_obj.value)\n",
    "    print(\"--- END OF ROW ---\")"
   ]
  },
  {
   "cell_type": "markdown",
   "metadata": {},
   "source": [
    "Worksheetオブジェクトをスライスで指定することで矩形領域のCellオブジェクトをタプルの中のタプルにまとめることができる(セルごとのタプルを行ごとにまとめたタプル)\n",
    "\n"
   ]
  },
  {
   "cell_type": "code",
   "execution_count": 30,
   "metadata": {},
   "outputs": [
    {
     "name": "stderr",
     "output_type": "stream",
     "text": [
      "C:\\Users\\kumak\\anaconda3\\lib\\site-packages\\ipykernel_launcher.py:3: DeprecationWarning: Call to deprecated function get_sheet_by_name (Use wb[sheetname]).\n",
      "  This is separate from the ipykernel package so we can avoid doing imports until\n"
     ]
    },
    {
     "data": {
      "text/plain": [
       "(<Cell 'Sheet1'.B1>,\n",
       " <Cell 'Sheet1'.B2>,\n",
       " <Cell 'Sheet1'.B3>,\n",
       " <Cell 'Sheet1'.B4>,\n",
       " <Cell 'Sheet1'.B5>,\n",
       " <Cell 'Sheet1'.B6>,\n",
       " <Cell 'Sheet1'.B7>)"
      ]
     },
     "execution_count": 30,
     "metadata": {},
     "output_type": "execute_result"
    }
   ],
   "source": [
    "import openpyxl\n",
    "wb = openpyxl.load_workbook(r\".\\pydata\\example.xlsx\")\n",
    "sheet = wb.get_sheet_by_name(\"Sheet1\")\n",
    "tuple(sheet.columns)[1]"
   ]
  },
  {
   "cell_type": "code",
   "execution_count": 31,
   "metadata": {},
   "outputs": [
    {
     "name": "stdout",
     "output_type": "stream",
     "text": [
      "Apples\n",
      "Cherries\n",
      "pears\n",
      "Oranges\n",
      "Apples\n",
      "Bananas\n",
      "Strawberries\n"
     ]
    }
   ],
   "source": [
    "for cell_obj in tuple(sheet.columns)[1]:\n",
    "    print(cell_obj.value)"
   ]
  },
  {
   "cell_type": "code",
   "execution_count": 32,
   "metadata": {},
   "outputs": [
    {
     "data": {
      "text/plain": [
       "((<Cell 'Sheet1'.A1>,\n",
       "  <Cell 'Sheet1'.A2>,\n",
       "  <Cell 'Sheet1'.A3>,\n",
       "  <Cell 'Sheet1'.A4>,\n",
       "  <Cell 'Sheet1'.A5>,\n",
       "  <Cell 'Sheet1'.A6>,\n",
       "  <Cell 'Sheet1'.A7>),\n",
       " (<Cell 'Sheet1'.B1>,\n",
       "  <Cell 'Sheet1'.B2>,\n",
       "  <Cell 'Sheet1'.B3>,\n",
       "  <Cell 'Sheet1'.B4>,\n",
       "  <Cell 'Sheet1'.B5>,\n",
       "  <Cell 'Sheet1'.B6>,\n",
       "  <Cell 'Sheet1'.B7>),\n",
       " (<Cell 'Sheet1'.C1>,\n",
       "  <Cell 'Sheet1'.C2>,\n",
       "  <Cell 'Sheet1'.C3>,\n",
       "  <Cell 'Sheet1'.C4>,\n",
       "  <Cell 'Sheet1'.C5>,\n",
       "  <Cell 'Sheet1'.C6>,\n",
       "  <Cell 'Sheet1'.C7>))"
      ]
     },
     "execution_count": 32,
     "metadata": {},
     "output_type": "execute_result"
    }
   ],
   "source": [
    "tuple(sheet.columns)"
   ]
  },
  {
   "cell_type": "code",
   "execution_count": 33,
   "metadata": {},
   "outputs": [
    {
     "data": {
      "text/plain": [
       "((<Cell 'Sheet1'.A1>, <Cell 'Sheet1'.B1>, <Cell 'Sheet1'.C1>),\n",
       " (<Cell 'Sheet1'.A2>, <Cell 'Sheet1'.B2>, <Cell 'Sheet1'.C2>),\n",
       " (<Cell 'Sheet1'.A3>, <Cell 'Sheet1'.B3>, <Cell 'Sheet1'.C3>),\n",
       " (<Cell 'Sheet1'.A4>, <Cell 'Sheet1'.B4>, <Cell 'Sheet1'.C4>),\n",
       " (<Cell 'Sheet1'.A5>, <Cell 'Sheet1'.B5>, <Cell 'Sheet1'.C5>),\n",
       " (<Cell 'Sheet1'.A6>, <Cell 'Sheet1'.B6>, <Cell 'Sheet1'.C6>),\n",
       " (<Cell 'Sheet1'.A7>, <Cell 'Sheet1'.B7>, <Cell 'Sheet1'.C7>))"
      ]
     },
     "execution_count": 33,
     "metadata": {},
     "output_type": "execute_result"
    }
   ],
   "source": [
    "tuple(sheet.rows)"
   ]
  },
  {
   "cell_type": "markdown",
   "metadata": {},
   "source": [
    "Worksheetオブジェクトには rows アトリビュートと columns アトリビュートがあり、rowsアトリビュートは行ごとにCellオブジェクトをまとめ、columns アトリビュートは列ごとにCellオブジェクトをまとめて格納している(そのままだとジェネレーターオブジェクトなのでタプルやリストにする必要がある)\n",
    "\n",
    "決まった列や行を取り出したいなら[ ]でインデックス値を指定すれば特定の行や列を取り出すこともできる"
   ]
  },
  {
   "cell_type": "markdown",
   "metadata": {},
   "source": [
    "# Excel文書を書き出す"
   ]
  },
  {
   "cell_type": "code",
   "execution_count": 34,
   "metadata": {},
   "outputs": [
    {
     "name": "stderr",
     "output_type": "stream",
     "text": [
      "C:\\Users\\kumak\\anaconda3\\lib\\site-packages\\ipykernel_launcher.py:3: DeprecationWarning: Call to deprecated function get_sheet_names (Use wb.sheetnames).\n",
      "  This is separate from the ipykernel package so we can avoid doing imports until\n"
     ]
    },
    {
     "data": {
      "text/plain": [
       "['Sheet']"
      ]
     },
     "execution_count": 34,
     "metadata": {},
     "output_type": "execute_result"
    }
   ],
   "source": [
    "import openpyxl\n",
    "wb = openpyxl.Workbook()\n",
    "wb.get_sheet_names()"
   ]
  },
  {
   "cell_type": "code",
   "execution_count": 35,
   "metadata": {},
   "outputs": [
    {
     "data": {
      "text/plain": [
       "'Sheet'"
      ]
     },
     "execution_count": 35,
     "metadata": {},
     "output_type": "execute_result"
    }
   ],
   "source": [
    "sheet = wb.active\n",
    "sheet.title"
   ]
  },
  {
   "cell_type": "code",
   "execution_count": 36,
   "metadata": {},
   "outputs": [],
   "source": [
    "sheet.title = \"Spam Bacon Eggs Sheet\""
   ]
  },
  {
   "cell_type": "code",
   "execution_count": 37,
   "metadata": {},
   "outputs": [
    {
     "name": "stderr",
     "output_type": "stream",
     "text": [
      "C:\\Users\\kumak\\anaconda3\\lib\\site-packages\\ipykernel_launcher.py:1: DeprecationWarning: Call to deprecated function get_sheet_names (Use wb.sheetnames).\n",
      "  \"\"\"Entry point for launching an IPython kernel.\n"
     ]
    },
    {
     "data": {
      "text/plain": [
       "['Spam Bacon Eggs Sheet']"
      ]
     },
     "execution_count": 37,
     "metadata": {},
     "output_type": "execute_result"
    }
   ],
   "source": [
    "wb.get_sheet_names()"
   ]
  },
  {
   "cell_type": "markdown",
   "metadata": {},
   "source": [
    "openpyxl.Workbook 関数を使うと新規に空のWorkbookオブジェクトを生成する\n",
    "\n",
    "生成後はSheetという名前のシートが一枚あるだけだが、そのWorkSheetオブジェクトの title アトリビュートに名前の文字列を与えることで変更できる"
   ]
  },
  {
   "cell_type": "code",
   "execution_count": 38,
   "metadata": {},
   "outputs": [],
   "source": [
    "wb = openpyxl.load_workbook(r\".\\pydata\\example.xlsx\")\n",
    "sheet = wb.active\n",
    "sheet.title = \"Spam Spam Spam\""
   ]
  },
  {
   "cell_type": "code",
   "execution_count": 39,
   "metadata": {},
   "outputs": [],
   "source": [
    "wb.save(r\".\\pydata\\example_copy.xlsx\")"
   ]
  },
  {
   "cell_type": "markdown",
   "metadata": {},
   "source": [
    "変更した内容はWorkbookオブジェクトの save メソッドを呼び出すことでスプレッドシートを保存できる\n",
    "\n",
    "この時に元のファイルとは違う名前を渡すことで変更前のファイルを残しながら変更後のファイルを保存することができる"
   ]
  },
  {
   "cell_type": "code",
   "execution_count": 40,
   "metadata": {},
   "outputs": [
    {
     "name": "stderr",
     "output_type": "stream",
     "text": [
      "C:\\Users\\kumak\\anaconda3\\lib\\site-packages\\ipykernel_launcher.py:2: DeprecationWarning: Call to deprecated function get_sheet_names (Use wb.sheetnames).\n",
      "  \n"
     ]
    },
    {
     "data": {
      "text/plain": [
       "['Sheet']"
      ]
     },
     "execution_count": 40,
     "metadata": {},
     "output_type": "execute_result"
    }
   ],
   "source": [
    "wb = openpyxl.Workbook()\n",
    "wb.get_sheet_names()"
   ]
  },
  {
   "cell_type": "code",
   "execution_count": 41,
   "metadata": {},
   "outputs": [
    {
     "data": {
      "text/plain": [
       "<Worksheet \"Sheet1\">"
      ]
     },
     "execution_count": 41,
     "metadata": {},
     "output_type": "execute_result"
    }
   ],
   "source": [
    "wb.create_sheet()"
   ]
  },
  {
   "cell_type": "code",
   "execution_count": 42,
   "metadata": {},
   "outputs": [
    {
     "name": "stderr",
     "output_type": "stream",
     "text": [
      "C:\\Users\\kumak\\anaconda3\\lib\\site-packages\\ipykernel_launcher.py:1: DeprecationWarning: Call to deprecated function get_sheet_names (Use wb.sheetnames).\n",
      "  \"\"\"Entry point for launching an IPython kernel.\n"
     ]
    },
    {
     "data": {
      "text/plain": [
       "['Sheet', 'Sheet1']"
      ]
     },
     "execution_count": 42,
     "metadata": {},
     "output_type": "execute_result"
    }
   ],
   "source": [
    "wb.get_sheet_names()"
   ]
  },
  {
   "cell_type": "code",
   "execution_count": 43,
   "metadata": {},
   "outputs": [
    {
     "data": {
      "text/plain": [
       "<Worksheet \"First Sheet\">"
      ]
     },
     "execution_count": 43,
     "metadata": {},
     "output_type": "execute_result"
    }
   ],
   "source": [
    "wb.create_sheet(index=0, title=\"First Sheet\")"
   ]
  },
  {
   "cell_type": "code",
   "execution_count": 44,
   "metadata": {},
   "outputs": [
    {
     "name": "stderr",
     "output_type": "stream",
     "text": [
      "C:\\Users\\kumak\\anaconda3\\lib\\site-packages\\ipykernel_launcher.py:1: DeprecationWarning: Call to deprecated function get_sheet_names (Use wb.sheetnames).\n",
      "  \"\"\"Entry point for launching an IPython kernel.\n"
     ]
    },
    {
     "data": {
      "text/plain": [
       "['First Sheet', 'Sheet', 'Sheet1']"
      ]
     },
     "execution_count": 44,
     "metadata": {},
     "output_type": "execute_result"
    }
   ],
   "source": [
    "wb.get_sheet_names()"
   ]
  },
  {
   "cell_type": "code",
   "execution_count": 45,
   "metadata": {},
   "outputs": [
    {
     "data": {
      "text/plain": [
       "<Worksheet \"Middle Sheet\">"
      ]
     },
     "execution_count": 45,
     "metadata": {},
     "output_type": "execute_result"
    }
   ],
   "source": [
    "wb.create_sheet(index=2, title=\"Middle Sheet\")"
   ]
  },
  {
   "cell_type": "code",
   "execution_count": 46,
   "metadata": {},
   "outputs": [
    {
     "name": "stderr",
     "output_type": "stream",
     "text": [
      "C:\\Users\\kumak\\anaconda3\\lib\\site-packages\\ipykernel_launcher.py:1: DeprecationWarning: Call to deprecated function get_sheet_names (Use wb.sheetnames).\n",
      "  \"\"\"Entry point for launching an IPython kernel.\n"
     ]
    },
    {
     "data": {
      "text/plain": [
       "['First Sheet', 'Sheet', 'Middle Sheet', 'Sheet1']"
      ]
     },
     "execution_count": 46,
     "metadata": {},
     "output_type": "execute_result"
    }
   ],
   "source": [
    "wb.get_sheet_names()"
   ]
  },
  {
   "cell_type": "markdown",
   "metadata": {},
   "source": [
    "Workbookオブジェクトの create_sheet メソッドを使うことで新しいシートを追加することができる\n",
    "\n",
    "引数を渡さないと「Sheet*」という名前のシートを末尾に追加する\n",
    "\n",
    "引数に index を指定して値を渡すことでシートを追加する場所、title を指定して文字列を渡すことで名前を設定できる"
   ]
  },
  {
   "cell_type": "code",
   "execution_count": 47,
   "metadata": {},
   "outputs": [
    {
     "name": "stderr",
     "output_type": "stream",
     "text": [
      "C:\\Users\\kumak\\anaconda3\\lib\\site-packages\\ipykernel_launcher.py:1: DeprecationWarning: Call to deprecated function get_sheet_names (Use wb.sheetnames).\n",
      "  \"\"\"Entry point for launching an IPython kernel.\n"
     ]
    },
    {
     "data": {
      "text/plain": [
       "['First Sheet', 'Sheet', 'Middle Sheet', 'Sheet1']"
      ]
     },
     "execution_count": 47,
     "metadata": {},
     "output_type": "execute_result"
    }
   ],
   "source": [
    "wb.get_sheet_names()"
   ]
  },
  {
   "cell_type": "code",
   "execution_count": 48,
   "metadata": {},
   "outputs": [
    {
     "name": "stderr",
     "output_type": "stream",
     "text": [
      "C:\\Users\\kumak\\anaconda3\\lib\\site-packages\\ipykernel_launcher.py:1: DeprecationWarning: Call to deprecated function get_sheet_by_name (Use wb[sheetname]).\n",
      "  \"\"\"Entry point for launching an IPython kernel.\n",
      "C:\\Users\\kumak\\anaconda3\\lib\\site-packages\\ipykernel_launcher.py:1: DeprecationWarning: Call to deprecated function remove_sheet (Use wb.remove(worksheet) or del wb[sheetname]).\n",
      "  \"\"\"Entry point for launching an IPython kernel.\n"
     ]
    }
   ],
   "source": [
    "wb.remove_sheet(wb.get_sheet_by_name(\"Middle Sheet\"))"
   ]
  },
  {
   "cell_type": "code",
   "execution_count": 49,
   "metadata": {},
   "outputs": [
    {
     "name": "stderr",
     "output_type": "stream",
     "text": [
      "C:\\Users\\kumak\\anaconda3\\lib\\site-packages\\ipykernel_launcher.py:1: DeprecationWarning: Call to deprecated function get_sheet_by_name (Use wb[sheetname]).\n",
      "  \"\"\"Entry point for launching an IPython kernel.\n",
      "C:\\Users\\kumak\\anaconda3\\lib\\site-packages\\ipykernel_launcher.py:1: DeprecationWarning: Call to deprecated function remove_sheet (Use wb.remove(worksheet) or del wb[sheetname]).\n",
      "  \"\"\"Entry point for launching an IPython kernel.\n"
     ]
    }
   ],
   "source": [
    "wb.remove_sheet(wb.get_sheet_by_name(\"Sheet1\"))"
   ]
  },
  {
   "cell_type": "code",
   "execution_count": 50,
   "metadata": {},
   "outputs": [
    {
     "name": "stderr",
     "output_type": "stream",
     "text": [
      "C:\\Users\\kumak\\anaconda3\\lib\\site-packages\\ipykernel_launcher.py:1: DeprecationWarning: Call to deprecated function get_sheet_names (Use wb.sheetnames).\n",
      "  \"\"\"Entry point for launching an IPython kernel.\n"
     ]
    },
    {
     "data": {
      "text/plain": [
       "['First Sheet', 'Sheet']"
      ]
     },
     "execution_count": 50,
     "metadata": {},
     "output_type": "execute_result"
    }
   ],
   "source": [
    "wb.get_sheet_names()"
   ]
  },
  {
   "cell_type": "markdown",
   "metadata": {},
   "source": [
    "Workbookオブジェクトの remove_sheet メゾットに、削除したいWorksheetオブジェクトを渡すことでそのシートを削除することができる"
   ]
  },
  {
   "cell_type": "code",
   "execution_count": 51,
   "metadata": {},
   "outputs": [
    {
     "name": "stderr",
     "output_type": "stream",
     "text": [
      "C:\\Users\\kumak\\anaconda3\\lib\\site-packages\\ipykernel_launcher.py:2: DeprecationWarning: Call to deprecated function get_sheet_by_name (Use wb[sheetname]).\n",
      "  \n"
     ]
    },
    {
     "data": {
      "text/plain": [
       "'Hello World!'"
      ]
     },
     "execution_count": 51,
     "metadata": {},
     "output_type": "execute_result"
    }
   ],
   "source": [
    "wb = openpyxl.Workbook()\n",
    "sheet = wb.get_sheet_by_name(\"Sheet\")\n",
    "sheet[\"A1\"] = \"Hello World!\"\n",
    "sheet[\"A1\"].value"
   ]
  },
  {
   "cell_type": "markdown",
   "metadata": {},
   "source": [
    "セルに値を書き込むにはCellオブジェクトに値を代入することでできる"
   ]
  },
  {
   "cell_type": "markdown",
   "metadata": {},
   "source": [
    "# セルのフォントスタイルを設定する"
   ]
  },
  {
   "cell_type": "code",
   "execution_count": 53,
   "metadata": {},
   "outputs": [],
   "source": [
    "import openpyxl\n",
    "from openpyxl.styles import Font"
   ]
  },
  {
   "cell_type": "code",
   "execution_count": 54,
   "metadata": {},
   "outputs": [
    {
     "name": "stderr",
     "output_type": "stream",
     "text": [
      "C:\\Users\\kumak\\anaconda3\\lib\\site-packages\\ipykernel_launcher.py:2: DeprecationWarning: Call to deprecated function get_sheet_by_name (Use wb[sheetname]).\n",
      "  \n"
     ]
    }
   ],
   "source": [
    "wb = openpyxl.Workbook()\n",
    "sheet = wb.get_sheet_by_name(\"Sheet\")\n",
    "italic24_font = Font(size=24, italic=True)\n",
    "sheet[\"A1\"].font = italic24_font\n",
    "sheet[\"A1\"] = \"Hello World!\"\n",
    "wb.save(r\".\\pydata\\styled.xlsx\")"
   ]
  },
  {
   "cell_type": "markdown",
   "metadata": {},
   "source": [
    "セルのフォントスタイルを変更するには openpyxl.styles モジュールから Font 関数をインポートする必要がある\n",
    "\n",
    "まず Font 関数を使ってFontオブジェクトを作成する必要がある(上では、sizeを24でitalicを設定している)\n",
    "\n",
    "次にCellオブジェクトのfontアトリビュートに生成したFontオブジェクトを代入することで設定できる"
   ]
  },
  {
   "cell_type": "code",
   "execution_count": 55,
   "metadata": {},
   "outputs": [
    {
     "name": "stderr",
     "output_type": "stream",
     "text": [
      "C:\\Users\\kumak\\anaconda3\\lib\\site-packages\\ipykernel_launcher.py:2: DeprecationWarning: Call to deprecated function get_sheet_by_name (Use wb[sheetname]).\n",
      "  \n"
     ]
    }
   ],
   "source": [
    "wb = openpyxl.Workbook()\n",
    "sheet = wb.get_sheet_by_name(\"Sheet\")\n",
    "font_obj1 = Font(name=\"Times New Roman\", bold=True)\n",
    "sheet[\"A1\"].font = font_obj1\n",
    "sheet[\"A1\"] = \"Bold Times New Roman\"\n",
    "font_obj2 = Font(size=24, italic=True)\n",
    "sheet[\"B3\"].font = font_obj2\n",
    "sheet[\"B3\"] = \"24 pt Italic\"\n",
    "wb.save(r\".\\pydata\\styles.xlsx\")"
   ]
  },
  {
   "cell_type": "markdown",
   "metadata": {},
   "source": [
    "font関数に渡せるキーワード引数と説明\n",
    "\n",
    "|キーワード引数|渡すデータ型|説明|\n",
    "|:-|:-|:-|\n",
    "|name|文字列型|\"Calibri\"や\"Times New Roma\"などのフォント名(デフォルトはClibri)|\n",
    "|suze|整数型|ポイント数(デフォルトは11)|\n",
    "|bold|ブール型|太字ならTrue|\n",
    "|italic|ブール型|イタリックならTrue|"
   ]
  },
  {
   "cell_type": "markdown",
   "metadata": {},
   "source": [
    "# 計算"
   ]
  },
  {
   "cell_type": "code",
   "execution_count": 56,
   "metadata": {},
   "outputs": [],
   "source": [
    "import openpyxl\n",
    "wb = openpyxl.Workbook()\n",
    "sheet = wb.active\n",
    "sheet[\"A2\"] = 200\n",
    "sheet[\"B2\"] = 300\n",
    "sheet[\"C2\"] = 400\n",
    "sheet[\"D2\"] = \"=SUM(A2:C2)\"\n",
    "wb.save(r\".\\pydata\\writeFormula.xlsx\")"
   ]
  },
  {
   "cell_type": "markdown",
   "metadata": {},
   "source": [
    "Excel内の書式を使って計算するには、その書式を文字列としてセルに直接入力することでできる\n",
    "\n",
    "上ではD2には900の数字が表示されることになる"
   ]
  },
  {
   "cell_type": "code",
   "execution_count": 57,
   "metadata": {},
   "outputs": [
    {
     "data": {
      "text/plain": [
       "'=SUM(A2:C2)'"
      ]
     },
     "execution_count": 57,
     "metadata": {},
     "output_type": "execute_result"
    }
   ],
   "source": [
    "wb_formulas = openpyxl.load_workbook(r\".\\pydata\\writeFormula.xlsx\")\n",
    "sheet = wb_formulas.active\n",
    "sheet[\"D2\"].value"
   ]
  },
  {
   "cell_type": "code",
   "execution_count": 58,
   "metadata": {},
   "outputs": [],
   "source": [
    "wb_data_only = openpyxl.load_workbook(r\".\\pydata\\writeFormula.xlsx\", data_only=True)\n",
    "sheet = wb_data_only.active\n",
    "sheet[\"D2\"].value"
   ]
  },
  {
   "cell_type": "markdown",
   "metadata": {},
   "source": [
    "計算の書式ではなく計算結果を返したい場合は、Workbookオブジェクトを生成するときにキーワード引数の data_only をTrueにすることで計算結果を表示することができるようになる\n",
    "\n",
    "※いったんExcelを開いて上書き保存をしてからでないと表示できない"
   ]
  },
  {
   "cell_type": "markdown",
   "metadata": {},
   "source": [
    "# 行と列を調整する"
   ]
  },
  {
   "cell_type": "code",
   "execution_count": 59,
   "metadata": {},
   "outputs": [],
   "source": [
    "import openpyxl\n",
    "wb = openpyxl.Workbook()\n",
    "sheet = wb.active\n",
    "sheet[\"A1\"] = \"Tall row\"\n",
    "sheet[\"B2\"] = \"Wide column\"\n",
    "sheet.row_dimensions[1].height = 70\n",
    "sheet.column_dimensions[\"B\"].width = 20\n",
    "wb.save(r\".\\pydata\\dimension.xlsx\")"
   ]
  },
  {
   "cell_type": "markdown",
   "metadata": {},
   "source": [
    "Worksheetオブジェクトの row_dimensions と column_dimensions はそれぞれ RowDimension と ColumnDimension オブジェクトが辞書のように複数格納されている\n",
    "\n",
    "上ではrow_dimensionsの中から1を指定してRowDimensionオブジェクトを取り出し、heightアトリビュートを変更することで行の高さを変更できる\n",
    "デフォルトの高さは12.75ポイント(1ポイント=1/72インチ)で0～409まで指定できる\n",
    "\n",
    "column_dimensionsの中からBを指定してColumnDimensionオブジェクトを取り出し、widthアトリビュートを変更することで列の幅を変更できる\n",
    "デフォルトは8.43文字(1文字=11ポイント)で0～255まで指定できる\n",
    "\n",
    "高さか幅を0にすることで、その行か列を非表示にできる"
   ]
  },
  {
   "cell_type": "code",
   "execution_count": 60,
   "metadata": {},
   "outputs": [],
   "source": [
    "wb = openpyxl.Workbook()\n",
    "sheet = wb.active\n",
    "sheet.merge_cells(\"A1:D3\")\n",
    "sheet[\"A1\"] = \"Twelve cells merged together.\"\n",
    "sheet.merge_cells(\"C5:D5\")\n",
    "sheet[\"C5\"] = \"Two merged cells.\"\n",
    "wb.save(r\".\\pydata\\merged.xlsx\")"
   ]
  },
  {
   "cell_type": "markdown",
   "metadata": {},
   "source": [
    "Worksheetオブジェクトに merged_cell メソッドを使うことで矩形領域のセルを結合することができる\n",
    "\n",
    "渡す引数は結合したい範囲の左上のセル名と右下のセル名をコロンでつないだ一つの文字列として渡すことでできる\n",
    "\n",
    "文字を入力するときは左上のセル名に入れることで入力できる"
   ]
  },
  {
   "cell_type": "code",
   "execution_count": 61,
   "metadata": {},
   "outputs": [],
   "source": [
    "wb = openpyxl.load_workbook(r\".\\pydata\\merged.xlsx\")\n",
    "sheet = wb.active\n",
    "sheet.unmerge_cells(\"A1:D3\")\n",
    "sheet.unmerge_cells(\"C5:D5\")\n",
    "wb.save(r\".\\pydata\\unmerged.xlsx\")"
   ]
  },
  {
   "cell_type": "markdown",
   "metadata": {},
   "source": [
    "セルの結合を解除するには、Worksheetオブジェクトの unmerge_cells メソッドを使うことで解除できる\n",
    "\n",
    "渡す引数は結合するときと同じ"
   ]
  },
  {
   "cell_type": "code",
   "execution_count": 62,
   "metadata": {},
   "outputs": [],
   "source": [
    "wb = openpyxl.load_workbook(r\".\\pydata\\produceSales.xlsx\")\n",
    "sheet = wb.active\n",
    "sheet.freeze_panes = \"A2\"\n",
    "wb.save(r\".\\pydata\\freezeExample.xlsx\")"
   ]
  },
  {
   "cell_type": "markdown",
   "metadata": {},
   "source": [
    "ウィンドウ枠の固定をすることで画面をスクロールしても常に行や列の見出しを画面に表示し見やすくすることができる\n",
    "\n",
    "固定するはWorksheetオブジェクトの freeze_panes アトリビュートにセルの座標を指定することができる\n",
    "\n",
    "ただし指定したセルが固定されるわけではなく、指定したセル以前のセルがすべて固定される\n",
    "\n",
    "ウィンドウ枠の固定の例\n",
    "\n",
    "|freeze_panesの設定|固定される行と列|\n",
    "|:-|:-|\n",
    "|sheet.freeze_panes = \"A2\"|行1|\n",
    "|sheet.freeze_panes = \"B1\"|列A|\n",
    "|sheet.freeze_panes = \"C1\"|列A～列B|\n",
    "|sheet.freeze_panes = \"C2\"|行1と列A～列B|\n",
    "|sheet.freeze_panes = \"A1\"|固定解除|\n",
    "|sheet.freeze_panes = None|固定解除|"
   ]
  },
  {
   "cell_type": "markdown",
   "metadata": {},
   "source": [
    "# グラフ"
   ]
  },
  {
   "cell_type": "code",
   "execution_count": 63,
   "metadata": {},
   "outputs": [],
   "source": [
    "import openpyxl\n",
    "wb = openpyxl.Workbook()\n",
    "sheet = wb.active\n",
    "for i in range(1,11): # 適当な数字を入力\n",
    "    sheet[\"A\"+str(i+1)] = i"
   ]
  },
  {
   "cell_type": "code",
   "execution_count": 64,
   "metadata": {},
   "outputs": [],
   "source": [
    "ref_obj = openpyxl.chart.Reference(sheet,min_col=1, min_row=2,max_col=1, max_row=11)\n",
    "series_obj = openpyxl.chart.Series(ref_obj, title=\"First series\")\n",
    "chart_obj = openpyxl.chart.BarChart()\n",
    "chart_obj.append(series_obj)\n",
    "chart_obj.x = 100\n",
    "chart_obj.y = 50\n",
    "chart_obj.w = 300\n",
    "chart_obj.h = 200\n",
    "sheet.add_chart(chart_obj)\n",
    "wb.save(r\".\\pydata\\sampleChart.xlsx\")"
   ]
  },
  {
   "cell_type": "markdown",
   "metadata": {},
   "source": [
    "グラフを描くにはReferenceオブジェクト(領域)とSeriesオブジェクト(図の内部詳細)とChartオブジェクト(図の形と大きさ・サイズ)を生成する必要がある\n",
    "\n",
    "Referenceオブジェクトは openpyxl.chart の Reference メソッドに、格納しているデータのあるWorksheetオブジェクトと矩形領域の示すための min_col(一番左の列),min_row(一番上の行),max_col(一番右の列),max_row(一番下の行) に整数を渡すことでできる(列はアルファベットではなく整数でAが1)\n",
    "\n",
    "Seriesオブジェクトは open.chart の Series メソッドに、生成したReferenceオブジェクトを渡すことでできる。キーワード引数の title に文字列を渡すことでタイトルをつけることもできる\n",
    "\n",
    "Chartオブジェクトは openpyxl.chart に作りたいグラフのメソッドを渡すことでできる(上ではBarChart 棒グラフを渡している)\n",
    "\n",
    "そしてChartオブジェクトに append メソッドを使って Series オブジェクトを追加\n",
    "\n",
    "Chartオブジェクトの x と y アトリビュートを変更してグラフを乗せる座標(単位はピクセル)を決めて\n",
    "\n",
    "Chartオブジェクトの w と h アトリビュートを変更してグラフのサイズ(単位はピクセル)を決める\n",
    "\n",
    "最後にWorksheetオブジェクトの add_chart メソッドに生成したChartオブジェクトを渡すことでグラフを乗せることができる\n",
    "\n",
    "グラフの種類と呼ぶメソッド\n",
    "\n",
    "|グラフの種類|呼ぶメソッド名|\n",
    "|:-|:-|\n",
    "|棒グラフ|openpyxl.chart.BarChart()|\n",
    "|折れ線グラフ|openpyxl.chart.LineChart()|\n",
    "|散布図|openpyxl.chart.ScattetChart()|\n",
    "|円グラフ|openpyxl.chart.PieChart()|"
   ]
  },
  {
   "cell_type": "code",
   "execution_count": null,
   "metadata": {},
   "outputs": [],
   "source": []
  }
 ],
 "metadata": {
  "kernelspec": {
   "display_name": "Python 3",
   "language": "python",
   "name": "python3"
  },
  "language_info": {
   "codemirror_mode": {
    "name": "ipython",
    "version": 3
   },
   "file_extension": ".py",
   "mimetype": "text/x-python",
   "name": "python",
   "nbconvert_exporter": "python",
   "pygments_lexer": "ipython3",
   "version": "3.7.6"
  }
 },
 "nbformat": 4,
 "nbformat_minor": 4
}
