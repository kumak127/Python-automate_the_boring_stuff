{
 "cells": [
  {
   "cell_type": "markdown",
   "metadata": {},
   "source": [
    "# csvモジュール"
   ]
  },
  {
   "cell_type": "markdown",
   "metadata": {},
   "source": [
    "# Readerオブジェクト"
   ]
  },
  {
   "cell_type": "code",
   "execution_count": 1,
   "metadata": {},
   "outputs": [
    {
     "data": {
      "text/plain": [
       "[['4/5/2015 13:34', 'Apples', '73'],\n",
       " ['4/5/2015 3:41', 'Cherries', '85'],\n",
       " ['4/6/2015 12:46', 'Pears', '14'],\n",
       " ['4/8/2015 8:59', 'Oranges', '52'],\n",
       " ['4/10/2015 2:07', 'Apples', '152'],\n",
       " ['4/10/2015 18:10', 'Bananas', '23'],\n",
       " ['4/10/2015 2:40', 'Strawberries', '98']]"
      ]
     },
     "execution_count": 1,
     "metadata": {},
     "output_type": "execute_result"
    }
   ],
   "source": [
    "import csv\n",
    "example_file = open(r\".\\pydata\\example.csv\")\n",
    "example_reader = csv.reader(example_file)\n",
    "example_data = list(example_reader)\n",
    "example_data"
   ]
  },
  {
   "cell_type": "markdown",
   "metadata": {},
   "source": [
    "csvファイルからデータを読み込むには csv モジュールの reader 関数に読み込み専用のFileオブジェクトを渡して Readerオブジェクトを生成する必要がある\n",
    "\n",
    "簡単にReaderオブジェクトの中身を取り出すには、list関数に渡してリストにすると簡単で、呼び出すとリストのリストにして返してくれる"
   ]
  },
  {
   "cell_type": "code",
   "execution_count": 2,
   "metadata": {},
   "outputs": [
    {
     "data": {
      "text/plain": [
       "'4/5/2015 13:34'"
      ]
     },
     "execution_count": 2,
     "metadata": {},
     "output_type": "execute_result"
    }
   ],
   "source": [
    "example_data[0][0]"
   ]
  },
  {
   "cell_type": "code",
   "execution_count": 3,
   "metadata": {},
   "outputs": [
    {
     "data": {
      "text/plain": [
       "'Apples'"
      ]
     },
     "execution_count": 3,
     "metadata": {},
     "output_type": "execute_result"
    }
   ],
   "source": [
    "example_data[0][1]"
   ]
  },
  {
   "cell_type": "code",
   "execution_count": 4,
   "metadata": {},
   "outputs": [
    {
     "data": {
      "text/plain": [
       "'73'"
      ]
     },
     "execution_count": 4,
     "metadata": {},
     "output_type": "execute_result"
    }
   ],
   "source": [
    "example_data[0][2]"
   ]
  },
  {
   "cell_type": "code",
   "execution_count": 5,
   "metadata": {},
   "outputs": [
    {
     "data": {
      "text/plain": [
       "'Cherries'"
      ]
     },
     "execution_count": 5,
     "metadata": {},
     "output_type": "execute_result"
    }
   ],
   "source": [
    "example_data[1][1]"
   ]
  },
  {
   "cell_type": "code",
   "execution_count": 6,
   "metadata": {},
   "outputs": [
    {
     "data": {
      "text/plain": [
       "'Strawberries'"
      ]
     },
     "execution_count": 6,
     "metadata": {},
     "output_type": "execute_result"
    }
   ],
   "source": [
    "example_data[6][1]"
   ]
  },
  {
   "cell_type": "markdown",
   "metadata": {},
   "source": [
    "リストなので上のように指定することで取り出すことができる\n",
    "\n",
    "一つ目のインデックスが行(row)を表し、二つ目のインデックスが列(column)を表している"
   ]
  },
  {
   "cell_type": "markdown",
   "metadata": {},
   "source": [
    "# forループでReaderオブジェクトからデータを読み出す"
   ]
  },
  {
   "cell_type": "code",
   "execution_count": 7,
   "metadata": {},
   "outputs": [
    {
     "name": "stdout",
     "output_type": "stream",
     "text": [
      "Row #1 ['4/5/2015 13:34', 'Apples', '73']\n",
      "Row #2 ['4/5/2015 3:41', 'Cherries', '85']\n",
      "Row #3 ['4/6/2015 12:46', 'Pears', '14']\n",
      "Row #4 ['4/8/2015 8:59', 'Oranges', '52']\n",
      "Row #5 ['4/10/2015 2:07', 'Apples', '152']\n",
      "Row #6 ['4/10/2015 18:10', 'Bananas', '23']\n",
      "Row #7 ['4/10/2015 2:40', 'Strawberries', '98']\n"
     ]
    }
   ],
   "source": [
    "import csv\n",
    "example_file = open(r\".\\pydata\\example.csv\")\n",
    "example_reader = csv.reader(example_file)\n",
    "for row in example_reader:\n",
    "    print(\"Row #\" + str(example_reader.line_num) + \" \" + str(row))"
   ]
  },
  {
   "cell_type": "markdown",
   "metadata": {},
   "source": [
    "上ではforループを使って行番号と内容を読み込んでループして表示している\n",
    "\n",
    "行番号を取得するには、Readerオブジェクトの line_num 変数を使うことでできる(ファイルを開くと1回しか使えないので開きなおすか、seekを使う)"
   ]
  },
  {
   "cell_type": "markdown",
   "metadata": {},
   "source": [
    "# Writerオブジェクト"
   ]
  },
  {
   "cell_type": "code",
   "execution_count": 8,
   "metadata": {},
   "outputs": [],
   "source": [
    "import csv\n",
    "output_file = open(r\".\\pydata\\output.csv\", \"w\", newline=\"\")\n",
    "output_writer = csv.writer(output_file)\n",
    "output_writer.writerow([\"spam\", \"eggs\", \"bacon\", \"ham\"])\n",
    "output_writer.writerow([\"Hello, World!\", \"eggs\", \"bacon\", \"ham\"])\n",
    "output_writer.writerow([1, 2, 3.141592, 4])\n",
    "output_file.close()"
   ]
  },
  {
   "cell_type": "markdown",
   "metadata": {},
   "source": [
    "データをcsvファイルに書き込むには csvモジュール の writer 関数に書き込み専用でnewlineを改行なしに設定したFileオブジェクトを渡してWriterオブジェクトを生成する必要がある\n",
    "\n",
    "Writerオブジェクトの writerow メソッドにリスト渡すことで1行ずつカンマでセルを区切りながら書き出すことができる\n",
    "\n",
    "呼び出すたびに改行され次の行に入れることができる(newlineを改行なしにするのはこのためで、2重に改行されないようにするため)"
   ]
  },
  {
   "cell_type": "markdown",
   "metadata": {},
   "source": [
    "# キーワード引数のdelimiterとlineterminator"
   ]
  },
  {
   "cell_type": "code",
   "execution_count": 9,
   "metadata": {},
   "outputs": [],
   "source": [
    "import csv\n",
    "csv_file = open(r\".\\pydata\\example.tsv\", \"w\", newline=\"\")\n",
    "csv_writer = csv.writer(csv_file,delimiter=\"\\t\", lineterminator=\"\\n\\n\")\n",
    "csv_writer.writerow([\"apples\", \"oranges\", \"grapes\"])\n",
    "csv_writer.writerow([\"eggs\", \"bacon\", \"ham\"])\n",
    "csv_writer.writerow([\"spam\", \"spam\", \"spam\", \"spam\", \"spam\", \"spam\"])\n",
    "csv_file.close()"
   ]
  },
  {
   "cell_type": "markdown",
   "metadata": {},
   "source": [
    "キーワードの delimiter は区切り文字のことで、デフォルトはカンマですが、上ではタブ文字に変更\n",
    "\n",
    "キーワードの lineterminator は行終端文字のことで、デフォルトは改行ですが、上では2つの改行文字に変更\n",
    "\n",
    "セルがタブで区切られているので、拡張子を.tsv(タブ区切りの値)にしている"
   ]
  },
  {
   "cell_type": "markdown",
   "metadata": {},
   "source": [
    "# jsonモジュール"
   ]
  },
  {
   "cell_type": "markdown",
   "metadata": {},
   "source": [
    "# loads関数を用いてJSONを読み込む"
   ]
  },
  {
   "cell_type": "code",
   "execution_count": 10,
   "metadata": {},
   "outputs": [],
   "source": [
    "string_of_json_data = '{\"name\": \"Zophie\", \"isCat\": true, \"mineCaught\": 0, \"felineIQ\": null}'"
   ]
  },
  {
   "cell_type": "code",
   "execution_count": 11,
   "metadata": {},
   "outputs": [
    {
     "data": {
      "text/plain": [
       "{'name': 'Zophie', 'isCat': True, 'mineCaught': 0, 'felineIQ': None}"
      ]
     },
     "execution_count": 11,
     "metadata": {},
     "output_type": "execute_result"
    }
   ],
   "source": [
    "import json\n",
    "json_data_as_python_value = json.loads(string_of_json_data)\n",
    "json_data_as_python_value"
   ]
  },
  {
   "cell_type": "markdown",
   "metadata": {},
   "source": [
    "JSONデータを格納した文字列をPythonの値に変更するには json モジュールの loads 関数に変換したい値を入れることでできる\n",
    "\n",
    "loadsは load string の略"
   ]
  },
  {
   "cell_type": "markdown",
   "metadata": {},
   "source": [
    "# dumps関数を用いてJSONを書き出す"
   ]
  },
  {
   "cell_type": "code",
   "execution_count": 12,
   "metadata": {},
   "outputs": [],
   "source": [
    "python_value = {'name': 'Zophie', 'isCat': True, 'mineCaught': 0, 'felineIQ': None}"
   ]
  },
  {
   "cell_type": "code",
   "execution_count": 13,
   "metadata": {},
   "outputs": [
    {
     "data": {
      "text/plain": [
       "'{\"name\": \"Zophie\", \"isCat\": true, \"mineCaught\": 0, \"felineIQ\": null}'"
      ]
     },
     "execution_count": 13,
     "metadata": {},
     "output_type": "execute_result"
    }
   ],
   "source": [
    "import json\n",
    "string_of_json_data = json.dumps(python_value)\n",
    "string_of_json_data"
   ]
  },
  {
   "cell_type": "markdown",
   "metadata": {},
   "source": [
    "pythonの値をJSON形式のデータにするには jsonモジュールの dumps 関数に変換したい値を入れることでできる\n",
    "\n",
    "dumpsは dump string の略"
   ]
  },
  {
   "cell_type": "code",
   "execution_count": null,
   "metadata": {},
   "outputs": [],
   "source": []
  }
 ],
 "metadata": {
  "kernelspec": {
   "display_name": "Python 3",
   "language": "python",
   "name": "python3"
  },
  "language_info": {
   "codemirror_mode": {
    "name": "ipython",
    "version": 3
   },
   "file_extension": ".py",
   "mimetype": "text/x-python",
   "name": "python",
   "nbconvert_exporter": "python",
   "pygments_lexer": "ipython3",
   "version": "3.7.6"
  }
 },
 "nbformat": 4,
 "nbformat_minor": 4
}
