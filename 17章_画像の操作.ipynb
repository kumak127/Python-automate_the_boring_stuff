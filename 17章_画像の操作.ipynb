{
 "cells": [
  {
   "cell_type": "markdown",
   "metadata": {},
   "source": [
    "# コンピュータ画像の基礎"
   ]
  },
  {
   "cell_type": "markdown",
   "metadata": {},
   "source": [
    "## 色とRGBA値 "
   ]
  },
  {
   "cell_type": "markdown",
   "metadata": {},
   "source": [
    "コンピュータは色をRGBA値で表現する  \n",
    "RGBAは、R(赤)G(緑)B(青)A(不透明度)を表し、0から255までの値を取る  \n",
    "RGBA値はピクセル(画素)の一つずつに割り当てられている  \n",
    "RGBは数字が大きいほどその色が強く、Aは数が多いほど不透明で255だと背景が透き通らなくなり0だと不可視(透明)になる\n",
    "\n",
    "標準色名とRGBA値  \n",
    "\n",
    "|色名|RGBA値|色名|RGBA値|\n",
    "|:-|:-|:-|:-|\n",
    "|White|(255,255,255,255)|Red|(255,0,0,255)|\n",
    "|Green|(0,128,0,255)|Blue|(0,0,255,255)|\n",
    "|Gray|(128,128,128,255)|Yellow|(255,255,0,255)|\n",
    "|Black|(0,0,0,255)|Purple|(128,0,128,255)|"
   ]
  },
  {
   "cell_type": "code",
   "execution_count": 1,
   "metadata": {},
   "outputs": [],
   "source": [
    "from PIL import ImageColor"
   ]
  },
  {
   "cell_type": "code",
   "execution_count": 2,
   "metadata": {},
   "outputs": [
    {
     "data": {
      "text/plain": [
       "(255, 0, 0, 255)"
      ]
     },
     "execution_count": 2,
     "metadata": {},
     "output_type": "execute_result"
    }
   ],
   "source": [
    "ImageColor.getcolor(\"red\", \"RGBA\")"
   ]
  },
  {
   "cell_type": "code",
   "execution_count": 3,
   "metadata": {},
   "outputs": [
    {
     "data": {
      "text/plain": [
       "(255, 0, 0, 255)"
      ]
     },
     "execution_count": 3,
     "metadata": {},
     "output_type": "execute_result"
    }
   ],
   "source": [
    "ImageColor.getcolor(\"RED\", \"RGBA\")"
   ]
  },
  {
   "cell_type": "code",
   "execution_count": 4,
   "metadata": {},
   "outputs": [
    {
     "data": {
      "text/plain": [
       "(0, 0, 0, 255)"
      ]
     },
     "execution_count": 4,
     "metadata": {},
     "output_type": "execute_result"
    }
   ],
   "source": [
    "ImageColor.getcolor(\"black\", \"RGBA\")"
   ]
  },
  {
   "cell_type": "code",
   "execution_count": 5,
   "metadata": {},
   "outputs": [
    {
     "data": {
      "text/plain": [
       "(210, 105, 30, 255)"
      ]
     },
     "execution_count": 5,
     "metadata": {},
     "output_type": "execute_result"
    }
   ],
   "source": [
    "ImageColor.getcolor(\"chocolate\", \"RGBA\")"
   ]
  },
  {
   "cell_type": "code",
   "execution_count": 6,
   "metadata": {},
   "outputs": [
    {
     "data": {
      "text/plain": [
       "(100, 149, 237, 255)"
      ]
     },
     "execution_count": 6,
     "metadata": {},
     "output_type": "execute_result"
    }
   ],
   "source": [
    "ImageColor.getcolor(\"CornflowerBlue\", \"RGBA\")"
   ]
  },
  {
   "cell_type": "markdown",
   "metadata": {},
   "source": [
    "PIL から ImageColor モジュールをインポートして、ImageColorの getcolor 関数を使うことで色のRGBA値をタプルで返してくれる\n",
    "\n",
    "getcolorに渡す引数は、大文字と小文字を区別しない標準色名と文字列のRGBAを渡すことで返してくれる\n",
    "\n",
    "100個以上の標準色名に対応している"
   ]
  },
  {
   "cell_type": "markdown",
   "metadata": {},
   "source": [
    "## 座標と矩形タプル"
   ]
  },
  {
   "cell_type": "markdown",
   "metadata": {},
   "source": [
    "画像のピクセルはx,y座標であらわせる  \n",
    "ピクセルの原点(origin)は画像の一番左上の画像で、(0,0)と表すことができる  \n",
    "左の数字がx座標を表し、右に行くほど大きくなる  \n",
    "右の座標がy座標を表し、下に行くほど大きくなる\n",
    "\n",
    "多くのPillowの関数やメソッドは矩形タプルの引数をとり、(左,上,右,下)に4つの整数値を渡すことになる  \n",
    "例えば、(3,1,9,6)なら、左上のx座標が3でy座標が1のピクセルから、右下のx座標が8でy座標が5のピクセルまでのピクセルの矩形領域を指す  \n",
    "右下の座標は指定された数字は含まれず、1つ小さい数字までが含まれることに注意"
   ]
  },
  {
   "cell_type": "markdown",
   "metadata": {},
   "source": [
    "# Pillowで画像を操作する"
   ]
  },
  {
   "cell_type": "code",
   "execution_count": 7,
   "metadata": {},
   "outputs": [],
   "source": [
    "from PIL import Image"
   ]
  },
  {
   "cell_type": "code",
   "execution_count": 8,
   "metadata": {},
   "outputs": [],
   "source": [
    "cat_im = Image.open(r\"C:\\Users\\kumak\\pydata\\zophie.png\")"
   ]
  },
  {
   "cell_type": "markdown",
   "metadata": {},
   "source": [
    "画像を読み込むにはPillow(PIL)から Image モジュールをインポートして、  \n",
    "Imageの open 関数にファイル名を入れることで Imageオブジェクトを取得できる"
   ]
  },
  {
   "cell_type": "markdown",
   "metadata": {},
   "source": [
    "## Imageオブジェクトを操作する"
   ]
  },
  {
   "cell_type": "code",
   "execution_count": 9,
   "metadata": {},
   "outputs": [],
   "source": [
    "cat_im = Image.open(r\".\\pydata\\zophie.png\")"
   ]
  },
  {
   "cell_type": "code",
   "execution_count": 10,
   "metadata": {},
   "outputs": [
    {
     "data": {
      "text/plain": [
       "(816, 1088)"
      ]
     },
     "execution_count": 10,
     "metadata": {},
     "output_type": "execute_result"
    }
   ],
   "source": [
    "cat_im.size"
   ]
  },
  {
   "cell_type": "code",
   "execution_count": 11,
   "metadata": {},
   "outputs": [],
   "source": [
    "width, height = cat_im.size"
   ]
  },
  {
   "cell_type": "code",
   "execution_count": 12,
   "metadata": {},
   "outputs": [
    {
     "data": {
      "text/plain": [
       "816"
      ]
     },
     "execution_count": 12,
     "metadata": {},
     "output_type": "execute_result"
    }
   ],
   "source": [
    "width"
   ]
  },
  {
   "cell_type": "code",
   "execution_count": 13,
   "metadata": {},
   "outputs": [
    {
     "data": {
      "text/plain": [
       "1088"
      ]
     },
     "execution_count": 13,
     "metadata": {},
     "output_type": "execute_result"
    }
   ],
   "source": [
    "height"
   ]
  },
  {
   "cell_type": "code",
   "execution_count": 14,
   "metadata": {},
   "outputs": [
    {
     "data": {
      "text/plain": [
       "'.\\\\pydata\\\\zophie.png'"
      ]
     },
     "execution_count": 14,
     "metadata": {},
     "output_type": "execute_result"
    }
   ],
   "source": [
    "cat_im.filename"
   ]
  },
  {
   "cell_type": "code",
   "execution_count": 15,
   "metadata": {},
   "outputs": [
    {
     "data": {
      "text/plain": [
       "'PNG'"
      ]
     },
     "execution_count": 15,
     "metadata": {},
     "output_type": "execute_result"
    }
   ],
   "source": [
    "cat_im.format"
   ]
  },
  {
   "cell_type": "code",
   "execution_count": 16,
   "metadata": {},
   "outputs": [
    {
     "data": {
      "text/plain": [
       "'Portable network graphics'"
      ]
     },
     "execution_count": 16,
     "metadata": {},
     "output_type": "execute_result"
    }
   ],
   "source": [
    "cat_im.format_description"
   ]
  },
  {
   "cell_type": "code",
   "execution_count": 17,
   "metadata": {},
   "outputs": [],
   "source": [
    "cat_im.save(r\".\\pydata\\zophie.jpg\")"
   ]
  },
  {
   "cell_type": "markdown",
   "metadata": {},
   "source": [
    "Imageオブジェクトの size アトリビュートは、画像の幅と高さをピクセル単位で返し、それぞれ代入することで変数を使ってアクセスすることもできる\n",
    "\n",
    "Imageオブジェクトの format と format_description アトリビュートは、画像のフォーマットを文字列で返してくれる\n",
    "\n",
    "Imageオブジェクトの save メソッドを使ってファイルを保存できる(上ではPNGからJPEGに形式を変更して保存している)"
   ]
  },
  {
   "cell_type": "code",
   "execution_count": 18,
   "metadata": {},
   "outputs": [],
   "source": [
    "im = Image.new(\"RGBA\", (100,200), \"purple\")\n",
    "im.save(r\".\\pydata\\purpleImage.png\")"
   ]
  },
  {
   "cell_type": "code",
   "execution_count": 19,
   "metadata": {},
   "outputs": [],
   "source": [
    "im2 = Image.new(\"RGBA\", (20,20))\n",
    "im2.save(r\".\\pydata\\transparentImage.png\")"
   ]
  },
  {
   "cell_type": "markdown",
   "metadata": {},
   "source": [
    "Imageモジュールには new 関数という新しくImageオブジェクトを作る関数がある  \n",
    "引数には、カラーモードである\"RGBA\"の文字列、画像の幅と高さを表す2つの整数のタプル、初期値として画像を塗りつぶす背景色の文字列もしくはRGBA値を表す4つの整数のタプルを渡すことができる\n",
    "\n",
    "なお、背景色を省略すると(0,0,0,0)がよばれ、不可視の黒になる"
   ]
  },
  {
   "cell_type": "markdown",
   "metadata": {},
   "source": [
    "## 画像を切り抜く"
   ]
  },
  {
   "cell_type": "code",
   "execution_count": 20,
   "metadata": {},
   "outputs": [],
   "source": [
    "from PIL import Image\n",
    "cat_im = Image.open(r\".\\pydata\\zophie.png\")"
   ]
  },
  {
   "cell_type": "code",
   "execution_count": 21,
   "metadata": {},
   "outputs": [],
   "source": [
    "cropped_im = cat_im.crop((335, 345, 565, 560))"
   ]
  },
  {
   "cell_type": "code",
   "execution_count": 22,
   "metadata": {},
   "outputs": [],
   "source": [
    "cropped_im.save(r\".\\pydata\\cropped.png\")"
   ]
  },
  {
   "cell_type": "markdown",
   "metadata": {},
   "source": [
    "Imageオブジェクトの crop メソッドに矩形タプルを渡すことで切り抜いた画像のImageオブジェクトを返す(上では(335,345)から(565,560)までを切り抜いている)"
   ]
  },
  {
   "cell_type": "markdown",
   "metadata": {},
   "source": [
    "## 画像のコピー＆ペースト"
   ]
  },
  {
   "cell_type": "code",
   "execution_count": 23,
   "metadata": {},
   "outputs": [],
   "source": [
    "from PIL import Image\n",
    "cat_im = Image.open(r\".\\pydata\\zophie.png\")"
   ]
  },
  {
   "cell_type": "code",
   "execution_count": 24,
   "metadata": {},
   "outputs": [],
   "source": [
    "cat_copy_im = cat_im.copy()"
   ]
  },
  {
   "cell_type": "markdown",
   "metadata": {},
   "source": [
    "Imageオブジェクトの copy メソッドを使うと、元の画像データを複製した別のImageオブジェクトを生成することができる  \n",
    "元の画像データを維持したまま変更した画像を作るときに便利"
   ]
  },
  {
   "cell_type": "code",
   "execution_count": 25,
   "metadata": {},
   "outputs": [
    {
     "data": {
      "text/plain": [
       "(230, 215)"
      ]
     },
     "execution_count": 25,
     "metadata": {},
     "output_type": "execute_result"
    }
   ],
   "source": [
    "face_im = cat_im.crop((335, 345, 565, 560))\n",
    "face_im.size"
   ]
  },
  {
   "cell_type": "code",
   "execution_count": 26,
   "metadata": {},
   "outputs": [],
   "source": [
    "cat_copy_im.paste(face_im, (0, 0))\n",
    "cat_copy_im.paste(face_im, (400, 500))\n",
    "cat_copy_im.save(r\".\\pydata\\paste.png\")"
   ]
  },
  {
   "cell_type": "markdown",
   "metadata": {},
   "source": [
    "Imageオブジェクトの paste メソッドに貼り付けたいImageオブジェクトと、画像を貼り付ける左上のxy座標を表すタプルを渡すことでペーストできる\n",
    "\n",
    "pasteメソッドはインプレースなメソッドで、Imageオブジェクトを返さず、使ったオブジェクトを直接変更するのでコピーして使うといい"
   ]
  },
  {
   "cell_type": "code",
   "execution_count": 27,
   "metadata": {},
   "outputs": [
    {
     "name": "stdout",
     "output_type": "stream",
     "text": [
      "0 0\n",
      "0 215\n",
      "0 430\n",
      "0 645\n",
      "0 860\n",
      "0 1075\n",
      "230 0\n",
      "230 215\n",
      "230 430\n",
      "230 645\n",
      "230 860\n",
      "230 1075\n",
      "460 0\n",
      "460 215\n",
      "460 430\n",
      "460 645\n",
      "460 860\n",
      "460 1075\n",
      "690 0\n",
      "690 215\n",
      "690 430\n",
      "690 645\n",
      "690 860\n",
      "690 1075\n"
     ]
    }
   ],
   "source": [
    "cat_im_width, cat_im_height = cat_im.size\n",
    "face_im_width, face_im_height = face_im.size\n",
    "cat_copy_two = cat_im.copy()\n",
    "for left in range(0, cat_im_width, face_im_width):\n",
    "    for top in range(0, cat_im_height, face_im_height):\n",
    "        print(left, top)\n",
    "        cat_copy_two.paste(face_im, (left, top))"
   ]
  },
  {
   "cell_type": "code",
   "execution_count": 28,
   "metadata": {},
   "outputs": [],
   "source": [
    "cat_copy_two.save(r\".\\pydata\\tiled.png\")"
   ]
  },
  {
   "cell_type": "markdown",
   "metadata": {},
   "source": [
    "forループのrange関数に貼り付けたい画像の幅と高さをステップとして渡して敷き詰めたい画像の幅と高さを範囲として渡すことで、画像全体に敷き詰めて画像を貼り付けてくれる"
   ]
  },
  {
   "cell_type": "markdown",
   "metadata": {},
   "source": [
    "## 画像のサイズを変更する"
   ]
  },
  {
   "cell_type": "code",
   "execution_count": 29,
   "metadata": {},
   "outputs": [],
   "source": [
    "from PIL import Image\n",
    "cat_im = Image.open(r\".\\pydata\\zophie.png\")"
   ]
  },
  {
   "cell_type": "code",
   "execution_count": 30,
   "metadata": {},
   "outputs": [],
   "source": [
    "width, height = cat_im.size\n",
    "quartersized_im = cat_im.resize((int(width / 2), int(height / 2)))\n",
    "quartersized_im.save(r\".\\pydata\\quartersized.png\")"
   ]
  },
  {
   "cell_type": "code",
   "execution_count": 31,
   "metadata": {},
   "outputs": [],
   "source": [
    "svelte_im = cat_im.resize((width, height + 300))\n",
    "svelte_im.save(r\".\\pydata\\svelte.png\")"
   ]
  },
  {
   "cell_type": "markdown",
   "metadata": {},
   "source": [
    "Imageオブジェクトの resize メソッドに幅と高さを表す2つの整数をタプルにまとめて渡すことでできる  \n",
    "幅と高さの比率と同じ数字ではなくても大丈夫で、比率が違う場合は引き延ばされたような画像になる"
   ]
  },
  {
   "cell_type": "code",
   "execution_count": 32,
   "metadata": {},
   "outputs": [
    {
     "data": {
      "text/plain": [
       "(816, 1088)"
      ]
     },
     "execution_count": 32,
     "metadata": {},
     "output_type": "execute_result"
    }
   ],
   "source": [
    "thumb_im = cat_im.copy()\n",
    "thumb_im.size"
   ]
  },
  {
   "cell_type": "code",
   "execution_count": 33,
   "metadata": {},
   "outputs": [
    {
     "data": {
      "text/plain": [
       "(75, 100)"
      ]
     },
     "execution_count": 33,
     "metadata": {},
     "output_type": "execute_result"
    }
   ],
   "source": [
    "thumb_im.thumbnail((100, 100))\n",
    "thumb_im.size"
   ]
  },
  {
   "cell_type": "code",
   "execution_count": 34,
   "metadata": {},
   "outputs": [],
   "source": [
    "thumb_im.save(r\".\\pydata\\thumbnail.png\")"
   ]
  },
  {
   "cell_type": "markdown",
   "metadata": {},
   "source": [
    "Imageオブジェクトの thumbnail メソッドに2つの整数のタプルを渡すと、幅と高さの比率を維持したまま指定したサイズに収まるように変更してくれる\n",
    "\n",
    "thumbnailメソッドはインプレースなメソッドで、直接Imageオブジェクトを変更してしまうので上書きしてしまわないように注意"
   ]
  },
  {
   "cell_type": "markdown",
   "metadata": {},
   "source": [
    "## 画像を回転・反転する"
   ]
  },
  {
   "cell_type": "code",
   "execution_count": 35,
   "metadata": {},
   "outputs": [],
   "source": [
    "from PIL import Image\n",
    "cat_im = Image.open(r\".\\pydata\\zophie.png\")"
   ]
  },
  {
   "cell_type": "code",
   "execution_count": 36,
   "metadata": {},
   "outputs": [],
   "source": [
    "cat_im.rotate(90).save(r\".\\pydata\\rotated90.png\")"
   ]
  },
  {
   "cell_type": "code",
   "execution_count": 37,
   "metadata": {},
   "outputs": [],
   "source": [
    "cat_im.rotate(180).save(r\".\\pydata\\rotated180.png\")"
   ]
  },
  {
   "cell_type": "code",
   "execution_count": 38,
   "metadata": {},
   "outputs": [],
   "source": [
    "cat_im.rotate(270).save(r\".\\pydata\\rotated270.png\")"
   ]
  },
  {
   "cell_type": "markdown",
   "metadata": {},
   "source": [
    "Imageオブジェクトの rotate メソッドを使って整数を渡すとその角度分反時計回りに回転した画像のImageオブジェクトを返してくれる\n",
    "\n",
    "幅と高さは元の画像のままで回転し、はみ出た部分はカットされ、余った隙間部分には黒いピクセルで埋められる"
   ]
  },
  {
   "cell_type": "code",
   "execution_count": 39,
   "metadata": {},
   "outputs": [],
   "source": [
    "cat_im.rotate(6).save(r\".\\pydata\\rotated6.png\")"
   ]
  },
  {
   "cell_type": "code",
   "execution_count": 40,
   "metadata": {},
   "outputs": [
    {
     "data": {
      "text/plain": [
       "(816, 1088)"
      ]
     },
     "execution_count": 40,
     "metadata": {},
     "output_type": "execute_result"
    }
   ],
   "source": [
    "cat_im.rotate(6).size"
   ]
  },
  {
   "cell_type": "code",
   "execution_count": 41,
   "metadata": {},
   "outputs": [],
   "source": [
    "cat_im.rotate(6, expand=True).save(r\".\\pydata\\rotated6_expanded.png\")"
   ]
  },
  {
   "cell_type": "code",
   "execution_count": 42,
   "metadata": {},
   "outputs": [
    {
     "data": {
      "text/plain": [
       "(926, 1168)"
      ]
     },
     "execution_count": 42,
     "metadata": {},
     "output_type": "execute_result"
    }
   ],
   "source": [
    "cat_im.rotate(6,expand=True).size"
   ]
  },
  {
   "cell_type": "markdown",
   "metadata": {},
   "source": [
    "rotateメソッドのキーワード引数 expand をTrueにすると、はみ出た部分をカットせずに、はみ出た部分が収まるよう画像サイズを変更したImageオブジェクトを返してくれる"
   ]
  },
  {
   "cell_type": "code",
   "execution_count": 43,
   "metadata": {},
   "outputs": [],
   "source": [
    "cat_im.transpose(Image.FLIP_LEFT_RIGHT).save(r\".\\pydata\\horizontal_flip.png\")"
   ]
  },
  {
   "cell_type": "code",
   "execution_count": 44,
   "metadata": {},
   "outputs": [
    {
     "data": {
      "text/plain": [
       "0"
      ]
     },
     "execution_count": 44,
     "metadata": {},
     "output_type": "execute_result"
    }
   ],
   "source": [
    "Image.FLIP_LEFT_RIGHT"
   ]
  },
  {
   "cell_type": "code",
   "execution_count": 45,
   "metadata": {},
   "outputs": [],
   "source": [
    "cat_im.transpose(Image.FLIP_TOP_BOTTOM).save(r\".\\pydata\\vertical_flip.png\")"
   ]
  },
  {
   "cell_type": "code",
   "execution_count": 46,
   "metadata": {},
   "outputs": [
    {
     "data": {
      "text/plain": [
       "1"
      ]
     },
     "execution_count": 46,
     "metadata": {},
     "output_type": "execute_result"
    }
   ],
   "source": [
    "Image.FLIP_TOP_BOTTOM"
   ]
  },
  {
   "cell_type": "markdown",
   "metadata": {},
   "source": [
    "Imageオブジェクトの transpose メソッドを使うと画像を反転することができる  \n",
    "渡す引数は、Imgageモジュールの FLIP_LEFT_RIGHT か FLIP_TOP_BOTTOM アトリビュートで、  \n",
    "FLIP_LEFT_RIGHTは左右を反転したImageオブジェクトを返し、FLIP_TOP_BOTTOMは上下を反転したImageオブジェクトを返す\n",
    "\n",
    "FLIP_LEFT_RIGHTには0が入っているのでtransposeに0を与えても左右を入れ替え、  \n",
    "FLIP_TOP_BOTTOMには1が入っているのでtransposeに1を与えても上下を入れ替えてくれる"
   ]
  },
  {
   "cell_type": "markdown",
   "metadata": {},
   "source": [
    "## ピクセルを変更する"
   ]
  },
  {
   "cell_type": "code",
   "execution_count": 47,
   "metadata": {},
   "outputs": [],
   "source": [
    "from PIL import Image\n",
    "im = Image.new(\"RGBA\", (100, 100))"
   ]
  },
  {
   "cell_type": "code",
   "execution_count": 48,
   "metadata": {},
   "outputs": [
    {
     "data": {
      "text/plain": [
       "(0, 0, 0, 0)"
      ]
     },
     "execution_count": 48,
     "metadata": {},
     "output_type": "execute_result"
    }
   ],
   "source": [
    "im.getpixel((0, 0))"
   ]
  },
  {
   "cell_type": "code",
   "execution_count": 49,
   "metadata": {},
   "outputs": [],
   "source": [
    "for y in range(50):\n",
    "    for x in range(100):\n",
    "        im.putpixel((x, y), (210, 210, 210))"
   ]
  },
  {
   "cell_type": "code",
   "execution_count": 50,
   "metadata": {},
   "outputs": [],
   "source": [
    "from PIL import ImageColor\n",
    "darkgray = ImageColor.getcolor(\"darkgray\", \"RGBA\")"
   ]
  },
  {
   "cell_type": "code",
   "execution_count": 51,
   "metadata": {},
   "outputs": [],
   "source": [
    "for y in range(50, 100):\n",
    "    for x in range(100):\n",
    "        im.putpixel((x, y), darkgray)"
   ]
  },
  {
   "cell_type": "code",
   "execution_count": 52,
   "metadata": {},
   "outputs": [
    {
     "data": {
      "text/plain": [
       "(210, 210, 210, 255)"
      ]
     },
     "execution_count": 52,
     "metadata": {},
     "output_type": "execute_result"
    }
   ],
   "source": [
    "im.getpixel((0, 0))"
   ]
  },
  {
   "cell_type": "code",
   "execution_count": 53,
   "metadata": {},
   "outputs": [
    {
     "data": {
      "text/plain": [
       "(169, 169, 169, 255)"
      ]
     },
     "execution_count": 53,
     "metadata": {},
     "output_type": "execute_result"
    }
   ],
   "source": [
    "im.getpixel((0, 51))"
   ]
  },
  {
   "cell_type": "code",
   "execution_count": 54,
   "metadata": {},
   "outputs": [],
   "source": [
    "im.save(r\".\\pydata\\putpixel.png\")"
   ]
  },
  {
   "cell_type": "markdown",
   "metadata": {},
   "source": [
    "Imageオブジェクトの getpixel メソッドに一つのピクセルの座標を表すタプルを渡すことで、そのピクセルのRGBA値を返してくれる\n",
    "\n",
    "Imageオブジェクトの putpixel メソッドに一つのピクセルの座標を表すタプルと、色を指定するのRGBA値のタプルを渡すことで、指定したピクセルの色を指定したRGBA値の色に変更することができる(A(アルファ値)を省略して渡した場合は255が入る)"
   ]
  },
  {
   "cell_type": "markdown",
   "metadata": {},
   "source": [
    "# 画像に描画する"
   ]
  },
  {
   "cell_type": "code",
   "execution_count": 55,
   "metadata": {},
   "outputs": [],
   "source": [
    "from PIL import Image, ImageDraw"
   ]
  },
  {
   "cell_type": "code",
   "execution_count": 56,
   "metadata": {},
   "outputs": [],
   "source": [
    "im = Image.new(\"RGBA\", (200, 200), \"white\")"
   ]
  },
  {
   "cell_type": "code",
   "execution_count": 57,
   "metadata": {},
   "outputs": [],
   "source": [
    "draw = ImageDraw.Draw(im)"
   ]
  },
  {
   "cell_type": "markdown",
   "metadata": {},
   "source": [
    "画像に線や矩形や円などの簡単な図形を描きたいときはPillowの ImageDraw モジュールを使う\n",
    "\n",
    "ImageDrawモジュールの Draw 関数に図形を描きたいImageオブジェクトを渡すことで ImageDraw オブジェクトを生成できる\n",
    "\n",
    "上では200x200で背景が白の画像を作成して渡している\n",
    "\n",
    "ImgaeDrawオブジェクトのメソッドを使って図形を描画するときに、キーワード引数の fill(塗りつぶし色) と outline(輪郭色) を指定できるものがあり、色名の文字列かRGBA値のタプルを渡すことで色を指定できる  \n",
    "指定しなければ白が使われる"
   ]
  },
  {
   "cell_type": "markdown",
   "metadata": {},
   "source": [
    "## 点"
   ]
  },
  {
   "cell_type": "code",
   "execution_count": 58,
   "metadata": {},
   "outputs": [],
   "source": [
    "draw.point([(50, 150), (100, 150), (150, 150)], fill=\"purple\")\n",
    "draw.point([50, 175, 100, 175, 150, 175], fill=\"yellow\")"
   ]
  },
  {
   "cell_type": "markdown",
   "metadata": {},
   "source": [
    "ImgaeDrawオブジェクトの point メソッドに座標のタプルをまとめたリストか、x座標と対応するy座標を順番に並べたリストと、  \n",
    "キーワード引数のfillと色名を渡すことで点を描画することができる(1ピクセル)"
   ]
  },
  {
   "cell_type": "markdown",
   "metadata": {},
   "source": [
    "## 線分"
   ]
  },
  {
   "cell_type": "code",
   "execution_count": 59,
   "metadata": {},
   "outputs": [],
   "source": [
    "draw.line([(0, 0), (199, 0), (199, 199), (0, 199), (0, 0)], fill=\"black\")\n",
    "for i in range(100, 200, 10):\n",
    "    draw.line([i, 0, 200, i - 100], fill=\"green\", width=5)"
   ]
  },
  {
   "cell_type": "markdown",
   "metadata": {},
   "source": [
    "ImageDrawオブジェクトの line メソッドに座標のタプルをまとめたリストか、x座標と対応するy座標を順番に並べたリストを渡すことで、  \n",
    "指定した座標から次の座標まで線を引いていくれる  \n",
    "fillで色を指定して、キーワードの引数の width で線の太さを変えることができる"
   ]
  },
  {
   "cell_type": "markdown",
   "metadata": {},
   "source": [
    "## 矩形"
   ]
  },
  {
   "cell_type": "code",
   "execution_count": 60,
   "metadata": {},
   "outputs": [],
   "source": [
    "draw.rectangle((20, 30, 60, 60), fill=\"blue\", outline=\"orange\")"
   ]
  },
  {
   "cell_type": "markdown",
   "metadata": {},
   "source": [
    "ImageDrawオブジェクトの rectangle メソッドに矩形を表すタプル(左上のx座標,左上のy座標,右下のx座標,右下のy座標)を渡すことで矩形を描写できる  \n",
    "fillで内部の色、outloneで輪郭の色を指定できる"
   ]
  },
  {
   "cell_type": "markdown",
   "metadata": {},
   "source": [
    "## 楕円形"
   ]
  },
  {
   "cell_type": "code",
   "execution_count": 61,
   "metadata": {},
   "outputs": [],
   "source": [
    "draw.ellipse((120, 30, 160, 60), fill=\"red\", outline=\"yellowgreen\")\n",
    "draw.ellipse((150, 80, 180, 110), fill=\"gray\")"
   ]
  },
  {
   "cell_type": "markdown",
   "metadata": {},
   "source": [
    "ImageDrawオブジェクトの ellipse メソッドに楕円形に外接する長方形を表す矩形タプルを渡すことで楕円形を描写できる  \n",
    "矩形を正方形にすることで正円を描写できる  \n",
    "fillで内部の色、outlineで輪郭の色を指定できる"
   ]
  },
  {
   "cell_type": "markdown",
   "metadata": {},
   "source": [
    "## 多角形"
   ]
  },
  {
   "cell_type": "code",
   "execution_count": 62,
   "metadata": {},
   "outputs": [],
   "source": [
    "draw.polygon([(57, 87), (79, 62), (94, 85), (120, 90), (103, 113)], fill=\"brown\", outline=\"skyblue\")\n",
    "draw.polygon([10, 110, 40, 95, 25, 125], fill=\"darkred\")"
   ]
  },
  {
   "cell_type": "markdown",
   "metadata": {},
   "source": [
    "ImageDrawオブジェクトの polygon メソッドに座標のタプルをまとめたリストか、x座標と対応するy座標を順番に並べたリストを渡すことで、  \n",
    "座標を線でつなげて(最初と最後の座標を自動でつなげてくれる)中の色を塗りつぶした多角形を描画できる  \n",
    "fillで内部の色、outlineで輪郭の色を指定できる"
   ]
  },
  {
   "cell_type": "code",
   "execution_count": 63,
   "metadata": {},
   "outputs": [],
   "source": [
    "im.save(r\".\\pydata\\drawing.png\")"
   ]
  },
  {
   "cell_type": "markdown",
   "metadata": {},
   "source": [
    "ImageDrawオブジェクトには他にも描画メソッドがあり、調べると出てくる"
   ]
  },
  {
   "cell_type": "markdown",
   "metadata": {},
   "source": [
    "# テキストを描画する"
   ]
  },
  {
   "cell_type": "code",
   "execution_count": 64,
   "metadata": {},
   "outputs": [],
   "source": [
    "from PIL import Image, ImageDraw, ImageFont"
   ]
  },
  {
   "cell_type": "code",
   "execution_count": 65,
   "metadata": {},
   "outputs": [],
   "source": [
    "im = Image.new(\"RGBA\", (200, 200), \"white\")\n",
    "draw = ImageDraw.Draw(im)\n",
    "draw.text((20, 150), \"Hello\", fill=\"purple\")"
   ]
  },
  {
   "cell_type": "code",
   "execution_count": 66,
   "metadata": {},
   "outputs": [],
   "source": [
    "arial_font = ImageFont.truetype(\"arial.ttf\", 32)\n",
    "draw.text((100, 150), \"World!\", fill=\"gray\", font=arial_font)"
   ]
  },
  {
   "cell_type": "code",
   "execution_count": 67,
   "metadata": {},
   "outputs": [],
   "source": [
    "im.save(r\".\\pydata\\text.png\")"
   ]
  },
  {
   "cell_type": "markdown",
   "metadata": {},
   "source": [
    "ImageDrawオブジェクトの text メソッドを使うことでテキストを描画することができる  \n",
    "引数は、テキストを表示する矩形の左上の座標タプル、描画するテキストの文字列、テキストの色(fill)、後述するImageFontオブジェクト(font)の4つを渡すことができる\n",
    "\n",
    "ImageFont モジュールの truetype 関数の第一引数にパソコン内のフォントファイル(truetypeファイルで拡張子は.ttf、C:\\Windows\\Fontsにある)、  \n",
    "第二引数にポイント数を表す整数を渡すことで ImageFont オブジェクトが生成できる\n",
    "\n",
    "上ではImageDrawオブジェクトのtextメソッドに、x座標100y座標150の位置に、World!という文字列を、灰色で、フォントをImageFontオブジェクトで設定したarial.ttfファイルのフォントで32ポイントにしている"
   ]
  },
  {
   "cell_type": "code",
   "execution_count": 68,
   "metadata": {},
   "outputs": [],
   "source": [
    "im = Image.new(\"RGBA\", (200, 200), \"white\")\n",
    "draw = ImageDraw.Draw(im)\n",
    "jfont = ImageFont.truetype(\"msmincho.ttc\", 24, index=1) # MS P明朝\n",
    "draw.text((20, 20), \"こんにちは\", fill=\"black\", font=jfont)\n",
    "jfont = ImageFont.truetype(\"msgothic.ttc\", 24, index=2) # MS Pゴシック\n",
    "draw.text((20, 50), \"こんにちは\", fill=\"black\", font=jfont)\n",
    "jfont = ImageFont.truetype(\"meiryo.ttc\", 24, index=0) # メイリオ\n",
    "draw.text((20, 80), \"こんにちは\", fill=\"black\", font=jfont)"
   ]
  },
  {
   "cell_type": "code",
   "execution_count": 69,
   "metadata": {},
   "outputs": [],
   "source": [
    "im.save(r\".\\pydata\\jtext.png\")"
   ]
  },
  {
   "cell_type": "markdown",
   "metadata": {},
   "source": [
    "日本語のフォントを使用するには以下のフォントファイル名とキーワード引数のindexを指定して渡す必要がある  \n",
    "ファイルの拡張子が.ttcになっていることに注意\n",
    "\n",
    "日本語フォントとファイル名\n",
    "\n",
    "|フォント名|ファイル名|index|\n",
    "|:-|:-|:-|\n",
    "|MS明朝|msmincho.ttc|0|\n",
    "|MS P明朝|mnmincho.ttc|1|\n",
    "|MSゴシック|msgothic.ttc|0|\n",
    "|MS Pゴシック|msgothic.ttc|2|\n",
    "|MS UI Gothic|msgothic.ttc|1|\n",
    "|メイリオ|meiryo.ttc|0|\n",
    "|Meiryo UI|meiryo.ttc|2|"
   ]
  },
  {
   "cell_type": "code",
   "execution_count": null,
   "metadata": {},
   "outputs": [],
   "source": []
  }
 ],
 "metadata": {
  "kernelspec": {
   "display_name": "Python 3",
   "language": "python",
   "name": "python3"
  },
  "language_info": {
   "codemirror_mode": {
    "name": "ipython",
    "version": 3
   },
   "file_extension": ".py",
   "mimetype": "text/x-python",
   "name": "python",
   "nbconvert_exporter": "python",
   "pygments_lexer": "ipython3",
   "version": "3.7.6"
  }
 },
 "nbformat": 4,
 "nbformat_minor": 4
}
