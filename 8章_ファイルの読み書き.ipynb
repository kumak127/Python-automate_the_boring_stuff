{
 "cells": [
  {
   "cell_type": "markdown",
   "metadata": {},
   "source": [
    "# ファイルとファイルパス"
   ]
  },
  {
   "cell_type": "code",
   "execution_count": 2,
   "metadata": {},
   "outputs": [
    {
     "data": {
      "text/plain": [
       "'Users\\\\kumak\\\\pyworks'"
      ]
     },
     "execution_count": 2,
     "metadata": {},
     "output_type": "execute_result"
    }
   ],
   "source": [
    "import os\n",
    "\n",
    "os.path.join(\"Users\", \"kumak\", \"pyworks\")"
   ]
  },
  {
   "cell_type": "markdown",
   "metadata": {},
   "source": [
    "os.path.join でそれぞれのファイル名を繋げたパスを返す"
   ]
  },
  {
   "cell_type": "code",
   "execution_count": 3,
   "metadata": {},
   "outputs": [
    {
     "name": "stdout",
     "output_type": "stream",
     "text": [
      "C:\\Users\\kumak\\pyworks\\account.txt\n",
      "C:\\Users\\kumak\\pyworks\\details.csv\n",
      "C:\\Users\\kumak\\pyworks\\invite.docx\n"
     ]
    }
   ],
   "source": [
    "my_file = [\"account.txt\", \"details.csv\", \"invite.docx\"]\n",
    "\n",
    "for filename in my_file:\n",
    "    print(os.path.join(r\"C:\\Users\\kumak\\pyworks\", filename))"
   ]
  },
  {
   "cell_type": "code",
   "execution_count": 4,
   "metadata": {
    "scrolled": true
   },
   "outputs": [
    {
     "data": {
      "text/plain": [
       "'C:\\\\Users\\\\kumak\\\\提出用\\\\退屈なことはPythonにやらせよう'"
      ]
     },
     "execution_count": 4,
     "metadata": {},
     "output_type": "execute_result"
    }
   ],
   "source": [
    "os.getcwd()"
   ]
  },
  {
   "cell_type": "code",
   "execution_count": 5,
   "metadata": {},
   "outputs": [],
   "source": [
    "os.chdir(r\".\\pydata\")"
   ]
  },
  {
   "cell_type": "code",
   "execution_count": 6,
   "metadata": {},
   "outputs": [
    {
     "data": {
      "text/plain": [
       "'C:\\\\Users\\\\kumak\\\\提出用\\\\退屈なことはPythonにやらせよう\\\\pydata'"
      ]
     },
     "execution_count": 6,
     "metadata": {},
     "output_type": "execute_result"
    }
   ],
   "source": [
    "os.getcwd()"
   ]
  },
  {
   "cell_type": "markdown",
   "metadata": {},
   "source": [
    "os.getcwd で現在のカレントディレクトリを調べることができる\n",
    "\n",
    "os.chdir でカレントディレクトリの場所を変えることができる"
   ]
  },
  {
   "cell_type": "markdown",
   "metadata": {},
   "source": [
    ". は「現在のフォルダ」を意味する(無くてもよい)\n",
    "..は「親フォルダ」を意味する\n",
    "\n",
    "カレントディレクトリがkumakなら\n",
    ".\\pyworks(相対パス)　は　C:\\Users\\kumak\\pyworks(絶対パス)　と同じになる\n",
    "\n",
    "カレントディレクトリがpyworksなら\n",
    "..\\test.txt  は　C:\\Users\\kumak\\test.txt  と同じになる"
   ]
  },
  {
   "cell_type": "code",
   "execution_count": 7,
   "metadata": {},
   "outputs": [],
   "source": [
    "os.makedirs(r\".\\empty_a\\empty_b\\empty_c\")"
   ]
  },
  {
   "cell_type": "markdown",
   "metadata": {},
   "source": [
    "os.meakedirs で最終パスまでに存在しないフォルダ名のフォルダをすべて作る\n",
    "\n",
    "os.mkdir で最終パスのフォルダを作る\n",
    "\n",
    "os.removedirs は最終パスまでの空なフォルダの削除\n",
    "\n",
    "os.rmedir は最終パスが空のフォルダなら削除"
   ]
  },
  {
   "cell_type": "code",
   "execution_count": 8,
   "metadata": {},
   "outputs": [
    {
     "data": {
      "text/plain": [
       "'C:\\\\Users\\\\kumak\\\\提出用\\\\退屈なことはPythonにやらせよう\\\\pydata'"
      ]
     },
     "execution_count": 8,
     "metadata": {},
     "output_type": "execute_result"
    }
   ],
   "source": [
    "os.path.abspath(r\".\")"
   ]
  },
  {
   "cell_type": "code",
   "execution_count": 9,
   "metadata": {},
   "outputs": [
    {
     "data": {
      "text/plain": [
       "'C:\\\\Users\\\\kumak\\\\提出用\\\\退屈なことはPythonにやらせよう\\\\pydata\\\\test.txt'"
      ]
     },
     "execution_count": 9,
     "metadata": {},
     "output_type": "execute_result"
    }
   ],
   "source": [
    "os.path.abspath(r\".\\test.txt\")"
   ]
  },
  {
   "cell_type": "code",
   "execution_count": 10,
   "metadata": {},
   "outputs": [
    {
     "data": {
      "text/plain": [
       "False"
      ]
     },
     "execution_count": 10,
     "metadata": {},
     "output_type": "execute_result"
    }
   ],
   "source": [
    "os.path.isabs(r\".\\text.txt\")"
   ]
  },
  {
   "cell_type": "code",
   "execution_count": 11,
   "metadata": {},
   "outputs": [
    {
     "data": {
      "text/plain": [
       "True"
      ]
     },
     "execution_count": 11,
     "metadata": {},
     "output_type": "execute_result"
    }
   ],
   "source": [
    "os.path.isabs(os.path.abspath(r\".\\test.txt\"))"
   ]
  },
  {
   "cell_type": "code",
   "execution_count": 12,
   "metadata": {},
   "outputs": [
    {
     "data": {
      "text/plain": [
       "'Users'"
      ]
     },
     "execution_count": 12,
     "metadata": {},
     "output_type": "execute_result"
    }
   ],
   "source": [
    "os.path.relpath(r\"C:\\Users\", \"C:\\\\\")"
   ]
  },
  {
   "cell_type": "code",
   "execution_count": 13,
   "metadata": {},
   "outputs": [
    {
     "data": {
      "text/plain": [
       "'..\\\\..\\\\..\\\\..\\\\test.txt'"
      ]
     },
     "execution_count": 13,
     "metadata": {},
     "output_type": "execute_result"
    }
   ],
   "source": [
    "os.path.relpath(r\"C:\\Users\\test.txt\", \".\")"
   ]
  },
  {
   "cell_type": "markdown",
   "metadata": {},
   "source": [
    "os.path.abspath() は渡した相対パスを絶対パスにして返してくれる\n",
    "\n",
    "os.path.isabs() は渡したパスが絶対パスならTrue 相対パスならFalseを返す\n",
    "\n",
    "os.path.relpath() は第一引数に入れたpathにアクセスするための相対パスを返す 第二引数にスタートするpathを入れる(指定しなければカレントディレクトリが入る)"
   ]
  },
  {
   "cell_type": "code",
   "execution_count": 14,
   "metadata": {},
   "outputs": [
    {
     "data": {
      "text/plain": [
       "'test.txt'"
      ]
     },
     "execution_count": 14,
     "metadata": {},
     "output_type": "execute_result"
    }
   ],
   "source": [
    "os.path.basename(r\"C:\\Users\\kumak\\pydata\\test.txt\")"
   ]
  },
  {
   "cell_type": "code",
   "execution_count": 15,
   "metadata": {},
   "outputs": [
    {
     "data": {
      "text/plain": [
       "'C:\\\\Users\\\\kumak\\\\pydata'"
      ]
     },
     "execution_count": 15,
     "metadata": {},
     "output_type": "execute_result"
    }
   ],
   "source": [
    "os.path.dirname(r\"C:\\Users\\kumak\\pydata\\test.txt\")"
   ]
  },
  {
   "cell_type": "markdown",
   "metadata": {},
   "source": [
    "os.path.basename は最終パスのファイル名を返す\n",
    "\n",
    "os.path.dirname は最終パスまでのフォルダ(ディレクトリ)のpathを返す"
   ]
  },
  {
   "cell_type": "code",
   "execution_count": 16,
   "metadata": {},
   "outputs": [
    {
     "data": {
      "text/plain": [
       "('C:\\\\Users\\\\kumak\\\\pydata', 'test.txt')"
      ]
     },
     "execution_count": 16,
     "metadata": {},
     "output_type": "execute_result"
    }
   ],
   "source": [
    "os.path.split(r\"C:\\Users\\kumak\\pydata\\test.txt\")"
   ]
  },
  {
   "cell_type": "markdown",
   "metadata": {},
   "source": [
    "os.path.split を使えばフォルダ(ディレクトリ)のpathとファイル名をタプルに分けて返してくれる"
   ]
  },
  {
   "cell_type": "code",
   "execution_count": 17,
   "metadata": {},
   "outputs": [
    {
     "data": {
      "text/plain": [
       "'\\\\'"
      ]
     },
     "execution_count": 17,
     "metadata": {},
     "output_type": "execute_result"
    }
   ],
   "source": [
    "os.sep"
   ]
  },
  {
   "cell_type": "code",
   "execution_count": 18,
   "metadata": {},
   "outputs": [
    {
     "data": {
      "text/plain": [
       "['C:', 'Users', 'kumak', 'pydata', 'test.txt']"
      ]
     },
     "execution_count": 18,
     "metadata": {},
     "output_type": "execute_result"
    }
   ],
   "source": [
    "r\"C:\\Users\\kumak\\pydata\\test.txt\".split(os.sep)"
   ]
  },
  {
   "cell_type": "markdown",
   "metadata": {},
   "source": [
    "os.sep はパスの区切り文字が入っているので、splitと組み合わせることでフォルダ名ごとのリストに分けることができる"
   ]
  },
  {
   "cell_type": "code",
   "execution_count": 19,
   "metadata": {},
   "outputs": [
    {
     "data": {
      "text/plain": [
       "12"
      ]
     },
     "execution_count": 19,
     "metadata": {},
     "output_type": "execute_result"
    }
   ],
   "source": [
    "os.path.getsize(r\"C:\\Users\\kumak\\pydata\\test.txt\")"
   ]
  },
  {
   "cell_type": "code",
   "execution_count": 20,
   "metadata": {},
   "outputs": [
    {
     "data": {
      "text/plain": [
       "['Alarm',\n",
       " 'Alarm.mp3',\n",
       " 'allminute.pdf',\n",
       " 'arrays_compressed.npz',\n",
       " 'array_archive.npz',\n",
       " 'bfile.txt',\n",
       " 'bfile2.txt',\n",
       " 'blue_ox.log',\n",
       " 'brickset2016.csv',\n",
       " 'catlogo.png',\n",
       " 'census2010.py',\n",
       " 'census2010.txt',\n",
       " 'censuspopdata.xlsx',\n",
       " 'cities1.csv',\n",
       " 'cities2.csv',\n",
       " 'combinedminutes.pdf',\n",
       " 'copy_file',\n",
       " 'cropped.png',\n",
       " 'definitions.bak',\n",
       " 'definitions.dat',\n",
       " 'definitions.dir',\n",
       " 'demo.docx',\n",
       " 'dimension.xlsx',\n",
       " 'drawing.png',\n",
       " 'duesRecords.xlsx',\n",
       " 'encrypted.pdf',\n",
       " 'encryptedminutes.pdf',\n",
       " 'enterprice.db',\n",
       " 'errorInfo.txt',\n",
       " 'ex1.xlsx',\n",
       " 'ex2.xlsx',\n",
       " 'example.csv',\n",
       " 'example.tsv',\n",
       " 'example.xlsx',\n",
       " 'example_copy.xlsx',\n",
       " 'female_1944_2014.csv',\n",
       " 'figpath.png',\n",
       " 'figpath.svg',\n",
       " 'frame_pickle',\n",
       " 'freezeExample.xlsx',\n",
       " 'headerRemoved',\n",
       " 'headings.docx',\n",
       " 'heart.jpg',\n",
       " 'hello.txt',\n",
       " 'helloworld.docx',\n",
       " 'horizontal_flip.png',\n",
       " 'jtext.png',\n",
       " 'lifechart2014.csv',\n",
       " 'male_1944_2014.csv',\n",
       " 'map',\n",
       " 'mcb.bak',\n",
       " 'mcb.dat',\n",
       " 'mcb.dir',\n",
       " 'mcintyre.yaml',\n",
       " 'meetingminutes.pdf',\n",
       " 'meetingminutes2.pdf',\n",
       " 'menu.xml',\n",
       " 'merged.xlsx',\n",
       " 'minpy4th-samplecodes',\n",
       " 'multipleParagraphs.docx',\n",
       " 'multiplicationTable10.xlsx',\n",
       " 'multiplicationTable3.xlsx',\n",
       " 'multiplicationTable30.xlsx',\n",
       " 'multiplicationTable5.xlsx',\n",
       " 'mycats.py',\n",
       " 'mydata.bak',\n",
       " 'mydata.csv',\n",
       " 'mydata.dat',\n",
       " 'mydata.dir',\n",
       " 'mydata.h5',\n",
       " 'mydata.sqlite',\n",
       " 'myPlogramLog.txt',\n",
       " 'names.txt',\n",
       " 'name_text.txt',\n",
       " 'name_write.txt',\n",
       " 'new_example.xlsx',\n",
       " 'oops.txt',\n",
       " 'out.csv',\n",
       " 'output.csv',\n",
       " 'owl.jpg',\n",
       " 'owl_konoha.jpg',\n",
       " 'owl_mimi.jpg',\n",
       " 'paste.png',\n",
       " 'pdf_file',\n",
       " 'pickle_data',\n",
       " 'pickle_test',\n",
       " 'poem',\n",
       " 'produceSales.xlsx',\n",
       " 'purpleImage.png',\n",
       " 'putpixel.png',\n",
       " 'quartersized.png',\n",
       " 'quiz_folder',\n",
       " 'reactions.txt',\n",
       " 'relativity.txt',\n",
       " 'relativity2.txt',\n",
       " 'restyled.docx',\n",
       " 'RomeoAndJuliet.txt',\n",
       " 'rotated180.png',\n",
       " 'rotated270.png',\n",
       " 'rotated6.png',\n",
       " 'rotated6_expanded.png',\n",
       " 'rotated90.png',\n",
       " 'rotatePage.pdf',\n",
       " 'sampleChart.xlsx',\n",
       " 'settings.cfg',\n",
       " 'shelve_test.bak',\n",
       " 'shelve_test.dat',\n",
       " 'shelve_test.dir',\n",
       " 'some_array.npy',\n",
       " 'spam001.txt',\n",
       " 'spam002.txt',\n",
       " 'spam004.txt',\n",
       " 'spam005.txt',\n",
       " 'styled.xlsx',\n",
       " 'styles.xlsx',\n",
       " 'submit.png',\n",
       " 'svelte.png',\n",
       " 'test.txt',\n",
       " 'text.png',\n",
       " 'text_data.xlsx',\n",
       " 'thumbnail.png',\n",
       " 'tiled.png',\n",
       " 'total_fertility_rate.csv',\n",
       " 'transparentImage.png',\n",
       " 'tree.png',\n",
       " 'twoPage.docx',\n",
       " 'unmerged.xlsx',\n",
       " 'updateProduceSales.xlsx',\n",
       " 'vertical_flip.png',\n",
       " 'villains.csv',\n",
       " 'villains2.csv',\n",
       " 'watermark.pdf',\n",
       " 'watermarkedCover.pdf',\n",
       " 'withlogo',\n",
       " 'writeFormula.xlsx',\n",
       " 'xlsx_text_A.txt',\n",
       " 'xlsx_text_B.txt',\n",
       " 'xlsx_text_C.txt',\n",
       " 'yikes.txt',\n",
       " 'ziguzaguma.docx',\n",
       " 'ziguzaguma.png',\n",
       " 'zoo.csv',\n",
       " 'zoo.db',\n",
       " 'zophie.jpg',\n",
       " 'zophie.png',\n",
       " '__pycache__',\n",
       " '県庁所在地_一覧.txt']"
      ]
     },
     "execution_count": 20,
     "metadata": {},
     "output_type": "execute_result"
    }
   ],
   "source": [
    "os.listdir(r\"C:\\Users\\kumak\\pydata\")"
   ]
  },
  {
   "cell_type": "markdown",
   "metadata": {},
   "source": [
    "os.path.getsize でファイルのサイズ(バイト)を返す\n",
    "\n",
    "os.listdir でフォルダに入っているファイルとフォルダの名前をリストにして返す"
   ]
  },
  {
   "cell_type": "code",
   "execution_count": 21,
   "metadata": {},
   "outputs": [
    {
     "name": "stdout",
     "output_type": "stream",
     "text": [
      "29729103\n"
     ]
    }
   ],
   "source": [
    "total_size = 0\n",
    "for filename in os.listdir(r\"C:\\Users\\kumak\\pydata\"):\n",
    "    total_size += os.path.getsize(os.path.join(r\"C:\\Users\\kumak\\pydata\", filename))\n",
    "print(total_size)"
   ]
  },
  {
   "cell_type": "markdown",
   "metadata": {},
   "source": [
    "os.listdir でフォルダに入っているファイルとフォルダのリストを取得し、変数filenameに入れる。\n",
    "os.path.join で親パスとfilenameのパスをくっつけて、os.path.getsize でサイズを出して変数total_sizeにひとつづつ足していく\n",
    "\n",
    "これでフォルダ内のすべてのサイズを足すことができフォルダのサイズがわかる"
   ]
  },
  {
   "cell_type": "code",
   "execution_count": 22,
   "metadata": {},
   "outputs": [
    {
     "data": {
      "text/plain": [
       "True"
      ]
     },
     "execution_count": 22,
     "metadata": {},
     "output_type": "execute_result"
    }
   ],
   "source": [
    "os.path.exists(r\"C:\\Users\\kumak\\pydata\\test.txt\")"
   ]
  },
  {
   "cell_type": "code",
   "execution_count": 23,
   "metadata": {},
   "outputs": [
    {
     "data": {
      "text/plain": [
       "False"
      ]
     },
     "execution_count": 23,
     "metadata": {},
     "output_type": "execute_result"
    }
   ],
   "source": [
    "os.path.exists(r\"C:\\Users\\kumak\\noname\")"
   ]
  },
  {
   "cell_type": "code",
   "execution_count": 24,
   "metadata": {},
   "outputs": [
    {
     "data": {
      "text/plain": [
       "True"
      ]
     },
     "execution_count": 24,
     "metadata": {},
     "output_type": "execute_result"
    }
   ],
   "source": [
    "os.path.isfile(r\"C:\\Users\\kumak\\pydata\\test.txt\")"
   ]
  },
  {
   "cell_type": "code",
   "execution_count": 25,
   "metadata": {},
   "outputs": [
    {
     "data": {
      "text/plain": [
       "False"
      ]
     },
     "execution_count": 25,
     "metadata": {},
     "output_type": "execute_result"
    }
   ],
   "source": [
    "os.path.isfile(r\"C:\\Users\\kumak\\pydata\")"
   ]
  },
  {
   "cell_type": "code",
   "execution_count": 26,
   "metadata": {},
   "outputs": [
    {
     "data": {
      "text/plain": [
       "False"
      ]
     },
     "execution_count": 26,
     "metadata": {},
     "output_type": "execute_result"
    }
   ],
   "source": [
    "os.path.isdir(r\"C:\\Users\\kumak\\pydata\\test.txt\")"
   ]
  },
  {
   "cell_type": "code",
   "execution_count": 27,
   "metadata": {},
   "outputs": [
    {
     "data": {
      "text/plain": [
       "True"
      ]
     },
     "execution_count": 27,
     "metadata": {},
     "output_type": "execute_result"
    }
   ],
   "source": [
    "os.path.isdir(r\"C:\\Users\\kumak\\pydata\")"
   ]
  },
  {
   "cell_type": "markdown",
   "metadata": {},
   "source": [
    "os.path.exists はそのパスのフォルダかファイルが存在するならTrue 存在しないならFalse を返す\n",
    "\n",
    "os.path.isfile はそのパスがファイルを指すならTrue フォルダならFalse を返す\n",
    "\n",
    "os.path.isdir はそのパスがフォルダを指すならTrue ファイルならFalsse を返す"
   ]
  },
  {
   "cell_type": "markdown",
   "metadata": {},
   "source": [
    "# ファイルの読み書き"
   ]
  },
  {
   "cell_type": "code",
   "execution_count": 39,
   "metadata": {},
   "outputs": [
    {
     "data": {
      "text/plain": [
       "'C:\\\\Users\\\\kumak\\\\提出用\\\\退屈なことはPythonにやらせよう'"
      ]
     },
     "execution_count": 39,
     "metadata": {},
     "output_type": "execute_result"
    }
   ],
   "source": [
    "os.chdir(r\"C:\\Users\\kumak\\提出用\\退屈なことはPythonにやらせよう\")\n",
    "os.getcwd()"
   ]
  },
  {
   "cell_type": "code",
   "execution_count": 40,
   "metadata": {},
   "outputs": [],
   "source": [
    "hello_file = open(r\".\\pydata\\hello.txt\", \"w\")\n",
    "\n",
    "hello_file.write(\"Hello world!\\n\")\n",
    "\n",
    "hello_file.close()"
   ]
  },
  {
   "cell_type": "markdown",
   "metadata": {},
   "source": [
    "open関数の第一引数にファイル名と必要ならパスを渡し、第二引数に書き込み専用の\"w\"を渡す(ファイルオブジェクトを作る)\n",
    "\n",
    "ファイルオブジェクトにwrite()メソッドを使って内容を入れる\n",
    "\n",
    "ファイルオブジェクトを閉じる"
   ]
  },
  {
   "cell_type": "code",
   "execution_count": 41,
   "metadata": {},
   "outputs": [],
   "source": [
    "hello_file = open(r\".\\pydata\\hello.txt\", \"a\")\n",
    "\n",
    "hello_file.write(\"Bacon is not a vegetable.\")\n",
    "\n",
    "hello_file.close()"
   ]
  },
  {
   "cell_type": "markdown",
   "metadata": {},
   "source": [
    "存在するファイルの続きから書き込みたい場合、第二引数に\"a\"を入れることで最後の文の続きから書き込むことができる"
   ]
  },
  {
   "cell_type": "code",
   "execution_count": 42,
   "metadata": {},
   "outputs": [
    {
     "name": "stdout",
     "output_type": "stream",
     "text": [
      "Hello world!\n",
      "Bacon is not a vegetable.\n"
     ]
    }
   ],
   "source": [
    "hello_file = open(r\".\\pydata\\hello.txt\")\n",
    "\n",
    "content = hello_file.read()\n",
    "\n",
    "hello_file.close()\n",
    "\n",
    "print(content)"
   ]
  },
  {
   "cell_type": "markdown",
   "metadata": {},
   "source": [
    "読み込みはopen関数の第二引数に\"r\"を渡すか、もしくは未指定にすることで使える\n",
    "\n",
    "read で読み込み、内容を変数に保存してprint で表示(ファイルオブジェクトを閉じても変数に保存すれば内容は残る)"
   ]
  },
  {
   "cell_type": "code",
   "execution_count": 43,
   "metadata": {},
   "outputs": [
    {
     "name": "stdout",
     "output_type": "stream",
     "text": [
      "['Hello world!\\n', 'Bacon is not a vegetable.']\n"
     ]
    }
   ],
   "source": [
    "hello_file = open(r\".\\pydata\\hello.txt\", \"r\")\n",
    "\n",
    "contents = hello_file.readlines()\n",
    "\n",
    "hello_file.close()\n",
    "\n",
    "print(contents)"
   ]
  },
  {
   "cell_type": "markdown",
   "metadata": {},
   "source": [
    "read ではなく readlines を使うと、行ごとのリストにして返してくれる(最後の行以外は改行記号がつくことに注意)"
   ]
  },
  {
   "cell_type": "code",
   "execution_count": 44,
   "metadata": {},
   "outputs": [
    {
     "name": "stdout",
     "output_type": "stream",
     "text": [
      "1行目: Hello world!\n",
      "\n",
      "2行目: Bacon is not a vegetable.\n"
     ]
    }
   ],
   "source": [
    "hello_file = open(r\".\\pydata\\hello.txt\", \"r\")\n",
    "\n",
    "content_1 = hello_file.readline()\n",
    "content_2 = hello_file.readline()\n",
    "\n",
    "hello_file.close()\n",
    "\n",
    "print(\"1行目:\", content_1)\n",
    "print(\"2行目:\", content_2)"
   ]
  },
  {
   "cell_type": "markdown",
   "metadata": {},
   "source": [
    "readline を使うと呼び出すたびに1行ずつ返してくれる"
   ]
  },
  {
   "cell_type": "markdown",
   "metadata": {},
   "source": [
    "# shelveモジュールを使って変数を保存する"
   ]
  },
  {
   "cell_type": "code",
   "execution_count": 45,
   "metadata": {},
   "outputs": [],
   "source": [
    "import shelve\n",
    "\n",
    "shelve_file = shelve.open(\"mydata\")\n",
    "\n",
    "cats = [\"Zophie\", \"Pooka\", \"Simon\"]\n",
    "\n",
    "shelve_file[\"cats\"] = cats\n",
    "\n",
    "shelve_file.close()"
   ]
  },
  {
   "cell_type": "markdown",
   "metadata": {},
   "source": [
    "shelve.open の第一引数に保存するファイル名を入れシェルフオブジェクトを作る\n",
    "\n",
    "シェルフオブジェクトにキーを指定して、保存したい変数を代入する\n",
    "\n",
    "シェルフオブジェクトを閉じる"
   ]
  },
  {
   "cell_type": "code",
   "execution_count": 46,
   "metadata": {},
   "outputs": [
    {
     "data": {
      "text/plain": [
       "['Zophie', 'Pooka', 'Simon']"
      ]
     },
     "execution_count": 46,
     "metadata": {},
     "output_type": "execute_result"
    }
   ],
   "source": [
    "shelve_file = shelve.open(\"mydata\")\n",
    "\n",
    "shelve_file[\"cats\"]"
   ]
  },
  {
   "cell_type": "markdown",
   "metadata": {},
   "source": [
    "シェルフファイルを開いて、シェルフオブジェクトに保存したキーを入れることでプログラムを閉じた後でも復元することができるようになる"
   ]
  },
  {
   "cell_type": "code",
   "execution_count": 47,
   "metadata": {},
   "outputs": [
    {
     "data": {
      "text/plain": [
       "['cats']"
      ]
     },
     "execution_count": 47,
     "metadata": {},
     "output_type": "execute_result"
    }
   ],
   "source": [
    "list(shelve_file.keys())"
   ]
  },
  {
   "cell_type": "code",
   "execution_count": 48,
   "metadata": {},
   "outputs": [
    {
     "data": {
      "text/plain": [
       "[['Zophie', 'Pooka', 'Simon']]"
      ]
     },
     "execution_count": 48,
     "metadata": {},
     "output_type": "execute_result"
    }
   ],
   "source": [
    "list(shelve_file.values())"
   ]
  },
  {
   "cell_type": "code",
   "execution_count": 49,
   "metadata": {},
   "outputs": [
    {
     "data": {
      "text/plain": [
       "[('cats', ['Zophie', 'Pooka', 'Simon'])]"
      ]
     },
     "execution_count": 49,
     "metadata": {},
     "output_type": "execute_result"
    }
   ],
   "source": [
    "list(shelve_file.items())"
   ]
  },
  {
   "cell_type": "markdown",
   "metadata": {},
   "source": [
    "シェルフオブジェクトの keys values items メソッドを使えば辞書型と同じように呼び出すことができる(list関数などを渡したりしないと中身は見れない)"
   ]
  },
  {
   "cell_type": "code",
   "execution_count": 50,
   "metadata": {},
   "outputs": [],
   "source": [
    "shelve_file.close()"
   ]
  },
  {
   "cell_type": "markdown",
   "metadata": {},
   "source": [
    "# pprint.pformat()関数を用いて変数を保存する"
   ]
  },
  {
   "cell_type": "code",
   "execution_count": 51,
   "metadata": {},
   "outputs": [
    {
     "data": {
      "text/plain": [
       "\"[{'desc': 'chubby', 'name': 'Zophie'}, {'desc': 'fluffy', 'name': 'Pooka'}]\""
      ]
     },
     "execution_count": 51,
     "metadata": {},
     "output_type": "execute_result"
    }
   ],
   "source": [
    "import pprint\n",
    "\n",
    "cats = [{\"name\": \"Zophie\", \"desc\": \"chubby\"}, {\"name\": \"Pooka\", \"desc\": \"fluffy\"}]\n",
    "\n",
    "pprint.pformat(cats)"
   ]
  },
  {
   "cell_type": "markdown",
   "metadata": {},
   "source": [
    "pprint.pformat は引数に渡したオブジェクトを成形した**文字列**にして返し、これをコードの一部として使うことができる"
   ]
  },
  {
   "cell_type": "code",
   "execution_count": 61,
   "metadata": {},
   "outputs": [],
   "source": [
    "file_obj = open(r\".\\pyworks\\mycats.py\", \"w\")\n",
    "\n",
    "file_obj.write(\"cats =\" + pprint.pformat(cats) + \"\\n\")\n",
    "\n",
    "file_obj.close()"
   ]
  },
  {
   "cell_type": "markdown",
   "metadata": {},
   "source": [
    "mycats.py というファイルを作りその中に cats=pprint.pformat(cats) を入れることで\n",
    "\n",
    "`cats = [{'desc': 'chubby', 'name': 'Zophie'}, {'desc': 'fluffy', 'name': 'Pooka'}]`という使用可能ならコードがファイルに書き込まれる"
   ]
  },
  {
   "cell_type": "code",
   "execution_count": 62,
   "metadata": {},
   "outputs": [
    {
     "data": {
      "text/plain": [
       "[{'desc': 'chubby', 'name': 'Zophie'}, {'desc': 'fluffy', 'name': 'Pooka'}]"
      ]
     },
     "execution_count": 62,
     "metadata": {},
     "output_type": "execute_result"
    }
   ],
   "source": [
    "import mycats\n",
    "\n",
    "mycats.cats"
   ]
  },
  {
   "cell_type": "code",
   "execution_count": 63,
   "metadata": {},
   "outputs": [
    {
     "data": {
      "text/plain": [
       "{'desc': 'chubby', 'name': 'Zophie'}"
      ]
     },
     "execution_count": 63,
     "metadata": {},
     "output_type": "execute_result"
    }
   ],
   "source": [
    "mycats.cats[0]"
   ]
  },
  {
   "cell_type": "code",
   "execution_count": 64,
   "metadata": {},
   "outputs": [
    {
     "data": {
      "text/plain": [
       "'Zophie'"
      ]
     },
     "execution_count": 64,
     "metadata": {},
     "output_type": "execute_result"
    }
   ],
   "source": [
    "mycats.cats[0][\"name\"]"
   ]
  },
  {
   "cell_type": "markdown",
   "metadata": {},
   "source": [
    "ファイル名の mycats をインポートして、アトリビュートとしてcatsを呼び出すことができる"
   ]
  },
  {
   "cell_type": "code",
   "execution_count": 65,
   "metadata": {},
   "outputs": [],
   "source": [
    "with open(r\".\\pydata\\県庁所在地_一覧.txt\", encoding=\"utf-8\") as f:\n",
    "    data = f.read()\n",
    "\n",
    "import re\n",
    "\n",
    "regex = re.compile(r\"\\d|(\\(.*?\\))\")\n",
    "\n",
    "clear_data = regex.sub(\"\", data)\n",
    "\n",
    "rm_regex = re.compile(r\"\\n+\")\n",
    "\n",
    "ken_shi_list = rm_regex.split(clear_data)\n",
    "\n",
    "ken_list = ken_shi_list[0::2]\n",
    "\n",
    "shi_list = ken_shi_list[1::2]\n",
    "\n",
    "capitals = {}\n",
    "for ken,shi in zip(ken_list,shi_list):\n",
    "    capitals[ken] = shi"
   ]
  },
  {
   "cell_type": "code",
   "execution_count": 66,
   "metadata": {},
   "outputs": [
    {
     "data": {
      "text/plain": [
       "{'北海道': '札幌',\n",
       " '青森県': '青森',\n",
       " '岩手県': '盛岡',\n",
       " '宮城県': '仙台',\n",
       " '秋田県': '秋田',\n",
       " '山形県': '山形',\n",
       " '福島県': '福島',\n",
       " '茨城県': '水戸',\n",
       " '栃木県': '宇都宮',\n",
       " '群馬県': '前橋',\n",
       " '埼玉県': 'さいたま',\n",
       " '千葉県': '千葉',\n",
       " '東京都': '東京',\n",
       " '神奈川県': '横浜',\n",
       " '新潟県': '新潟',\n",
       " '富山県': '富山',\n",
       " '石川県': '金沢',\n",
       " '福井県': '福井',\n",
       " '山梨県': '甲府',\n",
       " '長野県': '長野',\n",
       " '岐阜県': '岐阜',\n",
       " '静岡県': '静岡',\n",
       " '愛知県': '名古屋',\n",
       " '三重県': '津',\n",
       " '滋賀県': '大津',\n",
       " '京都府': '京都',\n",
       " '大阪府': '大阪',\n",
       " '兵庫県': '神戸',\n",
       " '奈良県': '奈良',\n",
       " '和歌山県': '和歌山',\n",
       " '鳥取県': '鳥取',\n",
       " '島根県': '松江',\n",
       " '岡山県': '岡山',\n",
       " '広島県': '広島',\n",
       " '山口県': '山口',\n",
       " '徳島県': '徳島',\n",
       " '香川県': '高松',\n",
       " '愛媛県': '松山',\n",
       " '高知県': '高知',\n",
       " '福岡県': '福岡',\n",
       " '佐賀県': '佐賀',\n",
       " '長崎県': '長崎',\n",
       " '熊本県': '熊本',\n",
       " '大分県': '大分',\n",
       " '宮崎県': '宮崎',\n",
       " '鹿児島県': '鹿児島',\n",
       " '沖縄県': '那覇'}"
      ]
     },
     "execution_count": 66,
     "metadata": {},
     "output_type": "execute_result"
    }
   ],
   "source": [
    "capitals"
   ]
  },
  {
   "cell_type": "code",
   "execution_count": null,
   "metadata": {},
   "outputs": [],
   "source": []
  }
 ],
 "metadata": {
  "kernelspec": {
   "display_name": "Python 3",
   "language": "python",
   "name": "python3"
  },
  "language_info": {
   "codemirror_mode": {
    "name": "ipython",
    "version": 3
   },
   "file_extension": ".py",
   "mimetype": "text/x-python",
   "name": "python",
   "nbconvert_exporter": "python",
   "pygments_lexer": "ipython3",
   "version": "3.7.6"
  }
 },
 "nbformat": 4,
 "nbformat_minor": 4
}
