{
 "cells": [
  {
   "cell_type": "markdown",
   "metadata": {},
   "source": [
    "# メールを送信する(SMTP)"
   ]
  },
  {
   "cell_type": "code",
   "execution_count": 1,
   "metadata": {},
   "outputs": [],
   "source": [
    "import smtplib"
   ]
  },
  {
   "cell_type": "code",
   "execution_count": 13,
   "metadata": {},
   "outputs": [],
   "source": [
    "smtp_obj = smtplib.SMTP(\"smtp-mail.outlook.com\", 587)"
   ]
  },
  {
   "cell_type": "code",
   "execution_count": 14,
   "metadata": {},
   "outputs": [
    {
     "data": {
      "text/plain": [
       "(250,\n",
       " b'OSAPR01CA0297.outlook.office365.com Hello [202.220.176.101]\\nSIZE 157286400\\nPIPELINING\\nDSN\\nENHANCEDSTATUSCODES\\nSTARTTLS\\n8BITMIME\\nBINARYMIME\\nCHUNKING\\nSMTPUTF8')"
      ]
     },
     "execution_count": 14,
     "metadata": {},
     "output_type": "execute_result"
    }
   ],
   "source": [
    "smtp_obj.ehlo()"
   ]
  },
  {
   "cell_type": "code",
   "execution_count": 15,
   "metadata": {},
   "outputs": [
    {
     "data": {
      "text/plain": [
       "(220, b'2.0.0 SMTP server ready')"
      ]
     },
     "execution_count": 15,
     "metadata": {},
     "output_type": "execute_result"
    }
   ],
   "source": [
    "smtp_obj.starttls()"
   ]
  },
  {
   "cell_type": "code",
   "execution_count": 16,
   "metadata": {},
   "outputs": [
    {
     "data": {
      "text/plain": [
       "(235, b'2.7.0 Authentication successful')"
      ]
     },
     "execution_count": 16,
     "metadata": {},
     "output_type": "execute_result"
    }
   ],
   "source": [
    "smtp_obj.login(\"kumakiyo000@outlook.com\", \"kiyotaka000\")"
   ]
  },
  {
   "cell_type": "code",
   "execution_count": 17,
   "metadata": {},
   "outputs": [
    {
     "data": {
      "text/plain": [
       "{}"
      ]
     },
     "execution_count": 17,
     "metadata": {},
     "output_type": "execute_result"
    }
   ],
   "source": [
    "smtp_obj.sendmail(\"kumakiyo000@outlook.com\", \"kumakiyo000@gmail.com\", \n",
    "                  \"Subject: So long.\\nDear Alice, so long and thanks for all the fish. Sincerely, Bob\")"
   ]
  },
  {
   "cell_type": "code",
   "execution_count": 18,
   "metadata": {},
   "outputs": [
    {
     "data": {
      "text/plain": [
       "(221, b'2.0.0 Service closing transmission channel')"
      ]
     },
     "execution_count": 18,
     "metadata": {},
     "output_type": "execute_result"
    }
   ],
   "source": [
    "smtp_obj.quit()"
   ]
  },
  {
   "cell_type": "markdown",
   "metadata": {},
   "source": [
    "## SMTPサーバーに接続する"
   ]
  },
  {
   "cell_type": "code",
   "execution_count": 33,
   "metadata": {},
   "outputs": [
    {
     "data": {
      "text/plain": [
       "smtplib.SMTP"
      ]
     },
     "execution_count": 33,
     "metadata": {},
     "output_type": "execute_result"
    }
   ],
   "source": [
    "import smtplib\n",
    "smtp_obj = smtplib.SMTP(\"smtp-mail.outlook.com\", 587)\n",
    "type(smtp_obj)"
   ]
  },
  {
   "cell_type": "markdown",
   "metadata": {},
   "source": [
    "メールを送信するにはまずSMTPサーバーに接続する必要がある\n",
    "\n",
    "そのためには smtplib モジュールの SMTP 関数に対応するSMTPサーバー名とポート番号を渡すことでできる、SMTPオブジェクトを生成する必要がある\n",
    "\n",
    "SMTPサーバーとポート番号はメールを送るのに必要な情報で、基本、SMTPサーバーはメールプロバイダーのドメイン名にsmtpがついたもので、ポート番号はコマンドを暗号化するための標準規格TLSを使う587番になっている\n",
    "\n",
    "TLSをサポートしていない場合は、`smtplib.SMTP_SSL`を使ってポート番号を465を指定して生成する\n",
    "\n",
    "接続してから数分間経つと自動的に切断されるので、また接続しないといけなくなるので注意\n",
    "\n",
    "主なメールプロバイダーとSMTPサーバー一覧\n",
    "\n",
    "|プロバイダー|SMTPサーバー|\n",
    "|:-|:-|\n",
    "|Gmail|smtp.gmail.com|\n",
    "|Outlook.com\\/Hotmail.com|smtp-mail.outlook.com|\n",
    "|Yahoo Mail|smtp.mail.yahoo.com|\n",
    "|AT&T|amtp.mail.att.net(ポート番号465)|\n",
    "|Comcast|smtp.comcast.net|\n",
    "|Verizon|smtp.verizon.net(ポート番号465)|"
   ]
  },
  {
   "cell_type": "markdown",
   "metadata": {},
   "source": [
    "## SMTPに挨拶を送る"
   ]
  },
  {
   "cell_type": "code",
   "execution_count": 34,
   "metadata": {},
   "outputs": [
    {
     "data": {
      "text/plain": [
       "(250,\n",
       " b'OSAPR01CA0271.outlook.office365.com Hello [202.220.176.101]\\nSIZE 157286400\\nPIPELINING\\nDSN\\nENHANCEDSTATUSCODES\\nSTARTTLS\\n8BITMIME\\nBINARYMIME\\nCHUNKING\\nSMTPUTF8')"
      ]
     },
     "execution_count": 34,
     "metadata": {},
     "output_type": "execute_result"
    }
   ],
   "source": [
    "smtp_obj.ehlo()"
   ]
  },
  {
   "cell_type": "markdown",
   "metadata": {},
   "source": [
    "SMTPオブジェクト生成したら ehlo メソッドを呼んで、SMTPにhelloと挨拶のようなものを送らなければならない\n",
    "\n",
    "250が返ってくれば成功したことになる"
   ]
  },
  {
   "cell_type": "markdown",
   "metadata": {},
   "source": [
    "## TLS暗号化の開始"
   ]
  },
  {
   "cell_type": "code",
   "execution_count": 35,
   "metadata": {},
   "outputs": [
    {
     "data": {
      "text/plain": [
       "(220, b'2.0.0 SMTP server ready')"
      ]
     },
     "execution_count": 35,
     "metadata": {},
     "output_type": "execute_result"
    }
   ],
   "source": [
    "smtp_obj.starttls()"
   ]
  },
  {
   "cell_type": "markdown",
   "metadata": {},
   "source": [
    "ポート番号を587番で接続した場合、TLS暗号化を使用することになるので暗号化を有効にするために、  \n",
    "SMTPオブジェクトの starttls メソッドを呼ぶ必要がある(SSLを使う場合は設定不要)\n",
    "\n",
    "220が返っていくれば成功したことになる"
   ]
  },
  {
   "cell_type": "markdown",
   "metadata": {},
   "source": [
    "## SMTPサーバーにログインする"
   ]
  },
  {
   "cell_type": "code",
   "execution_count": 36,
   "metadata": {},
   "outputs": [
    {
     "data": {
      "text/plain": [
       "(235, b'2.7.0 Authentication successful')"
      ]
     },
     "execution_count": 36,
     "metadata": {},
     "output_type": "execute_result"
    }
   ],
   "source": [
    "smtp_obj.login(\"kumakiyo000@outlook.com\", \"kiyotaka000\")"
   ]
  },
  {
   "cell_type": "markdown",
   "metadata": {},
   "source": [
    "SMTPサーバーと暗号化接続ができたら、ユーザー名とパスワードをSMTPオブジェクトの login メソッドに渡してログインする\n",
    "\n",
    "235が返ってくれば認証が成功したことになる"
   ]
  },
  {
   "cell_type": "markdown",
   "metadata": {},
   "source": [
    "## メールを送信する"
   ]
  },
  {
   "cell_type": "code",
   "execution_count": 37,
   "metadata": {},
   "outputs": [
    {
     "data": {
      "text/plain": [
       "{}"
      ]
     },
     "execution_count": 37,
     "metadata": {},
     "output_type": "execute_result"
    }
   ],
   "source": [
    "smtp_obj.sendmail(\"kumakiyo000@outlook.com\", \"kumakiyo000@gmail.com\", \n",
    "                  \"Subject: So long.\\nDear Alice, so long and thanks for all the fish. Sincerely, Bob\")"
   ]
  },
  {
   "cell_type": "markdown",
   "metadata": {},
   "source": [
    "メールを送信するにはSMTPオブジェクトの sendmail メソッドをよび、3つの引数を渡す必要がある\n",
    "\n",
    "渡す引数は、送信者のメールアドレス、受信者のメールアドレス(複数人いる場合はリストで渡す)、メールの本文を文字列で渡す\n",
    "\n",
    "メールの本文は必ず Subject: ～\\n から始め、改行前のメールの件名と改行後の本文を分けなければならない\n",
    "\n",
    "メールの送信が成功すれば空の辞書が返ってくる\n",
    "\n",
    "失敗した場合は、宛先ごとのペアが返ってくる\n",
    "\n",
    "上の方法では日本語で送れないので、送りたい場合は email パッケージの mine.text.MINEText や header.Header などを使う必要がある"
   ]
  },
  {
   "cell_type": "markdown",
   "metadata": {},
   "source": [
    "## SMTPサーバーから切断する"
   ]
  },
  {
   "cell_type": "code",
   "execution_count": 38,
   "metadata": {},
   "outputs": [
    {
     "data": {
      "text/plain": [
       "(221, b'2.0.0 Service closing transmission channel')"
      ]
     },
     "execution_count": 38,
     "metadata": {},
     "output_type": "execute_result"
    }
   ],
   "source": [
    "smtp_obj.quit()"
   ]
  },
  {
   "cell_type": "markdown",
   "metadata": {},
   "source": [
    "メールを送信したら quit メソッドを呼んで終了する\n",
    "\n",
    "221が返ってくればセッションが終了したことを意味する"
   ]
  },
  {
   "cell_type": "markdown",
   "metadata": {},
   "source": [
    "# メールを取得・削除する(IMAP)"
   ]
  },
  {
   "cell_type": "code",
   "execution_count": 3,
   "metadata": {},
   "outputs": [],
   "source": [
    "import imapclient, ssl"
   ]
  },
  {
   "cell_type": "code",
   "execution_count": 17,
   "metadata": {},
   "outputs": [
    {
     "data": {
      "text/plain": [
       "b'LOGIN completed.'"
      ]
     },
     "execution_count": 17,
     "metadata": {},
     "output_type": "execute_result"
    }
   ],
   "source": [
    "context = ssl.SSLContext(ssl.PROTOCOL_TLSv1_2)\n",
    "imap_obj = imapclient.IMAPClient(\"imap-mail.outlook.com\", ssl=True, ssl_context=context)\n",
    "imap_obj.login(\"kumakiyo000@outlook.com\",\"kiyotaka000\")"
   ]
  },
  {
   "cell_type": "code",
   "execution_count": 18,
   "metadata": {},
   "outputs": [
    {
     "data": {
      "text/plain": [
       "{b'PERMANENTFLAGS': (),\n",
       " b'EXISTS': 2,\n",
       " b'RECENT': 2,\n",
       " b'FLAGS': (b'\\\\Seen',\n",
       "  b'\\\\Answered',\n",
       "  b'\\\\Flagged',\n",
       "  b'\\\\Deleted',\n",
       "  b'\\\\Draft',\n",
       "  b'$MDNSent'),\n",
       " b'UNSEEN': [b'1'],\n",
       " b'UIDVALIDITY': 14,\n",
       " b'UIDNEXT': 33,\n",
       " b'READ-ONLY': [b'']}"
      ]
     },
     "execution_count": 18,
     "metadata": {},
     "output_type": "execute_result"
    }
   ],
   "source": [
    "imap_obj.select_folder(\"INBOX\", readonly=True)"
   ]
  },
  {
   "cell_type": "code",
   "execution_count": 19,
   "metadata": {},
   "outputs": [
    {
     "data": {
      "text/plain": [
       "[27, 29]"
      ]
     },
     "execution_count": 19,
     "metadata": {},
     "output_type": "execute_result"
    }
   ],
   "source": [
    "UIDs = imap_obj.search([\"SINCE\", \"04-Jun-2020\"])\n",
    "UIDs"
   ]
  },
  {
   "cell_type": "code",
   "execution_count": 34,
   "metadata": {},
   "outputs": [],
   "source": [
    "raw_messages = imap_obj.fetch([27], [\"BODY[]\", \"FLAGS\"])"
   ]
  },
  {
   "cell_type": "code",
   "execution_count": 21,
   "metadata": {},
   "outputs": [],
   "source": [
    "import pyzmail"
   ]
  },
  {
   "cell_type": "code",
   "execution_count": 35,
   "metadata": {},
   "outputs": [
    {
     "data": {
      "text/plain": [
       "'もう少しで新しい OneDrive のセットアップ完了です'"
      ]
     },
     "execution_count": 35,
     "metadata": {},
     "output_type": "execute_result"
    }
   ],
   "source": [
    "message = pyzmail.PyzMessage.factory(raw_messages[27][b\"BODY[]\"])\n",
    "message.get_subject()"
   ]
  },
  {
   "cell_type": "code",
   "execution_count": 36,
   "metadata": {},
   "outputs": [
    {
     "data": {
      "text/plain": [
       "[('Microsoft OneDrive', 'email@mail.onedrive.com')]"
      ]
     },
     "execution_count": 36,
     "metadata": {},
     "output_type": "execute_result"
    }
   ],
   "source": [
    "message.get_addresses(\"from\")"
   ]
  },
  {
   "cell_type": "code",
   "execution_count": 37,
   "metadata": {},
   "outputs": [
    {
     "data": {
      "text/plain": [
       "[('kumakiyo127@outlook.com', 'kumakiyo127@outlook.com')]"
      ]
     },
     "execution_count": 37,
     "metadata": {},
     "output_type": "execute_result"
    }
   ],
   "source": [
    "message.get_addresses(\"to\")"
   ]
  },
  {
   "cell_type": "code",
   "execution_count": 38,
   "metadata": {},
   "outputs": [
    {
     "data": {
      "text/plain": [
       "[]"
      ]
     },
     "execution_count": 38,
     "metadata": {},
     "output_type": "execute_result"
    }
   ],
   "source": [
    "message.get_addresses(\"cc\")"
   ]
  },
  {
   "cell_type": "code",
   "execution_count": 39,
   "metadata": {},
   "outputs": [
    {
     "data": {
      "text/plain": [
       "[]"
      ]
     },
     "execution_count": 39,
     "metadata": {},
     "output_type": "execute_result"
    }
   ],
   "source": [
    "message.get_addresses(\"bcc\")"
   ]
  },
  {
   "cell_type": "code",
   "execution_count": 40,
   "metadata": {},
   "outputs": [
    {
     "data": {
      "text/plain": [
       "False"
      ]
     },
     "execution_count": 40,
     "metadata": {},
     "output_type": "execute_result"
    }
   ],
   "source": [
    "message.text_part != None"
   ]
  },
  {
   "cell_type": "code",
   "execution_count": 41,
   "metadata": {},
   "outputs": [
    {
     "ename": "AttributeError",
     "evalue": "'NoneType' object has no attribute 'get_payload'",
     "output_type": "error",
     "traceback": [
      "\u001b[1;31m---------------------------------------------------------------------------\u001b[0m",
      "\u001b[1;31mAttributeError\u001b[0m                            Traceback (most recent call last)",
      "\u001b[1;32m<ipython-input-41-eccfe4c7d60f>\u001b[0m in \u001b[0;36m<module>\u001b[1;34m\u001b[0m\n\u001b[1;32m----> 1\u001b[1;33m \u001b[0mmessage\u001b[0m\u001b[1;33m.\u001b[0m\u001b[0mtext_part\u001b[0m\u001b[1;33m.\u001b[0m\u001b[0mget_payload\u001b[0m\u001b[1;33m(\u001b[0m\u001b[1;33m)\u001b[0m\u001b[1;33m.\u001b[0m\u001b[0mdecode\u001b[0m\u001b[1;33m(\u001b[0m\u001b[0mmessage\u001b[0m\u001b[1;33m.\u001b[0m\u001b[0mtext_part\u001b[0m\u001b[1;33m.\u001b[0m\u001b[0mcharset\u001b[0m\u001b[1;33m)\u001b[0m\u001b[1;33m\u001b[0m\u001b[1;33m\u001b[0m\u001b[0m\n\u001b[0m",
      "\u001b[1;31mAttributeError\u001b[0m: 'NoneType' object has no attribute 'get_payload'"
     ]
    }
   ],
   "source": [
    "message.text_part.get_payload().decode(message.text_part.charset)"
   ]
  },
  {
   "cell_type": "code",
   "execution_count": 42,
   "metadata": {},
   "outputs": [
    {
     "data": {
      "text/plain": [
       "True"
      ]
     },
     "execution_count": 42,
     "metadata": {},
     "output_type": "execute_result"
    }
   ],
   "source": [
    "message.html_part != None"
   ]
  },
  {
   "cell_type": "code",
   "execution_count": 43,
   "metadata": {
    "collapsed": true
   },
   "outputs": [
    {
     "data": {
      "text/plain": [
       "'<!DOCTYPE html PUBLIC \"-//W3C//DTD XHTML 1.0 Transitional//EN\" \"http://www.w3.org/TR/xhtml1/DTD/xhtml1-transitional.dtd\"><html xmlns=\"http://www.w3.org/1999/xhtml\" dir=\"ltr\" xmlns:v=\"urn:schemas-microsoft-com:vml\" xmlns:o=\"urn:schemas-microsoft-com:office:office\"><head>\\r\\n<meta http-equiv=\"Content-Type\" content=\"text/html; charset=utf-8\">\\r\\n<meta name=\"format-detection\" content=\"telephone=no\">\\r\\n<meta name=\"format-detection\" content=\"date=no\">\\r\\n<meta name=\"format-detection\" content=\"address=no\">\\r\\n<meta name=\"format-detection\" content=\"email=no\">\\r\\n<meta http-equiv=\"X-UA-Compatible\" content=\"IE=edge\">\\r\\n<meta name=\"viewport\" content=\"width=device-width, initial-scale=1.0\">\\r\\n<meta name=\"robots\" content=\"noindex, nofollow\">\\r\\n<meta name=\"x-apple-disable-message-reformatting\">\\r\\n\\r\\n\\r\\n<title></title>\\r\\n<!--[if gte mso 9]><xml>\\r\\n  <o:OfficeDocumentSettings>\\r\\n    <o:AllowPNG/>\\r\\n    <o:PixelsPerInch>96</o:PixelsPerInch>\\r\\n  </o:OfficeDocumentSettings>\\r\\n</xml><![endif]-->\\r\\n\\r\\n\\r\\n\\r\\n\\r\\n<style media=\"all\" type=\"text/css\">\\r\\n   /*Apple And OLD Android less than 5 fonts*/\\r\\n</style>\\r\\n\\r\\n\\r\\n<style media=\"all\" type=\"text/css\">\\r\\n  @-ms-viewport{ width: device-width;}\\r\\n</style>\\r\\n\\r\\n\\r\\n<style media=\"all\" type=\"text/css\">\\r\\n  \\r\\n  #outlook a {padding:0;}\\r\\n  .ReadMsgBody {width:100%;}\\r\\n  .ExternalClass {width:100%;}\\r\\n  .ExternalClass, .ExternalClass p, .ExternalClass span, .ExternalClass font, .ExternalClass td, .ExternalClass div {line-height: 100%;}\\r\\n  .ExternalClass img[class^=Emoji] { width: 10px !important; height: 10px !important; display: inline !important; } .ExternalClass .ecxhm { display: none !important; } .ExternalClass .ecxhm2 { display: inline !important; }\\r\\n  \\r\\n  .appleBody a {color:#68440a; text-decoration: none;}\\r\\n  .appleFooter a {color:#999999; text-decoration: none;}\\r\\n  * [OWA] .outlookLink505050 span {color:#505050 !important; border-bottom-width:0 !important; border-bottom-style:none !important; cursor: default !important;}\\r\\n  * [OWA] .outlookLinkFFFFFF span {color:#ffffff !important; border-bottom-width:0 !important; border-bottom-style:none !important; cursor: default !important;}\\r\\n  .contextualExtensionHighlight, .ms-font-color-themePrimary, .ms-border-color-themePrimary {border-bottom-width:0 !important; border-bottom-style:none !important;}\\r\\n  a[x-apple-data-detectors] {color: inherit !important; text-decoration: none !important; font-size: inherit !important; font-family: inherit !important; font-weight: inherit !important; line-height: inherit !important;}\\r\\n\\r\\n  \\r\\n  body { -webkit-text-size-adjust:100%; -ms-text-size-adjust:auto; height:100% !important; width:100% !important;}\\r\\n  div[style*=\"margin: 16px 0\"] { margin:0 !important; padding:0 !important; }\\r\\n  th { font-weight:normal; }\\r\\n  table {-webkit-text-size-adjust:100%; -ms-text-size-adjust:auto; mso-table-lspace:0pt; mso-table-rspace:0pt; border-collapse: collapse !important; font-weight:normal;}\\r\\n  tr {font-size:0px;mso-line-height-alt:0px;mso-margin-top-alt:0px;mso-line-height-rule:exactly;}\\r\\n  td {-webkit-text-size-adjust:100%; -ms-text-size-adjust:auto; mso-table-lspace:0pt; mso-table-rspace:0pt; border-collapse: collapse !important; margin:0; padding:0;}\\r\\n  a, a span, a.span:hover, a span:hover, a:visited {color: #767676; background-color: transparent !important; border: none !important; -webkit-text-size-adjust:100%; -ms-text-size-adjust:auto;}\\r\\n  a.tel, a.tel: link, a.tel: visited, a.tel: hover, a.tel: active {text-decoration: none !important; background-color: none !important; border: none !important; }\\r\\n  a.addr, a.addr: link, a.addr: visited, a.addr: hover, a.addr: active {text-decoration: none !important; background-color: transparent !important; border: none !important; }\\r\\n  a img {border:none;}\\r\\n  body, div, span, td, h1,h2,h3,h4,h5, p {Margin:0; padding:0;}\\r\\n  h1,h2,h3,h4,h5 {display:block; font-size: inherit; font-weight: normal; color: inherit;}\\r\\n  img {-ms-interpolation-mode:bicubic !important; border:0; height:auto; line-height:100%; outline:none; text-decoration:none; image-rendering: auto;}\\r\\n  sup, sub { vertical-align: baseline; position: relative; top: -0.4em; }\\r\\n  sub { top: 0.4em; }\\r\\n  table[DIR=\"rtl\"], table td[DIR=\"rtl\"], table th[DIR=\"rtl\"], span[DIR=\"rtl\"], div[DIR=\"rtl\"] {direction:RTL !important; unicode-bidi:embed !important;}\\r\\n</style>\\r\\n\\r\\n\\r\\n<style media=\"screen\" type=\"text/css\">\\r\\n  @media screen and (max-width: 497px)  {\\r\\n    .container { width:100% !important; min-width:300px !important; max-width:480px !important; margin: 0; padding:0; word-wrap:normal; }\\r\\n    .container table { width:100% !important; }\\r\\n    .mobile-full-width {width: 100% !important; min-width: 300px !important;}\\r\\n    .hide { display:none !important; width: 0px; min-width: 0px; height: 0px; line-height: 0px; }\\r\\n    .drop,.ftafdrop { display:block !important; width: 100% !important; }\\r\\n    .mobile-shown, .mobile-shown div { display: block !important; overflow: visible !important; width: auto !important; max-height:inherit !important; height:auto !important; visibility: visible !important;}\\r\\n    .photo img { width:100% !important; height:auto !important;}\\r\\n    .photo80 img {width:80% !important; height:auto !important;}\\r\\n    .photo50 img {width:50% !important; height:auto !important;}\\r\\n    .photo35 img {width:35% !important; height:auto !important;}\\r\\n    .buttonblck table { width:auto !important; }\\r\\n    .mobile-center table, .mobile-center, .mobile-center img { text-align: center !important; margin: 0 auto !important; }\\r\\n    .mobile-left table, .mobile-left, .mobile-left img { text-align: left !important; }\\r\\n    .mobile-no-padding { padding:0px !important; }\\r\\n    .mobile-no-side-padding, .mobile-side-padding-0 { padding-left:0px !important; padding-right:0px !important; }\\r\\n    .mobile-no-top-padding { padding-top:0px !important; }\\r\\n    .mobile-no-bottom-padding, .mobile-bottom-padding-0 {padding-bottom: 0px !important;}\\r\\n    .mobile-side-padding-5 {padding-left: 5px !important; padding-right: 5px !important;}\\r\\n    .mobile-side-padding-10 { padding-left:10px !important; padding-right:10px !important; }\\r\\n    .mobile-side-padding-15 { padding-left:15px !important; padding-right:15px !important; }\\r\\n    .mobile-side-padding-20 { padding-left:20px !important; padding-right:20px !important; }\\r\\n    .mobile-side-padding-25 { padding-left:25px !important; padding-right:25px !important; }\\r\\n    .mobile-side-padding-30 { padding-left:30px !important; padding-right:30px !important; }\\r\\n    .mobile-side-padding-35 { padding-left:35px !important; padding-right:35px !important; }\\r\\n    .mobile-side-padding-40 { padding-left:40px !important; padding-right:40px !important; }\\r\\n    .mobile-side-padding-45 { padding-left:45px !important; padding-right:45px !important; }\\r\\n    .mobile-side-padding-50 { padding-left:50px !important; padding-right:50px !important; }\\r\\n    .mobile-left-padding-10 { padding-left:10px !important; }\\r\\n    .mobile-left-padding-20 { padding-left:20px !important; }\\r\\n    .mobile-left-padding-30 { padding-left:30px !important; }\\r\\n    .mobile-left-padding-40 { padding-left:40px !important; }\\r\\n    .mobile-left-padding-50 {padding-left: 50px !important;}\\r\\n    .mobile-right-padding-10 {padding-right: 10px !important;}\\r\\n    .mobile-right-padding-20 {padding-right: 20px !important;}\\r\\n    .mobile-right-padding-30 {padding-right: 30px !important;}\\r\\n    .mobile-right-padding-40 {padding-right: 40px !important;}\\r\\n    .mobile-right-padding-50 {padding-right: 50px !important;}\\r\\n    .mobile-top-padding-10 { padding-top:10px !important; }\\r\\n    .mobile-top-padding-20 { padding-top:20px !important; }\\r\\n    .mobile-top-padding-30 { padding-top:30px !important; }\\r\\n    .mobile-top-padding-40 { padding-top:40px !important; }\\r\\n    .mobile-top-padding-50 {padding-top: 50px !important;}\\r\\n    .mobile-bottom-padding-10 { padding-bottom:10px !important; }\\r\\n    .mobile-bottom-padding-20 { padding-bottom:20px !important; }\\r\\n    .mobile-bottom-padding-30 { padding-bottom:30px !important; }\\r\\n    .mobile-bottom-padding-40 { padding-bottom:40px !important; }\\r\\n    .mobile-bottom-padding-50 {padding-bottom: 50px !important;}\\r\\n    .mobile-font-56 {font-size: 56px !important; line-height: 61px !important;}\\r\\n    .mobile-font-40 {font-size: 40px !important; line-height: 45px !important;}\\r\\n    .mobile-font-37 {font-size: 37px !important; line-height: 47px !important;}\\r\\n    .mobile-width-85 { width: 85px !important; height:auto !important}\\r\\n    .mobile-width-117 { width: 117px !important; height:auto !important}\\r\\n  }\\r\\n</style>\\r\\n  \\r\\n  <style media=\"all\" type=\"text/css\">\\r\\n    @media only screen and (max-width:497px) {\\r\\n      .mobile-headline { font-size: 17px !important; line-height: 21px !important;}\\r\\n\\t  .mobile-body { font-size: 15px !important; line-height: 21px !important;}\\r\\n\\t  .width70 { width:70px !important}\\r\\n    }\\r\\n  </style>\\r\\n</head>\\r\\n<body>\\r\\n  <table cellpadding=\"0\" cellspacing=\"0\" border=\"0\" width=\"100%\" class=\"container\">\\r\\n  <tr>\\r\\n    <td align=\"center\" style=\"font-size:1px; line-height:1px;\"><div style=\"display:none; width:0px; max-height:0px; overflow:hidden;\">新しい OneDrive へようこそ OneDrive には、すてきな機能がたくさんあります。 ファイルを 1 つアップロードして次の段階に進みましょう。 ファイルをアップロード. いつでも必要なものにアクセスできる. ファイルと写真はいつも同期されているので、すべてのデバイスから最新の情報にアクセスできます。 <img src=\"https://click.mail.onedrive.com/open.aspx?ffcb10-feea1d757c620c-fdfa167073640c78711c7176-fe9713727665037f77-ff981675-fdfe15707365067d71117772-fe9617757662067e76&amp;d=70136\" width=\"1\" height=\"1\"></div></td>\\r\\n  </tr>\\r\\n  <tr>\\r\\n    <td style=\"line-height:2px; height:2px;\" class=\"hide\">\\r\\n      <img width=\"640\" height=\"2\" style=\"max-height:2px; min-height:2px; display:block; width:640px; min-width:640px;\" src=\"http://image.email.office.com/lib/fe9815707264017b71/m/1/gmailwidthfix.gif\">\\r\\n    </td>\\r\\n  </tr>\\r\\n  <tr>\\r\\n    <td align=\"center\" bgcolor=\"#ffffff\">\\r\\n      <table border=\"0\" cellpadding=\"0\" cellspacing=\"0\" width=\"640\" align=\"center\" style=\"margin:0 auto;\">\\r\\n        <tr>\\r\\n          <td>\\r\\n            <table width=\"100%\" cellspacing=\"0\" cellpadding=\"0\" border=\"0\">\\r\\n              <tr>\\r\\n                \\r\\n                <td align=\"left\" valign=\"top\" bgcolor=\"#f2f2f2\">\\r\\n                  \\r\\n                  \\r\\n                  \\r\\n<table border=\"0\" cellpadding=\"0\" cellspacing=\"0\" width=\"100%\" role=\"presentation\">\\r\\n  <tr>\\r\\n    <td bgcolor=\"#f2f2f2\">\\r\\n      <table width=\"100%\" cellspacing=\"0\" cellpadding=\"0\" border=\"0\" role=\"presentation\">\\r\\n        \\r\\n        <tr>\\r\\n          <td bgcolor=\"#f2f2f2\" style=\"font-family:\\'Meiryo UI\\', \\'Segoe UI\\', \\'Segoe UI Regular\\', SUWR, Verdana, sans-serif; font-size:10px; mso-line-height-rule:exactly; line-height:14px; color:#737373; padding-top:10px; padding-left:50px; padding-right:50px; text-align:center; letter-spacing:-0.01em;\" class=\"mobile-side-padding-20\">\\r\\n            <p style=\"Margin:0; padding:0; font-family:\\'Meiryo UI\\', \\'Segoe UI\\', \\'Segoe UI Regular\\', SUWR, Verdana, sans-serif; font-size:10px; mso-line-height-rule:exactly; line-height:14px; color:#737373; text-align:center; letter-spacing:-0.01em;\">\\r\\n               ファイルを 1 つアップロードしてみましょう。 | <a href=\"https://view.mail.onedrive.com/?qs=29f9d297948987e91b68a4eae607618b16cbba09ec054213dc7c133c5afcd546f6a776d9f63376189b335ac4077184c28978c1e9cb2cd0ce2b885ce166c4aa14550bb7ac6369aea2f7040142c8534567\" style=\"color:#737374; text-decoration:underline;\"><span style=\"color:#737374; text-decoration:underline;\">オンラインで見る</span></a>\\r\\n            </p>\\r\\n          </td>\\r\\n        </tr>\\r\\n        \\r\\n      </table>\\r\\n    </td>\\r\\n  </tr>\\r\\n</table>\\r\\n\\r\\n                </td>\\r\\n              </tr>\\r\\n              <tr>\\r\\n                \\r\\n                <td align=\"left\" valign=\"top\" bgcolor=\"#f2f2f2\">\\r\\n                  \\r\\n                  \\r\\n                  \\r\\n\\r\\n\\r\\n<table border=\"0\" cellpadding=\"0\" cellspacing=\"0\" width=\"100%\" role=\"presentation\">\\r\\n  <tr>\\r\\n    <td align=\"left\" bgcolor=\"#f2f2f2\" style=\"vertical-align:top;\" valign=\"top\">\\r\\n      <table width=\"100%\" cellspacing=\"0\" cellpadding=\"0\" border=\"0\" role=\"presentation\">\\r\\n        <tr>\\r\\n          <td valign=\"top\" align=\"left\" bgcolor=\"#f2f2f2\" style=\"padding-top:10px; padding-bottom:14px;\">\\r\\n            <table width=\"100%\" cellspacing=\"0\" cellpadding=\"0\" border=\"0\" role=\"presentation\">\\r\\n              <tr>\\r\\n                <td align=\"left\" bgcolor=\"#f2f2f2\" style=\"padding-left:20px;\"><img alt=\"Microsoft\" src=\"https://asgcdn.blob.core.windows.net/office-email-templates/logo_microsoft.png\" width=\"99\" style=\"display:block; outline:none; -ms-interpolation-mode:bicubic; border:none;\" align=\"left\" class=\"mobile-width-85\"></td>\\r\\n              </tr>\\r\\n            </table>\\r\\n          </td>\\r\\n          \\r\\n          <td valign=\"top\" align=\"right\" bgcolor=\"#f2f2f2\" style=\"padding-top:10px; padding-bottom:14px;\">\\r\\n            <table width=\"100%\" cellspacing=\"0\" cellpadding=\"0\" border=\"0\" role=\"presentation\">\\r\\n              <tr>\\r\\n                <td align=\"right\" bgcolor=\"#f2f2f2\" style=\"padding-right:20px;\"><a target=\"_blank\" href=\"https://click.mail.onedrive.com/?qs=d49b25167b8e295eca8c2e75f3befc839defd91e97603677200f38ff531eb423d981b93da0be16101c62355010869a71c3a118897dff8dd3b1c5fe9fb5491d38\"><img alt=\"OneDrive\" src=\"https://asgcdn.blob.core.windows.net/office-email-templates/FY18_OneDrive_logo_2.png\" width=\"138\" style=\"display:block; outline:none; -ms-interpolation-mode:bicubic; border:none;\" align=\"right\" class=\"mobile-width-117\"></a></td>\\r\\n              </tr>\\r\\n            </table>\\r\\n          </td>\\r\\n          \\r\\n        </tr>\\r\\n      </table>\\r\\n    </td>\\r\\n  </tr>\\r\\n</table>\\r\\n\\r\\n                </td>\\r\\n              </tr>\\r\\n              <tr>\\r\\n                <td align=\"center\" bgcolor=\"#f2f2f2\" style=\"padding-left:20px; padding-right: 20px;\" class=\"mobile-no-side-padding mobile-no-top-padding\">\\r\\n                  <table width=\"100%\" cellspacing=\"0\" cellpadding=\"0\" border=\"0\">\\r\\n                    <tr>\\r\\n                      <td align=\"center\" class=\"mobile-headline mobile-side-padding-10\" bgcolor=\"#ffffff\" style=\"font-family:\\'Meiryo UI\\', \\'Segoe UI\\', \\'Segoe UI Regular\\', SUWR, Verdana, sans-serif; font-size:21px; mso-line-height-rule:exactly; line-height:25px; color:#333333; padding-left:28px; padding-right:27px; padding-bottom:54px; padding-top:32px\">\\r\\n                        新しい OneDrive&nbsp;へようこそ\\r\\n                      </td>\\r\\n                    </tr>\\r\\n                    <tr>\\r\\n                      <td align=\"center\" class=\"photo mobile-side-padding-10\" bgcolor=\"#ffffff\"><img alt=\"\" width=\"528\" border=\"0\" style=\"display:block; outline:none; -ms-interpolation-mode:bicubic; border:none;\" src=\"https://asgcdn.azureedge.net/fy17-od-welcome-1/170123_Welcome_Email_Hero.gif\"></td>\\r\\n                    </tr>\\r\\n                    <tr>\\r\\n                      <td align=\"center\" bgcolor=\"#ffffff\" style=\"font-family:\\'Meiryo UI\\', \\'Segoe UI Light\\', SUWL, \\'Segoe UI\\', Verdana, sans-serif; font-weight:lighter; font-size:17px; mso-line-height-rule:exactly; line-height:22px; color:#666666; padding-left:110px; padding-right:110px; padding-bottom:16px; padding-top:32px\" class=\"mobile-side-padding-10 mobile-body\">\\r\\n                        OneDrive には、すてきな機能がたくさんあります。 ファイルを 1&nbsp;つアップロードして次の段階に進みましょう。\\r\\n                      </td>\\r\\n                    </tr>\\r\\n                    <tr>\\r\\n                      <td bgcolor=\"#ffffff\" align=\"center\" style=\"padding-bottom:60px;\" class=\"mobile-side-padding-10 buttonblck\">\\r\\n                        <a href=\"https://click.mail.onedrive.com/?qs=583a8e42f5362b7082ba46c7393270df576edca52696ccc398c770a57271a91fd52d16387efd77e5dc711616b7ae7fb3a3f341d36dceb253374899bfd432d066\" style=\"color:#ffffff; text-decoration:none;\">\\r\\n                        <table cellspacing=\"0\" cellpadding=\"0\" border=\"0\" style=\"margin:0 auto\">\\r\\n                          <tr>\\r\\n                            <td class=\"mobile-side-padding-15\" bgcolor=\"#0078D7\" align=\"center\" style=\"font-family:\\'Meiryo UI\\', \\'Segoe UI Semibold\\', SUWSB, \\'Segoe UI\\', Verdana, sans-serif; font-weight:bolder; font-size:14px; mso-line-height-rule:exactly; line-height:18px; color:#727272; padding-top: 10px; padding-left: 20px; padding-right: 20px; padding-bottom: 10px;\">\\r\\n                              <a href=\"https://click.mail.onedrive.com/?qs=583a8e42f5362b7082ba46c7393270df576edca52696ccc398c770a57271a91fd52d16387efd77e5dc711616b7ae7fb3a3f341d36dceb253374899bfd432d066\" style=\"color:#ffffff; text-decoration:none;\"><span style=\"color:#ffffff; text-decoration:none;\">ファイルをアップロード</span></a>\\r\\n                            </td>\\r\\n                          </tr>\\r\\n                        </table>\\r\\n                        </a>\\r\\n                      </td>\\r\\n                    </tr>\\r\\n                    <tr>\\r\\n                      <td bgcolor=\"#ffffff\" align=\"center\" class=\"mobile-side-padding-10\">\\r\\n                       <table width=\"100%\" cellspacing=\"0\" cellpadding=\"0\" border=\"0\">\\r\\n                          <tr>\\r\\n                            <td bgcolor=\"#ffffff\" align=\"center\" style=\"padding-left:15px;padding-right:15px; padding-bottom:12px;\">\\r\\n                              <table width=\"100%\" cellspacing=\"0\" cellpadding=\"0\" border=\"0\">\\r\\n                                <tr>\\r\\n                                  <td bgcolor=\"#ffffff\" align=\"center\" style=\"padding-right:16px; padding-bottom:30px\" class=\"mobile-no-side-padding\" valign=\"top\">\\r\\n                                    <table width=\"100%\" cellspacing=\"0\" cellpadding=\"0\" border=\"0\">\\r\\n                                      <tr>\\r\\n                                        <td align=\"center\" style=\"padding-bottom:8px;\"><img alt=\"\" src=\"https://asgcdn.azureedge.net/fy17-od-welcome-1/170123_Welcome_Email_icon_1.png\" width=\"178\" style=\"display:block; outline:none; -ms-interpolation-mode:bicubic; border:none; margin:0 auto;\" align=\"center\"></td>\\r\\n                                      </tr>\\r\\n                                      <tr>\\r\\n                                        <td align=\"center\" style=\"font-family:\\'Meiryo UI\\', \\'Segoe UI Semibold\\', SUWSB, \\'Segoe UI\\', Verdana, sans-serif; font-weight:bolder; font-size:13px; mso-line-height-rule:exactly; line-height:17px; color:#333333; padding-bottom:5px; text-align:center;\">\\r\\n                                          いつでも必要なものにアクセスできる\\r\\n                                        </td>\\r\\n                                      </tr>\\r\\n                                      <tr>\\r\\n                                        <td align=\"center\" style=\"padding-left:120px; padding-right:120px; font-family:\\'Meiryo UI\\', \\'Segoe UI Light\\', SUWL, \\'Segoe UI\\', Verdana, sans-serif; font-weight:lighter; font-size:13px; mso-line-height-rule:exactly; line-height:17px; color:#666666; text-align:center;\" class=\"mobile-no-side-padding\">\\r\\n                                          ファイルと写真はいつも同期されているので、すべてのデバイスから最新の情報にアクセスできます。\\r\\n                                        </td>\\r\\n                                      </tr>\\r\\n                                    </table>\\r\\n                                  </td>\\r\\n                                 </tr>\\r\\n                                 <tr>\\r\\n                                  <td bgcolor=\"#ffffff\" align=\"center\" style=\"padding-right:16px; padding-bottom:30px\" class=\"mobile-no-side-padding\" valign=\"top\">\\r\\n                                    <table width=\"100%\" cellspacing=\"0\" cellpadding=\"0\" border=\"0\">\\r\\n                                      <tr>\\r\\n                                        <td align=\"center\" style=\"padding-bottom:8px;\"><img alt=\"\" src=\"https://asgcdn.azureedge.net/fy17-od-welcome-1/170123_Welcome_Email_icon_2.png\" width=\"178\" style=\"display:block; outline:none; -ms-interpolation-mode:bicubic; border:none; margin:0 auto;\" align=\"center\"></td>\\r\\n                                      </tr>\\r\\n                                      <tr>\\r\\n                                        <td align=\"center\" style=\"font-family:\\'Meiryo UI\\', \\'Segoe UI Semibold\\', SUWSB, \\'Segoe UI\\', Verdana, sans-serif; font-weight:bolder; font-size:13px; mso-line-height-rule:exactly; line-height:17px; color:#333333; padding-bottom:5px; text-align:center;\">\\r\\n                                          どこでも仕事ができる\\r\\n                                        </td>\\r\\n                                      </tr>\\r\\n                                      <tr>\\r\\n                                        <td align=\"center\" style=\"padding-left:120px; padding-right:120px;font-family:\\'Meiryo UI\\', \\'Segoe UI Light\\', SUWL, \\'Segoe UI\\', Verdana, sans-serif; font-weight:lighter; font-size:13px; mso-line-height-rule:exactly; line-height:17px; color:#666666; text-align:center;\" class=\"mobile-bottom-padding-30 mobile-no-side-padding\">\\r\\n                                          <a href=\"https://click.mail.onedrive.com/?qs=2c16c03353ee02336f5045c6fa5c51a3795ff21fca3d2cf92b7c9718abe417b90961964b860f8d774e814efaac227a93584812626317c28753315bb91cfd4e88\" style=\"color:#0078D4; text-decoration: none;\"><span style=\"text-decoration: none; color:#0078D7;\">OneDrive アプリをインストール</span></a>すれば、スマートフォンやタブレットでファイルを表示、編集、共有できます。\\r\\n                                        </td>\\r\\n                                      </tr>\\r\\n                                    </table>\\r\\n                                  </td>\\r\\n                                 </tr>\\r\\n                                 <tr>\\r\\n                                  <td bgcolor=\"#ffffff\" align=\"center\" class=\"\" valign=\"top\" style=\"padding-bottom:30px\">\\r\\n                                    <table width=\"100%\" cellspacing=\"0\" cellpadding=\"0\" border=\"0\">\\r\\n                                      <tr>\\r\\n                                        <td align=\"center\" style=\"padding-bottom:8px;\"><img alt=\"\" src=\"https://asgcdn.azureedge.net/fy17-od-welcome-1/170123_Welcome_Email_icon_3.png\" width=\"178\" style=\"display:block; outline:none; -ms-interpolation-mode:bicubic; border:none; margin:0 auto;\" align=\"center\"></td>\\r\\n                                      </tr>\\r\\n                                      <tr>\\r\\n                                        <td align=\"center\" style=\"font-family:\\'Meiryo UI\\', \\'Segoe UI Semibold\\', SUWSB, \\'Segoe UI\\', Verdana, sans-serif; font-weight:bolder; font-size:13px; mso-line-height-rule:exactly; line-height:17px; color:#333333; padding-bottom:5px; text-align:center;\">\\r\\n                                          共有して共同作業できる\\r\\n                                        </td>\\r\\n                                      </tr>\\r\\n                                      <tr>\\r\\n                                        <td align=\"center\" style=\"padding-left:120px; padding-right:120px;font-family:\\'Meiryo UI\\', \\'Segoe UI Light\\', SUWL, \\'Segoe UI\\', Verdana, sans-serif; font-weight:lighter; font-size:13px; mso-line-height-rule:exactly; line-height:17px; color:#666666; text-align:center;\" class=\"mobile-bottom-padding-30 mobile-no-side-padding\">\\r\\n                                          Office&nbsp;ファイルのリンクを送ると、リアルタイムの共同編集を使用して、他のメンバーがファイルに変更を加えるようすを確認できます。\\r\\n                                        </td>\\r\\n                                      </tr>\\r\\n                                    </table>\\r\\n                                  </td>\\r\\n                                </tr>\\r\\n                              </table>\\r\\n                            </td>\\r\\n                          </tr>\\r\\n                        </table>\\r\\n                      </td>\\r\\n                    </tr>\\r\\n                    <tr>\\r\\n                      <td height=\"20\" style=\"mso-line-height-rule:exactly;line-height:20px;font-size:1px;\">&nbsp;</td>\\r\\n                    </tr>\\r\\n                    <tr>\\r\\n                      <td align=\"center\" class=\"mobile-side-padding-10 mobile-top-padding-30\" bgcolor=\"#ffffff\" style=\"padding-top:32px;\"><img alt=\"\" width=\"49\" border=\"0\" style=\"display:block; outline:none; -ms-interpolation-mode:bicubic; border:none;\" src=\"https://asgcdn.azureedge.net/fy17-od-welcome-1/1805-premium-diamond-2.png\"></td>\\r\\n                    </tr>\\r\\n                    <tr>\\r\\n                      <td align=\"center\" class=\"mobile-headline mobile-side-padding-10\" bgcolor=\"#ffffff\" style=\"font-family:\\'Meiryo UI\\', \\'Segoe UI Semibold\\', SUWSB, \\'Segoe UI\\', Verdana, sans-serif; font-weight:bolder; font-size:17px; mso-line-height-rule:exactly; line-height:22px; color:#333333; padding-left:28px; padding-right:27px; padding-bottom:14px; padding-top:16px\">\\r\\n                        特別な機能とストレージを入手する\\r\\n                      </td>\\r\\n                    </tr>\\r\\n                    <tr>\\r\\n                      <td align=\"center\" bgcolor=\"#ffffff\" style=\"font-family:\\'Meiryo UI\\', \\'Segoe UI Light\\', SUWL, \\'Segoe UI\\', Verdana, sans-serif; font-weight:lighter; font-size:13px; mso-line-height-rule:exactly; line-height:17px; color:#666666; padding-left:130px; padding-right:130px; padding-bottom:32px;\" class=\"mobile-side-padding-10 mobile-body\">\\r\\n                        Office 365 では、OneDrive の特別な機能、1&nbsp;TB の OneDrive ストレージ、Office&nbsp;のあらゆる機能をご利用いただけます。\\r\\n                      </td>\\r\\n                    </tr>\\r\\n                    <tr>\\r\\n                      <td align=\"center\" bgcolor=\"#ffffff\" class=\"mobile-side-padding-10 buttonblck\">\\r\\n                        <table cellspacing=\"0\" cellpadding=\"0\" border=\"0\" style=\"margin:0 auto\">\\r\\n                          <tr>\\r\\n                            <td align=\"left\" style=\"padding-bottom:6px; padding-right:10px;\"><img alt=\"\" width=\"10\" border=\"0\" style=\"display:block; outline:none; -ms-interpolation-mode:bicubic; border:none;\" src=\"https://asgcdn.azureedge.net/fy17-od-welcome-1/170123_Welcome_Email_greencheck.png\"></td>\\r\\n                            <td align=\"left\" style=\"font-family:\\'Meiryo UI\\', \\'Segoe UI Light\\', SUWL, \\'Segoe UI\\', Verdana, sans-serif; font-weight:lighter; font-size:13px; mso-line-height-rule:exactly; line-height:17px; color:#666666; padding-bottom:12px\">合計 <span style=\"font-family:Segoe UI Semibold, SUWSB, Segoe UI, Verdana, sans-serif;\">1&nbsp;TB</span> (1,000&nbsp;GB)</td>\\r\\n                          </tr>\\r\\n                          <tr>\\r\\n                            <td align=\"left\" style=\"padding-bottom:6px; padding-right:10px;\"><img alt=\"\" width=\"10\" border=\"0\" style=\"display:block; outline:none; -ms-interpolation-mode:bicubic; border:none;\" src=\"https://asgcdn.azureedge.net/fy17-od-welcome-1/170123_Welcome_Email_greencheck.png\"></td>\\r\\n                            <td align=\"left\" style=\"font-family:\\'Meiryo UI\\', \\'Segoe UI Light\\', SUWL, \\'Segoe UI\\', Verdana, sans-serif; font-weight:lighter; font-size:13px; mso-line-height-rule:exactly; line-height:17px; color:#666666; padding-bottom:12px\">強力な生産性</td>\\r\\n                          </tr>\\r\\n                          <tr>\\r\\n                           <td align=\"left\" style=\"padding-bottom:6px; padding-right:10px;\"><img alt=\"\" width=\"10\" border=\"0\" style=\"display:block; outline:none; -ms-interpolation-mode:bicubic; border:none;\" src=\"https://asgcdn.azureedge.net/fy17-od-welcome-1/170123_Welcome_Email_greencheck.png\"></td>\\r\\n                            <td align=\"left\" style=\"font-family:\\'Meiryo UI\\', \\'Segoe UI Light\\', SUWL, \\'Segoe UI\\', Verdana, sans-serif; font-weight:lighter; font-size:13px; mso-line-height-rule:exactly; line-height:17px; color:#666666; padding-bottom:12px\">高度な共有機能</td>\\r\\n                          </tr>\\r\\n                          <tr>\\r\\n                            <td align=\"left\" style=\"padding-bottom:6px; padding-right:10px;\"><img alt=\"\" width=\"10\" border=\"0\" style=\"display:block; outline:none; -ms-interpolation-mode:bicubic; border:none;\" src=\"https://asgcdn.azureedge.net/fy17-od-welcome-1/170123_Welcome_Email_greencheck.png\"></td>\\r\\n                            <td align=\"left\" style=\"font-family:\\'Meiryo UI\\', \\'Segoe UI Light\\', SUWL, \\'Segoe UI\\', Verdana, sans-serif; font-weight:lighter; font-size:13px; mso-line-height-rule:exactly; line-height:17px; color:#666666; padding-bottom:12px\">Office 2016&nbsp;アプリ</td>\\r\\n                          </tr>\\r\\n                        </table>\\r\\n                      </td>\\r\\n                    </tr>\\r\\n                    <tr>\\r\\n                      <td align=\"center\" class=\"mobile-side-padding-10\" bgcolor=\"#ffffff\" style=\"padding-bottom:28px\" class=\"mobile-bottom-padding-20\"><img alt=\"Word - Excel - PowerPoint - OneNote - Outlook\" width=\"132\" border=\"0\" style=\"display:block; outline:none; -ms-interpolation-mode:bicubic; border:none;\" src=\"https://asgcdn.azureedge.net/fy17-od-welcome-1/1805-office-icons.png\"></td>\\r\\n                    </tr>\\r\\n                    <tr>\\r\\n                      <td bgcolor=\"#ffffff\" align=\"center\" class=\"mobile-side-padding-10 buttonblck\">\\r\\n                        <a href=\"https://click.mail.onedrive.com/?qs=c66e0ce47b05fa81f835009859e2a4fa61c343effcb753ae8f9d192ad1d54f61fe7ad56b683ca044492a54517f6eedb7c18fe5614c9dca2f7394a42ba5a0d58f\" style=\"color:#ffffff; text-decoration:none;\">\\r\\n                        <table cellspacing=\"0\" cellpadding=\"0\" border=\"0\" style=\"margin:0 auto\">\\r\\n                          <tr>\\r\\n                            <td class=\"mobile-side-padding-15\" bgcolor=\"#02a54f\" align=\"center\" style=\"font-family:\\'Meiryo UI\\', \\'Segoe UI Semibold\\', SUWSB, \\'Segoe UI\\', Verdana, sans-serif; font-weight:bolder; font-size:14px; mso-line-height-rule:exactly; line-height:18px; color:#727272; padding-top: 10px; padding-left: 20px; padding-right: 20px; padding-bottom: 10px;\">\\r\\n                              <a href=\"https://click.mail.onedrive.com/?qs=c66e0ce47b05fa81f835009859e2a4fa61c343effcb753ae8f9d192ad1d54f61fe7ad56b683ca044492a54517f6eedb7c18fe5614c9dca2f7394a42ba5a0d58f\" style=\"color:#ffffff; text-decoration:none;\"><span style=\"color:#ffffff; text-decoration:none;\">OneDrive をアップグレード</span></a>\\r\\n                            </td>\\r\\n                          </tr>\\r\\n                        </table>\\r\\n                        </a>\\r\\n                      </td>\\r\\n                    </tr>\\r\\n                    <tr>\\r\\n                      <td align=\"center\" class=\"photo\" bgcolor=\"#ffffff\" valign=\"bottom\">\\r\\n                      \\t<table width=\"100%\" cellspacing=\"0\" cellpadding=\"0\" border=\"0\">\\r\\n                          <tr>\\r\\n                            <td align=\"left\" valign=\"bottom\">\\r\\n                            <img alt=\"\" width=\"241\" border=\"0\" style=\"display:block; outline:none; -ms-interpolation-mode:bicubic; border:none;\" src=\"https://asgcdn.azureedge.net/fy17-od-welcome-1/170123_Welcome_Email_cloud_1.png\">\\r\\n                            </td>\\r\\n                            <td width=\"100\" class=\"width70\"></td>\\r\\n                            <td align=\"right\" valign=\"bottom\">\\r\\n                            <img alt=\"\" width=\"210\" border=\"0\" style=\"display:block; outline:none; -ms-interpolation-mode:bicubic; border:none;\" src=\"https://asgcdn.azureedge.net/fy17-od-welcome-1/170123_Welcome_Email_cloud_2.png\">\\r\\n                            </td>\\r\\n                          </tr>\\r\\n                        </table>\\r\\n                      </td>\\r\\n                    </tr>\\r\\n                  </table>\\r\\n                </td>\\r\\n              </tr>\\r\\n              <tr>\\r\\n                <td align=\"left\" valign=\"top\" bgcolor=\"#f2f2f2\">\\r\\n                  \\r\\n                  \\r\\n\\r\\n\\r\\n                  \\r\\n                  \\r\\n                   \\r\\n \\r\\n\\r\\n\\r\\n<table border=\"0\" cellpadding=\"0\" cellspacing=\"0\" width=\"100%\" role=\"presentation\">\\r\\n  <tr>\\r\\n    <td align=\"left\" bgcolor=\"#f2f2f2\" style=\"vertical-align:top; padding-top:15px; padding-bottom:15px;\" class=\"mobile-center\">\\r\\n      <table cellspacing=\"0\" cellpadding=\"0\" border=\"0\" role=\"presentation\">\\r\\n        <tr>\\r\\n          <td align=\"left\" bgcolor=\"#f2f2f2\" style=\"padding-left:30px;\" class=\"mobile-side-padding-20 buttonblck mobile-center\">\\r\\n            <table cellspacing=\"0\" cellpadding=\"0\" border=\"0\" role=\"presentation\">\\r\\n              <tr>\\r\\n                \\r\\n                <td align=\"center\" bgcolor=\"#f2f2f2\" style=\"padding-right:17px;\"><a target=\"_blank\" href=\"https://click.mail.onedrive.com/?qs=3bc9ec4cea534c7cd99e0fbeafe74d7932ba9444e331c8923acc8fab01ee9ae438346427ab1adeb64d1941ad653e90fbaaf9f574c5b5ac085f06fb92969e488d\"><img alt=\"Facebook\" src=\"https://asgcdn.azureedge.net/office-email-templates/Social_Facebook_Icon_40x36.png\" width=\"20\" style=\"display:block; outline:none; -ms-interpolation-mode:bicubic; border:none;\"></a></td>\\r\\n                \\r\\n                <td align=\"center\" bgcolor=\"#f2f2f2\" style=\"padding-right:26px;\"><a target=\"_blank\" href=\"https://click.mail.onedrive.com/?qs=c83eb3ecef20f33597e1015c8663c43f568c6903c19fe31bb6607589bb0a8a000702e3cc0f452892ff2c6f424e342426371c18c75e39b113d28e558f8293f62c\"><img alt=\"Twitter\" src=\"https://asgcdn.azureedge.net/office-email-templates/Social_Twitter_Icon_40x36.png\" width=\"20\" style=\"display:block; outline:none; -ms-interpolation-mode:bicubic; border:none;\"></a></td>\\r\\n                \\r\\n              </tr>\\r\\n            </table>\\r\\n          </td>\\r\\n        </tr>\\r\\n      </table>\\r\\n    </td>\\r\\n  </tr>\\r\\n</table>\\r\\n\\r\\n                </td>\\r\\n              </tr>\\r\\n              <tr>\\r\\n                \\r\\n                <td align=\"left\" valign=\"top\" bgcolor=\"#f2f2f2\">\\r\\n                  \\r\\n                  \\r\\n\\r\\n\\r\\n                  \\r\\n                  \\r\\n                  \\r\\n\\r\\n\\r\\n<table border=\"0\" cellpadding=\"0\" cellspacing=\"0\" width=\"100%\" role=\"presentation\">\\r\\n  <tr>\\r\\n    <td bgcolor=\"#f2f2f2\" style=\"vertical-align:top; padding-top:5px;\" valign=\"top\">\\r\\n      <table width=\"100%\" cellspacing=\"0\" cellpadding=\"0\" border=\"0\" role=\"presentation\">\\r\\n        \\r\\n        <tr>\\r\\n          <td bgcolor=\"#f2f2f2\" align=\"left\" style=\"font-family:\\'Meiryo UI\\', \\'Segoe UI\\', \\'Segoe UI Regular\\', SUWR, Verdana, sans-serif; font-size:10px; mso-line-height-rule:exactly; line-height:14px; color:#6b6b6b; padding-top:0px; padding-left:20px; padding-right:20px; text-align:left; letter-spacing:-0.01em;\" class=\"mobile-side-padding-20\">\\r\\n            <p style=\"padding:0; margin:0; font-family:\\'Meiryo UI\\', \\'Segoe UI\\', \\'Segoe UI Regular\\', SUWR, Verdana, sans-serif; font-size:10px; mso-line-height-rule:exactly; line-height:14px; color:#6b6b6b; letter-spacing:-0.01em;\">\\r\\n            \\r\\n            \\r\\n               このメールは監視されていないメールボックスから送信されています。\\r\\n            \\r\\n            </p>\\r\\n          </td>\\r\\n        </tr>\\r\\n        \\r\\n        \\r\\n        <tr>\\r\\n          <td bgcolor=\"#f2f2f2\" align=\"left\" style=\"font-family:\\'Meiryo UI\\', \\'Segoe UI\\', \\'Segoe UI Regular\\', SUWR, Verdana, sans-serif; font-size:10px; mso-line-height-rule:exactly; line-height:14px; color:#6b6b6b; padding-top:18px; padding-left:20px; padding-right:20px; text-align:left; letter-spacing:-0.01em;\" class=\"mobile-side-padding-20\">\\r\\n            <p style=\"padding:0; margin:0; font-family:\\'Meiryo UI\\', \\'Segoe UI\\', \\'Segoe UI Regular\\', SUWR, Verdana, sans-serif; font-size:10px; mso-line-height-rule:exactly; line-height:14px; color:#6b6b6b; letter-spacing:-0.01em;\">\\r\\n            \\r\\n            \\r\\n               このメールは、Microsoft&nbsp;OneDrive&nbsp;アカウントをお持ちの方に配信されています。\\r\\n            \\r\\n            </p>\\r\\n          </td>\\r\\n        </tr>\\r\\n        \\r\\n        \\r\\n        <tr>\\r\\n          <td bgcolor=\"#f2f2f2\" align=\"left\" style=\"font-family:\\'Meiryo UI\\', \\'Segoe UI\\', \\'Segoe UI Regular\\', SUWR, Verdana, sans-serif; font-size:10px; mso-line-height-rule:exactly; line-height:14px; color:#6b6b6b; padding-top:0px; padding-left:20px; padding-right:20px; text-align:left; letter-spacing:-0.01em;\" class=\"mobile-side-padding-20\">\\r\\n            <p style=\"padding:0; margin:0; font-family:\\'Meiryo UI\\', \\'Segoe UI\\', \\'Segoe UI Regular\\', SUWR, Verdana, sans-serif; font-size:10px; mso-line-height-rule:exactly; line-height:14px; color:#6b6b6b; letter-spacing:-0.01em;\">\\r\\n            \\r\\n            \\r\\n               <a target=\"_blank\" href=\"https://click.mail.onedrive.com/?qs=4d581e31d8c73d53d903633ff2c340718855a9f82f8b739a09aeaf369d0e60711aaca2217b21d33158a162e9c9710497d6f7accf084b0924ab55dad057a4efba\" style=\"color:#6b6b6c; text-decoration:underline;\"><strong style=\"font-weight:normal; color:#6b6b6c; text-decoration:underline;\">プライバシーに関する声明</strong></a> | <a target=\"_blank\" href=\"https://click.mail.onedrive.com/?qs=420f5bf31938cba13cb0c0d612f478b592c0ae72fb6cf3e0b745838cb2ecb933c0c6030742e2e5c9b811db0ef8dd7ecde3b931f12f9f04fdbd1dfbe536ea5c74\" style=\"color:#6b6b6c; text-decoration:underline;\"><strong style=\"font-weight:normal; color:#6b6b6c; text-decoration:underline;\">プライバシーに関するお問い合わせ</strong></a>\\r\\n            \\r\\n            </p>\\r\\n          </td>\\r\\n        </tr>\\r\\n        \\r\\n        \\r\\n        \\r\\n        \\r\\n        \\r\\n        \\r\\n        \\r\\n        \\r\\n        <tr>\\r\\n          <td bgcolor=\"#f2f2f2\" align=\"left\" style=\"font-family:\\'Meiryo UI\\', \\'Segoe UI\\', \\'Segoe UI Regular\\', SUWR, Verdana, sans-serif; font-size:10px; mso-line-height-rule:exactly; line-height:14px; color:#6b6b6b; padding-top:18px; padding-left:20px; padding-right:20px; text-align:left; letter-spacing:-0.01em;\" class=\"mobile-side-padding-20\">\\r\\n            <p style=\"padding:0; margin:0; font-family:\\'Meiryo UI\\', \\'Segoe UI\\', \\'Segoe UI Regular\\', SUWR, Verdana, sans-serif; font-size:10px; mso-line-height-rule:exactly; line-height:14px; color:#6b6b6b; letter-spacing:-0.01em;\">\\r\\n            \\r\\n            \\r\\n               Microsoft Corporation, One Microsoft Way, Redmond, WA 98052&nbsp;USA\\r\\n            \\r\\n            </p>\\r\\n          </td>\\r\\n        </tr>\\r\\n        \\r\\n        <tr>\\r\\n          <td align=\"left\" bgcolor=\"#f2f2f2\" style=\"padding-top:20px; padding-bottom:30px; padding-left:20px;\">\\r\\n            <table cellspacing=\"0\" cellpadding=\"0\" border=\"0\" role=\"presentation\">\\r\\n              <tr>\\r\\n                <td align=\"left\" bgcolor=\"#f2f2f2\"><img alt=\"Microsoft\" src=\"https://asgcdn.blob.core.windows.net/office-email-templates/logo_microsoft.png\" width=\"99\" style=\"display:block; outline:none; -ms-interpolation-mode:bicubic; border:none;\"></td>\\r\\n              </tr>\\r\\n            </table>\\r\\n          </td>\\r\\n        </tr>\\r\\n      </table>\\r\\n    </td>\\r\\n  </tr>\\r\\n</table>\\r\\n\\r\\n\\r\\n                </td>\\r\\n              </tr>\\r\\n            </table>\\r\\n  </td>\\r\\n        </tr>\\r\\n      </table>\\r\\n    </td>\\r\\n  </tr>\\r\\n</table>\\r\\n</body>\\r\\n</html>\\r\\n  \\r\\n'"
      ]
     },
     "execution_count": 43,
     "metadata": {},
     "output_type": "execute_result"
    }
   ],
   "source": [
    "message.html_part.get_payload().decode(message.html_part.charset)"
   ]
  },
  {
   "cell_type": "code",
   "execution_count": 44,
   "metadata": {},
   "outputs": [
    {
     "data": {
      "text/plain": [
       "b'Microsoft Exchange Server IMAP4 server signing off.'"
      ]
     },
     "execution_count": 44,
     "metadata": {},
     "output_type": "execute_result"
    }
   ],
   "source": [
    "imap_obj.logout()"
   ]
  },
  {
   "cell_type": "markdown",
   "metadata": {},
   "source": [
    "## IMAPサーバーに接続する"
   ]
  },
  {
   "cell_type": "code",
   "execution_count": 37,
   "metadata": {},
   "outputs": [],
   "source": [
    "import imapclient, ssl\n",
    "context = ssl.SSLContext(ssl.PROTOCOL_TLSv1_2)\n",
    "imap_obj = imapclient.IMAPClient(\"imap-mail.outlook.com\", ssl=True, ssl_context=context)"
   ]
  },
  {
   "cell_type": "markdown",
   "metadata": {},
   "source": [
    "IMAPサーバに接続するには imapclient モジュールの IMAPClient 関数を呼び IMAPClient オブジェクトを生成する必要がある\n",
    "\n",
    "IMAPClient関数に渡すのはIMAPサーバー名で、ほとんどのメールプロバイダーはSSL暗号化を要求するのでキーワード引数のsslにTrueを渡している\n",
    "\n",
    "主なメールプロバイダーとIMAPサーバー一覧\n",
    "\n",
    "|プロバイダー|IMAPサーバー|\n",
    "|:-|:-|\n",
    "|Gmail|imap.gmail.com|\n",
    "|Outlook.com\\/Hotmail.com|imap-mail.outlook.com|\n",
    "|Yahoo Mail|imap.mail.yahoo.com|\n",
    "|AT&T|imap.mail.att.net|\n",
    "|Comcast|imap.comcast.net|\n",
    "|Verizon|imap.verizon.net|"
   ]
  },
  {
   "cell_type": "markdown",
   "metadata": {},
   "source": [
    "## IMAPサーバーにログインする"
   ]
  },
  {
   "cell_type": "code",
   "execution_count": 38,
   "metadata": {},
   "outputs": [
    {
     "data": {
      "text/plain": [
       "b'LOGIN completed.'"
      ]
     },
     "execution_count": 38,
     "metadata": {},
     "output_type": "execute_result"
    }
   ],
   "source": [
    "imap_obj.login(\"kumakiyo000@outlook.com\",\"kiyotaka000\")"
   ]
  },
  {
   "cell_type": "markdown",
   "metadata": {},
   "source": [
    "IMAPClientオブジェクトの login メソッドにユーザー名とパスワードを渡してログインする"
   ]
  },
  {
   "cell_type": "markdown",
   "metadata": {},
   "source": [
    "## メールを探す"
   ]
  },
  {
   "cell_type": "markdown",
   "metadata": {},
   "source": [
    "### フォルダを選択する"
   ]
  },
  {
   "cell_type": "code",
   "execution_count": 4,
   "metadata": {},
   "outputs": [
    {
     "name": "stdout",
     "output_type": "stream",
     "text": [
      "[((b'\\\\HasNoChildren',), b'/', 'アーカイブ'),\n",
      " ((b'\\\\HasNoChildren',), b'/', 'Notes'),\n",
      " ((b'\\\\HasNoChildren', b'\\\\Drafts'), b'/', 'Drafts'),\n",
      " ((b'\\\\HasNoChildren', b'\\\\Trash'), b'/', 'Deleted'),\n",
      " ((b'\\\\Marked', b'\\\\HasNoChildren'), b'/', 'Inbox'),\n",
      " ((b'\\\\HasNoChildren',), b'/', 'Outbox'),\n",
      " ((b'\\\\HasNoChildren', b'\\\\Sent'), b'/', 'Sent'),\n",
      " ((b'\\\\HasNoChildren', b'\\\\Junk'), b'/', 'Junk')]\n"
     ]
    }
   ],
   "source": [
    "import pprint\n",
    "pprint.pprint(imap_obj.list_folders())"
   ]
  },
  {
   "cell_type": "markdown",
   "metadata": {},
   "source": [
    "IMAPClientオブジェクトの list_folders メソッドを使うと所持しているフォルダのリストを3つの値をタプルにまとめて返してくれる\n",
    "\n",
    "1つ目の値がフォルダのフラグを表すタプル、2つ目の値が親フォルダとサブフォルダを分けるのに使われている区切り文字、3つ目がフォルダの全体名になる"
   ]
  },
  {
   "cell_type": "code",
   "execution_count": 5,
   "metadata": {},
   "outputs": [
    {
     "data": {
      "text/plain": [
       "{b'PERMANENTFLAGS': (),\n",
       " b'EXISTS': 2,\n",
       " b'RECENT': 2,\n",
       " b'FLAGS': (b'\\\\Seen',\n",
       "  b'\\\\Answered',\n",
       "  b'\\\\Flagged',\n",
       "  b'\\\\Deleted',\n",
       "  b'\\\\Draft',\n",
       "  b'$MDNSent'),\n",
       " b'UNSEEN': [b'1'],\n",
       " b'UIDVALIDITY': 14,\n",
       " b'UIDNEXT': 33,\n",
       " b'READ-ONLY': [b'']}"
      ]
     },
     "execution_count": 5,
     "metadata": {},
     "output_type": "execute_result"
    }
   ],
   "source": [
    "imap_obj.select_folder(\"Inbox\", readonly=True)"
   ]
  },
  {
   "cell_type": "markdown",
   "metadata": {},
   "source": [
    "検索対象の選択するにはIMAPClientオブジェクトの select_folder メソッドに上のフォルダ名を渡すことでできる\n",
    "\n",
    "キーワード引数のreadonlyにTrueを渡すことで、以後のメソッド呼ぶだしでメールの変更や削除をしてしまうことを防ぐことができる"
   ]
  },
  {
   "cell_type": "markdown",
   "metadata": {},
   "source": [
    "### 検索を実行する"
   ]
  },
  {
   "cell_type": "code",
   "execution_count": 55,
   "metadata": {},
   "outputs": [
    {
     "data": {
      "text/plain": [
       "[27, 29]"
      ]
     },
     "execution_count": 55,
     "metadata": {},
     "output_type": "execute_result"
    }
   ],
   "source": [
    "imap_obj.search([\"ALL\"]) # フォルダ内のすべてのメッセージを返す"
   ]
  },
  {
   "cell_type": "code",
   "execution_count": 57,
   "metadata": {},
   "outputs": [
    {
     "data": {
      "text/plain": [
       "[27, 29]"
      ]
     },
     "execution_count": 57,
     "metadata": {},
     "output_type": "execute_result"
    }
   ],
   "source": [
    "imap_obj.search([\"ON\", \"04-JUN-2020\"]) # 2020年6月4日のすべてのメッセージを返す"
   ]
  },
  {
   "cell_type": "code",
   "execution_count": 56,
   "metadata": {},
   "outputs": [
    {
     "data": {
      "text/plain": [
       "[]"
      ]
     },
     "execution_count": 56,
     "metadata": {},
     "output_type": "execute_result"
    }
   ],
   "source": [
    "imap_obj.search([\"SINCE\", \"01-Jun-2020\", \"FROM\", \"01-JUl\", \"UNSEEN\"]) # 2020年6月1日から2020年7月1日の未読メッセージを返す"
   ]
  },
  {
   "cell_type": "code",
   "execution_count": 58,
   "metadata": {},
   "outputs": [
    {
     "data": {
      "text/plain": [
       "[29]"
      ]
     },
     "execution_count": 58,
     "metadata": {},
     "output_type": "execute_result"
    }
   ],
   "source": [
    "imap_obj.search([\"SINCE\", \"01-JAN-2020\", \"FROM\", \"kumakiyo000@outlook.com\"]) # 2020年1月1日以降のkumakiyo000からきたメッセージを返す"
   ]
  },
  {
   "cell_type": "code",
   "execution_count": 59,
   "metadata": {},
   "outputs": [
    {
     "data": {
      "text/plain": [
       "[27]"
      ]
     },
     "execution_count": 59,
     "metadata": {},
     "output_type": "execute_result"
    }
   ],
   "source": [
    "imap_obj.search([\"SINCE\", \"01-JAN-2020\", \"NOT\", \"FROM\", \"kumakiyo000@outlook.com\"]) \n",
    "# 2020年1月1日以降のkumakiyo000以外からきたメッセージを返す"
   ]
  },
  {
   "cell_type": "code",
   "execution_count": 60,
   "metadata": {},
   "outputs": [
    {
     "data": {
      "text/plain": [
       "[29]"
      ]
     },
     "execution_count": 60,
     "metadata": {},
     "output_type": "execute_result"
    }
   ],
   "source": [
    "imap_obj.search([\"OR\", \"FROM\", \"kumakiyo000@outlook.com\", \"FROM\", \"kumakiyo000@gmail.com\"]) \n",
    "# 1つ目か2つ目のどちらかから来たメッセージを返す"
   ]
  },
  {
   "cell_type": "markdown",
   "metadata": {},
   "source": [
    "IMAPClientオブジェクトの search メソッドに検索キーをリストのして渡すことで、マッチした特定のメッセージを取得することができる\n",
    "\n",
    "複数の検索キーを渡すこともでき、その場合はすべての検索結果にマッチしたメッセージを返す\n",
    "\n",
    "IMAP検索キー一覧\n",
    "\n",
    "|検索キー|説明|\n",
    "|:-|:-|\n",
    "|\"ALL\"|フォルダ内の全メールを返す|\n",
    "|\"BEFORE\",\"*date*\"|指定した日付(date)よりも前のメッセージを返す(当日は含まれない)|\n",
    "|\"ON\",\"*date*\"|指定した日付(date)当日のメッセージを返す|\n",
    "|\"SINCE\",\"*date*\"|指定した日付(date)以降のメッセージを返す(当日も含む)|\n",
    "|\"SUBJECT\",\"*string*\"|文字列(string)が件名に含まれているメッセージを返す|\n",
    "|\"BODY\",\"*string*\"|文字列(string)が本文に含まれているメッセージを返す|\n",
    "|\"TEXT\",\"*string*\"|文字列(string)が件名か本文のどちらかに含まれているメッセージを返す|\n",
    "|\"FROM\",\"*string*\"|文字列(string)が差出人のメールアドレスに含まれているメッセージを返す|\n",
    "|\"TO\",\"*string*\"|文字列(string)が宛先のメールアドレスに含まれているメッセージを返す|\n",
    "|\"CC\",\"*string*\"|文字列(string)が同報のメールアドレスに含まれているメッセージを返す|\n",
    "|\"BCC\",\"*string*\"|文字列(string)が秘匿同報のメールアドレスに含まれているメッセージを返す|\n",
    "|\"SEEN\"|既読メッセージを返す|\n",
    "|\"UNSEEN\"|未読メッセージを返す|\n",
    "|\"ANSWERED\"|返信済みメッセージを返す|\n",
    "|\"UNANSWERED\"|未返信メッセージを返す|\n",
    "|\"DELETED\"|削除済みメッセージを返す|\n",
    "|\"UNDELETED\"|未削除のメッセージを返す|\n",
    "|\"DRAFT\"|下書きメッセージを返す|\n",
    "|\"UNDRAFT\"|下書きメッセージではないものを返す|\n",
    "|\"FLAGGED\"|フラグのついたメッセージを返す|\n",
    "|\"UNFLAGGED\"|フラグのついていないメッセージを返す|\n",
    "|\"LARGER\",\"*N*\"|Nバイトよりも大きいメッセージを返す|\n",
    "|\"SMALLER\",\"*N*\"|Nバイトよりも小さいメッセージを返す|\n",
    "|\"NOT\",\"*search-key*\"|検索キー(search-key)にマッチしないメッセージを返す|\n",
    "|\"OR\",\"*search-key1,search-key2*\"|どちらかの検索キーにマッチするメッセージを返す|"
   ]
  },
  {
   "cell_type": "code",
   "execution_count": 6,
   "metadata": {},
   "outputs": [
    {
     "data": {
      "text/plain": [
       "[27, 29]"
      ]
     },
     "execution_count": 6,
     "metadata": {},
     "output_type": "execute_result"
    }
   ],
   "source": [
    "UIDs = imap_obj.search([\"SINCE\", \"01-JAN-2020\"])\n",
    "UIDs"
   ]
  },
  {
   "cell_type": "markdown",
   "metadata": {},
   "source": [
    "searchメソッドはメールそのものを返すのではなく、整数値のユニークなID(UID)を返す\n",
    "\n",
    "UIDを ferch メソッドに渡すことでメールの内容を取得できる"
   ]
  },
  {
   "cell_type": "markdown",
   "metadata": {},
   "source": [
    "### サイズの制限"
   ]
  },
  {
   "cell_type": "code",
   "execution_count": 1,
   "metadata": {},
   "outputs": [],
   "source": [
    "import imaplib\n",
    "imaplib._MAXLINE = 10000000"
   ]
  },
  {
   "cell_type": "markdown",
   "metadata": {},
   "source": [
    "検索結果が1万バイトを超えると、サイズ制限に引っかかってエラーを起こしてしまう\n",
    "\n",
    "この制限はメモリーを使い切らないようにするために設けられているが、小さすぎて困ることもある\n",
    "\n",
    "そのときは imaplib モジュールの \\_MAXLINE アトリビュートの値を変えることで制限を変えることができる(上では10万に変更)"
   ]
  },
  {
   "cell_type": "markdown",
   "metadata": {},
   "source": [
    "## メールを取得して既読マークを付ける"
   ]
  },
  {
   "cell_type": "code",
   "execution_count": 7,
   "metadata": {},
   "outputs": [],
   "source": [
    "raw_messages = imap_obj.fetch(UIDs, [\"BODY[]\"])"
   ]
  },
  {
   "cell_type": "code",
   "execution_count": 8,
   "metadata": {
    "collapsed": true
   },
   "outputs": [
    {
     "name": "stdout",
     "output_type": "stream",
     "text": [
      "defaultdict(<class 'dict'>,\n",
      "            {27: {b'BODY[]': b'Received: from MW2NAM10HT221.eop-nam10.prod.prot'\n",
      "                             b'ection.outlook.com\\r\\n (2603:1096:4:be::28) by'\n",
      "                             b' SG2PR03MB5069.apcprd03.prod.outlook.com with HT'\n",
      "                             b'TPS\\r\\n via SG3P274CA0016.SGPP274.PROD.OUTLOOK'\n",
      "                             b'.COM; Thu, 4 Jun 2020 13:35:51 +0000\\r\\nReceiv'\n",
      "                             b'ed: from MW2NAM10FT037.eop-nam10.prod.protection'\n",
      "                             b'.outlook.com\\r\\n (2a01:111:e400:7e87::44) by\\r\\n'\n",
      "                             b' MW2NAM10HT221.eop-nam10.prod.protection.outlook'\n",
      "                             b'.com (2a01:111:e400:7e87::495)\\r\\n with Micros'\n",
      "                             b'oft SMTP Server (version=TLS1_2,\\r\\n cipher=TL'\n",
      "                             b'S_ECDHE_RSA_WITH_AES_256_GCM_SHA384) id 15.20.30'\n",
      "                             b'21.23; Thu, 4 Jun\\r\\n 2020 13:35:50 +0000\\r\\nAut'\n",
      "                             b'hentication-Results: spf=pass (sender IP is 136.'\n",
      "                             b'147.186.37)\\r\\n smtp.mailfrom=bounce.microsoft'\n",
      "                             b'emails.com; outlook.com; dkim=pass (signatur'\n",
      "                             b'e\\r\\n was verified) header.d=mail.onedrive.com'\n",
      "                             b';outlook.com; dmarc=pass action=none\\r\\n heade'\n",
      "                             b'r.from=mail.onedrive.com;compauth=pass reason=10'\n",
      "                             b'0\\r\\nReceived-SPF: Pass (protection.outlook.co'\n",
      "                             b'm: domain of\\r\\n bounce.microsoftemails.com de'\n",
      "                             b'signates 136.147.186.37 as permitted sender)'\n",
      "                             b'\\r\\n receiver=protection.outlook.com; client-i'\n",
      "                             b'p=136.147.186.37;\\r\\n helo=mta37.email2.micros'\n",
      "                             b'oft.com;\\r\\nReceived: from mta37.email2.micros'\n",
      "                             b'oft.com (136.147.186.37) by\\r\\n MW2NAM10FT037.'\n",
      "                             b'mail.protection.outlook.com (10.13.154.124) with'\n",
      "                             b' Microsoft SMTP\\r\\n Server (version=TLS1_2, ci'\n",
      "                             b'pher=TLS_ECDHE_RSA_WITH_AES_256_GCM_SHA384) '\n",
      "                             b'id\\r\\n 15.20.3021.23 via Frontend Transport; T'\n",
      "                             b'hu, 4 Jun 2020 13:35:49 +0000\\r\\nX-IncomingTop'\n",
      "                             b'HeaderMarker:\\r\\n OriginalChecksum:03935800D6B'\n",
      "                             b'93010D83096B88F86F6C0B85F2B1443279D66D0829655319'\n",
      "                             b'0692E;UpperCasedChecksum:B9F5C7A816D5D574B450B1D'\n",
      "                             b'BACF4F3498773F45B34FC32C34553E81B52AF5D2A;SizeAs'\n",
      "                             b'Received:1320;Count:14\\r\\nDKIM-Signature: v=1;'\n",
      "                             b' a=rsa-sha256; c=relaxed/relaxed; s=200608; d=ma'\n",
      "                             b'il.onedrive.com;\\r\\n h=From:To:Subject:Date:MI'\n",
      "                             b'ME-Version:Reply-To:List-ID:X-CSA-Complaints'\n",
      "                             b':\\r\\n Message-ID:Content-Type:Content-Transfer'\n",
      "                             b'-Encoding; i=email@mail.onedrive.com;\\r\\n bh=k'\n",
      "                             b'bTc3ZDh9E+u8sd9xkWZ3wimEwCPeFi0b17+ZUOWXI0=;'\n",
      "                             b'\\r\\n b=Lmu4K+vLKTCEjBELOifse6xvUP33xAoqyncwD6m'\n",
      "                             b'Sp6e0xCWDl5wcF2hRDq1AYpBoasyEB5Dih47p\\r\\n   qN'\n",
      "                             b'nR5l6j4phJYSgr1pYbgo/Gkvcj4XIf2ayhRwG64alQbpCUwE'\n",
      "                             b'JSy/kdAHlKDQKnF3CZ3BKYuuJn\\r\\n   SWSXjhPG8az4x'\n",
      "                             b'1jKXmU=\\r\\nReceived: by mta37.email2.microsoft'\n",
      "                             b'.com id hr3sbc2fmd40 for <kumakiyo127@outlook.co'\n",
      "                             b'm>; Thu, 4 Jun 2020 13:35:49 +0000 (envelope-fro'\n",
      "                             b'm <bounce-25_HTML-1061204577-95968-7231722-35362'\n",
      "                             b'33@bounce.microsoftemails.com>)\\r\\nFrom: \"Micr'\n",
      "                             b'osoft OneDrive\" <email@mail.onedrive.com>\\r\\nT'\n",
      "                             b'o: <kumakiyo127@outlook.com>\\r\\nSubject: =?UTF'\n",
      "                             b'-8?B?44KC44GG5bCR44GX44Gn5paw44GX44GEIE9uZURyaXZ'\n",
      "                             b'lIOOBrg==?=\\r\\n =?UTF-8?B?44K744OD44OI44Ki44OD'\n",
      "                             b'44OX5a6M5LqG44Gn44GZ?=\\r\\nDate: Thu, 04 Jun 20'\n",
      "                             b'20 07:35:49 -0600\\r\\nReply-To: \"No Reply OneDr'\n",
      "                             b'ive\" <reply-feea1d757c620c-25_HTML-1061204577-72'\n",
      "                             b'31722-3536233@mail.onedrive.com>\\r\\nList-ID: <'\n",
      "                             b'7227042.xt.local>\\r\\nX-CSA-Complaints: whiteli'\n",
      "                             b'stcomplaints@eco.de\\r\\nx-job: 7231722_95968\\r\\nM'\n",
      "                             b'essage-ID: <bcc0518b-3194-4b08-91f7-e33cad54d772'\n",
      "                             b'@atl1s07mta689.xt.local>\\r\\nContent-Type: text'\n",
      "                             b'/html;\\r\\n\\tcharset=\"utf-8\"\\r\\nContent-Transf'\n",
      "                             b'er-Encoding: 8bit\\r\\nX-IncomingHeaderCount: 14'\n",
      "                             b'\\r\\nReturn-Path:\\r\\n bounce-25_HTML-1061204577-9'\n",
      "                             b'5968-7231722-3536233@bounce.microsoftemails.'\n",
      "                             b'com\\r\\nX-MS-Exchange-Organization-ExpirationSt'\n",
      "                             b'artTime: 04 Jun 2020 13:35:50.2273\\r\\n (UTC)\\r\\n'\n",
      "                             b'X-MS-Exchange-Organization-ExpirationStartTimeRe'\n",
      "                             b'ason: OriginalSubmit\\r\\nX-MS-Exchange-Organiza'\n",
      "                             b'tion-ExpirationInterval: 1:00:00:00.0000000\\r'\n",
      "                             b'\\nX-MS-Exchange-Organization-ExpirationInterv'\n",
      "                             b'alReason: OriginalSubmit\\r\\nX-MS-Exchange-Orga'\n",
      "                             b'nization-Network-Message-Id:\\r\\n 6373b63c-3903'\n",
      "                             b'-4945-2f12-08d8088c321f\\r\\nX-EOPAttributedMess'\n",
      "                             b'age: 0\\r\\nX-EOPTenantAttributedMessage: 84df9e'\n",
      "                             b'7f-e9f6-40af-b435-aaaaaaaaaaaa:0\\r\\nX-MS-Excha'\n",
      "                             b'nge-Organization-MessageDirectionality: Incoming'\n",
      "                             b'\\r\\nX-Forefront-Antispam-Report:\\r\\n CIP:136.147'\n",
      "                             b'.186.37;CTRY:US;LANG:ja;SCL:0;SRV:;IPV:NLI;SFV:N'\n",
      "                             b'SPM;H:mta37.email2.microsoft.com;PTR:mta37.email'\n",
      "                             b'2.microsoft.com;CAT:NONE;SFTY:;SFS:;DIR:INB;SFP:'\n",
      "                             b';\\r\\nX-MS-PublicTrafficType: Email\\r\\nX-MS-Excha'\n",
      "                             b'nge-Organization-AuthSource:\\r\\n MW2NAM10FT037'\n",
      "                             b'.eop-nam10.prod.protection.outlook.com\\r\\nX-MS'\n",
      "                             b'-Exchange-Organization-AuthAs: Anonymous\\r\\nX-'\n",
      "                             b'MS-UserLastLogonTime: 6/4/2020 1:35:03 PM\\r\\nX'\n",
      "                             b'-MS-Office365-Filtering-Correlation-Id: 6373b63c'\n",
      "                             b'-3903-4945-2f12-08d8088c321f\\r\\nX-MS-TrafficTy'\n",
      "                             b'peDiagnostic: MW2NAM10HT221:\\r\\nX-MS-Exchange-'\n",
      "                             b'EOPDirect: true\\r\\nX-Sender-IP: 136.147.186.37'\n",
      "                             b'\\r\\nX-SID-PRA: EMAIL@MAIL.ONEDRIVE.COM\\r\\nX-SID-'\n",
      "                             b'Result: PASS\\r\\nX-MS-Exchange-Organization-PCL'\n",
      "                             b': 2\\r\\nX-MS-Exchange-Organization-SCL: 0\\r\\nX-Mi'\n",
      "                             b'crosoft-Antispam: BCL:0;\\r\\nX-OriginatorOrg: o'\n",
      "                             b'utlook.com\\r\\nX-MS-Exchange-CrossTenant-Origin'\n",
      "                             b'alArrivalTime: 04 Jun 2020 13:35:49.8625\\r\\n ('\n",
      "                             b'UTC)\\r\\nX-MS-Exchange-CrossTenant-Network-Mess'\n",
      "                             b'age-Id: 6373b63c-3903-4945-2f12-08d8088c321f'\n",
      "                             b'\\r\\nX-MS-Exchange-CrossTenant-Id: 84df9e7f-e9f'\n",
      "                             b'6-40af-b435-aaaaaaaaaaaa\\r\\nX-MS-Exchange-Cros'\n",
      "                             b'sTenant-FromEntityHeader: Internet\\r\\nX-MS-Exc'\n",
      "                             b'hange-CrossTenant-RMS-PersistedConsumerOrg:\\r'\n",
      "                             b'\\n 00000000-0000-0000-0000-000000000000\\r\\nX-MS'\n",
      "                             b'-Exchange-Transport-CrossTenantHeadersStamped: M'\n",
      "                             b'W2NAM10HT221\\r\\nX-MS-Exchange-Transport-EndToE'\n",
      "                             b'ndLatency: 00:00:01.5203120\\r\\nX-MS-Exchange-P'\n",
      "                             b'rocessed-By-BccFoldering: 15.20.3066.003\\r\\nX-'\n",
      "                             b'Microsoft-Antispam-Mailbox-Delivery:\\r\\n\\tabwl:'\n",
      "                             b'0;wl:0;pcwl:0;kl:0;iwl:0;ijl:0;dwl:0;dkl:0;rwl:0'\n",
      "                             b';ucf:0;jmr:0;ex:0;auth:1;dest:I;ENG:(5062000282)'\n",
      "                             b'(90000002)(90005002)(90027001)(9000001)(9010001)'\n",
      "                             b'(5061607266)(5061608174)(4900115)(58390011)(9839'\n",
      "                             b'3011)(98390011)(4920090)(6250004)(4950130)(49900'\n",
      "                             b'90);\\r\\nX-Message-Info:\\r\\n\\t5vMbyqxGkddbHVl6'\n",
      "                             b'8g2w3xHsZajurfYEqZ13HE74IhjBuD4EfXUPLh7nJvriSZmd'\n",
      "                             b'kqFMrMTtt2NMBgvm559m1kFm4coua7efAwmWtB59++hBV/0v'\n",
      "                             b'3s51yXifI94Gf5mi0iNNNrm5J7C/KID8ULbVYYENaaOWplYW'\n",
      "                             b'yVdTWuzv70Q0J7TtRAqd0HiLH6P6rD5bREFhHuZTwgm6lAsE'\n",
      "                             b'nlgkIA==\\r\\nX-Message-Delivery: Vj0xLjE7dXM9MD'\n",
      "                             b'tsPTA7YT0xO0Q9MTtHRD0xO1NDTD0tMQ==\\r\\nX-Micros'\n",
      "                             b'oft-Antispam-Message-Info:\\r\\n\\t=?utf-8?B?TE16U'\n",
      "                             b'TQzS3U5RmVzdXZVb3p4M2xJTlVXWWgyYmF0Myt0NGVYWGtwV'\n",
      "                             b'GE1TnJu?=\\r\\n =?utf-8?B?dHRJMDFIZ0xKWWJRTmo2Um'\n",
      "                             b'xTZE1STjdvcmhUcWI5OGFxZjJrb0h1OGR1SXI3?=\\r\\n ='\n",
      "                             b'?utf-8?B?dXJpTmRseGFrNDF3bktEZkNNcGRDYms4eEg1cFJ'\n",
      "                             b'hTVZXUUM1SEdOTHBJeEZy?=\\r\\n =?utf-8?B?ekpKblNy'\n",
      "                             b'SnFmOUNtVzQyQmZDNURRcmhvZjVjOGJUWVNIcWwzZ3RmenJt'\n",
      "                             b'aC9T?=\\r\\n =?utf-8?B?S0NlU3ZLeEVCOFVMMlRtRVdON'\n",
      "                             b'2s5ckNyVUN6alk2ZDB2U3JxTjdydk5MOUF4?=\\r\\n =?ut'\n",
      "                             b'f-8?B?NDRXazRwK21FWDMyRDJqK2RtUzh1K1M5YjZlN1RyRV'\n",
      "                             b'ZwT1BTWkd4ajE0SVI4?=\\r\\n =?utf-8?B?ek9DWGN1emF'\n",
      "                             b'INDZoZGs0cEJKWjNjVTlCSktoZ01RNVNBaGQzQk4zNldHalF'\n",
      "                             b'Z?=\\r\\n =?utf-8?B?SGN2TXUvaXFtNUlaY3poQW1oTUtE'\n",
      "                             b'SUIyaTRIenkzeVhkSlNmdkR2K21uc1Rl?=\\r\\n =?utf-8'\n",
      "                             b'?B?cldVNDBhVlRNM1MvYm5mK0l4bFFwNjFiVjFYbnZKV0Zqa'\n",
      "                             b'1I2d0RIZGdWNUhG?=\\r\\n =?utf-8?B?N2lQdFdvNml6bE'\n",
      "                             b'dXZ3M3RTRVNTUvTXh2UWJWWHhxYWFVb0lVaGlrMk5aK2sw?='\n",
      "                             b'\\r\\n =?utf-8?B?ZVZLS29nTEJqVVphQ090S0J2TDRyeDN'\n",
      "                             b'2Uk53WUY3UENLbmRNR1p2MFJIWXRT?=\\r\\n =?utf-8?B?'\n",
      "                             b'VEtzTWFGbnpXbEo4MGFVU0pxU2U2ZUVTSVdoU2pyaWRQcm5U'\n",
      "                             b'dmlFTDVXc1ZC?=\\r\\n =?utf-8?B?MUV1bmxpVklUVjVJV'\n",
      "                             b'FVLSm1peTlpTEl2Z0VwUjltUll5MEpYZjY4RDFzanNw?'\n",
      "                             b'=\\r\\n =?utf-8?B?dUJOY0gvb0Q1akNmdFRYNXBoWFQ3QX'\n",
      "                             b'ZZWkk4UTJoZEdlMnVjcnRuZk94bTBl?=\\r\\n =?utf-8?B'\n",
      "                             b'?WWpKMmlXSzk5aXkxbmpqV2VzSWE0eXZQTEVISDFYTFYyeVB'\n",
      "                             b'yck1vb2NhQVJs?=\\r\\n =?utf-8?B?K0JJNVBKclZ4YkRR'\n",
      "                             b'bEJLYkUvb2ZsU3R4aFJkZGd4SG5maXF5WWVJWGNOa2Ur'\n",
      "                             b'?=\\r\\n =?utf-8?B?M256KzBwZkNFd2xyR0NRVjZPQVpWZ'\n",
      "                             b'G9UVnB0VjBsUHdzVUlnYnJya0lvR1Z2?=\\r\\n =?utf-8?'\n",
      "                             b'B?Z3lyM2tTY25sS2tmTmtJbUgyUnVqN2RNTGFMQjMyTUpUK3'\n",
      "                             b'A5TU9MVUpuQUFk?=\\r\\n =?utf-8?B?cTRRZnZaZCtsQk1'\n",
      "                             b'zZTYrNWpCS1o1VmM4eGJOQXJ3Ui81MXlZdGJrUk84WW9'\n",
      "                             b'O?=\\r\\n =?utf-8?B?OWxvTVhJZDlYYktuMTlBQTdOMlk1'\n",
      "                             b'dUZZVUgvRng0WHlxYzJrUGlhUkhuYkJC?=\\r\\n =?utf-8'\n",
      "                             b'?B?RnBxTjR1Y3ZydXJWUVliS3dzNXR5a0pNVzBkOXU1QlB5V'\n",
      "                             b'FVLOW1sUE43VnI2?=\\r\\n =?utf-8?B?RlNRS2NvYWlnSE'\n",
      "                             b'VGWVZ2cXBHS0dkdE1NTStoR21qV3VwVlpSVlRrWDlLamJo?='\n",
      "                             b'\\r\\n =?utf-8?B?VUVYMlc1L0lIK0JWOHRKK1UxZGpEZmJ'\n",
      "                             b'IZm1FNmVKSkx1Z3hjR1JrcGYzN2JT?=\\r\\n =?utf-8?B?'\n",
      "                             b'SlBjRFYyTTM0VmkwUFVDa0J2RFJSS0twU3RwVGJjVmdDcExV'\n",
      "                             b'Z2ZMUERUK2sy?=\\r\\n =?utf-8?B?TnFkaE5PVkZRWkhaN'\n",
      "                             b'XhGcDZCQ21vaHZsbE9lY0dqL0RocHNJeUlFU0lobU9p?'\n",
      "                             b'=\\r\\n =?utf-8?Q?SBDgXo=3D?=\\r\\nMIME-Version: 1.0'\n",
      "                             b'\\r\\n\\r\\n<!DOCTYPE html PUBLIC \"-//W3C//DTD XHTML'\n",
      "                             b' 1.0 Transitional//EN\" \"http://www.w3.org/TR/xht'\n",
      "                             b'ml1/DTD/xhtml1-transitional.dtd\"><html xmlns=\"ht'\n",
      "                             b'tp://www.w3.org/1999/xhtml\" dir=\"ltr\" xmlns:v=\"u'\n",
      "                             b'rn:schemas-microsoft-com:vml\" xmlns:o=\"urn:schem'\n",
      "                             b'as-microsoft-com:office:office\"><head>\\r\\n<met'\n",
      "                             b'a http-equiv=\"Content-Type\" content=\"text/html; '\n",
      "                             b'charset=utf-8\">\\r\\n<meta name=\"format-detectio'\n",
      "                             b'n\" content=\"telephone=no\">\\r\\n<meta name=\"form'\n",
      "                             b'at-detection\" content=\"date=no\">\\r\\n<meta name'\n",
      "                             b'=\"format-detection\" content=\"address=no\">\\r\\n<'\n",
      "                             b'meta name=\"format-detection\" content=\"email=no\">'\n",
      "                             b'\\r\\n<meta http-equiv=\"X-UA-Compatible\" content'\n",
      "                             b'=\"IE=edge\">\\r\\n<meta name=\"viewport\" content=\"'\n",
      "                             b'width=device-width, initial-scale=1.0\">\\r\\n<me'\n",
      "                             b'ta name=\"robots\" content=\"noindex, nofollow\"'\n",
      "                             b'>\\r\\n<meta name=\"x-apple-disable-message-refor'\n",
      "                             b'matting\">\\r\\n\\r\\n\\r\\n<title></title>\\r\\n<!--[if '\n",
      "                             b'gte mso 9]><xml>\\r\\n  <o:OfficeDocumentSetting'\n",
      "                             b's>\\r\\n    <o:AllowPNG/>\\r\\n    <o:PixelsPerInch>'\n",
      "                             b'96</o:PixelsPerInch>\\r\\n  </o:OfficeDocumentSe'\n",
      "                             b'ttings>\\r\\n</xml><![endif]-->\\r\\n\\r\\n\\r\\n\\r\\n\\r'\n",
      "                             b'\\n<style media=\"all\" type=\"text/css\">\\r\\n   /*A'\n",
      "                             b'pple And OLD Android less than 5 fonts*/\\r\\n</'\n",
      "                             b'style>\\r\\n\\r\\n\\r\\n<style media=\"all\" type=\"tex'\n",
      "                             b't/css\">\\r\\n  @-ms-viewport{ width: device-widt'\n",
      "                             b'h;}\\r\\n</style>\\r\\n\\r\\n\\r\\n<style media=\"all\" ty'\n",
      "                             b'pe=\"text/css\">\\r\\n  \\r\\n  #outlook a {padding:0;'\n",
      "                             b'}\\r\\n  .ReadMsgBody {width:100%;}\\r\\n  .External'\n",
      "                             b'Class {width:100%;}\\r\\n  .ExternalClass, .Exte'\n",
      "                             b'rnalClass p, .ExternalClass span, .ExternalClass'\n",
      "                             b' font, .ExternalClass td, .ExternalClass div {li'\n",
      "                             b'ne-height: 100%;}\\r\\n  .ExternalClass img[clas'\n",
      "                             b's^=Emoji] { width: 10px !important; height: 10px'\n",
      "                             b' !important; display: inline !important; } .Exte'\n",
      "                             b'rnalClass .ecxhm { display: none !important; } .'\n",
      "                             b'ExternalClass .ecxhm2 { display: inline !importa'\n",
      "                             b'nt; }\\r\\n  \\r\\n  .appleBody a {color:#68440a; te'\n",
      "                             b'xt-decoration: none;}\\r\\n  .appleFooter a {col'\n",
      "                             b'or:#999999; text-decoration: none;}\\r\\n  * [OW'\n",
      "                             b'A] .outlookLink505050 span {color:#505050 !impor'\n",
      "                             b'tant; border-bottom-width:0 !important; border-b'\n",
      "                             b'ottom-style:none !important; cursor: default !im'\n",
      "                             b'portant;}\\r\\n  * [OWA] .outlookLinkFFFFFF span'\n",
      "                             b' {color:#ffffff !important; border-bottom-width:'\n",
      "                             b'0 !important; border-bottom-style:none !importan'\n",
      "                             b't; cursor: default !important;}\\r\\n  .contextu'\n",
      "                             b'alExtensionHighlight, .ms-font-color-themePrimar'\n",
      "                             b'y, .ms-border-color-themePrimary {border-bottom-'\n",
      "                             b'width:0 !important; border-bottom-style:none !im'\n",
      "                             b'portant;}\\r\\n  a[x-apple-data-detectors] {colo'\n",
      "                             b'r: inherit !important; text-decoration: none !im'\n",
      "                             b'portant; font-size: inherit !important; font-fam'\n",
      "                             b'ily: inherit !important; font-weight: inherit !i'\n",
      "                             b'mportant; line-height: inherit !important;}\\r'\n",
      "                             b'\\n\\r\\n  \\r\\n  body { -webkit-text-size-adjust'\n",
      "                             b':100%; -ms-text-size-adjust:auto; height:100% !i'\n",
      "                             b'mportant; width:100% !important;}\\r\\n  div[sty'\n",
      "                             b'le*=\"margin: 16px 0\"] { margin:0 !important; pad'\n",
      "                             b'ding:0 !important; }\\r\\n  th { font-weight:nor'\n",
      "                             b'mal; }\\r\\n  table {-webkit-text-size-adjust:10'\n",
      "                             b'0%; -ms-text-size-adjust:auto; mso-table-lspace:'\n",
      "                             b'0pt; mso-table-rspace:0pt; border-collapse: coll'\n",
      "                             b'apse !important; font-weight:normal;}\\r\\n  tr '\n",
      "                             b'{font-size:0px;mso-line-height-alt:0px;mso-margi'\n",
      "                             b'n-top-alt:0px;mso-line-height-rule:exactly;}'\n",
      "                             b'\\r\\n  td {-webkit-text-size-adjust:100%; -ms-t'\n",
      "                             b'ext-size-adjust:auto; mso-table-lspace:0pt; mso-'\n",
      "                             b'table-rspace:0pt; border-collapse: collapse !imp'\n",
      "                             b'ortant; margin:0; padding:0;}\\r\\n  a, a span, '\n",
      "                             b'a.span:hover, a span:hover, a:visited {color: #7'\n",
      "                             b'67676; background-color: transparent !important;'\n",
      "                             b' border: none !important; -webkit-text-size-adju'\n",
      "                             b'st:100%; -ms-text-size-adjust:auto;}\\r\\n  a.te'\n",
      "                             b'l, a.tel: link, a.tel: visited, a.tel: hover, a.'\n",
      "                             b'tel: active {text-decoration: none !important; b'\n",
      "                             b'ackground-color: none !important; border: none !'\n",
      "                             b'important; }\\r\\n  a.addr, a.addr: link, a.addr'\n",
      "                             b': visited, a.addr: hover, a.addr: active {text-d'\n",
      "                             b'ecoration: none !important; background-color: tr'\n",
      "                             b'ansparent !important; border: none !important; }'\n",
      "                             b'\\r\\n  a img {border:none;}\\r\\n  body, div, span,'\n",
      "                             b' td, h1,h2,h3,h4,h5, p {Margin:0; padding:0;'\n",
      "                             b'}\\r\\n  h1,h2,h3,h4,h5 {display:block; font-siz'\n",
      "                             b'e: inherit; font-weight: normal; color: inherit;'\n",
      "                             b'}\\r\\n  img {-ms-interpolation-mode:bicubic !im'\n",
      "                             b'portant; border:0; height:auto; line-height:100%'\n",
      "                             b'; outline:none; text-decoration:none; image-rend'\n",
      "                             b'ering: auto;}\\r\\n  sup, sub { vertical-align: '\n",
      "                             b'baseline; position: relative; top: -0.4em; }'\n",
      "                             b'\\r\\n  sub { top: 0.4em; }\\r\\n  table[DIR=\"rtl\"],'\n",
      "                             b' table td[DIR=\"rtl\"], table th[DIR=\"rtl\"], span['\n",
      "                             b'DIR=\"rtl\"], div[DIR=\"rtl\"] {direction:RTL !impor'\n",
      "                             b'tant; unicode-bidi:embed !important;}\\r\\n</sty'\n",
      "                             b'le>\\r\\n\\r\\n\\r\\n<style media=\"screen\" type=\"tex'\n",
      "                             b't/css\">\\r\\n  @media screen and (max-width: 497'\n",
      "                             b'px)  {\\r\\n    .container { width:100% !importa'\n",
      "                             b'nt; min-width:300px !important; max-width:480px '\n",
      "                             b'!important; margin: 0; padding:0; word-wrap:norm'\n",
      "                             b'al; }\\r\\n    .container table { width:100% !im'\n",
      "                             b'portant; }\\r\\n    .mobile-full-width {width: 1'\n",
      "                             b'00% !important; min-width: 300px !important;'\n",
      "                             b'}\\r\\n    .hide { display:none !important; widt'\n",
      "                             b'h: 0px; min-width: 0px; height: 0px; line-height'\n",
      "                             b': 0px; }\\r\\n    .drop,.ftafdrop { display:bloc'\n",
      "                             b'k !important; width: 100% !important; }\\r\\n   '\n",
      "                             b' .mobile-shown, .mobile-shown div { display: blo'\n",
      "                             b'ck !important; overflow: visible !important; wid'\n",
      "                             b'th: auto !important; max-height:inherit !importa'\n",
      "                             b'nt; height:auto !important; visibility: visible '\n",
      "                             b'!important;}\\r\\n    .photo img { width:100% !i'\n",
      "                             b'mportant; height:auto !important;}\\r\\n    .pho'\n",
      "                             b'to80 img {width:80% !important; height:auto !imp'\n",
      "                             b'ortant;}\\r\\n    .photo50 img {width:50% !impor'\n",
      "                             b'tant; height:auto !important;}\\r\\n    .photo35'\n",
      "                             b' img {width:35% !important; height:auto !importa'\n",
      "                             b'nt;}\\r\\n    .buttonblck table { width:auto !im'\n",
      "                             b'portant; }\\r\\n    .mobile-center table, .mobil'\n",
      "                             b'e-center, .mobile-center img { text-align: cente'\n",
      "                             b'r !important; margin: 0 auto !important; }\\r\\n'\n",
      "                             b'    .mobile-left table, .mobile-left, .mobile-le'\n",
      "                             b'ft img { text-align: left !important; }\\r\\n   '\n",
      "                             b' .mobile-no-padding { padding:0px !important'\n",
      "                             b'; }\\r\\n    .mobile-no-side-padding, .mobile-si'\n",
      "                             b'de-padding-0 { padding-left:0px !important; padd'\n",
      "                             b'ing-right:0px !important; }\\r\\n    .mobile-no-'\n",
      "                             b'top-padding { padding-top:0px !important; }\\r'\n",
      "                             b'\\n    .mobile-no-bottom-padding, .mobile-bott'\n",
      "                             b'om-padding-0 {padding-bottom: 0px !important'\n",
      "                             b';}\\r\\n    .mobile-side-padding-5 {padding-left'\n",
      "                             b': 5px !important; padding-right: 5px !important;'\n",
      "                             b'}\\r\\n    .mobile-side-padding-10 { padding-lef'\n",
      "                             b't:10px !important; padding-right:10px !important'\n",
      "                             b'; }\\r\\n    .mobile-side-padding-15 { padding-l'\n",
      "                             b'eft:15px !important; padding-right:15px !importa'\n",
      "                             b'nt; }\\r\\n    .mobile-side-padding-20 { padding'\n",
      "                             b'-left:20px !important; padding-right:20px !impor'\n",
      "                             b'tant; }\\r\\n    .mobile-side-padding-25 { paddi'\n",
      "                             b'ng-left:25px !important; padding-right:25px !imp'\n",
      "                             b'ortant; }\\r\\n    .mobile-side-padding-30 { pad'\n",
      "                             b'ding-left:30px !important; padding-right:30px !i'\n",
      "                             b'mportant; }\\r\\n    .mobile-side-padding-35 { p'\n",
      "                             b'adding-left:35px !important; padding-right:35px '\n",
      "                             b'!important; }\\r\\n    .mobile-side-padding-40 {'\n",
      "                             b' padding-left:40px !important; padding-right:40p'\n",
      "                             b'x !important; }\\r\\n    .mobile-side-padding-45'\n",
      "                             b' { padding-left:45px !important; padding-right:4'\n",
      "                             b'5px !important; }\\r\\n    .mobile-side-padding-'\n",
      "                             b'50 { padding-left:50px !important; padding-right'\n",
      "                             b':50px !important; }\\r\\n    .mobile-left-paddin'\n",
      "                             b'g-10 { padding-left:10px !important; }\\r\\n    '\n",
      "                             b'.mobile-left-padding-20 { padding-left:20px !imp'\n",
      "                             b'ortant; }\\r\\n    .mobile-left-padding-30 { pad'\n",
      "                             b'ding-left:30px !important; }\\r\\n    .mobile-le'\n",
      "                             b'ft-padding-40 { padding-left:40px !important'\n",
      "                             b'; }\\r\\n    .mobile-left-padding-50 {padding-le'\n",
      "                             b'ft: 50px !important;}\\r\\n    .mobile-right-pad'\n",
      "                             b'ding-10 {padding-right: 10px !important;}\\r\\n '\n",
      "                             b'   .mobile-right-padding-20 {padding-right: 20px'\n",
      "                             b' !important;}\\r\\n    .mobile-right-padding-30 '\n",
      "                             b'{padding-right: 30px !important;}\\r\\n    .mobi'\n",
      "                             b'le-right-padding-40 {padding-right: 40px !import'\n",
      "                             b'ant;}\\r\\n    .mobile-right-padding-50 {padding'\n",
      "                             b'-right: 50px !important;}\\r\\n    .mobile-top-p'\n",
      "                             b'adding-10 { padding-top:10px !important; }\\r\\n'\n",
      "                             b'    .mobile-top-padding-20 { padding-top:20px !i'\n",
      "                             b'mportant; }\\r\\n    .mobile-top-padding-30 { pa'\n",
      "                             b'dding-top:30px !important; }\\r\\n    .mobile-to'\n",
      "                             b'p-padding-40 { padding-top:40px !important; '\n",
      "                             b'}\\r\\n    .mobile-top-padding-50 {padding-top: '\n",
      "                             b'50px !important;}\\r\\n    .mobile-bottom-paddin'\n",
      "                             b'g-10 { padding-bottom:10px !important; }\\r\\n  '\n",
      "                             b'  .mobile-bottom-padding-20 { padding-bottom:20p'\n",
      "                             b'x !important; }\\r\\n    .mobile-bottom-padding-'\n",
      "                             b'30 { padding-bottom:30px !important; }\\r\\n    '\n",
      "                             b'.mobile-bottom-padding-40 { padding-bottom:40px '\n",
      "                             b'!important; }\\r\\n    .mobile-bottom-padding-50'\n",
      "                             b' {padding-bottom: 50px !important;}\\r\\n    .mo'\n",
      "                             b'bile-font-56 {font-size: 56px !important; line-h'\n",
      "                             b'eight: 61px !important;}\\r\\n    .mobile-font-4'\n",
      "                             b'0 {font-size: 40px !important; line-height: 45px'\n",
      "                             b' !important;}\\r\\n    .mobile-font-37 {font-siz'\n",
      "                             b'e: 37px !important; line-height: 47px !important'\n",
      "                             b';}\\r\\n    .mobile-width-85 { width: 85px !impo'\n",
      "                             b'rtant; height:auto !important}\\r\\n    .mobile-'\n",
      "                             b'width-117 { width: 117px !important; height:auto'\n",
      "                             b' !important}\\r\\n  }\\r\\n</style>\\r\\n  \\r\\n  <styl'\n",
      "                             b'e media=\"all\" type=\"text/css\">\\r\\n    @media o'\n",
      "                             b'nly screen and (max-width:497px) {\\r\\n      .m'\n",
      "                             b'obile-headline { font-size: 17px !important; lin'\n",
      "                             b'e-height: 21px !important;}\\r\\n\\t  .mobile-body'\n",
      "                             b' { font-size: 15px !important; line-height: 21px'\n",
      "                             b' !important;}\\r\\n\\t  .width70 { width:70px !imp'\n",
      "                             b'ortant}\\r\\n    }\\r\\n  </style>\\r\\n</head>\\r\\n<bo'\n",
      "                             b'dy>\\r\\n  <table cellpadding=\"0\" cellspacing=\"0'\n",
      "                             b'\" border=\"0\" width=\"100%\" class=\"container\">'\n",
      "                             b'\\r\\n  <tr>\\r\\n    <td align=\"center\" style=\"font'\n",
      "                             b'-size:1px; line-height:1px;\"><div style=\"display'\n",
      "                             b':none; width:0px; max-height:0px; overflow:hidde'\n",
      "                             b'n;\">\\xe6\\x96\\xb0\\xe3\\x81\\x97\\xe3\\x81\\x84 OneDri'\n",
      "                             b've \\xe3\\x81\\xb8\\xe3\\x82\\x88\\xe3\\x81\\x86'\n",
      "                             b'\\xe3\\x81\\x93\\xe3\\x81\\x9d OneDrive '\n",
      "                             b'\\xe3\\x81\\xab\\xe3\\x81\\xaf\\xe3\\x80\\x81\\xe3\\x81\\x99'\n",
      "                             b'\\xe3\\x81\\xa6\\xe3\\x81\\x8d\\xe3\\x81\\xaa\\xe6\\xa9\\x9f'\n",
      "                             b'\\xe8\\x83\\xbd\\xe3\\x81\\x8c\\xe3\\x81\\x9f\\xe3\\x81\\x8f'\n",
      "                             b'\\xe3\\x81\\x95\\xe3\\x82\\x93\\xe3\\x81\\x82\\xe3\\x82\\x8a'\n",
      "                             b'\\xe3\\x81\\xbe\\xe3\\x81\\x99\\xe3\\x80\\x82 \\xe3\\x83'\n",
      "                             b'\\x95\\xe3\\x82\\xa1\\xe3\\x82\\xa4\\xe3\\x83\\xab\\xe3\\x82'\n",
      "                             b'\\x92 1 \\xe3\\x81\\xa4\\xe3\\x82\\xa2\\xe3\\x83'\n",
      "                             b'\\x83\\xe3\\x83\\x97\\xe3\\x83\\xad\\xe3\\x83\\xbc\\xe3\\x83'\n",
      "                             b'\\x89\\xe3\\x81\\x97\\xe3\\x81\\xa6\\xe6\\xac\\xa1\\xe3\\x81'\n",
      "                             b'\\xae\\xe6\\xae\\xb5\\xe9\\x9a\\x8e\\xe3\\x81\\xab\\xe9\\x80'\n",
      "                             b'\\xb2\\xe3\\x81\\xbf\\xe3\\x81\\xbe\\xe3\\x81\\x97\\xe3\\x82'\n",
      "                             b'\\x87\\xe3\\x81\\x86\\xe3\\x80\\x82 \\xe3\\x83\\x95\\xe3'\n",
      "                             b'\\x82\\xa1\\xe3\\x82\\xa4\\xe3\\x83\\xab\\xe3\\x82\\x92\\xe3'\n",
      "                             b'\\x82\\xa2\\xe3\\x83\\x83\\xe3\\x83\\x97\\xe3\\x83\\xad\\xe3'\n",
      "                             b'\\x83\\xbc\\xe3\\x83\\x89. \\xe3\\x81\\x84\\xe3\\x81'\n",
      "                             b'\\xa4\\xe3\\x81\\xa7\\xe3\\x82\\x82\\xe5\\xbf\\x85\\xe8\\xa6'\n",
      "                             b'\\x81\\xe3\\x81\\xaa\\xe3\\x82\\x82\\xe3\\x81\\xae\\xe3\\x81'\n",
      "                             b'\\xab\\xe3\\x82\\xa2\\xe3\\x82\\xaf\\xe3\\x82\\xbb\\xe3\\x82'\n",
      "                             b'\\xb9\\xe3\\x81\\xa7\\xe3\\x81\\x8d\\xe3\\x82\\x8b. '\n",
      "                             b'\\xe3\\x83\\x95\\xe3\\x82\\xa1\\xe3\\x82\\xa4\\xe3\\x83\\xab'\n",
      "                             b'\\xe3\\x81\\xa8\\xe5\\x86\\x99\\xe7\\x9c\\x9f\\xe3\\x81\\xaf'\n",
      "                             b'\\xe3\\x81\\x84\\xe3\\x81\\xa4\\xe3\\x82\\x82\\xe5\\x90\\x8c'\n",
      "                             b'\\xe6\\x9c\\x9f\\xe3\\x81\\x95\\xe3\\x82\\x8c\\xe3\\x81\\xa6'\n",
      "                             b'\\xe3\\x81\\x84\\xe3\\x82\\x8b\\xe3\\x81\\xae\\xe3\\x81\\xa7'\n",
      "                             b'\\xe3\\x80\\x81\\xe3\\x81\\x99\\xe3\\x81\\xb9\\xe3\\x81\\xa6'\n",
      "                             b'\\xe3\\x81\\xae\\xe3\\x83\\x87\\xe3\\x83\\x90\\xe3\\x82\\xa4'\n",
      "                             b'\\xe3\\x82\\xb9\\xe3\\x81\\x8b\\xe3\\x82\\x89\\xe6\\x9c\\x80'\n",
      "                             b'\\xe6\\x96\\xb0\\xe3\\x81\\xae\\xe6\\x83\\x85\\xe5\\xa0\\xb1'\n",
      "                             b'\\xe3\\x81\\xab\\xe3\\x82\\xa2\\xe3\\x82\\xaf\\xe3\\x82\\xbb'\n",
      "                             b'\\xe3\\x82\\xb9\\xe3\\x81\\xa7\\xe3\\x81\\x8d\\xe3\\x81\\xbe'\n",
      "                             b'\\xe3\\x81\\x99\\xe3\\x80\\x82 <img src=\"https://cli'\n",
      "                             b'ck.mail.onedrive.com/open.aspx?ffcb10-feea1d757c'\n",
      "                             b'620c-fdfa167073640c78711c7176-fe9713727665037f77'\n",
      "                             b'-ff981675-fdfe15707365067d71117772-fe96177576620'\n",
      "                             b'67e76&amp;d=70136\" width=\"1\" height=\"1\"></div></'\n",
      "                             b'td>\\r\\n  </tr>\\r\\n  <tr>\\r\\n    <td style=\"lin'\n",
      "                             b'e-height:2px; height:2px;\" class=\"hide\">\\r\\n  '\n",
      "                             b'    <img width=\"640\" height=\"2\" style=\"max-heigh'\n",
      "                             b't:2px; min-height:2px; display:block; width:640p'\n",
      "                             b'x; min-width:640px;\" src=\"http://image.email.off'\n",
      "                             b'ice.com/lib/fe9815707264017b71/m/1/gmailwidthfix'\n",
      "                             b'.gif\">\\r\\n    </td>\\r\\n  </tr>\\r\\n  <tr>\\r\\n    '\n",
      "                             b'<td align=\"center\" bgcolor=\"#ffffff\">\\r\\n     '\n",
      "                             b' <table border=\"0\" cellpadding=\"0\" cellspacing=\"'\n",
      "                             b'0\" width=\"640\" align=\"center\" style=\"margin:0 au'\n",
      "                             b'to;\">\\r\\n        <tr>\\r\\n          <td>\\r\\n   '\n",
      "                             b'         <table width=\"100%\" cellspacing=\"0\" cel'\n",
      "                             b'lpadding=\"0\" border=\"0\">\\r\\n              <tr>'\n",
      "                             b'\\r\\n                \\r\\n                <td alig'\n",
      "                             b'n=\"left\" valign=\"top\" bgcolor=\"#f2f2f2\">\\r\\n  '\n",
      "                             b'                \\r\\n                  \\r\\n      '\n",
      "                             b'            \\r\\n<table border=\"0\" cellpadding='\n",
      "                             b'\"0\" cellspacing=\"0\" width=\"100%\" role=\"presentat'\n",
      "                             b'ion\">\\r\\n  <tr>\\r\\n    <td bgcolor=\"#f2f2f2\"'\n",
      "                             b'>\\r\\n      <table width=\"100%\" cellspacing=\"0\"'\n",
      "                             b' cellpadding=\"0\" border=\"0\" role=\"presentation\">'\n",
      "                             b'\\r\\n        \\r\\n        <tr>\\r\\n          <td '\n",
      "                             b'bgcolor=\"#f2f2f2\" style=\"font-family:\\'Meiryo'\n",
      "                             b\" UI', 'Segoe UI', 'Segoe UI Regular', SUWR, Verd\"\n",
      "                             b'ana, sans-serif; font-size:10px; mso-line-height'\n",
      "                             b'-rule:exactly; line-height:14px; color:#737373; '\n",
      "                             b'padding-top:10px; padding-left:50px; padding-rig'\n",
      "                             b'ht:50px; text-align:center; letter-spacing:-0.01'\n",
      "                             b'em;\" class=\"mobile-side-padding-20\">\\r\\n      '\n",
      "                             b'      <p style=\"Margin:0; padding:0; font-family'\n",
      "                             b\":'Meiryo UI', 'Segoe UI', 'Segoe UI Regular', SU\"\n",
      "                             b'WR, Verdana, sans-serif; font-size:10px; mso-lin'\n",
      "                             b'e-height-rule:exactly; line-height:14px; color:#'\n",
      "                             b'737373; text-align:center; letter-spacing:-0.01e'\n",
      "                             b'm;\">\\r\\n               \\xe3\\x83\\x95'\n",
      "                             b'\\xe3\\x82\\xa1\\xe3\\x82\\xa4\\xe3\\x83\\xab\\xe3\\x82\\x92'\n",
      "                             b' 1 \\xe3\\x81\\xa4\\xe3\\x82\\xa2\\xe3\\x83\\x83'\n",
      "                             b'\\xe3\\x83\\x97\\xe3\\x83\\xad\\xe3\\x83\\xbc\\xe3\\x83\\x89'\n",
      "                             b'\\xe3\\x81\\x97\\xe3\\x81\\xa6\\xe3\\x81\\xbf\\xe3\\x81\\xbe'\n",
      "                             b'\\xe3\\x81\\x97\\xe3\\x82\\x87\\xe3\\x81\\x86\\xe3\\x80\\x82'\n",
      "                             b' | <a href=\"https://view.mail.onedrive.com/?qs=2'\n",
      "                             b'9f9d297948987e91b68a4eae607618b16cbba09ec054213d'\n",
      "                             b'c7c133c5afcd546f6a776d9f63376189b335ac4077184c28'\n",
      "                             b'978c1e9cb2cd0ce2b885ce166c4aa14550bb7ac6369aea2f'\n",
      "                             b'7040142c8534567\" style=\"color:#737374; text-deco'\n",
      "                             b'ration:underline;\"><span style=\"color:#737374; t'\n",
      "                             b'ext-decoration:underline;\">\\xe3\\x82\\xaa\\xe3\\x83'\n",
      "                             b'\\xb3\\xe3\\x83\\xa9\\xe3\\x82\\xa4\\xe3\\x83\\xb3\\xe3\\x81'\n",
      "                             b'\\xa7\\xe8\\xa6\\x8b\\xe3\\x82\\x8b</span></a>\\r\\n    '\n",
      "                             b'        </p>\\r\\n          </td>\\r\\n        </tr>'\n",
      "                             b'\\r\\n        \\r\\n      </table>\\r\\n    </td>\\r\\n '\n",
      "                             b' </tr>\\r\\n</table>\\r\\n\\r\\n                </td'\n",
      "                             b'>\\r\\n              </tr>\\r\\n              <t'\n",
      "                             b'r>\\r\\n                \\r\\n                <td al'\n",
      "                             b'ign=\"left\" valign=\"top\" bgcolor=\"#f2f2f2\">\\r\\n'\n",
      "                             b'                  \\r\\n                  \\r\\n    '\n",
      "                             b'              \\r\\n\\r\\n\\r\\n<table border=\"0\" ce'\n",
      "                             b'llpadding=\"0\" cellspacing=\"0\" width=\"100%\" role='\n",
      "                             b'\"presentation\">\\r\\n  <tr>\\r\\n    <td align=\"left'\n",
      "                             b'\" bgcolor=\"#f2f2f2\" style=\"vertical-align:top;\" '\n",
      "                             b'valign=\"top\">\\r\\n      <table width=\"100%\" cel'\n",
      "                             b'lspacing=\"0\" cellpadding=\"0\" border=\"0\" role=\"pr'\n",
      "                             b'esentation\">\\r\\n        <tr>\\r\\n          <td va'\n",
      "                             b'lign=\"top\" align=\"left\" bgcolor=\"#f2f2f2\" style='\n",
      "                             b'\"padding-top:10px; padding-bottom:14px;\">\\r\\n '\n",
      "                             b'           <table width=\"100%\" cellspacing=\"0\" c'\n",
      "                             b'ellpadding=\"0\" border=\"0\" role=\"presentation'\n",
      "                             b'\">\\r\\n              <tr>\\r\\n                <td '\n",
      "                             b'align=\"left\" bgcolor=\"#f2f2f2\" style=\"padding-le'\n",
      "                             b'ft:20px;\"><img alt=\"Microsoft\" src=\"https://asgc'\n",
      "                             b'dn.blob.core.windows.net/office-email-templates/'\n",
      "                             b'logo_microsoft.png\" width=\"99\" style=\"display:bl'\n",
      "                             b'ock; outline:none; -ms-interpolation-mode:bicubi'\n",
      "                             b'c; border:none;\" align=\"left\" class=\"mobile-widt'\n",
      "                             b'h-85\"></td>\\r\\n              </tr>\\r\\n          '\n",
      "                             b'  </table>\\r\\n          </td>\\r\\n          \\r'\n",
      "                             b'\\n          <td valign=\"top\" align=\"right\" bg'\n",
      "                             b'color=\"#f2f2f2\" style=\"padding-top:10px; padding'\n",
      "                             b'-bottom:14px;\">\\r\\n            <table width=\"1'\n",
      "                             b'00%\" cellspacing=\"0\" cellpadding=\"0\" border=\"0\" '\n",
      "                             b'role=\"presentation\">\\r\\n              <tr>\\r\\n  '\n",
      "                             b'              <td align=\"right\" bgcolor=\"#f2f2f2'\n",
      "                             b'\" style=\"padding-right:20px;\"><a target=\"_blank\"'\n",
      "                             b' href=\"https://click.mail.onedrive.com/?qs=d49b2'\n",
      "                             b'5167b8e295eca8c2e75f3befc839defd91e97603677200f3'\n",
      "                             b'8ff531eb423d981b93da0be16101c62355010869a71c3a11'\n",
      "                             b'8897dff8dd3b1c5fe9fb5491d38\"><img alt=\"OneDrive\"'\n",
      "                             b' src=\"https://asgcdn.blob.core.windows.net/offic'\n",
      "                             b'e-email-templates/FY18_OneDrive_logo_2.png\" widt'\n",
      "                             b'h=\"138\" style=\"display:block; outline:none; -ms-'\n",
      "                             b'interpolation-mode:bicubic; border:none;\" align='\n",
      "                             b'\"right\" class=\"mobile-width-117\"></a></td>\\r\\n'\n",
      "                             b'              </tr>\\r\\n            </table>\\r\\n '\n",
      "                             b'         </td>\\r\\n          \\r\\n        </tr'\n",
      "                             b'>\\r\\n      </table>\\r\\n    </td>\\r\\n  </tr>\\r\\n<'\n",
      "                             b'/table>\\r\\n\\r\\n                </td>\\r\\n      '\n",
      "                             b'        </tr>\\r\\n              <tr>\\r\\n         '\n",
      "                             b'       <td align=\"center\" bgcolor=\"#f2f2f2\" styl'\n",
      "                             b'e=\"padding-left:20px; padding-right: 20px;\" clas'\n",
      "                             b's=\"mobile-no-side-padding mobile-no-top-padding\"'\n",
      "                             b'>\\r\\n                  <table width=\"100%\" cel'\n",
      "                             b'lspacing=\"0\" cellpadding=\"0\" border=\"0\">\\r\\n  '\n",
      "                             b'                  <tr>\\r\\n                    '\n",
      "                             b'  <td align=\"center\" class=\"mobile-headline mobi'\n",
      "                             b'le-side-padding-10\" bgcolor=\"#ffffff\" style=\"fon'\n",
      "                             b\"t-family:'Meiryo UI', 'Segoe UI', 'Segoe UI Regu\"\n",
      "                             b\"lar', SUWR, Verdana, sans-serif; font-size:21px;\"\n",
      "                             b' mso-line-height-rule:exactly; line-height:25px;'\n",
      "                             b' color:#333333; padding-left:28px; padding-right'\n",
      "                             b':27px; padding-bottom:54px; padding-top:32px'\n",
      "                             b'\">\\r\\n                        \\xe6\\x96\\xb0\\xe3'\n",
      "                             b'\\x81\\x97\\xe3\\x81\\x84 OneDrive&nbsp;'\n",
      "                             b'\\xe3\\x81\\xb8\\xe3\\x82\\x88\\xe3\\x81\\x86\\xe3\\x81\\x93'\n",
      "                             b'\\xe3\\x81\\x9d\\r\\n                      </td>'\n",
      "                             b'\\r\\n                    </tr>\\r\\n               '\n",
      "                             b'     <tr>\\r\\n                      <td align=\"'\n",
      "                             b'center\" class=\"photo mobile-side-padding-10\" bgc'\n",
      "                             b'olor=\"#ffffff\"><img alt=\"\" width=\"528\" border=\"0'\n",
      "                             b'\" style=\"display:block; outline:none; -ms-interp'\n",
      "                             b'olation-mode:bicubic; border:none;\" src=\"https:/'\n",
      "                             b'/asgcdn.azureedge.net/fy17-od-welcome-1/170123_W'\n",
      "                             b'elcome_Email_Hero.gif\"></td>\\r\\n              '\n",
      "                             b'      </tr>\\r\\n                    <tr>\\r\\n     '\n",
      "                             b'                 <td align=\"center\" bgcolor=\"#ff'\n",
      "                             b'ffff\" style=\"font-family:\\'Meiryo UI\\', \\'Segoe'\n",
      "                             b\" UI Light', SUWL, 'Segoe UI', Verdana, sans-seri\"\n",
      "                             b'f; font-weight:lighter; font-size:17px; mso-line'\n",
      "                             b'-height-rule:exactly; line-height:22px; color:#6'\n",
      "                             b'66666; padding-left:110px; padding-right:110px; '\n",
      "                             b'padding-bottom:16px; padding-top:32px\" class=\"mo'\n",
      "                             b'bile-side-padding-10 mobile-body\">\\r\\n        '\n",
      "                             b'                OneDrive \\xe3\\x81\\xab'\n",
      "                             b'\\xe3\\x81\\xaf\\xe3\\x80\\x81\\xe3\\x81\\x99\\xe3\\x81\\xa6'\n",
      "                             b'\\xe3\\x81\\x8d\\xe3\\x81\\xaa\\xe6\\xa9\\x9f\\xe8\\x83\\xbd'\n",
      "                             b'\\xe3\\x81\\x8c\\xe3\\x81\\x9f\\xe3\\x81\\x8f\\xe3\\x81\\x95'\n",
      "                             b'\\xe3\\x82\\x93\\xe3\\x81\\x82\\xe3\\x82\\x8a\\xe3\\x81\\xbe'\n",
      "                             b'\\xe3\\x81\\x99\\xe3\\x80\\x82 \\xe3\\x83\\x95\\xe3\\x82'\n",
      "                             b'\\xa1\\xe3\\x82\\xa4\\xe3\\x83\\xab\\xe3\\x82\\x92 1&nbs'\n",
      "                             b'p;\\xe3\\x81\\xa4\\xe3\\x82\\xa2\\xe3\\x83\\x83\\xe3'\n",
      "                             b'\\x83\\x97\\xe3\\x83\\xad\\xe3\\x83\\xbc\\xe3\\x83\\x89\\xe3'\n",
      "                             b'\\x81\\x97\\xe3\\x81\\xa6\\xe6\\xac\\xa1\\xe3\\x81\\xae\\xe6'\n",
      "                             b'\\xae\\xb5\\xe9\\x9a\\x8e\\xe3\\x81\\xab\\xe9\\x80\\xb2\\xe3'\n",
      "                             b'\\x81\\xbf\\xe3\\x81\\xbe\\xe3\\x81\\x97\\xe3\\x82\\x87\\xe3'\n",
      "                             b'\\x81\\x86\\xe3\\x80\\x82\\r\\n                     '\n",
      "                             b' </td>\\r\\n                    </tr>\\r\\n         '\n",
      "                             b'           <tr>\\r\\n                      <td b'\n",
      "                             b'gcolor=\"#ffffff\" align=\"center\" style=\"padding-b'\n",
      "                             b'ottom:60px;\" class=\"mobile-side-padding-10 butto'\n",
      "                             b'nblck\">\\r\\n                        <a href=\"ht'\n",
      "                             b'tps://click.mail.onedrive.com/?qs=583a8e42f5362b'\n",
      "                             b'7082ba46c7393270df576edca52696ccc398c770a57271a9'\n",
      "                             b'1fd52d16387efd77e5dc711616b7ae7fb3a3f341d36dceb2'\n",
      "                             b'53374899bfd432d066\" style=\"color:#ffffff; text-d'\n",
      "                             b'ecoration:none;\">\\r\\n                        <'\n",
      "                             b'table cellspacing=\"0\" cellpadding=\"0\" border=\"0\"'\n",
      "                             b' style=\"margin:0 auto\">\\r\\n                   '\n",
      "                             b'       <tr>\\r\\n                            <td'\n",
      "                             b' class=\"mobile-side-padding-15\" bgcolor=\"#0078D7'\n",
      "                             b'\" align=\"center\" style=\"font-family:\\'Meiryo '\n",
      "                             b\"UI', 'Segoe UI Semibold', SUWSB, 'Segoe UI', Ver\"\n",
      "                             b'dana, sans-serif; font-weight:bolder; font-size:'\n",
      "                             b'14px; mso-line-height-rule:exactly; line-height:'\n",
      "                             b'18px; color:#727272; padding-top: 10px; padding-'\n",
      "                             b'left: 20px; padding-right: 20px; padding-bottom:'\n",
      "                             b' 10px;\">\\r\\n                              <a h'\n",
      "                             b'ref=\"https://click.mail.onedrive.com/?qs=583a8e4'\n",
      "                             b'2f5362b7082ba46c7393270df576edca52696ccc398c770a'\n",
      "                             b'57271a91fd52d16387efd77e5dc711616b7ae7fb3a3f341d'\n",
      "                             b'36dceb253374899bfd432d066\" style=\"color:#ffffff;'\n",
      "                             b' text-decoration:none;\"><span style=\"color:#ffff'\n",
      "                             b'ff; text-decoration:none;\">\\xe3\\x83\\x95\\xe3\\x82'\n",
      "                             b'\\xa1\\xe3\\x82\\xa4\\xe3\\x83\\xab\\xe3\\x82\\x92\\xe3\\x82'\n",
      "                             b'\\xa2\\xe3\\x83\\x83\\xe3\\x83\\x97\\xe3\\x83\\xad\\xe3\\x83'\n",
      "                             b'\\xbc\\xe3\\x83\\x89</span></a>\\r\\n               '\n",
      "                             b'             </td>\\r\\n                        '\n",
      "                             b'  </tr>\\r\\n                        </table>\\r\\n '\n",
      "                             b'                       </a>\\r\\n               '\n",
      "                             b'       </td>\\r\\n                    </tr>\\r\\n   '\n",
      "                             b'                 <tr>\\r\\n                     '\n",
      "                             b' <td bgcolor=\"#ffffff\" align=\"center\" class=\"mob'\n",
      "                             b'ile-side-padding-10\">\\r\\n                     '\n",
      "                             b'  <table width=\"100%\" cellspacing=\"0\" cellpaddin'\n",
      "                             b'g=\"0\" border=\"0\">\\r\\n                         '\n",
      "                             b' <tr>\\r\\n                            <td bgcol'\n",
      "                             b'or=\"#ffffff\" align=\"center\" style=\"padding-left:'\n",
      "                             b'15px;padding-right:15px; padding-bottom:12px'\n",
      "                             b';\">\\r\\n                              <table wi'\n",
      "                             b'dth=\"100%\" cellspacing=\"0\" cellpadding=\"0\" borde'\n",
      "                             b'r=\"0\">\\r\\n                                <tr>'\n",
      "                             b'\\r\\n                                  <td bgco'\n",
      "                             b'lor=\"#ffffff\" align=\"center\" style=\"padding-righ'\n",
      "                             b't:16px; padding-bottom:30px\" class=\"mobile-no-si'\n",
      "                             b'de-padding\" valign=\"top\">\\r\\n                 '\n",
      "                             b'                   <table width=\"100%\" cellspaci'\n",
      "                             b'ng=\"0\" cellpadding=\"0\" border=\"0\">\\r\\n        '\n",
      "                             b'                              <tr>\\r\\n        '\n",
      "                             b'                                <td align=\"cente'\n",
      "                             b'r\" style=\"padding-bottom:8px;\"><img alt=\"\" src=\"'\n",
      "                             b'https://asgcdn.azureedge.net/fy17-od-welcome-1/1'\n",
      "                             b'70123_Welcome_Email_icon_1.png\" width=\"178\" styl'\n",
      "                             b'e=\"display:block; outline:none; -ms-interpolatio'\n",
      "                             b'n-mode:bicubic; border:none; margin:0 auto;\" ali'\n",
      "                             b'gn=\"center\"></td>\\r\\n                         '\n",
      "                             b'             </tr>\\r\\n                        '\n",
      "                             b'              <tr>\\r\\n                        '\n",
      "                             b'                <td align=\"center\" style=\"font-f'\n",
      "                             b\"amily:'Meiryo UI', 'Segoe UI Semibold', SUWSB, '\"\n",
      "                             b\"Segoe UI', Verdana, sans-serif; font-weight:bold\"\n",
      "                             b'er; font-size:13px; mso-line-height-rule:exactly'\n",
      "                             b'; line-height:17px; color:#333333; padding-botto'\n",
      "                             b'm:5px; text-align:center;\">\\r\\n               '\n",
      "                             b'                           \\xe3\\x81\\x84\\xe3\\x81'\n",
      "                             b'\\xa4\\xe3\\x81\\xa7\\xe3\\x82\\x82\\xe5\\xbf\\x85\\xe8\\xa6'\n",
      "                             b'\\x81\\xe3\\x81\\xaa\\xe3\\x82\\x82\\xe3\\x81\\xae\\xe3\\x81'\n",
      "                             b'\\xab\\xe3\\x82\\xa2\\xe3\\x82\\xaf\\xe3\\x82\\xbb\\xe3\\x82'\n",
      "                             b'\\xb9\\xe3\\x81\\xa7\\xe3\\x81\\x8d\\xe3\\x82\\x8b\\r\\n    '\n",
      "                             b'                                    </td>\\r\\n '\n",
      "                             b'                                     </tr>\\r\\n'\n",
      "                             b'                                      <tr>\\r\\n'\n",
      "                             b'                                        <td alig'\n",
      "                             b'n=\"center\" style=\"padding-left:120px; padding-ri'\n",
      "                             b\"ght:120px; font-family:'Meiryo UI', 'Segoe UI Li\"\n",
      "                             b\"ght', SUWL, 'Segoe UI', Verdana, sans-serif; fon\"\n",
      "                             b't-weight:lighter; font-size:13px; mso-line-heigh'\n",
      "                             b't-rule:exactly; line-height:17px; color:#666666;'\n",
      "                             b' text-align:center;\" class=\"mobile-no-side-paddi'\n",
      "                             b'ng\">\\r\\n                                      '\n",
      "                             b'    \\xe3\\x83\\x95\\xe3\\x82\\xa1\\xe3\\x82'\n",
      "                             b'\\xa4\\xe3\\x83\\xab\\xe3\\x81\\xa8\\xe5\\x86\\x99\\xe7\\x9c'\n",
      "                             b'\\x9f\\xe3\\x81\\xaf\\xe3\\x81\\x84\\xe3\\x81\\xa4\\xe3\\x82'\n",
      "                             b'\\x82\\xe5\\x90\\x8c\\xe6\\x9c\\x9f\\xe3\\x81\\x95\\xe3\\x82'\n",
      "                             b'\\x8c\\xe3\\x81\\xa6\\xe3\\x81\\x84\\xe3\\x82\\x8b\\xe3\\x81'\n",
      "                             b'\\xae\\xe3\\x81\\xa7\\xe3\\x80\\x81\\xe3\\x81\\x99\\xe3\\x81'\n",
      "                             b'\\xb9\\xe3\\x81\\xa6\\xe3\\x81\\xae\\xe3\\x83\\x87\\xe3\\x83'\n",
      "                             b'\\x90\\xe3\\x82\\xa4\\xe3\\x82\\xb9\\xe3\\x81\\x8b\\xe3\\x82'\n",
      "                             b'\\x89\\xe6\\x9c\\x80\\xe6\\x96\\xb0\\xe3\\x81\\xae\\xe6\\x83'\n",
      "                             b'\\x85\\xe5\\xa0\\xb1\\xe3\\x81\\xab\\xe3\\x82\\xa2\\xe3\\x82'\n",
      "                             b'\\xaf\\xe3\\x82\\xbb\\xe3\\x82\\xb9\\xe3\\x81\\xa7\\xe3\\x81'\n",
      "                             b'\\x8d\\xe3\\x81\\xbe\\xe3\\x81\\x99\\xe3\\x80\\x82\\r\\n    '\n",
      "                             b'                                    </td>\\r\\n '\n",
      "                             b'                                     </tr>\\r\\n'\n",
      "                             b'                                    </table>'\n",
      "                             b'\\r\\n                                  </td>\\r\\n '\n",
      "                             b'                                </tr>\\r\\n     '\n",
      "                             b'                            <tr>\\r\\n          '\n",
      "                             b'                        <td bgcolor=\"#ffffff\" al'\n",
      "                             b'ign=\"center\" style=\"padding-right:16px; padding-'\n",
      "                             b'bottom:30px\" class=\"mobile-no-side-padding\" vali'\n",
      "                             b'gn=\"top\">\\r\\n                                 '\n",
      "                             b'   <table width=\"100%\" cellspacing=\"0\" cellpaddi'\n",
      "                             b'ng=\"0\" border=\"0\">\\r\\n                        '\n",
      "                             b'              <tr>\\r\\n                        '\n",
      "                             b'                <td align=\"center\" style=\"paddin'\n",
      "                             b'g-bottom:8px;\"><img alt=\"\" src=\"https://asgcdn.a'\n",
      "                             b'zureedge.net/fy17-od-welcome-1/170123_Welcome_Em'\n",
      "                             b'ail_icon_2.png\" width=\"178\" style=\"display:block'\n",
      "                             b'; outline:none; -ms-interpolation-mode:bicubic; '\n",
      "                             b'border:none; margin:0 auto;\" align=\"center\"></td'\n",
      "                             b'>\\r\\n                                      </t'\n",
      "                             b'r>\\r\\n                                      <t'\n",
      "                             b'r>\\r\\n                                        '\n",
      "                             b'<td align=\"center\" style=\"font-family:\\'Meiry'\n",
      "                             b\"o UI', 'Segoe UI Semibold', SUWSB, 'Segoe UI', V\"\n",
      "                             b'erdana, sans-serif; font-weight:bolder; font-siz'\n",
      "                             b'e:13px; mso-line-height-rule:exactly; line-heigh'\n",
      "                             b't:17px; color:#333333; padding-bottom:5px; text-'\n",
      "                             b'align:center;\">\\r\\n                           '\n",
      "                             b'               \\xe3\\x81\\xa9\\xe3\\x81'\n",
      "                             b'\\x93\\xe3\\x81\\xa7\\xe3\\x82\\x82\\xe4\\xbb\\x95\\xe4\\xba'\n",
      "                             b'\\x8b\\xe3\\x81\\x8c\\xe3\\x81\\xa7\\xe3\\x81\\x8d\\xe3\\x82'\n",
      "                             b'\\x8b\\r\\n                                     '\n",
      "                             b'   </td>\\r\\n                                  '\n",
      "                             b'    </tr>\\r\\n                                 '\n",
      "                             b'     <tr>\\r\\n                                 '\n",
      "                             b'       <td align=\"center\" style=\"padding-left:12'\n",
      "                             b\"0px; padding-right:120px;font-family:'Meiryo UI'\"\n",
      "                             b\", 'Segoe UI Light', SUWL, 'Segoe UI', Verdana, s\"\n",
      "                             b'ans-serif; font-weight:lighter; font-size:13px; '\n",
      "                             b'mso-line-height-rule:exactly; line-height:17px; '\n",
      "                             b'color:#666666; text-align:center;\" class=\"mobile'\n",
      "                             b'-bottom-padding-30 mobile-no-side-padding\">\\r'\n",
      "                             b'\\n                                          <'\n",
      "                             b'a href=\"https://click.mail.onedrive.com/?qs=2c16'\n",
      "                             b'c03353ee02336f5045c6fa5c51a3795ff21fca3d2cf92b7c'\n",
      "                             b'9718abe417b90961964b860f8d774e814efaac227a935848'\n",
      "                             b'12626317c28753315bb91cfd4e88\" style=\"color:#0078'\n",
      "                             b'D4; text-decoration: none;\"><span style=\"text-de'\n",
      "                             b'coration: none; color:#0078D7;\">OneDrive'\n",
      "                             b' \\xe3\\x82\\xa2\\xe3\\x83\\x97\\xe3\\x83\\xaa\\xe3\\x82'\n",
      "                             b'\\x92\\xe3\\x82\\xa4\\xe3\\x83\\xb3\\xe3\\x82\\xb9\\xe3\\x83'\n",
      "                             b'\\x88\\xe3\\x83\\xbc\\xe3\\x83\\xab</span></a>\\xe3\\x81'\n",
      "                             b'\\x99\\xe3\\x82\\x8c\\xe3\\x81\\xb0\\xe3\\x80\\x81\\xe3\\x82'\n",
      "                             b'\\xb9\\xe3\\x83\\x9e\\xe3\\x83\\xbc\\xe3\\x83\\x88\\xe3\\x83'\n",
      "                             b'\\x95\\xe3\\x82\\xa9\\xe3\\x83\\xb3\\xe3\\x82\\x84\\xe3\\x82'\n",
      "                             b'\\xbf\\xe3\\x83\\x96\\xe3\\x83\\xac\\xe3\\x83\\x83\\xe3\\x83'\n",
      "                             b'\\x88\\xe3\\x81\\xa7\\xe3\\x83\\x95\\xe3\\x82\\xa1\\xe3\\x82'\n",
      "                             b'\\xa4\\xe3\\x83\\xab\\xe3\\x82\\x92\\xe8\\xa1\\xa8\\xe7\\xa4'\n",
      "                             b'\\xba\\xe3\\x80\\x81\\xe7\\xb7\\xa8\\xe9\\x9b\\x86\\xe3\\x80'\n",
      "                             b'\\x81\\xe5\\x85\\xb1\\xe6\\x9c\\x89\\xe3\\x81\\xa7\\xe3\\x81'\n",
      "                             b'\\x8d\\xe3\\x81\\xbe\\xe3\\x81\\x99\\xe3\\x80\\x82\\r\\n    '\n",
      "                             b'                                    </td>\\r\\n '\n",
      "                             b'                                     </tr>\\r\\n'\n",
      "                             b'                                    </table>'\n",
      "                             b'\\r\\n                                  </td>\\r\\n '\n",
      "                             b'                                </tr>\\r\\n     '\n",
      "                             b'                            <tr>\\r\\n          '\n",
      "                             b'                        <td bgcolor=\"#ffffff\" al'\n",
      "                             b'ign=\"center\" class=\"\" valign=\"top\" style=\"paddin'\n",
      "                             b'g-bottom:30px\">\\r\\n                           '\n",
      "                             b'         <table width=\"100%\" cellspacing=\"0\" cel'\n",
      "                             b'lpadding=\"0\" border=\"0\">\\r\\n                  '\n",
      "                             b'                    <tr>\\r\\n                  '\n",
      "                             b'                      <td align=\"center\" style=\"'\n",
      "                             b'padding-bottom:8px;\"><img alt=\"\" src=\"https://as'\n",
      "                             b'gcdn.azureedge.net/fy17-od-welcome-1/170123_Welc'\n",
      "                             b'ome_Email_icon_3.png\" width=\"178\" style=\"display'\n",
      "                             b':block; outline:none; -ms-interpolation-mode:bic'\n",
      "                             b'ubic; border:none; margin:0 auto;\" align=\"center'\n",
      "                             b'\"></td>\\r\\n                                   '\n",
      "                             b'   </tr>\\r\\n                                  '\n",
      "                             b'    <tr>\\r\\n                                  '\n",
      "                             b'      <td align=\"center\" style=\"font-family:'\n",
      "                             b\"'Meiryo UI', 'Segoe UI Semibold', SUWSB, 'Segoe \"\n",
      "                             b\"UI', Verdana, sans-serif; font-weight:bolder; fo\"\n",
      "                             b'nt-size:13px; mso-line-height-rule:exactly; line'\n",
      "                             b'-height:17px; color:#333333; padding-bottom:5px;'\n",
      "                             b' text-align:center;\">\\r\\n                     '\n",
      "                             b'                     \\xe5\\x85\\xb1'\n",
      "                             b'\\xe6\\x9c\\x89\\xe3\\x81\\x97\\xe3\\x81\\xa6\\xe5\\x85\\xb1'\n",
      "                             b'\\xe5\\x90\\x8c\\xe4\\xbd\\x9c\\xe6\\xa5\\xad\\xe3\\x81\\xa7'\n",
      "                             b'\\xe3\\x81\\x8d\\xe3\\x82\\x8b\\r\\n                    '\n",
      "                             b'                    </td>\\r\\n                 '\n",
      "                             b'                     </tr>\\r\\n                '\n",
      "                             b'                      <tr>\\r\\n                '\n",
      "                             b'                        <td align=\"center\" style'\n",
      "                             b'=\"padding-left:120px; padding-right:120px;font-f'\n",
      "                             b\"amily:'Meiryo UI', 'Segoe UI Light', SUWL, 'Sego\"\n",
      "                             b\"e UI', Verdana, sans-serif; font-weight:lighter;\"\n",
      "                             b' font-size:13px; mso-line-height-rule:exactly; l'\n",
      "                             b'ine-height:17px; color:#666666; text-align:cente'\n",
      "                             b'r;\" class=\"mobile-bottom-padding-30 mobile-no-si'\n",
      "                             b'de-padding\">\\r\\n                              '\n",
      "                             b'            Office&nbsp;\\xe3\\x83\\x95\\xe3'\n",
      "                             b'\\x82\\xa1\\xe3\\x82\\xa4\\xe3\\x83\\xab\\xe3\\x81\\xae\\xe3'\n",
      "                             b'\\x83\\xaa\\xe3\\x83\\xb3\\xe3\\x82\\xaf\\xe3\\x82\\x92\\xe9'\n",
      "                             b'\\x80\\x81\\xe3\\x82\\x8b\\xe3\\x81\\xa8\\xe3\\x80\\x81\\xe3'\n",
      "                             b'\\x83\\xaa\\xe3\\x82\\xa2\\xe3\\x83\\xab\\xe3\\x82\\xbf\\xe3'\n",
      "                             b'\\x82\\xa4\\xe3\\x83\\xa0\\xe3\\x81\\xae\\xe5\\x85\\xb1\\xe5'\n",
      "                             b'\\x90\\x8c\\xe7\\xb7\\xa8\\xe9\\x9b\\x86\\xe3\\x82\\x92\\xe4'\n",
      "                             b'\\xbd\\xbf\\xe7\\x94\\xa8\\xe3\\x81\\x97\\xe3\\x81\\xa6\\xe3'\n",
      "                             b'\\x80\\x81\\xe4\\xbb\\x96\\xe3\\x81\\xae\\xe3\\x83\\xa1\\xe3'\n",
      "                             b'\\x83\\xb3\\xe3\\x83\\x90\\xe3\\x83\\xbc\\xe3\\x81\\x8c\\xe3'\n",
      "                             b'\\x83\\x95\\xe3\\x82\\xa1\\xe3\\x82\\xa4\\xe3\\x83\\xab\\xe3'\n",
      "                             b'\\x81\\xab\\xe5\\xa4\\x89\\xe6\\x9b\\xb4\\xe3\\x82\\x92\\xe5'\n",
      "                             b'\\x8a\\xa0\\xe3\\x81\\x88\\xe3\\x82\\x8b\\xe3\\x82\\x88\\xe3'\n",
      "                             b'\\x81\\x86\\xe3\\x81\\x99\\xe3\\x82\\x92\\xe7\\xa2\\xba\\xe8'\n",
      "                             b'\\xaa\\x8d\\xe3\\x81\\xa7\\xe3\\x81\\x8d\\xe3\\x81\\xbe\\xe3'\n",
      "                             b'\\x81\\x99\\xe3\\x80\\x82\\r\\n                     '\n",
      "                             b'                   </td>\\r\\n                  '\n",
      "                             b'                    </tr>\\r\\n                 '\n",
      "                             b'                   </table>\\r\\n               '\n",
      "                             b'                   </td>\\r\\n                  '\n",
      "                             b'              </tr>\\r\\n                       '\n",
      "                             b'       </table>\\r\\n                           '\n",
      "                             b' </td>\\r\\n                          </tr>\\r\\n   '\n",
      "                             b'                     </table>\\r\\n             '\n",
      "                             b'         </td>\\r\\n                    </tr>\\r\\n '\n",
      "                             b'                   <tr>\\r\\n                   '\n",
      "                             b'   <td height=\"20\" style=\"mso-line-height-rule:e'\n",
      "                             b'xactly;line-height:20px;font-size:1px;\">&nbsp;</'\n",
      "                             b'td>\\r\\n                    </tr>\\r\\n            '\n",
      "                             b'        <tr>\\r\\n                      <td alig'\n",
      "                             b'n=\"center\" class=\"mobile-side-padding-10 mobile-'\n",
      "                             b'top-padding-30\" bgcolor=\"#ffffff\" style=\"padding'\n",
      "                             b'-top:32px;\"><img alt=\"\" width=\"49\" border=\"0\" st'\n",
      "                             b'yle=\"display:block; outline:none; -ms-interpolat'\n",
      "                             b'ion-mode:bicubic; border:none;\" src=\"https://asg'\n",
      "                             b'cdn.azureedge.net/fy17-od-welcome-1/1805-premium'\n",
      "                             b'-diamond-2.png\"></td>\\r\\n                    <'\n",
      "                             b'/tr>\\r\\n                    <tr>\\r\\n            '\n",
      "                             b'          <td align=\"center\" class=\"mobile-headl'\n",
      "                             b'ine mobile-side-padding-10\" bgcolor=\"#ffffff\" st'\n",
      "                             b'yle=\"font-family:\\'Meiryo UI\\', \\'Segoe UI Semi'\n",
      "                             b\"bold', SUWSB, 'Segoe UI', Verdana, sans-serif; f\"\n",
      "                             b'ont-weight:bolder; font-size:17px; mso-line-heig'\n",
      "                             b'ht-rule:exactly; line-height:22px; color:#333333'\n",
      "                             b'; padding-left:28px; padding-right:27px; padding'\n",
      "                             b'-bottom:14px; padding-top:16px\">\\r\\n          '\n",
      "                             b'              \\xe7\\x89\\xb9\\xe5\\x88\\xa5'\n",
      "                             b'\\xe3\\x81\\xaa\\xe6\\xa9\\x9f\\xe8\\x83\\xbd\\xe3\\x81\\xa8'\n",
      "                             b'\\xe3\\x82\\xb9\\xe3\\x83\\x88\\xe3\\x83\\xac\\xe3\\x83\\xbc'\n",
      "                             b'\\xe3\\x82\\xb8\\xe3\\x82\\x92\\xe5\\x85\\xa5\\xe6\\x89\\x8b'\n",
      "                             b'\\xe3\\x81\\x99\\xe3\\x82\\x8b\\r\\n                    '\n",
      "                             b'  </td>\\r\\n                    </tr>\\r\\n        '\n",
      "                             b'            <tr>\\r\\n                      <td '\n",
      "                             b'align=\"center\" bgcolor=\"#ffffff\" style=\"font-fam'\n",
      "                             b\"ily:'Meiryo UI', 'Segoe UI Light', SUWL, 'Segoe \"\n",
      "                             b\"UI', Verdana, sans-serif; font-weight:lighter; f\"\n",
      "                             b'ont-size:13px; mso-line-height-rule:exactly; lin'\n",
      "                             b'e-height:17px; color:#666666; padding-left:130px'\n",
      "                             b'; padding-right:130px; padding-bottom:32px;\" cla'\n",
      "                             b'ss=\"mobile-side-padding-10 mobile-body\">\\r\\n  '\n",
      "                             b'                      Office 365 \\xe3\\x81\\xa7'\n",
      "                             b'\\xe3\\x81\\xaf\\xe3\\x80\\x81OneDrive \\xe3'\n",
      "                             b'\\x81\\xae\\xe7\\x89\\xb9\\xe5\\x88\\xa5\\xe3\\x81\\xaa\\xe6'\n",
      "                             b'\\xa9\\x9f\\xe8\\x83\\xbd\\xe3\\x80\\x811&nbsp;T'\n",
      "                             b'B \\xe3\\x81\\xae OneDrive \\xe3\\x82\\xb9\\xe3\\x83'\n",
      "                             b'\\x88\\xe3\\x83\\xac\\xe3\\x83\\xbc\\xe3\\x82\\xb8\\xe3\\x80'\n",
      "                             b'\\x81Office&nbsp;\\xe3\\x81\\xae\\xe3\\x81\\x82\\xe3'\n",
      "                             b'\\x82\\x89\\xe3\\x82\\x86\\xe3\\x82\\x8b\\xe6\\xa9\\x9f\\xe8'\n",
      "                             b'\\x83\\xbd\\xe3\\x82\\x92\\xe3\\x81\\x94\\xe5\\x88\\xa9\\xe7'\n",
      "                             b'\\x94\\xa8\\xe3\\x81\\x84\\xe3\\x81\\x9f\\xe3\\x81\\xa0\\xe3'\n",
      "                             b'\\x81\\x91\\xe3\\x81\\xbe\\xe3\\x81\\x99\\xe3\\x80\\x82\\r'\n",
      "                             b'\\n                      </td>\\r\\n              '\n",
      "                             b'      </tr>\\r\\n                    <tr>\\r\\n     '\n",
      "                             b'                 <td align=\"center\" bgcolor=\"#ff'\n",
      "                             b'ffff\" class=\"mobile-side-padding-10 buttonblck\">'\n",
      "                             b'\\r\\n                        <table cellspacing'\n",
      "                             b'=\"0\" cellpadding=\"0\" border=\"0\" style=\"margin:0 '\n",
      "                             b'auto\">\\r\\n                          <tr>\\r\\n    '\n",
      "                             b'                        <td align=\"left\" style=\"'\n",
      "                             b'padding-bottom:6px; padding-right:10px;\"><img al'\n",
      "                             b't=\"\" width=\"10\" border=\"0\" style=\"display:block;'\n",
      "                             b' outline:none; -ms-interpolation-mode:bicubic; b'\n",
      "                             b'order:none;\" src=\"https://asgcdn.azureedge.net/f'\n",
      "                             b'y17-od-welcome-1/170123_Welcome_Email_greencheck'\n",
      "                             b'.png\"></td>\\r\\n                            <td'\n",
      "                             b' align=\"left\" style=\"font-family:\\'Meiryo UI\\''\n",
      "                             b\", 'Segoe UI Light', SUWL, 'Segoe UI', Verdana, s\"\n",
      "                             b'ans-serif; font-weight:lighter; font-size:13px; '\n",
      "                             b'mso-line-height-rule:exactly; line-height:17px; '\n",
      "                             b'color:#666666; padding-bottom:12px\">'\n",
      "                             b'\\xe5\\x90\\x88\\xe8\\xa8\\x88 <span style=\"font-fam'\n",
      "                             b'ily:Segoe UI Semibold, SUWSB, Segoe UI, Verdana,'\n",
      "                             b' sans-serif;\">1&nbsp;TB</span> (1,000&nbsp;GB)</'\n",
      "                             b'td>\\r\\n                          </tr>\\r\\n      '\n",
      "                             b'                    <tr>\\r\\n                  '\n",
      "                             b'          <td align=\"left\" style=\"padding-bottom'\n",
      "                             b':6px; padding-right:10px;\"><img alt=\"\" width=\"10'\n",
      "                             b'\" border=\"0\" style=\"display:block; outline:none;'\n",
      "                             b' -ms-interpolation-mode:bicubic; border:none;\" s'\n",
      "                             b'rc=\"https://asgcdn.azureedge.net/fy17-od-welcome'\n",
      "                             b'-1/170123_Welcome_Email_greencheck.png\"></td'\n",
      "                             b'>\\r\\n                            <td align=\"le'\n",
      "                             b'ft\" style=\"font-family:\\'Meiryo UI\\', \\'Segoe U'\n",
      "                             b\"I Light', SUWL, 'Segoe UI', Verdana, sans-serif;\"\n",
      "                             b' font-weight:lighter; font-size:13px; mso-line-h'\n",
      "                             b'eight-rule:exactly; line-height:17px; color:#666'\n",
      "                             b'666; padding-bottom:12px\">\\xe5\\xbc'\n",
      "                             b'\\xb7\\xe5\\x8a\\x9b\\xe3\\x81\\xaa\\xe7\\x94\\x9f\\xe7\\x94'\n",
      "                             b'\\xa3\\xe6\\x80\\xa7</td>\\r\\n                     '\n",
      "                             b'     </tr>\\r\\n                          <tr>\\r\\n'\n",
      "                             b'                           <td align=\"left\" styl'\n",
      "                             b'e=\"padding-bottom:6px; padding-right:10px;\"><img'\n",
      "                             b' alt=\"\" width=\"10\" border=\"0\" style=\"display:blo'\n",
      "                             b'ck; outline:none; -ms-interpolation-mode:bicubic'\n",
      "                             b'; border:none;\" src=\"https://asgcdn.azureedge.ne'\n",
      "                             b't/fy17-od-welcome-1/170123_Welcome_Email_greench'\n",
      "                             b'eck.png\"></td>\\r\\n                            '\n",
      "                             b'<td align=\"left\" style=\"font-family:\\'Meiryo '\n",
      "                             b\"UI', 'Segoe UI Light', SUWL, 'Segoe UI', Verdana\"\n",
      "                             b', sans-serif; font-weight:lighter; font-size:13p'\n",
      "                             b'x; mso-line-height-rule:exactly; line-height:17p'\n",
      "                             b'x; color:#666666; padding-bottom:12px\">\\xe9'\n",
      "                             b'\\xab\\x98\\xe5\\xba\\xa6\\xe3\\x81\\xaa\\xe5\\x85\\xb1\\xe6'\n",
      "                             b'\\x9c\\x89\\xe6\\xa9\\x9f\\xe8\\x83\\xbd</td>\\r\\n     '\n",
      "                             b'                     </tr>\\r\\n                '\n",
      "                             b'          <tr>\\r\\n                            '\n",
      "                             b'<td align=\"left\" style=\"padding-bottom:6px; padd'\n",
      "                             b'ing-right:10px;\"><img alt=\"\" width=\"10\" border=\"'\n",
      "                             b'0\" style=\"display:block; outline:none; -ms-inter'\n",
      "                             b'polation-mode:bicubic; border:none;\" src=\"https:'\n",
      "                             b'//asgcdn.azureedge.net/fy17-od-welcome-1/170123_'\n",
      "                             b'Welcome_Email_greencheck.png\"></td>\\r\\n       '\n",
      "                             b'                     <td align=\"left\" style=\"fon'\n",
      "                             b\"t-family:'Meiryo UI', 'Segoe UI Light', SUWL, 'S\"\n",
      "                             b\"egoe UI', Verdana, sans-serif; font-weight:light\"\n",
      "                             b'er; font-size:13px; mso-line-height-rule:exactly'\n",
      "                             b'; line-height:17px; color:#666666; padding-botto'\n",
      "                             b'm:12px\">Office 2016&nbsp;\\xe3\\x82\\xa2'\n",
      "                             b'\\xe3\\x83\\x97\\xe3\\x83\\xaa</td>\\r\\n               '\n",
      "                             b'           </tr>\\r\\n                        </'\n",
      "                             b'table>\\r\\n                      </td>\\r\\n       '\n",
      "                             b'             </tr>\\r\\n                    <tr>'\n",
      "                             b'\\r\\n                      <td align=\"center\" c'\n",
      "                             b'lass=\"mobile-side-padding-10\" bgcolor=\"#ffffff\" '\n",
      "                             b'style=\"padding-bottom:28px\" class=\"mobile-bottom'\n",
      "                             b'-padding-20\"><img alt=\"Word - Excel - PowerPoint'\n",
      "                             b' - OneNote - Outlook\" width=\"132\" border=\"0\" sty'\n",
      "                             b'le=\"display:block; outline:none; -ms-interpolati'\n",
      "                             b'on-mode:bicubic; border:none;\" src=\"https://asgc'\n",
      "                             b'dn.azureedge.net/fy17-od-welcome-1/1805-office-i'\n",
      "                             b'cons.png\"></td>\\r\\n                    </tr>\\r\\n'\n",
      "                             b'                    <tr>\\r\\n                  '\n",
      "                             b'    <td bgcolor=\"#ffffff\" align=\"center\" class=\"'\n",
      "                             b'mobile-side-padding-10 buttonblck\">\\r\\n       '\n",
      "                             b'                 <a href=\"https://click.mail.one'\n",
      "                             b'drive.com/?qs=c66e0ce47b05fa81f835009859e2a4fa61'\n",
      "                             b'c343effcb753ae8f9d192ad1d54f61fe7ad56b683ca04449'\n",
      "                             b'2a54517f6eedb7c18fe5614c9dca2f7394a42ba5a0d58f\" '\n",
      "                             b'style=\"color:#ffffff; text-decoration:none;\"'\n",
      "                             b'>\\r\\n                        <table cellspacin'\n",
      "                             b'g=\"0\" cellpadding=\"0\" border=\"0\" style=\"margin:0'\n",
      "                             b' auto\">\\r\\n                          <tr>\\r\\n   '\n",
      "                             b'                         <td class=\"mobile-side-'\n",
      "                             b'padding-15\" bgcolor=\"#02a54f\" align=\"center\" sty'\n",
      "                             b'le=\"font-family:\\'Meiryo UI\\', \\'Segoe UI Semib'\n",
      "                             b\"old', SUWSB, 'Segoe UI', Verdana, sans-serif; fo\"\n",
      "                             b'nt-weight:bolder; font-size:14px; mso-line-heigh'\n",
      "                             b't-rule:exactly; line-height:18px; color:#727272;'\n",
      "                             b' padding-top: 10px; padding-left: 20px; padding-'\n",
      "                             b'right: 20px; padding-bottom: 10px;\">\\r\\n      '\n",
      "                             b'                        <a href=\"https://click.m'\n",
      "                             b'ail.onedrive.com/?qs=c66e0ce47b05fa81f835009859e'\n",
      "                             b'2a4fa61c343effcb753ae8f9d192ad1d54f61fe7ad56b683'\n",
      "                             b'ca044492a54517f6eedb7c18fe5614c9dca2f7394a42ba5a'\n",
      "                             b'0d58f\" style=\"color:#ffffff; text-decoration:non'\n",
      "                             b'e;\"><span style=\"color:#ffffff; text-decoration:'\n",
      "                             b'none;\">OneDrive \\xe3\\x82\\x92\\xe3\\x82\\xa2\\xe3\\x83'\n",
      "                             b'\\x83\\xe3\\x83\\x97\\xe3\\x82\\xb0\\xe3\\x83\\xac\\xe3\\x83'\n",
      "                             b'\\xbc\\xe3\\x83\\x89</span></a>\\r\\n               '\n",
      "                             b'             </td>\\r\\n                        '\n",
      "                             b'  </tr>\\r\\n                        </table>\\r\\n '\n",
      "                             b'                       </a>\\r\\n               '\n",
      "                             b'       </td>\\r\\n                    </tr>\\r\\n   '\n",
      "                             b'                 <tr>\\r\\n                     '\n",
      "                             b' <td align=\"center\" class=\"photo\" bgcolor=\"#ffff'\n",
      "                             b'ff\" valign=\"bottom\">\\r\\n                      '\n",
      "                             b'\\t<table width=\"100%\" cellspacing=\"0\" cellpad'\n",
      "                             b'ding=\"0\" border=\"0\">\\r\\n                      '\n",
      "                             b'    <tr>\\r\\n                            <td al'\n",
      "                             b'ign=\"left\" valign=\"bottom\">\\r\\n               '\n",
      "                             b'             <img alt=\"\" width=\"241\" border=\"0\" '\n",
      "                             b'style=\"display:block; outline:none; -ms-interpol'\n",
      "                             b'ation-mode:bicubic; border:none;\" src=\"https://a'\n",
      "                             b'sgcdn.azureedge.net/fy17-od-welcome-1/170123_Wel'\n",
      "                             b'come_Email_cloud_1.png\">\\r\\n                  '\n",
      "                             b'          </td>\\r\\n                           '\n",
      "                             b' <td width=\"100\" class=\"width70\"></td>\\r\\n    '\n",
      "                             b'                        <td align=\"right\" valign'\n",
      "                             b'=\"bottom\">\\r\\n                            <img'\n",
      "                             b' alt=\"\" width=\"210\" border=\"0\" style=\"display:bl'\n",
      "                             b'ock; outline:none; -ms-interpolation-mode:bicubi'\n",
      "                             b'c; border:none;\" src=\"https://asgcdn.azureedge.n'\n",
      "                             b'et/fy17-od-welcome-1/170123_Welcome_Email_cloud_'\n",
      "                             b'2.png\">\\r\\n                            </td>\\r\\n'\n",
      "                             b'                          </tr>\\r\\n           '\n",
      "                             b'             </table>\\r\\n                     '\n",
      "                             b' </td>\\r\\n                    </tr>\\r\\n         '\n",
      "                             b'         </table>\\r\\n                </td>\\r\\n  '\n",
      "                             b'            </tr>\\r\\n              <tr>\\r\\n     '\n",
      "                             b'           <td align=\"left\" valign=\"top\" bgcolor'\n",
      "                             b'=\"#f2f2f2\">\\r\\n                  \\r\\n           '\n",
      "                             b'       \\r\\n\\r\\n\\r\\n                  \\r\\n       '\n",
      "                             b'           \\r\\n                   \\r\\n \\r'\n",
      "                             b'\\n\\r\\n\\r\\n<table border=\"0\" cellpadding=\"0\" c'\n",
      "                             b'ellspacing=\"0\" width=\"100%\" role=\"presentation\">'\n",
      "                             b'\\r\\n  <tr>\\r\\n    <td align=\"left\" bgcolor=\"#f2f'\n",
      "                             b'2f2\" style=\"vertical-align:top; padding-top:15px'\n",
      "                             b'; padding-bottom:15px;\" class=\"mobile-center'\n",
      "                             b'\">\\r\\n      <table cellspacing=\"0\" cellpadding'\n",
      "                             b'=\"0\" border=\"0\" role=\"presentation\">\\r\\n      '\n",
      "                             b'  <tr>\\r\\n          <td align=\"left\" bgcolor=\"'\n",
      "                             b'#f2f2f2\" style=\"padding-left:30px;\" class=\"mobil'\n",
      "                             b'e-side-padding-20 buttonblck mobile-center\">'\n",
      "                             b'\\r\\n            <table cellspacing=\"0\" cellpad'\n",
      "                             b'ding=\"0\" border=\"0\" role=\"presentation\">\\r\\n  '\n",
      "                             b'            <tr>\\r\\n                \\r\\n        '\n",
      "                             b'        <td align=\"center\" bgcolor=\"#f2f2f2\" sty'\n",
      "                             b'le=\"padding-right:17px;\"><a target=\"_blank\" href'\n",
      "                             b'=\"https://click.mail.onedrive.com/?qs=3bc9ec4cea'\n",
      "                             b'534c7cd99e0fbeafe74d7932ba9444e331c8923acc8fab01'\n",
      "                             b'ee9ae438346427ab1adeb64d1941ad653e90fbaaf9f574c5'\n",
      "                             b'b5ac085f06fb92969e488d\"><img alt=\"Facebook\" src='\n",
      "                             b'\"https://asgcdn.azureedge.net/office-email-templ'\n",
      "                             b'ates/Social_Facebook_Icon_40x36.png\" width=\"20\" '\n",
      "                             b'style=\"display:block; outline:none; -ms-interpol'\n",
      "                             b'ation-mode:bicubic; border:none;\"></a></td>\\r'\n",
      "                             b'\\n                \\r\\n                <td align'\n",
      "                             b'=\"center\" bgcolor=\"#f2f2f2\" style=\"padding-right'\n",
      "                             b':26px;\"><a target=\"_blank\" href=\"https://click.m'\n",
      "                             b'ail.onedrive.com/?qs=c83eb3ecef20f33597e1015c866'\n",
      "                             b'3c43f568c6903c19fe31bb6607589bb0a8a000702e3cc0f4'\n",
      "                             b'52892ff2c6f424e342426371c18c75e39b113d28e558f829'\n",
      "                             b'3f62c\"><img alt=\"Twitter\" src=\"https://asgcdn.az'\n",
      "                             b'ureedge.net/office-email-templates/Social_Twitte'\n",
      "                             b'r_Icon_40x36.png\" width=\"20\" style=\"display:bloc'\n",
      "                             b'k; outline:none; -ms-interpolation-mode:bicubic;'\n",
      "                             b' border:none;\"></a></td>\\r\\n                \\r\\n'\n",
      "                             b'              </tr>\\r\\n            </table>\\r\\n '\n",
      "                             b'         </td>\\r\\n        </tr>\\r\\n      </table'\n",
      "                             b'>\\r\\n    </td>\\r\\n  </tr>\\r\\n</table>\\r\\n\\r\\n '\n",
      "                             b'               </td>\\r\\n              </tr>\\r\\n '\n",
      "                             b'             <tr>\\r\\n                \\r\\n       '\n",
      "                             b'         <td align=\"left\" valign=\"top\" bgcolor=\"'\n",
      "                             b'#f2f2f2\">\\r\\n                  \\r\\n             '\n",
      "                             b'     \\r\\n\\r\\n\\r\\n                  \\r\\n         '\n",
      "                             b'         \\r\\n                  \\r\\n\\r\\n\\r\\n<tabl'\n",
      "                             b'e border=\"0\" cellpadding=\"0\" cellspacing=\"0\" wid'\n",
      "                             b'th=\"100%\" role=\"presentation\">\\r\\n  <tr>\\r\\n    '\n",
      "                             b'<td bgcolor=\"#f2f2f2\" style=\"vertical-align:top;'\n",
      "                             b' padding-top:5px;\" valign=\"top\">\\r\\n      <tab'\n",
      "                             b'le width=\"100%\" cellspacing=\"0\" cellpadding=\"0\" '\n",
      "                             b'border=\"0\" role=\"presentation\">\\r\\n        \\r\\n '\n",
      "                             b'       <tr>\\r\\n          <td bgcolor=\"#f2f2f2\"'\n",
      "                             b' align=\"left\" style=\"font-family:\\'Meiryo UI\\''\n",
      "                             b\", 'Segoe UI', 'Segoe UI Regular', SUWR, Verdana,\"\n",
      "                             b' sans-serif; font-size:10px; mso-line-height-rul'\n",
      "                             b'e:exactly; line-height:14px; color:#6b6b6b; padd'\n",
      "                             b'ing-top:0px; padding-left:20px; padding-right:20'\n",
      "                             b'px; text-align:left; letter-spacing:-0.01em;\" cl'\n",
      "                             b'ass=\"mobile-side-padding-20\">\\r\\n            <'\n",
      "                             b'p style=\"padding:0; margin:0; font-family:\\'M'\n",
      "                             b\"eiryo UI', 'Segoe UI', 'Segoe UI Regular', SUWR,\"\n",
      "                             b' Verdana, sans-serif; font-size:10px; mso-line-h'\n",
      "                             b'eight-rule:exactly; line-height:14px; color:#6b6'\n",
      "                             b'b6b; letter-spacing:-0.01em;\">\\r\\n            '\n",
      "                             b'\\r\\n            \\r\\n               \\xe3'\n",
      "                             b'\\x81\\x93\\xe3\\x81\\xae\\xe3\\x83\\xa1\\xe3\\x83\\xbc\\xe3'\n",
      "                             b'\\x83\\xab\\xe3\\x81\\xaf\\xe7\\x9b\\xa3\\xe8\\xa6\\x96\\xe3'\n",
      "                             b'\\x81\\x95\\xe3\\x82\\x8c\\xe3\\x81\\xa6\\xe3\\x81\\x84\\xe3'\n",
      "                             b'\\x81\\xaa\\xe3\\x81\\x84\\xe3\\x83\\xa1\\xe3\\x83\\xbc\\xe3'\n",
      "                             b'\\x83\\xab\\xe3\\x83\\x9c\\xe3\\x83\\x83\\xe3\\x82\\xaf\\xe3'\n",
      "                             b'\\x82\\xb9\\xe3\\x81\\x8b\\xe3\\x82\\x89\\xe9\\x80\\x81\\xe4'\n",
      "                             b'\\xbf\\xa1\\xe3\\x81\\x95\\xe3\\x82\\x8c\\xe3\\x81\\xa6\\xe3'\n",
      "                             b'\\x81\\x84\\xe3\\x81\\xbe\\xe3\\x81\\x99\\xe3\\x80\\x82\\r'\n",
      "                             b'\\n            \\r\\n            </p>\\r\\n       '\n",
      "                             b'   </td>\\r\\n        </tr>\\r\\n        \\r\\n     '\n",
      "                             b'   \\r\\n        <tr>\\r\\n          <td bgcolor=\"#f'\n",
      "                             b'2f2f2\" align=\"left\" style=\"font-family:\\'Meir'\n",
      "                             b\"yo UI', 'Segoe UI', 'Segoe UI Regular', SUWR, Ve\"\n",
      "                             b'rdana, sans-serif; font-size:10px; mso-line-heig'\n",
      "                             b'ht-rule:exactly; line-height:14px; color:#6b6b6b'\n",
      "                             b'; padding-top:18px; padding-left:20px; padding-r'\n",
      "                             b'ight:20px; text-align:left; letter-spacing:-0.01'\n",
      "                             b'em;\" class=\"mobile-side-padding-20\">\\r\\n      '\n",
      "                             b'      <p style=\"padding:0; margin:0; font-family'\n",
      "                             b\":'Meiryo UI', 'Segoe UI', 'Segoe UI Regular', SU\"\n",
      "                             b'WR, Verdana, sans-serif; font-size:10px; mso-lin'\n",
      "                             b'e-height-rule:exactly; line-height:14px; color:#'\n",
      "                             b'6b6b6b; letter-spacing:-0.01em;\">\\r\\n         '\n",
      "                             b'   \\r\\n            \\r\\n               \\xe3\\x81'\n",
      "                             b'\\x93\\xe3\\x81\\xae\\xe3\\x83\\xa1\\xe3\\x83\\xbc\\xe3\\x83'\n",
      "                             b'\\xab\\xe3\\x81\\xaf\\xe3\\x80\\x81Microsoft&nbsp;On'\n",
      "                             b'eDrive&nbsp;\\xe3\\x82\\xa2\\xe3\\x82\\xab\\xe3\\x82'\n",
      "                             b'\\xa6\\xe3\\x83\\xb3\\xe3\\x83\\x88\\xe3\\x82\\x92\\xe3\\x81'\n",
      "                             b'\\x8a\\xe6\\x8c\\x81\\xe3\\x81\\xa1\\xe3\\x81\\xae\\xe6\\x96'\n",
      "                             b'\\xb9\\xe3\\x81\\xab\\xe9\\x85\\x8d\\xe4\\xbf\\xa1\\xe3\\x81'\n",
      "                             b'\\x95\\xe3\\x82\\x8c\\xe3\\x81\\xa6\\xe3\\x81\\x84\\xe3\\x81'\n",
      "                             b'\\xbe\\xe3\\x81\\x99\\xe3\\x80\\x82\\r\\n           '\n",
      "                             b' \\r\\n            </p>\\r\\n          </td>\\r\\n  '\n",
      "                             b'      </tr>\\r\\n        \\r\\n        \\r\\n       '\n",
      "                             b' <tr>\\r\\n          <td bgcolor=\"#f2f2f2\" align'\n",
      "                             b'=\"left\" style=\"font-family:\\'Meiryo UI\\', \\'Seg'\n",
      "                             b\"oe UI', 'Segoe UI Regular', SUWR, Verdana, sans-\"\n",
      "                             b'serif; font-size:10px; mso-line-height-rule:exac'\n",
      "                             b'tly; line-height:14px; color:#6b6b6b; padding-to'\n",
      "                             b'p:0px; padding-left:20px; padding-right:20px; te'\n",
      "                             b'xt-align:left; letter-spacing:-0.01em;\" class=\"m'\n",
      "                             b'obile-side-padding-20\">\\r\\n            <p styl'\n",
      "                             b'e=\"padding:0; margin:0; font-family:\\'Meiryo '\n",
      "                             b\"UI', 'Segoe UI', 'Segoe UI Regular', SUWR, Verda\"\n",
      "                             b'na, sans-serif; font-size:10px; mso-line-height-'\n",
      "                             b'rule:exactly; line-height:14px; color:#6b6b6b; l'\n",
      "                             b'etter-spacing:-0.01em;\">\\r\\n            \\r\\n    '\n",
      "                             b'        \\r\\n               <a target=\"_blank\" '\n",
      "                             b'href=\"https://click.mail.onedrive.com/?qs=4d581e'\n",
      "                             b'31d8c73d53d903633ff2c340718855a9f82f8b739a09aeaf'\n",
      "                             b'369d0e60711aaca2217b21d33158a162e9c9710497d6f7ac'\n",
      "                             b'cf084b0924ab55dad057a4efba\" style=\"color:#6b6b6c'\n",
      "                             b'; text-decoration:underline;\"><strong style=\"fon'\n",
      "                             b't-weight:normal; color:#6b6b6c; text-decoration:'\n",
      "                             b'underline;\">\\xe3\\x83\\x97\\xe3\\x83\\xa9\\xe3\\x82'\n",
      "                             b'\\xa4\\xe3\\x83\\x90\\xe3\\x82\\xb7\\xe3\\x83\\xbc\\xe3\\x81'\n",
      "                             b'\\xab\\xe9\\x96\\xa2\\xe3\\x81\\x99\\xe3\\x82\\x8b\\xe5\\xa3'\n",
      "                             b'\\xb0\\xe6\\x98\\x8e</strong></a> | <a target=\"_blan'\n",
      "                             b'k\" href=\"https://click.mail.onedrive.com/?qs=420'\n",
      "                             b'f5bf31938cba13cb0c0d612f478b592c0ae72fb6cf3e0b74'\n",
      "                             b'5838cb2ecb933c0c6030742e2e5c9b811db0ef8dd7ecde3b'\n",
      "                             b'931f12f9f04fdbd1dfbe536ea5c74\" style=\"color:#6b6'\n",
      "                             b'b6c; text-decoration:underline;\"><strong style=\"'\n",
      "                             b'font-weight:normal; color:#6b6b6c; text-decorati'\n",
      "                             b'on:underline;\">\\xe3\\x83\\x97\\xe3\\x83'\n",
      "                             b'\\xa9\\xe3\\x82\\xa4\\xe3\\x83\\x90\\xe3\\x82\\xb7\\xe3\\x83'\n",
      "                             b'\\xbc\\xe3\\x81\\xab\\xe9\\x96\\xa2\\xe3\\x81\\x99\\xe3\\x82'\n",
      "                             b'\\x8b\\xe3\\x81\\x8a\\xe5\\x95\\x8f\\xe3\\x81\\x84\\xe5\\x90'\n",
      "                             b'\\x88\\xe3\\x82\\x8f\\xe3\\x81\\x9b</strong></a>\\r\\n  '\n",
      "                             b'          \\r\\n            </p>\\r\\n          </td'\n",
      "                             b'>\\r\\n        </tr>\\r\\n        \\r\\n        \\r\\n  '\n",
      "                             b'      \\r\\n        \\r\\n        \\r\\n        \\r\\n  '\n",
      "                             b'      \\r\\n        \\r\\n        <tr>\\r\\n        '\n",
      "                             b'  <td bgcolor=\"#f2f2f2\" align=\"left\" style=\"font'\n",
      "                             b\"-family:'Meiryo UI', 'Segoe UI', 'Segoe UI Regul\"\n",
      "                             b\"ar', SUWR, Verdana, sans-serif; font-size:10px; \"\n",
      "                             b'mso-line-height-rule:exactly; line-height:14px; '\n",
      "                             b'color:#6b6b6b; padding-top:18px; padding-left:20'\n",
      "                             b'px; padding-right:20px; text-align:left; letter-'\n",
      "                             b'spacing:-0.01em;\" class=\"mobile-side-padding-20\"'\n",
      "                             b'>\\r\\n            <p style=\"padding:0; margin:0'\n",
      "                             b\"; font-family:'Meiryo UI', 'Segoe UI', 'Segoe UI\"\n",
      "                             b\" Regular', SUWR, Verdana, sans-serif; font-size:\"\n",
      "                             b'10px; mso-line-height-rule:exactly; line-height:'\n",
      "                             b'14px; color:#6b6b6b; letter-spacing:-0.01em;'\n",
      "                             b'\">\\r\\n            \\r\\n            \\r\\n        '\n",
      "                             b'       Microsoft Corporation, One Microsoft Way,'\n",
      "                             b' Redmond, WA 98052&nbsp;USA\\r\\n            \\r\\n '\n",
      "                             b'           </p>\\r\\n          </td>\\r\\n        </'\n",
      "                             b'tr>\\r\\n        \\r\\n        <tr>\\r\\n          <'\n",
      "                             b'td align=\"left\" bgcolor=\"#f2f2f2\" style=\"padding'\n",
      "                             b'-top:20px; padding-bottom:30px; padding-left:20p'\n",
      "                             b'x;\">\\r\\n            <table cellspacing=\"0\" cel'\n",
      "                             b'lpadding=\"0\" border=\"0\" role=\"presentation\">'\n",
      "                             b'\\r\\n              <tr>\\r\\n                <td al'\n",
      "                             b'ign=\"left\" bgcolor=\"#f2f2f2\"><img alt=\"Microsoft'\n",
      "                             b'\" src=\"https://asgcdn.blob.core.windows.net/offi'\n",
      "                             b'ce-email-templates/logo_microsoft.png\" width=\"99'\n",
      "                             b'\" style=\"display:block; outline:none; -ms-interp'\n",
      "                             b'olation-mode:bicubic; border:none;\"></td>\\r\\n '\n",
      "                             b'             </tr>\\r\\n            </table>\\r\\n  '\n",
      "                             b'        </td>\\r\\n        </tr>\\r\\n      </table>'\n",
      "                             b'\\r\\n    </td>\\r\\n  </tr>\\r\\n</table>\\r\\n\\r\\n\\r\\n'\n",
      "                             b'                </td>\\r\\n              </tr>\\r\\n'\n",
      "                             b'            </table>\\r\\n  </td>\\r\\n        </tr>'\n",
      "                             b'\\r\\n      </table>\\r\\n    </td>\\r\\n  </tr>\\r\\n</'\n",
      "                             b'table>\\r\\n</body>\\r\\n</html>\\r\\n  \\r\\n',\n",
      "                  b'SEQ': 1},\n",
      "             29: {b'BODY[]': b'Received: from VE1EUR01HT220.eop-EUR01.prod.prot'\n",
      "                             b'ection.outlook.com\\r\\n (2603:1096:4:28::35) by'\n",
      "                             b' SG2PR03MB5069.apcprd03.prod.outlook.com with HT'\n",
      "                             b'TPS\\r\\n via SG2PR01CA0179.APCPRD01.PROD.EXCHAN'\n",
      "                             b'GELABS.COM; Thu, 4 Jun 2020 13:36:06\\r\\n +0000'\n",
      "                             b'\\r\\nARC-Seal: i=2; a=rsa-sha256; s=arcselector'\n",
      "                             b'9901; d=microsoft.com; cv=pass;\\r\\n b=mqRmy3F8'\n",
      "                             b'Iifdmk0cgXIO9Bu0sxhhQBTMNBxyL+Wg9MAAkeAIeoozzdME'\n",
      "                             b'UfoBXqTyLFhycUBlrkV5lY7qSpmj3uixYvboXgtvzh6yHCBI'\n",
      "                             b'WwqJySiss8kc/zoDa5PV9kK10V+LcGz0CM4j3WVSCJRpj3Gv'\n",
      "                             b'hmrEurr58YxdAtIvkLr5hK6rhVoq7vpqlq2ws5nRdoiJL5pL'\n",
      "                             b'AbFmsY9f13VLty1Dsurs1X4bmU0xy0XqluuTNhSN3UO6ZNRE'\n",
      "                             b'fNhQVFZyQJPGRUgj+yMfoUQfqZX4C+3hJuFNCGo+DesFodgF'\n",
      "                             b'ic6MXX4t3BbGjaTF+Pg0pGNBf3kXL5dhsdlC/o1FAazP6A=='\n",
      "                             b'\\r\\nARC-Message-Signature: i=2; a=rsa-sha256; '\n",
      "                             b'c=relaxed/relaxed; d=microsoft.com;\\r\\n s=arcs'\n",
      "                             b'elector9901;\\r\\n h=From:Date:Subject:Message-I'\n",
      "                             b'D:Content-Type:MIME-Version:X-MS-Exchange-Sender'\n",
      "                             b'ADCheck;\\r\\n bh=47DEQpj8HBSa+/TImW+5JCeuQeRkm5'\n",
      "                             b'NMpJWZG3hSuFU=;\\r\\n b=MiLaZRmbMKWiA4A4NaGlHw9e'\n",
      "                             b'FADXM8p49hN/Svtm61HzsbgnWmTl25aikHhzmTGvcu2n9W5v'\n",
      "                             b'+A7dJ6FtlNDyR/ZhlDJ3YMdfjyjXauEcUJPXcDbUXyxR2ga4'\n",
      "                             b'8L/AwubfEHtDauEGualOfVZzokb1EFsD/K9Uv9d8ACdpSMBh'\n",
      "                             b'elhfpJSbs2TYYD89iBJ90u7tFK7QBQ2SZH/uEftSd3hFCnJm'\n",
      "                             b'vvAj+/C6ErJDg35kmB0tnFnk0Nfk7JYZqkRZwMC1MKfBPXDD'\n",
      "                             b'cgrOqsCfkXMShRu7Yk5Cao1Tt2OxD6AqeE+WXWCV0KkBOxsK'\n",
      "                             b'OCHqb4h+dIg3KG7ftQse0IsZHtwyEg==\\r\\nARC-Authen'\n",
      "                             b'tication-Results: i=2; mx.microsoft.com 1; spf=p'\n",
      "                             b'ass (sender ip is\\r\\n 40.92.253.85) smtp.rcptt'\n",
      "                             b'odomain=outlook.com smtp.mailfrom=outlook.co'\n",
      "                             b'm;\\r\\n dmarc=pass (p=none sp=quarantine pct=10'\n",
      "                             b'0) action=none\\r\\n header.from=outlook.com; dk'\n",
      "                             b'im=pass (signature was verified)\\r\\n header.d='\n",
      "                             b'outlook.com; arc=pass (0 oda=0 ltdi=1)\\r\\nRece'\n",
      "                             b'ived: from VE1EUR01FT029.eop-EUR01.prod.protecti'\n",
      "                             b'on.outlook.com\\r\\n (2a01:111:e400:7e19::53) by'\n",
      "                             b'\\r\\n VE1EUR01HT220.eop-EUR01.prod.protection.o'\n",
      "                             b'utlook.com (2a01:111:e400:7e19::501)\\r\\n with '\n",
      "                             b'Microsoft SMTP Server (version=TLS1_2,\\r\\n cip'\n",
      "                             b'her=TLS_ECDHE_RSA_WITH_AES_256_GCM_SHA384) id 15'\n",
      "                             b'.20.3045.17; Thu, 4 Jun\\r\\n 2020 13:36:05 +000'\n",
      "                             b'0\\r\\nAuthentication-Results: spf=pass (sender '\n",
      "                             b'IP is 40.92.253.85)\\r\\n smtp.mailfrom=outlook.'\n",
      "                             b'com; outlook.com; dkim=pass (signature was verif'\n",
      "                             b'ied)\\r\\n header.d=outlook.com;outlook.com; dma'\n",
      "                             b'rc=pass action=none\\r\\n header.from=outlook.co'\n",
      "                             b'm;compauth=pass reason=100\\r\\nReceived-SPF: Pa'\n",
      "                             b'ss (protection.outlook.com: domain of outlook.co'\n",
      "                             b'm designates\\r\\n 40.92.253.85 as permitted sen'\n",
      "                             b'der) receiver=protection.outlook.com;\\r\\n clie'\n",
      "                             b'nt-ip=40.92.253.85; helo=APC01-SG2-obe.outbound.'\n",
      "                             b'protection.outlook.com;\\r\\nReceived: from APC0'\n",
      "                             b'1-SG2-obe.outbound.protection.outlook.com (40.92'\n",
      "                             b'.253.85) by\\r\\n VE1EUR01FT029.mail.protection.'\n",
      "                             b'outlook.com (10.152.2.224) with Microsoft SM'\n",
      "                             b'TP\\r\\n Server (version=TLS1_2, cipher=TLS_ECDH'\n",
      "                             b'E_RSA_WITH_AES_256_GCM_SHA384) id\\r\\n 15.20.30'\n",
      "                             b'66.18 via Frontend Transport; Thu, 4 Jun 2020 13'\n",
      "                             b':36:05 +0000\\r\\nX-IncomingTopHeaderMarker:\\r\\n O'\n",
      "                             b'riginalChecksum:C509035897E764B935DF27BE23BBE1BA'\n",
      "                             b'841203EFDA800D6A399F8438544C312F;UpperCasedCheck'\n",
      "                             b'sum:17D73D86A80AF4F6367403784C3592825172CED2375E'\n",
      "                             b'88D5D380B9FA104D0924;SizeAsReceived:5469;Count:3'\n",
      "                             b'8\\r\\nARC-Seal: i=1; a=rsa-sha256; s=arcselecto'\n",
      "                             b'r9901; d=microsoft.com; cv=none;\\r\\n b=XC1/w2O'\n",
      "                             b'15pBtgBv81jSJJVCrKDLQWMe3pey6UVIHU08nAeCakVgxLFb'\n",
      "                             b'hKXfp7N2zibjQXg4gbm/8bzfWa3phhamwNEf+aDEi4VJR69X'\n",
      "                             b'9U9hhMle27NDclgFuTsXZqO9cFO9C54e9tujuAIHD3+TolCu'\n",
      "                             b'Nb6u2mRL1/DYDUAqLIS5K9FBabJeyghnEQojkDwSAXuNyW5j'\n",
      "                             b'ZG+aek4Vx2UDtd/lG0zWd/ciK60VpjLGlZy5pN5YigNsK6XF'\n",
      "                             b'hlNgufRUn1/FucLAb0x8d63lU0RM0dbg22jx6JbWG4ej5acx'\n",
      "                             b'o/Qe5e8IdDeGkpB2lsV75yJspDbqTlQeEqLxDii6ua97bhA='\n",
      "                             b'=\\r\\nARC-Message-Signature: i=1; a=rsa-sha256;'\n",
      "                             b' c=relaxed/relaxed; d=microsoft.com;\\r\\n s=arc'\n",
      "                             b'selector9901;\\r\\n h=From:Date:Subject:Message-'\n",
      "                             b'ID:Content-Type:MIME-Version:X-MS-Exchange-Sende'\n",
      "                             b'rADCheck;\\r\\n bh=47DEQpj8HBSa+/TImW+5JCeuQeRkm'\n",
      "                             b'5NMpJWZG3hSuFU=;\\r\\n b=QZ25s1R9yCruvhpEdUG8LNr'\n",
      "                             b'PtOWSKPCqIoCRmUAValwHOSVHqlA1Qesvvo/TlgExn+lVzSn'\n",
      "                             b'/x9hRwFgRm+lfoy4Rfx64paoJRQMOmSoFRvlAYxa2bTBy4p8'\n",
      "                             b'fVT2d5/yOP5xHhFAUSfNN3L8kJKVr/SSwflx9ZjnSEIKGe+w'\n",
      "                             b'JaRcdZ+sBChTPrr2pxiTMSzk9pXOH1/BaQHv9mP7b4lC0Ts3'\n",
      "                             b'htBFg2T94y8bDSUjR5E15Rx4c6jy/y641p2kIukA24ISHDM2'\n",
      "                             b'H+IUzFinbYRoSoEjvD+2UqVltW1Ua2pjyPgfgsC9OgqU8gRc'\n",
      "                             b'ZGxaZI6tDZpTpesejwL7lPM8gJkhLBQ==\\r\\nARC-Authe'\n",
      "                             b'ntication-Results: i=1; mx.microsoft.com 1; spf='\n",
      "                             b'none; dmarc=none;\\r\\n dkim=none; arc=none\\r\\nDKI'\n",
      "                             b'M-Signature: v=1; a=rsa-sha256; c=relaxed/relaxe'\n",
      "                             b'd; d=outlook.com;\\r\\n s=selector1;\\r\\n h=From:Da'\n",
      "                             b'te:Subject:Message-ID:Content-Type:MIME-Version:'\n",
      "                             b'X-MS-Exchange-SenderADCheck;\\r\\n bh=47DEQpj8HB'\n",
      "                             b'Sa+/TImW+5JCeuQeRkm5NMpJWZG3hSuFU=;\\r\\n b=sT21'\n",
      "                             b'bKYuV4B89WhpaqEHwdd2wo5E8QDHYjSPOzhH1KImplqgJRac'\n",
      "                             b'ZQmXUcrFoGj46oTEtkpF6mG+GJdvHS7tZv/ft8mHtY7zCzf3'\n",
      "                             b'oqQdLeYkgBhXtdIU2NyI3hZPd3k91vCsiM5415OSQ50Tx5tX'\n",
      "                             b'/b5q1qlhZIBjZ6RGFoJZKtA1MQWtBgRxwsBOc7GIpmPUiYwJ'\n",
      "                             b'PGYAM+UlS5LsbCmuw4WYO97n53RTItJQAfTAYJMxcfZID/6L'\n",
      "                             b'Qntm2qB2z/E9T63qvkO4TdMb+oCwKgBdGrjE5Wge4+AymZbD'\n",
      "                             b'YC0vbD8RP/MXCRBAkKCEELFS29WjXycMQRvjF/zIYNprbfWs'\n",
      "                             b'8A==\\r\\nReceived: from HK2APC01FT020.eop-APC01'\n",
      "                             b'.prod.protection.outlook.com\\r\\n (2a01:111:e40'\n",
      "                             b'0:7ebc::4a) by\\r\\n HK2APC01HT144.eop-APC01.pro'\n",
      "                             b'd.protection.outlook.com (2a01:111:e400:7ebc::29'\n",
      "                             b'4)\\r\\n with Microsoft SMTP Server (version=TLS'\n",
      "                             b'1_2,\\r\\n cipher=TLS_ECDHE_RSA_WITH_AES_256_GCM'\n",
      "                             b'_SHA384) id 15.20.3066.18; Thu, 4 Jun\\r\\n 2020'\n",
      "                             b' 13:36:03 +0000\\r\\nReceived: from SG2PR03MB506'\n",
      "                             b'9.apcprd03.prod.outlook.com\\r\\n (2a01:111:e400'\n",
      "                             b':7ebc::50) by HK2APC01FT020.mail.protection.outl'\n",
      "                             b'ook.com\\r\\n (2a01:111:e400:7ebc::186) with Mic'\n",
      "                             b'rosoft SMTP Server (version=TLS1_2,\\r\\n cipher'\n",
      "                             b'=TLS_ECDHE_RSA_WITH_AES_256_GCM_SHA384) id 15.20'\n",
      "                             b'.3066.18 via Frontend\\r\\n Transport; Thu, 4 Ju'\n",
      "                             b'n 2020 13:36:03 +0000\\r\\nX-IncomingTopHeaderMa'\n",
      "                             b'rker:\\r\\n OriginalChecksum:BEA2A8AE5B934FBE9B9'\n",
      "                             b'B0F857B621B5D020D086FA2890938FB6112C5FD10CECD;Up'\n",
      "                             b'perCasedChecksum:6E2901468A6BA8BBC60DF9ED8071C73'\n",
      "                             b'07067BB9AD79FD7B02CD190025544170A;SizeAsReceived'\n",
      "                             b':7138;Count:42\\r\\nReceived: from SG2PR03MB5069'\n",
      "                             b'.apcprd03.prod.outlook.com\\r\\n ([fe80::ec76:a9'\n",
      "                             b'42:c532:8e25]) by SG2PR03MB5069.apcprd03.prod.ou'\n",
      "                             b'tlook.com\\r\\n ([fe80::ec76:a942:c532:8e25%7]) '\n",
      "                             b'with mapi id 15.20.3066.016; Thu, 4 Jun 2020'\n",
      "                             b'\\r\\n 13:36:03 +0000\\r\\nSubject: So long.\\r\\nCo'\n",
      "                             b'ntent-Type: text/plain\\r\\nFrom: <kumakiyo127@o'\n",
      "                             b'utlook.com>\\r\\nTo: Undisclosed recipients:;\\r\\nD'\n",
      "                             b'ate: Thu, 4 Jun 2020 13:36:02 +0000\\r\\nX-Clien'\n",
      "                             b'tProxiedBy: OSAPR01CA0291.jpnprd01.prod.outlook.'\n",
      "                             b'com\\r\\n (2603:1096:604:2c::15) To SG2PR03MB506'\n",
      "                             b'9.apcprd03.prod.outlook.com\\r\\n (2603:1096:4:d'\n",
      "                             b'd::12)\\r\\nReturn-Path: kumakiyo127@outlook.com'\n",
      "                             b'\\r\\nMessage-ID:\\r\\n <SG2PR03MB506933E485BE96A803'\n",
      "                             b'D2F340EE890@SG2PR03MB5069.apcprd03.prod.outlook.'\n",
      "                             b'com>\\r\\nX-MS-Exchange-MessageSentRepresentingT'\n",
      "                             b'ype: 1\\r\\nReceived: from DESKTOP-60E2BE5.oct-n'\n",
      "                             b'et.ne.jp (202.220.176.101) by OSAPR01CA0291.jpnp'\n",
      "                             b'rd01.prod.outlook.com (2603:1096:604:2c::15) wit'\n",
      "                             b'h Microsoft SMTP Server (version=TLS1_2, cipher='\n",
      "                             b'TLS_ECDHE_RSA_WITH_AES_256_GCM_SHA384) id 15.20.'\n",
      "                             b'3066.18 via Frontend Transport; Thu, 4 Jun 2020 '\n",
      "                             b'13:36:02 +0000\\r\\nX-TMN: [f39fZU8rWEL40Iy0TDAw'\n",
      "                             b'w1ktGmZ+m2BinpEL7ZC4tXY=]\\r\\nX-MS-PublicTraffi'\n",
      "                             b'cType: Email\\r\\nX-IncomingHeaderCount: 42\\r\\nX-E'\n",
      "                             b'OPAttributedMessage: 1\\r\\nX-MS-Office365-Filte'\n",
      "                             b'ring-Correlation-Id: 7139c056-035c-4122-42a4-08d'\n",
      "                             b'8088c3b4e\\r\\nX-MS-Exchange-SLBlob-MailProps:\\r\\n'\n",
      "                             b' GkUW5gBeuCGA4Qtb9rohpQaDa4yefKr8fR204a+Q+AvAcDn'\n",
      "                             b'pSfFG2vo7ujPgnNkReupIZr4V+QEXn2H6OLs+kQ2XEiduaOe'\n",
      "                             b'Fyac1CLF+GvnaFGm0h5vlr8qYtTE2QxBassntvHJbeeHx+9G'\n",
      "                             b'kH0OvuLuedQ1eb+W/EEsVkY1SNRhiKgESBdy5aQ2fBqyGQ4P'\n",
      "                             b'gWo5bXDZyBSx3dSuOzDTFI9nGBzxvDXitMN8xDT1KX833Tjd'\n",
      "                             b'egP3i+p+ctVnPx68rjRt/Rj8JL1ware8V3/7QXxSq7cjgYj4'\n",
      "                             b'7wFqXE8i/7mksJQ69o5lOYsznBm+8Z7D7qg7p7AAPwfqhcir'\n",
      "                             b'/Y9C3XzRiaSr0wlZxkLp0H9cAwtiFxSluMGMqmUC891gLGus'\n",
      "                             b'ZgXtRd7Q67iqjL8ap1kVl0QEvElR0Msfff7D/pJRxsbwtvPy'\n",
      "                             b'fu+7algWwFWFbyA6vW9UgF6uATgcAf9je1xhVxrNs6/DCm5+'\n",
      "                             b'5F2R6B3/v+mxYHn0VFPlVFDTRT804tLHQ6TMKQMuenMa34Y2'\n",
      "                             b'/Y44tHH2IZLqV8j7V\\r\\nX-MS-TrafficTypeDiagnosti'\n",
      "                             b'c: HK2APC01HT144:|VE1EUR01HT220:\\r\\nX-Microsof'\n",
      "                             b't-Antispam-Untrusted: BCL:0;\\r\\nX-Microsoft-An'\n",
      "                             b'tispam-Message-Info-Original:\\r\\n sl6uVjuuzb0F'\n",
      "                             b'riVxdJlVR0mL+lgCn5aBf2biO3dp22fTKLVT+V8CyMlfmcYt'\n",
      "                             b'p6Zqk5n6LKZDLkj63gTew6DTmA==\\r\\nX-Forefront-An'\n",
      "                             b'tispam-Report-Untrusted:\\r\\n CIP:255.255.255.2'\n",
      "                             b'55;CTRY:;LANG:en;SCL:0;SRV:;IPV:NLI;SFV:NSPM;H:S'\n",
      "                             b'G2PR03MB5069.apcprd03.prod.outlook.com;PTR:;CAT:'\n",
      "                             b'NONE;SFTY:;SFS:;DIR:OUT;SFP:1901;\\r\\nX-MS-Exch'\n",
      "                             b'ange-AntiSpam-MessageData:\\r\\n 97dW5c7TLvUXquW'\n",
      "                             b'X5fosveMR+cRNlLQ7rm4ilfdFt1I4b2VCknCMrTIDSZSGaKv'\n",
      "                             b'Lj7VlJ6TlRBrIPSA+SeClw9xcJ2FKOtGe+B0vRDTAUKSVRxA'\n",
      "                             b'jHXdMw6v025VFfd0o5zr5TXhJxfOu1g9IMz2s6g==\\r\\nX'\n",
      "                             b'-MS-Exchange-Transport-CrossTenantHeadersStamped'\n",
      "                             b': HK2APC01HT144\\r\\nX-IncomingHeaderCount: 38\\r\\n'\n",
      "                             b'X-MS-Exchange-Organization-ExpirationStartTime: '\n",
      "                             b'04 Jun 2020 13:36:05.6353\\r\\n (UTC)\\r\\nX-MS-Exch'\n",
      "                             b'ange-Organization-ExpirationStartTimeReason: Ori'\n",
      "                             b'ginalSubmit\\r\\nX-MS-Exchange-Organization-Expi'\n",
      "                             b'rationInterval: 1:00:00:00.0000000\\r\\nX-MS-Exc'\n",
      "                             b'hange-Organization-ExpirationIntervalReason: Ori'\n",
      "                             b'ginalSubmit\\r\\nX-MS-Exchange-Organization-Netw'\n",
      "                             b'ork-Message-Id:\\r\\n 7139c056-035c-4122-42a4-08'\n",
      "                             b'd8088c3b4e\\r\\nX-EOPTenantAttributedMessage: 84'\n",
      "                             b'df9e7f-e9f6-40af-b435-aaaaaaaaaaaa:0\\r\\nX-MS-E'\n",
      "                             b'xchange-Organization-MessageDirectionality: Inco'\n",
      "                             b'ming\\r\\nX-MS-Exchange-Transport-CrossTenantHea'\n",
      "                             b'dersStripped:\\r\\n VE1EUR01FT029.eop-EUR01.prod'\n",
      "                             b'.protection.outlook.com\\r\\nX-MS-Exchange-Trans'\n",
      "                             b'port-CrossTenantHeadersPromoted:\\r\\n VE1EUR01F'\n",
      "                             b'T029.eop-EUR01.prod.protection.outlook.com\\r\\n'\n",
      "                             b'X-Forefront-Antispam-Report:\\r\\n CIP:40.92.253'\n",
      "                             b'.85;CTRY:SG;LANG:en;SCL:0;SRV:;IPV:NLI;SFV:NSPM;'\n",
      "                             b'H:APC01-SG2-obe.outbound.protection.outlook.com;'\n",
      "                             b'PTR:mail-oln040092253085.outbound.protection.out'\n",
      "                             b'look.com;CAT:NONE;SFTY:;SFS:;DIR:INB;SFP:;\\r\\n'\n",
      "                             b'X-MS-Exchange-Organization-AuthSource:\\r\\n VE1'\n",
      "                             b'EUR01FT029.eop-EUR01.prod.protection.outlook.com'\n",
      "                             b'\\r\\nX-MS-Exchange-Organization-AuthAs: Anonymo'\n",
      "                             b'us\\r\\nX-MS-UserLastLogonTime: 6/4/2020 1:35:03'\n",
      "                             b' PM\\r\\nX-MS-Office365-Filtering-Correlation-Id'\n",
      "                             b'-Prvs:\\r\\n 84d847d4-12df-44c3-1ae1-08d8088c39d'\n",
      "                             b'8\\r\\nX-MS-Exchange-EOPDirect: true\\r\\nX-Sender-I'\n",
      "                             b'P: 40.92.253.85\\r\\nX-SID-PRA: KUMAKIYO127@OUTL'\n",
      "                             b'OOK.COM\\r\\nX-SID-Result: PASS\\r\\nX-MS-Exchange-O'\n",
      "                             b'rganization-PCL: 2\\r\\nX-MS-Exchange-Organizati'\n",
      "                             b'on-AVStamp-Service: 1.0\\r\\nX-MS-Exchange-Organ'\n",
      "                             b'ization-SCL: 0\\r\\nX-Microsoft-Antispam: BCL:0;'\n",
      "                             b'\\r\\nX-OriginatorOrg: outlook.com\\r\\nX-MS-Exchang'\n",
      "                             b'e-CrossTenant-OriginalArrivalTime: 04 Jun 2020 1'\n",
      "                             b'3:36:05.4152\\r\\n (UTC)\\r\\nX-MS-Exchange-CrossTen'\n",
      "                             b'ant-Network-Message-Id: 7139c056-035c-4122-42a4-'\n",
      "                             b'08d8088c3b4e\\r\\nX-MS-Exchange-CrossTenant-Id: '\n",
      "                             b'84df9e7f-e9f6-40af-b435-aaaaaaaaaaaa\\r\\nX-MS-E'\n",
      "                             b'xchange-CrossTenant-RMS-PersistedConsumerOrg: 00'\n",
      "                             b'000000-0000-0000-0000-000000000000\\r\\nX-MS-Exc'\n",
      "                             b'hange-CrossTenant-FromEntityHeader: Internet'\n",
      "                             b'\\r\\nX-MS-Exchange-Transport-CrossTenantHeaders'\n",
      "                             b'Stamped: VE1EUR01HT220\\r\\nX-MS-Exchange-Transp'\n",
      "                             b'ort-EndToEndLatency: 00:00:01.1432104\\r\\nX-MS-'\n",
      "                             b'Exchange-Processed-By-BccFoldering: 15.20.3066.0'\n",
      "                             b'03\\r\\nX-Microsoft-Antispam-Mailbox-Delivery:\\r\\n'\n",
      "                             b'\\tdkl:0;rwl:0;ucf:0;jmr:0;ex:0;auth:1;dest:I;'\n",
      "                             b'OFR:SpamFilterPass;ENG:(5062000282)(90000002)(90'\n",
      "                             b'010003)(90026001)(9000001)(9030002)(5061607266)('\n",
      "                             b'5061608174)(1004385)(4900115)(8391040)(4920090)('\n",
      "                             b'6220004)(4950130)(4990090)(9110004);\\r\\nX-Mess'\n",
      "                             b'age-Info:\\r\\n\\t5vMbyqxGkdeGjP3IgfxwG6PVBqEp5E7M'\n",
      "                             b'Pwy94mpFmZiuNl0Qhxwf7u4d1CTrIBSfO834ZzlfAVyVYcOQ'\n",
      "                             b'iDq6UnxfS6q5cXC/A9aqelSoKgX3gWCV6lZXFaqeVKWF2Fhh'\n",
      "                             b'ii1LpGhI3BrBCWcS1fTwTzPTbKruuvqs0vkKbJtDN8tz+cys'\n",
      "                             b'dQn7mNSJZXIzUPfeF3vBidHzkSTvmHqFQxSNFg==\\r\\nX-'\n",
      "                             b'Message-Delivery: Vj0xLjE7dXM9MDtsPTA7YT0wO0Q9MT'\n",
      "                             b'tHRD0yO1NDTD0tMQ==\\r\\nX-Microsoft-Antispam-Mes'\n",
      "                             b'sage-Info:\\r\\n\\tQsRzUsIuBuq0/Wa7xtPjvTow3ibOeUm'\n",
      "                             b'cCz1iuEd+FPT7Nh+/K+N5a5n6lBwB3OY2wWqhEOwHz/cyUvP'\n",
      "                             b'WDsMjObNqJjHC0h90YALDHG8y8jNw8NqaQ/WdWLhSAd7S8k4'\n",
      "                             b'GgOXUwYucKuBP2DF3yIvyjlkTOVOilDIndrgZbjmFI9TKkIV'\n",
      "                             b'9D349hDi05NRF8joBO6MwMCftsUrdiNFKbOvqfxkUcG1PR92'\n",
      "                             b'xQrPjpasDoRcDmMRIMpop5HdWYIBjI1EERJr255pl66AB2k3'\n",
      "                             b'YUKab6AfHqC3vhwTC1e9RrsRHR6FLssU8RDSmTITEO+Lajxn'\n",
      "                             b'lE7oDjj5Kqf6A3FgBv8vIfBsq/uP1rcmhvs2jgYRrJfqWDLw'\n",
      "                             b'8MMM8/3FvmZGsh/m/qZvbsrgGIhodFsv0qMGIHwPDWgu4vDl'\n",
      "                             b'DYmY+/b5FIbEjUCcM7sv7BrRpMH4xqndHsi0fZ832ue46A/T'\n",
      "                             b'NxXyagJwIut30HHbA4MLiFheyX64du/DJC3DOh1Lnd5+8pI9'\n",
      "                             b'+6avWkD5xnxbdussdY00s/jkQzMUZkS1I34+RyuvLYmbni6A'\n",
      "                             b'w/9AUFk6QadlUhATBwh7u0YdYq9hU1XJF0JDgK98g08UyAk9'\n",
      "                             b'96EsE6eXMGfpVAJHQ5hAYgHNbOJRSGnUEXFH0HauIP5Ucpfe'\n",
      "                             b'vPgVtVDdST7mKYJ54TLzWoc5Y45MIsrcBRR+UMwh9bKC1AxI'\n",
      "                             b'0AJABq2UCgvCf9gkqgcpB1fE1kcOOjOx/o6RQ+QdcwOlw5+a'\n",
      "                             b'lgmbiyAG1J+/4E36bhqZ8NhQ/gxeXd+A0T0ckEMykEQmF9qS'\n",
      "                             b'k3//vT/s7cUSi3C0DOaYT/pvxLfwdNzux2ryJeh0PbLyYYhE'\n",
      "                             b'uhATXvp9yf+X+5BAPjl9AHnaQr5hgfmaG4C59x/It+GKZNO0'\n",
      "                             b's3AtpeQrhW+edwF8+7Pj6mCaUX6+CPZ3qxYch4Y7KpyQ'\n",
      "                             b'=\\r\\nMIME-Version: 1.0\\r\\n\\r\\n',\n",
      "                  b'SEQ': 2}})\n"
     ]
    }
   ],
   "source": [
    "import pprint\n",
    "pprint.pprint(raw_messages)"
   ]
  },
  {
   "cell_type": "markdown",
   "metadata": {},
   "source": [
    "UIDのリストをIMAPClientオブジェクトの fetch メソッドの第一引数に渡して、  \n",
    "第二引数に本文を取り出すための[\"BODY[]\"]を渡すことで内容を取得することができる\n",
    "\n",
    "取り出してもバイト型で分かりにくい内容になっているので、後でpyzmailモジュールを使って見やすくする"
   ]
  },
  {
   "cell_type": "code",
   "execution_count": 10,
   "metadata": {},
   "outputs": [
    {
     "data": {
      "text/plain": [
       "{b'PERMANENTFLAGS': (b'\\\\Seen',\n",
       "  b'\\\\Answered',\n",
       "  b'\\\\Flagged',\n",
       "  b'\\\\Deleted',\n",
       "  b'\\\\Draft',\n",
       "  b'$MDNSent'),\n",
       " b'EXISTS': 2,\n",
       " b'RECENT': 2,\n",
       " b'FLAGS': (b'\\\\Seen',\n",
       "  b'\\\\Answered',\n",
       "  b'\\\\Flagged',\n",
       "  b'\\\\Deleted',\n",
       "  b'\\\\Draft',\n",
       "  b'$MDNSent'),\n",
       " b'UNSEEN': [b'1'],\n",
       " b'UIDVALIDITY': 14,\n",
       " b'UIDNEXT': 33,\n",
       " b'READ-WRITE': True}"
      ]
     },
     "execution_count": 10,
     "metadata": {},
     "output_type": "execute_result"
    }
   ],
   "source": [
    "imap_obj.select_folder(\"Inbox\", readonly=False)"
   ]
  },
  {
   "cell_type": "markdown",
   "metadata": {},
   "source": [
    "前にselect_folderに対してreadonlyをTrueにしたので、未読状態も変更されない\n",
    "\n",
    "そのため、もう一度select_folderを呼んでreadonlyに対してFalseを入れることで既読がつけられる"
   ]
  },
  {
   "cell_type": "markdown",
   "metadata": {},
   "source": [
    "## 生のメールからメールアドレスを取得する"
   ]
  },
  {
   "cell_type": "code",
   "execution_count": 12,
   "metadata": {},
   "outputs": [],
   "source": [
    "import pyzmail\n",
    "message = pyzmail.PyzMessage.factory(raw_messages[27][b\"BODY[]\"])"
   ]
  },
  {
   "cell_type": "code",
   "execution_count": 13,
   "metadata": {},
   "outputs": [
    {
     "data": {
      "text/plain": [
       "'もう少しで新しい OneDrive のセットアップ完了です'"
      ]
     },
     "execution_count": 13,
     "metadata": {},
     "output_type": "execute_result"
    }
   ],
   "source": [
    "message.get_subject()"
   ]
  },
  {
   "cell_type": "code",
   "execution_count": 14,
   "metadata": {},
   "outputs": [
    {
     "data": {
      "text/plain": [
       "('Microsoft OneDrive', 'email@mail.onedrive.com')"
      ]
     },
     "execution_count": 14,
     "metadata": {},
     "output_type": "execute_result"
    }
   ],
   "source": [
    "message.get_address(\"from\")"
   ]
  },
  {
   "cell_type": "code",
   "execution_count": 15,
   "metadata": {},
   "outputs": [
    {
     "data": {
      "text/plain": [
       "('kumakiyo127@outlook.com', 'kumakiyo127@outlook.com')"
      ]
     },
     "execution_count": 15,
     "metadata": {},
     "output_type": "execute_result"
    }
   ],
   "source": [
    "message.get_address(\"to\")"
   ]
  },
  {
   "cell_type": "code",
   "execution_count": 16,
   "metadata": {},
   "outputs": [
    {
     "data": {
      "text/plain": [
       "('', '')"
      ]
     },
     "execution_count": 16,
     "metadata": {},
     "output_type": "execute_result"
    }
   ],
   "source": [
    "message.get_address(\"cc\")"
   ]
  },
  {
   "cell_type": "code",
   "execution_count": 17,
   "metadata": {},
   "outputs": [
    {
     "data": {
      "text/plain": [
       "('', '')"
      ]
     },
     "execution_count": 17,
     "metadata": {},
     "output_type": "execute_result"
    }
   ],
   "source": [
    "message.get_address(\"bcc\")"
   ]
  },
  {
   "cell_type": "markdown",
   "metadata": {},
   "source": [
    "pyzmailモジュールの PyzMessage.factory 関数にバイト型のメッセージのUID番号と内容の入っているb\"BODY[]\"を指定して渡すと PyzMessage オブジェクトを生成できる\n",
    "\n",
    "PyzMessageオブジェクトには件名を返す get_subject メソッドや、送信者や受信者を返す get_address メソッドなどがある"
   ]
  },
  {
   "cell_type": "markdown",
   "metadata": {},
   "source": [
    "## 生のメッセージから本文を取り出す"
   ]
  },
  {
   "cell_type": "code",
   "execution_count": 18,
   "metadata": {},
   "outputs": [],
   "source": [
    "message1 = pyzmail.PyzMessage.factory(raw_messages[27][b\"BODY[]\"])\n",
    "message2 = pyzmail.PyzMessage.factory(raw_messages[29][b\"BODY[]\"])"
   ]
  },
  {
   "cell_type": "code",
   "execution_count": 24,
   "metadata": {},
   "outputs": [
    {
     "data": {
      "text/plain": [
       "False"
      ]
     },
     "execution_count": 24,
     "metadata": {},
     "output_type": "execute_result"
    }
   ],
   "source": [
    "message1.text_part != None"
   ]
  },
  {
   "cell_type": "code",
   "execution_count": 32,
   "metadata": {},
   "outputs": [
    {
     "data": {
      "text/plain": [
       "True"
      ]
     },
     "execution_count": 32,
     "metadata": {},
     "output_type": "execute_result"
    }
   ],
   "source": [
    "message2.text_part != None"
   ]
  },
  {
   "cell_type": "code",
   "execution_count": 26,
   "metadata": {},
   "outputs": [
    {
     "data": {
      "text/plain": [
       "True"
      ]
     },
     "execution_count": 26,
     "metadata": {},
     "output_type": "execute_result"
    }
   ],
   "source": [
    "message1.html_part != None"
   ]
  },
  {
   "cell_type": "code",
   "execution_count": 27,
   "metadata": {},
   "outputs": [
    {
     "data": {
      "text/plain": [
       "False"
      ]
     },
     "execution_count": 27,
     "metadata": {},
     "output_type": "execute_result"
    }
   ],
   "source": [
    "message2.html_part != None"
   ]
  },
  {
   "cell_type": "markdown",
   "metadata": {},
   "source": [
    "メールはプレーンテキストやHTML、または両方の形式で送ることができる\n",
    "\n",
    "PyzMessageオブジェクトの text_part アトリビュートは、テキストが含まれていない場合にNoneを返す(つまりHTMLのみ)  \n",
    "逆に html_part アトリビュートは、HTMLが含まれていない場合にNoneを返す(つまりテキストのみ)\n",
    "\n",
    "つまりmessage1はHTMLのみで、message2はテキストのみということがわかる"
   ]
  },
  {
   "cell_type": "code",
   "execution_count": 31,
   "metadata": {
    "collapsed": true
   },
   "outputs": [
    {
     "ename": "TypeError",
     "evalue": "decode() argument 1 must be str, not None",
     "output_type": "error",
     "traceback": [
      "\u001b[1;31m---------------------------------------------------------------------------\u001b[0m",
      "\u001b[1;31mTypeError\u001b[0m                                 Traceback (most recent call last)",
      "\u001b[1;32m<ipython-input-31-3d1613aa1604>\u001b[0m in \u001b[0;36m<module>\u001b[1;34m\u001b[0m\n\u001b[1;32m----> 1\u001b[1;33m \u001b[0mmessage2\u001b[0m\u001b[1;33m.\u001b[0m\u001b[0mtext_part\u001b[0m\u001b[1;33m.\u001b[0m\u001b[0mget_payload\u001b[0m\u001b[1;33m(\u001b[0m\u001b[1;33m)\u001b[0m\u001b[1;33m.\u001b[0m\u001b[0mdecode\u001b[0m\u001b[1;33m(\u001b[0m\u001b[0mmessage2\u001b[0m\u001b[1;33m.\u001b[0m\u001b[0mtext_part\u001b[0m\u001b[1;33m.\u001b[0m\u001b[0mcharset\u001b[0m\u001b[1;33m)\u001b[0m\u001b[1;33m\u001b[0m\u001b[1;33m\u001b[0m\u001b[0m\n\u001b[0m",
      "\u001b[1;31mTypeError\u001b[0m: decode() argument 1 must be str, not None"
     ]
    }
   ],
   "source": [
    "message2.text_part.get_payload().decode(message2.text_part.charset) # 空メールなので表示されなかった"
   ]
  },
  {
   "cell_type": "code",
   "execution_count": 33,
   "metadata": {
    "collapsed": true
   },
   "outputs": [
    {
     "data": {
      "text/plain": [
       "'<!DOCTYPE html PUBLIC \"-//W3C//DTD XHTML 1.0 Transitional//EN\" \"http://www.w3.org/TR/xhtml1/DTD/xhtml1-transitional.dtd\"><html xmlns=\"http://www.w3.org/1999/xhtml\" dir=\"ltr\" xmlns:v=\"urn:schemas-microsoft-com:vml\" xmlns:o=\"urn:schemas-microsoft-com:office:office\"><head>\\r\\n<meta http-equiv=\"Content-Type\" content=\"text/html; charset=utf-8\">\\r\\n<meta name=\"format-detection\" content=\"telephone=no\">\\r\\n<meta name=\"format-detection\" content=\"date=no\">\\r\\n<meta name=\"format-detection\" content=\"address=no\">\\r\\n<meta name=\"format-detection\" content=\"email=no\">\\r\\n<meta http-equiv=\"X-UA-Compatible\" content=\"IE=edge\">\\r\\n<meta name=\"viewport\" content=\"width=device-width, initial-scale=1.0\">\\r\\n<meta name=\"robots\" content=\"noindex, nofollow\">\\r\\n<meta name=\"x-apple-disable-message-reformatting\">\\r\\n\\r\\n\\r\\n<title></title>\\r\\n<!--[if gte mso 9]><xml>\\r\\n  <o:OfficeDocumentSettings>\\r\\n    <o:AllowPNG/>\\r\\n    <o:PixelsPerInch>96</o:PixelsPerInch>\\r\\n  </o:OfficeDocumentSettings>\\r\\n</xml><![endif]-->\\r\\n\\r\\n\\r\\n\\r\\n\\r\\n<style media=\"all\" type=\"text/css\">\\r\\n   /*Apple And OLD Android less than 5 fonts*/\\r\\n</style>\\r\\n\\r\\n\\r\\n<style media=\"all\" type=\"text/css\">\\r\\n  @-ms-viewport{ width: device-width;}\\r\\n</style>\\r\\n\\r\\n\\r\\n<style media=\"all\" type=\"text/css\">\\r\\n  \\r\\n  #outlook a {padding:0;}\\r\\n  .ReadMsgBody {width:100%;}\\r\\n  .ExternalClass {width:100%;}\\r\\n  .ExternalClass, .ExternalClass p, .ExternalClass span, .ExternalClass font, .ExternalClass td, .ExternalClass div {line-height: 100%;}\\r\\n  .ExternalClass img[class^=Emoji] { width: 10px !important; height: 10px !important; display: inline !important; } .ExternalClass .ecxhm { display: none !important; } .ExternalClass .ecxhm2 { display: inline !important; }\\r\\n  \\r\\n  .appleBody a {color:#68440a; text-decoration: none;}\\r\\n  .appleFooter a {color:#999999; text-decoration: none;}\\r\\n  * [OWA] .outlookLink505050 span {color:#505050 !important; border-bottom-width:0 !important; border-bottom-style:none !important; cursor: default !important;}\\r\\n  * [OWA] .outlookLinkFFFFFF span {color:#ffffff !important; border-bottom-width:0 !important; border-bottom-style:none !important; cursor: default !important;}\\r\\n  .contextualExtensionHighlight, .ms-font-color-themePrimary, .ms-border-color-themePrimary {border-bottom-width:0 !important; border-bottom-style:none !important;}\\r\\n  a[x-apple-data-detectors] {color: inherit !important; text-decoration: none !important; font-size: inherit !important; font-family: inherit !important; font-weight: inherit !important; line-height: inherit !important;}\\r\\n\\r\\n  \\r\\n  body { -webkit-text-size-adjust:100%; -ms-text-size-adjust:auto; height:100% !important; width:100% !important;}\\r\\n  div[style*=\"margin: 16px 0\"] { margin:0 !important; padding:0 !important; }\\r\\n  th { font-weight:normal; }\\r\\n  table {-webkit-text-size-adjust:100%; -ms-text-size-adjust:auto; mso-table-lspace:0pt; mso-table-rspace:0pt; border-collapse: collapse !important; font-weight:normal;}\\r\\n  tr {font-size:0px;mso-line-height-alt:0px;mso-margin-top-alt:0px;mso-line-height-rule:exactly;}\\r\\n  td {-webkit-text-size-adjust:100%; -ms-text-size-adjust:auto; mso-table-lspace:0pt; mso-table-rspace:0pt; border-collapse: collapse !important; margin:0; padding:0;}\\r\\n  a, a span, a.span:hover, a span:hover, a:visited {color: #767676; background-color: transparent !important; border: none !important; -webkit-text-size-adjust:100%; -ms-text-size-adjust:auto;}\\r\\n  a.tel, a.tel: link, a.tel: visited, a.tel: hover, a.tel: active {text-decoration: none !important; background-color: none !important; border: none !important; }\\r\\n  a.addr, a.addr: link, a.addr: visited, a.addr: hover, a.addr: active {text-decoration: none !important; background-color: transparent !important; border: none !important; }\\r\\n  a img {border:none;}\\r\\n  body, div, span, td, h1,h2,h3,h4,h5, p {Margin:0; padding:0;}\\r\\n  h1,h2,h3,h4,h5 {display:block; font-size: inherit; font-weight: normal; color: inherit;}\\r\\n  img {-ms-interpolation-mode:bicubic !important; border:0; height:auto; line-height:100%; outline:none; text-decoration:none; image-rendering: auto;}\\r\\n  sup, sub { vertical-align: baseline; position: relative; top: -0.4em; }\\r\\n  sub { top: 0.4em; }\\r\\n  table[DIR=\"rtl\"], table td[DIR=\"rtl\"], table th[DIR=\"rtl\"], span[DIR=\"rtl\"], div[DIR=\"rtl\"] {direction:RTL !important; unicode-bidi:embed !important;}\\r\\n</style>\\r\\n\\r\\n\\r\\n<style media=\"screen\" type=\"text/css\">\\r\\n  @media screen and (max-width: 497px)  {\\r\\n    .container { width:100% !important; min-width:300px !important; max-width:480px !important; margin: 0; padding:0; word-wrap:normal; }\\r\\n    .container table { width:100% !important; }\\r\\n    .mobile-full-width {width: 100% !important; min-width: 300px !important;}\\r\\n    .hide { display:none !important; width: 0px; min-width: 0px; height: 0px; line-height: 0px; }\\r\\n    .drop,.ftafdrop { display:block !important; width: 100% !important; }\\r\\n    .mobile-shown, .mobile-shown div { display: block !important; overflow: visible !important; width: auto !important; max-height:inherit !important; height:auto !important; visibility: visible !important;}\\r\\n    .photo img { width:100% !important; height:auto !important;}\\r\\n    .photo80 img {width:80% !important; height:auto !important;}\\r\\n    .photo50 img {width:50% !important; height:auto !important;}\\r\\n    .photo35 img {width:35% !important; height:auto !important;}\\r\\n    .buttonblck table { width:auto !important; }\\r\\n    .mobile-center table, .mobile-center, .mobile-center img { text-align: center !important; margin: 0 auto !important; }\\r\\n    .mobile-left table, .mobile-left, .mobile-left img { text-align: left !important; }\\r\\n    .mobile-no-padding { padding:0px !important; }\\r\\n    .mobile-no-side-padding, .mobile-side-padding-0 { padding-left:0px !important; padding-right:0px !important; }\\r\\n    .mobile-no-top-padding { padding-top:0px !important; }\\r\\n    .mobile-no-bottom-padding, .mobile-bottom-padding-0 {padding-bottom: 0px !important;}\\r\\n    .mobile-side-padding-5 {padding-left: 5px !important; padding-right: 5px !important;}\\r\\n    .mobile-side-padding-10 { padding-left:10px !important; padding-right:10px !important; }\\r\\n    .mobile-side-padding-15 { padding-left:15px !important; padding-right:15px !important; }\\r\\n    .mobile-side-padding-20 { padding-left:20px !important; padding-right:20px !important; }\\r\\n    .mobile-side-padding-25 { padding-left:25px !important; padding-right:25px !important; }\\r\\n    .mobile-side-padding-30 { padding-left:30px !important; padding-right:30px !important; }\\r\\n    .mobile-side-padding-35 { padding-left:35px !important; padding-right:35px !important; }\\r\\n    .mobile-side-padding-40 { padding-left:40px !important; padding-right:40px !important; }\\r\\n    .mobile-side-padding-45 { padding-left:45px !important; padding-right:45px !important; }\\r\\n    .mobile-side-padding-50 { padding-left:50px !important; padding-right:50px !important; }\\r\\n    .mobile-left-padding-10 { padding-left:10px !important; }\\r\\n    .mobile-left-padding-20 { padding-left:20px !important; }\\r\\n    .mobile-left-padding-30 { padding-left:30px !important; }\\r\\n    .mobile-left-padding-40 { padding-left:40px !important; }\\r\\n    .mobile-left-padding-50 {padding-left: 50px !important;}\\r\\n    .mobile-right-padding-10 {padding-right: 10px !important;}\\r\\n    .mobile-right-padding-20 {padding-right: 20px !important;}\\r\\n    .mobile-right-padding-30 {padding-right: 30px !important;}\\r\\n    .mobile-right-padding-40 {padding-right: 40px !important;}\\r\\n    .mobile-right-padding-50 {padding-right: 50px !important;}\\r\\n    .mobile-top-padding-10 { padding-top:10px !important; }\\r\\n    .mobile-top-padding-20 { padding-top:20px !important; }\\r\\n    .mobile-top-padding-30 { padding-top:30px !important; }\\r\\n    .mobile-top-padding-40 { padding-top:40px !important; }\\r\\n    .mobile-top-padding-50 {padding-top: 50px !important;}\\r\\n    .mobile-bottom-padding-10 { padding-bottom:10px !important; }\\r\\n    .mobile-bottom-padding-20 { padding-bottom:20px !important; }\\r\\n    .mobile-bottom-padding-30 { padding-bottom:30px !important; }\\r\\n    .mobile-bottom-padding-40 { padding-bottom:40px !important; }\\r\\n    .mobile-bottom-padding-50 {padding-bottom: 50px !important;}\\r\\n    .mobile-font-56 {font-size: 56px !important; line-height: 61px !important;}\\r\\n    .mobile-font-40 {font-size: 40px !important; line-height: 45px !important;}\\r\\n    .mobile-font-37 {font-size: 37px !important; line-height: 47px !important;}\\r\\n    .mobile-width-85 { width: 85px !important; height:auto !important}\\r\\n    .mobile-width-117 { width: 117px !important; height:auto !important}\\r\\n  }\\r\\n</style>\\r\\n  \\r\\n  <style media=\"all\" type=\"text/css\">\\r\\n    @media only screen and (max-width:497px) {\\r\\n      .mobile-headline { font-size: 17px !important; line-height: 21px !important;}\\r\\n\\t  .mobile-body { font-size: 15px !important; line-height: 21px !important;}\\r\\n\\t  .width70 { width:70px !important}\\r\\n    }\\r\\n  </style>\\r\\n</head>\\r\\n<body>\\r\\n  <table cellpadding=\"0\" cellspacing=\"0\" border=\"0\" width=\"100%\" class=\"container\">\\r\\n  <tr>\\r\\n    <td align=\"center\" style=\"font-size:1px; line-height:1px;\"><div style=\"display:none; width:0px; max-height:0px; overflow:hidden;\">新しい OneDrive へようこそ OneDrive には、すてきな機能がたくさんあります。 ファイルを 1 つアップロードして次の段階に進みましょう。 ファイルをアップロード. いつでも必要なものにアクセスできる. ファイルと写真はいつも同期されているので、すべてのデバイスから最新の情報にアクセスできます。 <img src=\"https://click.mail.onedrive.com/open.aspx?ffcb10-feea1d757c620c-fdfa167073640c78711c7176-fe9713727665037f77-ff981675-fdfe15707365067d71117772-fe9617757662067e76&amp;d=70136\" width=\"1\" height=\"1\"></div></td>\\r\\n  </tr>\\r\\n  <tr>\\r\\n    <td style=\"line-height:2px; height:2px;\" class=\"hide\">\\r\\n      <img width=\"640\" height=\"2\" style=\"max-height:2px; min-height:2px; display:block; width:640px; min-width:640px;\" src=\"http://image.email.office.com/lib/fe9815707264017b71/m/1/gmailwidthfix.gif\">\\r\\n    </td>\\r\\n  </tr>\\r\\n  <tr>\\r\\n    <td align=\"center\" bgcolor=\"#ffffff\">\\r\\n      <table border=\"0\" cellpadding=\"0\" cellspacing=\"0\" width=\"640\" align=\"center\" style=\"margin:0 auto;\">\\r\\n        <tr>\\r\\n          <td>\\r\\n            <table width=\"100%\" cellspacing=\"0\" cellpadding=\"0\" border=\"0\">\\r\\n              <tr>\\r\\n                \\r\\n                <td align=\"left\" valign=\"top\" bgcolor=\"#f2f2f2\">\\r\\n                  \\r\\n                  \\r\\n                  \\r\\n<table border=\"0\" cellpadding=\"0\" cellspacing=\"0\" width=\"100%\" role=\"presentation\">\\r\\n  <tr>\\r\\n    <td bgcolor=\"#f2f2f2\">\\r\\n      <table width=\"100%\" cellspacing=\"0\" cellpadding=\"0\" border=\"0\" role=\"presentation\">\\r\\n        \\r\\n        <tr>\\r\\n          <td bgcolor=\"#f2f2f2\" style=\"font-family:\\'Meiryo UI\\', \\'Segoe UI\\', \\'Segoe UI Regular\\', SUWR, Verdana, sans-serif; font-size:10px; mso-line-height-rule:exactly; line-height:14px; color:#737373; padding-top:10px; padding-left:50px; padding-right:50px; text-align:center; letter-spacing:-0.01em;\" class=\"mobile-side-padding-20\">\\r\\n            <p style=\"Margin:0; padding:0; font-family:\\'Meiryo UI\\', \\'Segoe UI\\', \\'Segoe UI Regular\\', SUWR, Verdana, sans-serif; font-size:10px; mso-line-height-rule:exactly; line-height:14px; color:#737373; text-align:center; letter-spacing:-0.01em;\">\\r\\n               ファイルを 1 つアップロードしてみましょう。 | <a href=\"https://view.mail.onedrive.com/?qs=29f9d297948987e91b68a4eae607618b16cbba09ec054213dc7c133c5afcd546f6a776d9f63376189b335ac4077184c28978c1e9cb2cd0ce2b885ce166c4aa14550bb7ac6369aea2f7040142c8534567\" style=\"color:#737374; text-decoration:underline;\"><span style=\"color:#737374; text-decoration:underline;\">オンラインで見る</span></a>\\r\\n            </p>\\r\\n          </td>\\r\\n        </tr>\\r\\n        \\r\\n      </table>\\r\\n    </td>\\r\\n  </tr>\\r\\n</table>\\r\\n\\r\\n                </td>\\r\\n              </tr>\\r\\n              <tr>\\r\\n                \\r\\n                <td align=\"left\" valign=\"top\" bgcolor=\"#f2f2f2\">\\r\\n                  \\r\\n                  \\r\\n                  \\r\\n\\r\\n\\r\\n<table border=\"0\" cellpadding=\"0\" cellspacing=\"0\" width=\"100%\" role=\"presentation\">\\r\\n  <tr>\\r\\n    <td align=\"left\" bgcolor=\"#f2f2f2\" style=\"vertical-align:top;\" valign=\"top\">\\r\\n      <table width=\"100%\" cellspacing=\"0\" cellpadding=\"0\" border=\"0\" role=\"presentation\">\\r\\n        <tr>\\r\\n          <td valign=\"top\" align=\"left\" bgcolor=\"#f2f2f2\" style=\"padding-top:10px; padding-bottom:14px;\">\\r\\n            <table width=\"100%\" cellspacing=\"0\" cellpadding=\"0\" border=\"0\" role=\"presentation\">\\r\\n              <tr>\\r\\n                <td align=\"left\" bgcolor=\"#f2f2f2\" style=\"padding-left:20px;\"><img alt=\"Microsoft\" src=\"https://asgcdn.blob.core.windows.net/office-email-templates/logo_microsoft.png\" width=\"99\" style=\"display:block; outline:none; -ms-interpolation-mode:bicubic; border:none;\" align=\"left\" class=\"mobile-width-85\"></td>\\r\\n              </tr>\\r\\n            </table>\\r\\n          </td>\\r\\n          \\r\\n          <td valign=\"top\" align=\"right\" bgcolor=\"#f2f2f2\" style=\"padding-top:10px; padding-bottom:14px;\">\\r\\n            <table width=\"100%\" cellspacing=\"0\" cellpadding=\"0\" border=\"0\" role=\"presentation\">\\r\\n              <tr>\\r\\n                <td align=\"right\" bgcolor=\"#f2f2f2\" style=\"padding-right:20px;\"><a target=\"_blank\" href=\"https://click.mail.onedrive.com/?qs=d49b25167b8e295eca8c2e75f3befc839defd91e97603677200f38ff531eb423d981b93da0be16101c62355010869a71c3a118897dff8dd3b1c5fe9fb5491d38\"><img alt=\"OneDrive\" src=\"https://asgcdn.blob.core.windows.net/office-email-templates/FY18_OneDrive_logo_2.png\" width=\"138\" style=\"display:block; outline:none; -ms-interpolation-mode:bicubic; border:none;\" align=\"right\" class=\"mobile-width-117\"></a></td>\\r\\n              </tr>\\r\\n            </table>\\r\\n          </td>\\r\\n          \\r\\n        </tr>\\r\\n      </table>\\r\\n    </td>\\r\\n  </tr>\\r\\n</table>\\r\\n\\r\\n                </td>\\r\\n              </tr>\\r\\n              <tr>\\r\\n                <td align=\"center\" bgcolor=\"#f2f2f2\" style=\"padding-left:20px; padding-right: 20px;\" class=\"mobile-no-side-padding mobile-no-top-padding\">\\r\\n                  <table width=\"100%\" cellspacing=\"0\" cellpadding=\"0\" border=\"0\">\\r\\n                    <tr>\\r\\n                      <td align=\"center\" class=\"mobile-headline mobile-side-padding-10\" bgcolor=\"#ffffff\" style=\"font-family:\\'Meiryo UI\\', \\'Segoe UI\\', \\'Segoe UI Regular\\', SUWR, Verdana, sans-serif; font-size:21px; mso-line-height-rule:exactly; line-height:25px; color:#333333; padding-left:28px; padding-right:27px; padding-bottom:54px; padding-top:32px\">\\r\\n                        新しい OneDrive&nbsp;へようこそ\\r\\n                      </td>\\r\\n                    </tr>\\r\\n                    <tr>\\r\\n                      <td align=\"center\" class=\"photo mobile-side-padding-10\" bgcolor=\"#ffffff\"><img alt=\"\" width=\"528\" border=\"0\" style=\"display:block; outline:none; -ms-interpolation-mode:bicubic; border:none;\" src=\"https://asgcdn.azureedge.net/fy17-od-welcome-1/170123_Welcome_Email_Hero.gif\"></td>\\r\\n                    </tr>\\r\\n                    <tr>\\r\\n                      <td align=\"center\" bgcolor=\"#ffffff\" style=\"font-family:\\'Meiryo UI\\', \\'Segoe UI Light\\', SUWL, \\'Segoe UI\\', Verdana, sans-serif; font-weight:lighter; font-size:17px; mso-line-height-rule:exactly; line-height:22px; color:#666666; padding-left:110px; padding-right:110px; padding-bottom:16px; padding-top:32px\" class=\"mobile-side-padding-10 mobile-body\">\\r\\n                        OneDrive には、すてきな機能がたくさんあります。 ファイルを 1&nbsp;つアップロードして次の段階に進みましょう。\\r\\n                      </td>\\r\\n                    </tr>\\r\\n                    <tr>\\r\\n                      <td bgcolor=\"#ffffff\" align=\"center\" style=\"padding-bottom:60px;\" class=\"mobile-side-padding-10 buttonblck\">\\r\\n                        <a href=\"https://click.mail.onedrive.com/?qs=583a8e42f5362b7082ba46c7393270df576edca52696ccc398c770a57271a91fd52d16387efd77e5dc711616b7ae7fb3a3f341d36dceb253374899bfd432d066\" style=\"color:#ffffff; text-decoration:none;\">\\r\\n                        <table cellspacing=\"0\" cellpadding=\"0\" border=\"0\" style=\"margin:0 auto\">\\r\\n                          <tr>\\r\\n                            <td class=\"mobile-side-padding-15\" bgcolor=\"#0078D7\" align=\"center\" style=\"font-family:\\'Meiryo UI\\', \\'Segoe UI Semibold\\', SUWSB, \\'Segoe UI\\', Verdana, sans-serif; font-weight:bolder; font-size:14px; mso-line-height-rule:exactly; line-height:18px; color:#727272; padding-top: 10px; padding-left: 20px; padding-right: 20px; padding-bottom: 10px;\">\\r\\n                              <a href=\"https://click.mail.onedrive.com/?qs=583a8e42f5362b7082ba46c7393270df576edca52696ccc398c770a57271a91fd52d16387efd77e5dc711616b7ae7fb3a3f341d36dceb253374899bfd432d066\" style=\"color:#ffffff; text-decoration:none;\"><span style=\"color:#ffffff; text-decoration:none;\">ファイルをアップロード</span></a>\\r\\n                            </td>\\r\\n                          </tr>\\r\\n                        </table>\\r\\n                        </a>\\r\\n                      </td>\\r\\n                    </tr>\\r\\n                    <tr>\\r\\n                      <td bgcolor=\"#ffffff\" align=\"center\" class=\"mobile-side-padding-10\">\\r\\n                       <table width=\"100%\" cellspacing=\"0\" cellpadding=\"0\" border=\"0\">\\r\\n                          <tr>\\r\\n                            <td bgcolor=\"#ffffff\" align=\"center\" style=\"padding-left:15px;padding-right:15px; padding-bottom:12px;\">\\r\\n                              <table width=\"100%\" cellspacing=\"0\" cellpadding=\"0\" border=\"0\">\\r\\n                                <tr>\\r\\n                                  <td bgcolor=\"#ffffff\" align=\"center\" style=\"padding-right:16px; padding-bottom:30px\" class=\"mobile-no-side-padding\" valign=\"top\">\\r\\n                                    <table width=\"100%\" cellspacing=\"0\" cellpadding=\"0\" border=\"0\">\\r\\n                                      <tr>\\r\\n                                        <td align=\"center\" style=\"padding-bottom:8px;\"><img alt=\"\" src=\"https://asgcdn.azureedge.net/fy17-od-welcome-1/170123_Welcome_Email_icon_1.png\" width=\"178\" style=\"display:block; outline:none; -ms-interpolation-mode:bicubic; border:none; margin:0 auto;\" align=\"center\"></td>\\r\\n                                      </tr>\\r\\n                                      <tr>\\r\\n                                        <td align=\"center\" style=\"font-family:\\'Meiryo UI\\', \\'Segoe UI Semibold\\', SUWSB, \\'Segoe UI\\', Verdana, sans-serif; font-weight:bolder; font-size:13px; mso-line-height-rule:exactly; line-height:17px; color:#333333; padding-bottom:5px; text-align:center;\">\\r\\n                                          いつでも必要なものにアクセスできる\\r\\n                                        </td>\\r\\n                                      </tr>\\r\\n                                      <tr>\\r\\n                                        <td align=\"center\" style=\"padding-left:120px; padding-right:120px; font-family:\\'Meiryo UI\\', \\'Segoe UI Light\\', SUWL, \\'Segoe UI\\', Verdana, sans-serif; font-weight:lighter; font-size:13px; mso-line-height-rule:exactly; line-height:17px; color:#666666; text-align:center;\" class=\"mobile-no-side-padding\">\\r\\n                                          ファイルと写真はいつも同期されているので、すべてのデバイスから最新の情報にアクセスできます。\\r\\n                                        </td>\\r\\n                                      </tr>\\r\\n                                    </table>\\r\\n                                  </td>\\r\\n                                 </tr>\\r\\n                                 <tr>\\r\\n                                  <td bgcolor=\"#ffffff\" align=\"center\" style=\"padding-right:16px; padding-bottom:30px\" class=\"mobile-no-side-padding\" valign=\"top\">\\r\\n                                    <table width=\"100%\" cellspacing=\"0\" cellpadding=\"0\" border=\"0\">\\r\\n                                      <tr>\\r\\n                                        <td align=\"center\" style=\"padding-bottom:8px;\"><img alt=\"\" src=\"https://asgcdn.azureedge.net/fy17-od-welcome-1/170123_Welcome_Email_icon_2.png\" width=\"178\" style=\"display:block; outline:none; -ms-interpolation-mode:bicubic; border:none; margin:0 auto;\" align=\"center\"></td>\\r\\n                                      </tr>\\r\\n                                      <tr>\\r\\n                                        <td align=\"center\" style=\"font-family:\\'Meiryo UI\\', \\'Segoe UI Semibold\\', SUWSB, \\'Segoe UI\\', Verdana, sans-serif; font-weight:bolder; font-size:13px; mso-line-height-rule:exactly; line-height:17px; color:#333333; padding-bottom:5px; text-align:center;\">\\r\\n                                          どこでも仕事ができる\\r\\n                                        </td>\\r\\n                                      </tr>\\r\\n                                      <tr>\\r\\n                                        <td align=\"center\" style=\"padding-left:120px; padding-right:120px;font-family:\\'Meiryo UI\\', \\'Segoe UI Light\\', SUWL, \\'Segoe UI\\', Verdana, sans-serif; font-weight:lighter; font-size:13px; mso-line-height-rule:exactly; line-height:17px; color:#666666; text-align:center;\" class=\"mobile-bottom-padding-30 mobile-no-side-padding\">\\r\\n                                          <a href=\"https://click.mail.onedrive.com/?qs=2c16c03353ee02336f5045c6fa5c51a3795ff21fca3d2cf92b7c9718abe417b90961964b860f8d774e814efaac227a93584812626317c28753315bb91cfd4e88\" style=\"color:#0078D4; text-decoration: none;\"><span style=\"text-decoration: none; color:#0078D7;\">OneDrive アプリをインストール</span></a>すれば、スマートフォンやタブレットでファイルを表示、編集、共有できます。\\r\\n                                        </td>\\r\\n                                      </tr>\\r\\n                                    </table>\\r\\n                                  </td>\\r\\n                                 </tr>\\r\\n                                 <tr>\\r\\n                                  <td bgcolor=\"#ffffff\" align=\"center\" class=\"\" valign=\"top\" style=\"padding-bottom:30px\">\\r\\n                                    <table width=\"100%\" cellspacing=\"0\" cellpadding=\"0\" border=\"0\">\\r\\n                                      <tr>\\r\\n                                        <td align=\"center\" style=\"padding-bottom:8px;\"><img alt=\"\" src=\"https://asgcdn.azureedge.net/fy17-od-welcome-1/170123_Welcome_Email_icon_3.png\" width=\"178\" style=\"display:block; outline:none; -ms-interpolation-mode:bicubic; border:none; margin:0 auto;\" align=\"center\"></td>\\r\\n                                      </tr>\\r\\n                                      <tr>\\r\\n                                        <td align=\"center\" style=\"font-family:\\'Meiryo UI\\', \\'Segoe UI Semibold\\', SUWSB, \\'Segoe UI\\', Verdana, sans-serif; font-weight:bolder; font-size:13px; mso-line-height-rule:exactly; line-height:17px; color:#333333; padding-bottom:5px; text-align:center;\">\\r\\n                                          共有して共同作業できる\\r\\n                                        </td>\\r\\n                                      </tr>\\r\\n                                      <tr>\\r\\n                                        <td align=\"center\" style=\"padding-left:120px; padding-right:120px;font-family:\\'Meiryo UI\\', \\'Segoe UI Light\\', SUWL, \\'Segoe UI\\', Verdana, sans-serif; font-weight:lighter; font-size:13px; mso-line-height-rule:exactly; line-height:17px; color:#666666; text-align:center;\" class=\"mobile-bottom-padding-30 mobile-no-side-padding\">\\r\\n                                          Office&nbsp;ファイルのリンクを送ると、リアルタイムの共同編集を使用して、他のメンバーがファイルに変更を加えるようすを確認できます。\\r\\n                                        </td>\\r\\n                                      </tr>\\r\\n                                    </table>\\r\\n                                  </td>\\r\\n                                </tr>\\r\\n                              </table>\\r\\n                            </td>\\r\\n                          </tr>\\r\\n                        </table>\\r\\n                      </td>\\r\\n                    </tr>\\r\\n                    <tr>\\r\\n                      <td height=\"20\" style=\"mso-line-height-rule:exactly;line-height:20px;font-size:1px;\">&nbsp;</td>\\r\\n                    </tr>\\r\\n                    <tr>\\r\\n                      <td align=\"center\" class=\"mobile-side-padding-10 mobile-top-padding-30\" bgcolor=\"#ffffff\" style=\"padding-top:32px;\"><img alt=\"\" width=\"49\" border=\"0\" style=\"display:block; outline:none; -ms-interpolation-mode:bicubic; border:none;\" src=\"https://asgcdn.azureedge.net/fy17-od-welcome-1/1805-premium-diamond-2.png\"></td>\\r\\n                    </tr>\\r\\n                    <tr>\\r\\n                      <td align=\"center\" class=\"mobile-headline mobile-side-padding-10\" bgcolor=\"#ffffff\" style=\"font-family:\\'Meiryo UI\\', \\'Segoe UI Semibold\\', SUWSB, \\'Segoe UI\\', Verdana, sans-serif; font-weight:bolder; font-size:17px; mso-line-height-rule:exactly; line-height:22px; color:#333333; padding-left:28px; padding-right:27px; padding-bottom:14px; padding-top:16px\">\\r\\n                        特別な機能とストレージを入手する\\r\\n                      </td>\\r\\n                    </tr>\\r\\n                    <tr>\\r\\n                      <td align=\"center\" bgcolor=\"#ffffff\" style=\"font-family:\\'Meiryo UI\\', \\'Segoe UI Light\\', SUWL, \\'Segoe UI\\', Verdana, sans-serif; font-weight:lighter; font-size:13px; mso-line-height-rule:exactly; line-height:17px; color:#666666; padding-left:130px; padding-right:130px; padding-bottom:32px;\" class=\"mobile-side-padding-10 mobile-body\">\\r\\n                        Office 365 では、OneDrive の特別な機能、1&nbsp;TB の OneDrive ストレージ、Office&nbsp;のあらゆる機能をご利用いただけます。\\r\\n                      </td>\\r\\n                    </tr>\\r\\n                    <tr>\\r\\n                      <td align=\"center\" bgcolor=\"#ffffff\" class=\"mobile-side-padding-10 buttonblck\">\\r\\n                        <table cellspacing=\"0\" cellpadding=\"0\" border=\"0\" style=\"margin:0 auto\">\\r\\n                          <tr>\\r\\n                            <td align=\"left\" style=\"padding-bottom:6px; padding-right:10px;\"><img alt=\"\" width=\"10\" border=\"0\" style=\"display:block; outline:none; -ms-interpolation-mode:bicubic; border:none;\" src=\"https://asgcdn.azureedge.net/fy17-od-welcome-1/170123_Welcome_Email_greencheck.png\"></td>\\r\\n                            <td align=\"left\" style=\"font-family:\\'Meiryo UI\\', \\'Segoe UI Light\\', SUWL, \\'Segoe UI\\', Verdana, sans-serif; font-weight:lighter; font-size:13px; mso-line-height-rule:exactly; line-height:17px; color:#666666; padding-bottom:12px\">合計 <span style=\"font-family:Segoe UI Semibold, SUWSB, Segoe UI, Verdana, sans-serif;\">1&nbsp;TB</span> (1,000&nbsp;GB)</td>\\r\\n                          </tr>\\r\\n                          <tr>\\r\\n                            <td align=\"left\" style=\"padding-bottom:6px; padding-right:10px;\"><img alt=\"\" width=\"10\" border=\"0\" style=\"display:block; outline:none; -ms-interpolation-mode:bicubic; border:none;\" src=\"https://asgcdn.azureedge.net/fy17-od-welcome-1/170123_Welcome_Email_greencheck.png\"></td>\\r\\n                            <td align=\"left\" style=\"font-family:\\'Meiryo UI\\', \\'Segoe UI Light\\', SUWL, \\'Segoe UI\\', Verdana, sans-serif; font-weight:lighter; font-size:13px; mso-line-height-rule:exactly; line-height:17px; color:#666666; padding-bottom:12px\">強力な生産性</td>\\r\\n                          </tr>\\r\\n                          <tr>\\r\\n                           <td align=\"left\" style=\"padding-bottom:6px; padding-right:10px;\"><img alt=\"\" width=\"10\" border=\"0\" style=\"display:block; outline:none; -ms-interpolation-mode:bicubic; border:none;\" src=\"https://asgcdn.azureedge.net/fy17-od-welcome-1/170123_Welcome_Email_greencheck.png\"></td>\\r\\n                            <td align=\"left\" style=\"font-family:\\'Meiryo UI\\', \\'Segoe UI Light\\', SUWL, \\'Segoe UI\\', Verdana, sans-serif; font-weight:lighter; font-size:13px; mso-line-height-rule:exactly; line-height:17px; color:#666666; padding-bottom:12px\">高度な共有機能</td>\\r\\n                          </tr>\\r\\n                          <tr>\\r\\n                            <td align=\"left\" style=\"padding-bottom:6px; padding-right:10px;\"><img alt=\"\" width=\"10\" border=\"0\" style=\"display:block; outline:none; -ms-interpolation-mode:bicubic; border:none;\" src=\"https://asgcdn.azureedge.net/fy17-od-welcome-1/170123_Welcome_Email_greencheck.png\"></td>\\r\\n                            <td align=\"left\" style=\"font-family:\\'Meiryo UI\\', \\'Segoe UI Light\\', SUWL, \\'Segoe UI\\', Verdana, sans-serif; font-weight:lighter; font-size:13px; mso-line-height-rule:exactly; line-height:17px; color:#666666; padding-bottom:12px\">Office 2016&nbsp;アプリ</td>\\r\\n                          </tr>\\r\\n                        </table>\\r\\n                      </td>\\r\\n                    </tr>\\r\\n                    <tr>\\r\\n                      <td align=\"center\" class=\"mobile-side-padding-10\" bgcolor=\"#ffffff\" style=\"padding-bottom:28px\" class=\"mobile-bottom-padding-20\"><img alt=\"Word - Excel - PowerPoint - OneNote - Outlook\" width=\"132\" border=\"0\" style=\"display:block; outline:none; -ms-interpolation-mode:bicubic; border:none;\" src=\"https://asgcdn.azureedge.net/fy17-od-welcome-1/1805-office-icons.png\"></td>\\r\\n                    </tr>\\r\\n                    <tr>\\r\\n                      <td bgcolor=\"#ffffff\" align=\"center\" class=\"mobile-side-padding-10 buttonblck\">\\r\\n                        <a href=\"https://click.mail.onedrive.com/?qs=c66e0ce47b05fa81f835009859e2a4fa61c343effcb753ae8f9d192ad1d54f61fe7ad56b683ca044492a54517f6eedb7c18fe5614c9dca2f7394a42ba5a0d58f\" style=\"color:#ffffff; text-decoration:none;\">\\r\\n                        <table cellspacing=\"0\" cellpadding=\"0\" border=\"0\" style=\"margin:0 auto\">\\r\\n                          <tr>\\r\\n                            <td class=\"mobile-side-padding-15\" bgcolor=\"#02a54f\" align=\"center\" style=\"font-family:\\'Meiryo UI\\', \\'Segoe UI Semibold\\', SUWSB, \\'Segoe UI\\', Verdana, sans-serif; font-weight:bolder; font-size:14px; mso-line-height-rule:exactly; line-height:18px; color:#727272; padding-top: 10px; padding-left: 20px; padding-right: 20px; padding-bottom: 10px;\">\\r\\n                              <a href=\"https://click.mail.onedrive.com/?qs=c66e0ce47b05fa81f835009859e2a4fa61c343effcb753ae8f9d192ad1d54f61fe7ad56b683ca044492a54517f6eedb7c18fe5614c9dca2f7394a42ba5a0d58f\" style=\"color:#ffffff; text-decoration:none;\"><span style=\"color:#ffffff; text-decoration:none;\">OneDrive をアップグレード</span></a>\\r\\n                            </td>\\r\\n                          </tr>\\r\\n                        </table>\\r\\n                        </a>\\r\\n                      </td>\\r\\n                    </tr>\\r\\n                    <tr>\\r\\n                      <td align=\"center\" class=\"photo\" bgcolor=\"#ffffff\" valign=\"bottom\">\\r\\n                      \\t<table width=\"100%\" cellspacing=\"0\" cellpadding=\"0\" border=\"0\">\\r\\n                          <tr>\\r\\n                            <td align=\"left\" valign=\"bottom\">\\r\\n                            <img alt=\"\" width=\"241\" border=\"0\" style=\"display:block; outline:none; -ms-interpolation-mode:bicubic; border:none;\" src=\"https://asgcdn.azureedge.net/fy17-od-welcome-1/170123_Welcome_Email_cloud_1.png\">\\r\\n                            </td>\\r\\n                            <td width=\"100\" class=\"width70\"></td>\\r\\n                            <td align=\"right\" valign=\"bottom\">\\r\\n                            <img alt=\"\" width=\"210\" border=\"0\" style=\"display:block; outline:none; -ms-interpolation-mode:bicubic; border:none;\" src=\"https://asgcdn.azureedge.net/fy17-od-welcome-1/170123_Welcome_Email_cloud_2.png\">\\r\\n                            </td>\\r\\n                          </tr>\\r\\n                        </table>\\r\\n                      </td>\\r\\n                    </tr>\\r\\n                  </table>\\r\\n                </td>\\r\\n              </tr>\\r\\n              <tr>\\r\\n                <td align=\"left\" valign=\"top\" bgcolor=\"#f2f2f2\">\\r\\n                  \\r\\n                  \\r\\n\\r\\n\\r\\n                  \\r\\n                  \\r\\n                   \\r\\n \\r\\n\\r\\n\\r\\n<table border=\"0\" cellpadding=\"0\" cellspacing=\"0\" width=\"100%\" role=\"presentation\">\\r\\n  <tr>\\r\\n    <td align=\"left\" bgcolor=\"#f2f2f2\" style=\"vertical-align:top; padding-top:15px; padding-bottom:15px;\" class=\"mobile-center\">\\r\\n      <table cellspacing=\"0\" cellpadding=\"0\" border=\"0\" role=\"presentation\">\\r\\n        <tr>\\r\\n          <td align=\"left\" bgcolor=\"#f2f2f2\" style=\"padding-left:30px;\" class=\"mobile-side-padding-20 buttonblck mobile-center\">\\r\\n            <table cellspacing=\"0\" cellpadding=\"0\" border=\"0\" role=\"presentation\">\\r\\n              <tr>\\r\\n                \\r\\n                <td align=\"center\" bgcolor=\"#f2f2f2\" style=\"padding-right:17px;\"><a target=\"_blank\" href=\"https://click.mail.onedrive.com/?qs=3bc9ec4cea534c7cd99e0fbeafe74d7932ba9444e331c8923acc8fab01ee9ae438346427ab1adeb64d1941ad653e90fbaaf9f574c5b5ac085f06fb92969e488d\"><img alt=\"Facebook\" src=\"https://asgcdn.azureedge.net/office-email-templates/Social_Facebook_Icon_40x36.png\" width=\"20\" style=\"display:block; outline:none; -ms-interpolation-mode:bicubic; border:none;\"></a></td>\\r\\n                \\r\\n                <td align=\"center\" bgcolor=\"#f2f2f2\" style=\"padding-right:26px;\"><a target=\"_blank\" href=\"https://click.mail.onedrive.com/?qs=c83eb3ecef20f33597e1015c8663c43f568c6903c19fe31bb6607589bb0a8a000702e3cc0f452892ff2c6f424e342426371c18c75e39b113d28e558f8293f62c\"><img alt=\"Twitter\" src=\"https://asgcdn.azureedge.net/office-email-templates/Social_Twitter_Icon_40x36.png\" width=\"20\" style=\"display:block; outline:none; -ms-interpolation-mode:bicubic; border:none;\"></a></td>\\r\\n                \\r\\n              </tr>\\r\\n            </table>\\r\\n          </td>\\r\\n        </tr>\\r\\n      </table>\\r\\n    </td>\\r\\n  </tr>\\r\\n</table>\\r\\n\\r\\n                </td>\\r\\n              </tr>\\r\\n              <tr>\\r\\n                \\r\\n                <td align=\"left\" valign=\"top\" bgcolor=\"#f2f2f2\">\\r\\n                  \\r\\n                  \\r\\n\\r\\n\\r\\n                  \\r\\n                  \\r\\n                  \\r\\n\\r\\n\\r\\n<table border=\"0\" cellpadding=\"0\" cellspacing=\"0\" width=\"100%\" role=\"presentation\">\\r\\n  <tr>\\r\\n    <td bgcolor=\"#f2f2f2\" style=\"vertical-align:top; padding-top:5px;\" valign=\"top\">\\r\\n      <table width=\"100%\" cellspacing=\"0\" cellpadding=\"0\" border=\"0\" role=\"presentation\">\\r\\n        \\r\\n        <tr>\\r\\n          <td bgcolor=\"#f2f2f2\" align=\"left\" style=\"font-family:\\'Meiryo UI\\', \\'Segoe UI\\', \\'Segoe UI Regular\\', SUWR, Verdana, sans-serif; font-size:10px; mso-line-height-rule:exactly; line-height:14px; color:#6b6b6b; padding-top:0px; padding-left:20px; padding-right:20px; text-align:left; letter-spacing:-0.01em;\" class=\"mobile-side-padding-20\">\\r\\n            <p style=\"padding:0; margin:0; font-family:\\'Meiryo UI\\', \\'Segoe UI\\', \\'Segoe UI Regular\\', SUWR, Verdana, sans-serif; font-size:10px; mso-line-height-rule:exactly; line-height:14px; color:#6b6b6b; letter-spacing:-0.01em;\">\\r\\n            \\r\\n            \\r\\n               このメールは監視されていないメールボックスから送信されています。\\r\\n            \\r\\n            </p>\\r\\n          </td>\\r\\n        </tr>\\r\\n        \\r\\n        \\r\\n        <tr>\\r\\n          <td bgcolor=\"#f2f2f2\" align=\"left\" style=\"font-family:\\'Meiryo UI\\', \\'Segoe UI\\', \\'Segoe UI Regular\\', SUWR, Verdana, sans-serif; font-size:10px; mso-line-height-rule:exactly; line-height:14px; color:#6b6b6b; padding-top:18px; padding-left:20px; padding-right:20px; text-align:left; letter-spacing:-0.01em;\" class=\"mobile-side-padding-20\">\\r\\n            <p style=\"padding:0; margin:0; font-family:\\'Meiryo UI\\', \\'Segoe UI\\', \\'Segoe UI Regular\\', SUWR, Verdana, sans-serif; font-size:10px; mso-line-height-rule:exactly; line-height:14px; color:#6b6b6b; letter-spacing:-0.01em;\">\\r\\n            \\r\\n            \\r\\n               このメールは、Microsoft&nbsp;OneDrive&nbsp;アカウントをお持ちの方に配信されています。\\r\\n            \\r\\n            </p>\\r\\n          </td>\\r\\n        </tr>\\r\\n        \\r\\n        \\r\\n        <tr>\\r\\n          <td bgcolor=\"#f2f2f2\" align=\"left\" style=\"font-family:\\'Meiryo UI\\', \\'Segoe UI\\', \\'Segoe UI Regular\\', SUWR, Verdana, sans-serif; font-size:10px; mso-line-height-rule:exactly; line-height:14px; color:#6b6b6b; padding-top:0px; padding-left:20px; padding-right:20px; text-align:left; letter-spacing:-0.01em;\" class=\"mobile-side-padding-20\">\\r\\n            <p style=\"padding:0; margin:0; font-family:\\'Meiryo UI\\', \\'Segoe UI\\', \\'Segoe UI Regular\\', SUWR, Verdana, sans-serif; font-size:10px; mso-line-height-rule:exactly; line-height:14px; color:#6b6b6b; letter-spacing:-0.01em;\">\\r\\n            \\r\\n            \\r\\n               <a target=\"_blank\" href=\"https://click.mail.onedrive.com/?qs=4d581e31d8c73d53d903633ff2c340718855a9f82f8b739a09aeaf369d0e60711aaca2217b21d33158a162e9c9710497d6f7accf084b0924ab55dad057a4efba\" style=\"color:#6b6b6c; text-decoration:underline;\"><strong style=\"font-weight:normal; color:#6b6b6c; text-decoration:underline;\">プライバシーに関する声明</strong></a> | <a target=\"_blank\" href=\"https://click.mail.onedrive.com/?qs=420f5bf31938cba13cb0c0d612f478b592c0ae72fb6cf3e0b745838cb2ecb933c0c6030742e2e5c9b811db0ef8dd7ecde3b931f12f9f04fdbd1dfbe536ea5c74\" style=\"color:#6b6b6c; text-decoration:underline;\"><strong style=\"font-weight:normal; color:#6b6b6c; text-decoration:underline;\">プライバシーに関するお問い合わせ</strong></a>\\r\\n            \\r\\n            </p>\\r\\n          </td>\\r\\n        </tr>\\r\\n        \\r\\n        \\r\\n        \\r\\n        \\r\\n        \\r\\n        \\r\\n        \\r\\n        \\r\\n        <tr>\\r\\n          <td bgcolor=\"#f2f2f2\" align=\"left\" style=\"font-family:\\'Meiryo UI\\', \\'Segoe UI\\', \\'Segoe UI Regular\\', SUWR, Verdana, sans-serif; font-size:10px; mso-line-height-rule:exactly; line-height:14px; color:#6b6b6b; padding-top:18px; padding-left:20px; padding-right:20px; text-align:left; letter-spacing:-0.01em;\" class=\"mobile-side-padding-20\">\\r\\n            <p style=\"padding:0; margin:0; font-family:\\'Meiryo UI\\', \\'Segoe UI\\', \\'Segoe UI Regular\\', SUWR, Verdana, sans-serif; font-size:10px; mso-line-height-rule:exactly; line-height:14px; color:#6b6b6b; letter-spacing:-0.01em;\">\\r\\n            \\r\\n            \\r\\n               Microsoft Corporation, One Microsoft Way, Redmond, WA 98052&nbsp;USA\\r\\n            \\r\\n            </p>\\r\\n          </td>\\r\\n        </tr>\\r\\n        \\r\\n        <tr>\\r\\n          <td align=\"left\" bgcolor=\"#f2f2f2\" style=\"padding-top:20px; padding-bottom:30px; padding-left:20px;\">\\r\\n            <table cellspacing=\"0\" cellpadding=\"0\" border=\"0\" role=\"presentation\">\\r\\n              <tr>\\r\\n                <td align=\"left\" bgcolor=\"#f2f2f2\"><img alt=\"Microsoft\" src=\"https://asgcdn.blob.core.windows.net/office-email-templates/logo_microsoft.png\" width=\"99\" style=\"display:block; outline:none; -ms-interpolation-mode:bicubic; border:none;\"></td>\\r\\n              </tr>\\r\\n            </table>\\r\\n          </td>\\r\\n        </tr>\\r\\n      </table>\\r\\n    </td>\\r\\n  </tr>\\r\\n</table>\\r\\n\\r\\n\\r\\n                </td>\\r\\n              </tr>\\r\\n            </table>\\r\\n  </td>\\r\\n        </tr>\\r\\n      </table>\\r\\n    </td>\\r\\n  </tr>\\r\\n</table>\\r\\n</body>\\r\\n</html>\\r\\n  \\r\\n'"
      ]
     },
     "execution_count": 33,
     "metadata": {},
     "output_type": "execute_result"
    }
   ],
   "source": [
    "message1.html_part.get_payload().decode(message1.html_part.charset)"
   ]
  },
  {
   "cell_type": "markdown",
   "metadata": {},
   "source": [
    "テキストを呼び出すなら、PyzMessageオブジェクトのtext_partアトリビュートの get_payload メソッドを呼ぶ  \n",
    "その戻り値はバイト型なので decode メソッドを呼び、PyzMessageオブジェクトのテキストのエンコードが入っている charset アトリビュートを渡している(上では\"utf-8\"が渡されている)\n",
    "\n",
    "同じようにHTMLを呼び出すならhtml_partからget_payloadメソッドを呼び出すことでできる"
   ]
  },
  {
   "cell_type": "markdown",
   "metadata": {},
   "source": [
    "## メールを削除する"
   ]
  },
  {
   "cell_type": "code",
   "execution_count": 40,
   "metadata": {},
   "outputs": [
    {
     "data": {
      "text/plain": [
       "[33]"
      ]
     },
     "execution_count": 40,
     "metadata": {},
     "output_type": "execute_result"
    }
   ],
   "source": [
    "imap_obj.select_folder(\"Inbox\", readonly=False)\n",
    "UIDs = imap_obj.search([\"ON\", \"06-JUN-2020\"])\n",
    "UIDs"
   ]
  },
  {
   "cell_type": "code",
   "execution_count": 42,
   "metadata": {},
   "outputs": [
    {
     "data": {
      "text/plain": [
       "{}"
      ]
     },
     "execution_count": 42,
     "metadata": {},
     "output_type": "execute_result"
    }
   ],
   "source": [
    "imap_obj.delete_messages(UIDs)"
   ]
  },
  {
   "cell_type": "code",
   "execution_count": 43,
   "metadata": {},
   "outputs": [
    {
     "data": {
      "text/plain": [
       "(b'EXPUNGE completed.', [(3, b'EXISTS'), (3, b'EXPUNGE'), (2, b'EXISTS')])"
      ]
     },
     "execution_count": 43,
     "metadata": {},
     "output_type": "execute_result"
    }
   ],
   "source": [
    "imap_obj.expunge()"
   ]
  },
  {
   "cell_type": "markdown",
   "metadata": {},
   "source": [
    "メールを削除するには変更を許可する必要があるのでIMAPClientオブジェクトのselect_folderでフォルダを指定するときにreadonlyをFalseにする必要がある\n",
    "\n",
    "そしてメールをsearchメソッドで検索しメッセージIDを取得する\n",
    "\n",
    "IMAPClientオブジェクトの delete_messages メソッドにそのメッセージIDを渡すことでそのメールをゴミ箱に移し、  \n",
    "IMAPClientオブジェクトの expunge メソッドを呼ぶことで、ごみ箱の中身を完全に削除することができる"
   ]
  },
  {
   "cell_type": "markdown",
   "metadata": {},
   "source": [
    "## IMAPサーバーから接続を切断する"
   ]
  },
  {
   "cell_type": "code",
   "execution_count": 44,
   "metadata": {},
   "outputs": [
    {
     "data": {
      "text/plain": [
       "b'Microsoft Exchange Server IMAP4 server signing off.'"
      ]
     },
     "execution_count": 44,
     "metadata": {},
     "output_type": "execute_result"
    }
   ],
   "source": [
    "imap_obj.logout()"
   ]
  },
  {
   "cell_type": "markdown",
   "metadata": {},
   "source": [
    "IMAPサーバーを切断するにはIMAPClientオブジェクトの logout メソッドを呼ぶことでできる"
   ]
  },
  {
   "cell_type": "markdown",
   "metadata": {},
   "source": [
    "# Twilioを使ってSMSを送る"
   ]
  },
  {
   "cell_type": "markdown",
   "metadata": {},
   "source": [
    "Twilioを利用しないので以下は想定の結果のみ"
   ]
  },
  {
   "cell_type": "markdown",
   "metadata": {},
   "source": [
    "## SMSを送信する"
   ]
  },
  {
   "cell_type": "code",
   "execution_count": 1,
   "metadata": {},
   "outputs": [],
   "source": [
    "from twilio.rest import Client"
   ]
  },
  {
   "cell_type": "code",
   "execution_count": null,
   "metadata": {},
   "outputs": [],
   "source": [
    "account_SID = \"アカウントSIDを入れる\"\n",
    "auth_token = \"認証トークンを入れる\"\n",
    "twilio_cli = Client(account_SID, auth_token)\n",
    "my_twilio_number = \"+12345678901\" # 購入した米国の電話番号\n",
    "my_cell_phone = \"+819012345678\" # 自分の携帯電話番号\n",
    "message = twilio_cli.messages.create(body=\"メッセージをここに入れる\", from_=my_twilio_number, to=mycellphone)"
   ]
  },
  {
   "cell_type": "markdown",
   "metadata": {},
   "source": [
    "SMSを送るには、twilio.rest から Client をインポートする必要がある\n",
    "\n",
    "そして、Client関数に カウントSIDと認証トークンを渡してClientオブジェクトを生成する\n",
    "\n",
    "Clientオブジェクトにキーワード引数のbodyにメッセージ本文、from_に自分のtwilioの電話番号、toに送る相手の電話番号を渡すことで送ることができる"
   ]
  },
  {
   "cell_type": "code",
   "execution_count": null,
   "metadata": {},
   "outputs": [],
   "source": []
  }
 ],
 "metadata": {
  "kernelspec": {
   "display_name": "Python 3",
   "language": "python",
   "name": "python3"
  },
  "language_info": {
   "codemirror_mode": {
    "name": "ipython",
    "version": 3
   },
   "file_extension": ".py",
   "mimetype": "text/x-python",
   "name": "python",
   "nbconvert_exporter": "python",
   "pygments_lexer": "ipython3",
   "version": "3.7.6"
  }
 },
 "nbformat": 4,
 "nbformat_minor": 4
}
