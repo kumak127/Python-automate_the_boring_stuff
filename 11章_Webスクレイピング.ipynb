{
 "cells": [
  {
   "cell_type": "markdown",
   "metadata": {},
   "source": [
    "Webスクレイピングに役立つモジュール\n",
    "\n",
    "|モジュール|説明|\n",
    "|:-|:-|\n",
    "|webbrowser|Python付属のモジュール。指定したページをブラウザで開く。|\n",
    "|Requests|インターネットからファイルやWebページをダウンロードする。|\n",
    "|Beautiful Soup|Webページの記法であるHTMLをパース(文法的に解釈)する。|\n",
    "|Selenium|Webブラウザを起動し制御する。Seleniumはブラウザ上のフォームを記入したり、マウスクリックをシミュレートできる。|"
   ]
  },
  {
   "cell_type": "markdown",
   "metadata": {},
   "source": [
    "# webbrowserモジュール"
   ]
  },
  {
   "cell_type": "code",
   "execution_count": 1,
   "metadata": {},
   "outputs": [
    {
     "data": {
      "text/plain": [
       "True"
      ]
     },
     "execution_count": 1,
     "metadata": {},
     "output_type": "execute_result"
    }
   ],
   "source": [
    "import webbrowser\n",
    "\n",
    "webbrowser.open(\"http://inventwithpython.com/\")"
   ]
  },
  {
   "cell_type": "markdown",
   "metadata": {},
   "source": [
    "webbrowser をインポートして webbrowser.open 関数にURLを渡すことでWebブラウザを使って開いてくれる\n",
    "\n",
    "webbrowser ができるのはこれだけである"
   ]
  },
  {
   "cell_type": "markdown",
   "metadata": {},
   "source": [
    "# requestsモジュール"
   ]
  },
  {
   "cell_type": "code",
   "execution_count": 2,
   "metadata": {},
   "outputs": [],
   "source": [
    "import requests\n",
    "\n",
    "res = requests.get(\"https://automatetheboringstuff.com/files/rj.txt\")"
   ]
  },
  {
   "cell_type": "code",
   "execution_count": 3,
   "metadata": {},
   "outputs": [
    {
     "data": {
      "text/plain": [
       "requests.models.Response"
      ]
     },
     "execution_count": 3,
     "metadata": {},
     "output_type": "execute_result"
    }
   ],
   "source": [
    "type(res)"
   ]
  },
  {
   "cell_type": "code",
   "execution_count": 4,
   "metadata": {},
   "outputs": [
    {
     "data": {
      "text/plain": [
       "True"
      ]
     },
     "execution_count": 4,
     "metadata": {},
     "output_type": "execute_result"
    }
   ],
   "source": [
    "res.status_code == requests.codes.ok"
   ]
  },
  {
   "cell_type": "code",
   "execution_count": 5,
   "metadata": {},
   "outputs": [
    {
     "data": {
      "text/plain": [
       "178978"
      ]
     },
     "execution_count": 5,
     "metadata": {},
     "output_type": "execute_result"
    }
   ],
   "source": [
    "len(res.text)"
   ]
  },
  {
   "cell_type": "code",
   "execution_count": 6,
   "metadata": {
    "scrolled": true
   },
   "outputs": [
    {
     "name": "stdout",
     "output_type": "stream",
     "text": [
      "The Project Gutenberg EBook of Romeo and Juliet, by William Shakespeare\r\n",
      "\r\n",
      "This eBook is for the use of anyone anywhere at no cost and with\r\n",
      "almost no restrictions whatsoever.  You may copy it, give it away or\r\n",
      "re-use it under the terms of the Projec\n"
     ]
    }
   ],
   "source": [
    "print(res.text[: 250])"
   ]
  },
  {
   "cell_type": "markdown",
   "metadata": {},
   "source": [
    "requests は外部モジュールなのでインストール事前にする必要がある\n",
    "\n",
    "requests をインポートし、requests.get関数にダウンロードするURLを渡すことで Response オブジェクトを返す\n",
    "\n",
    "Webページのリクエストが成功したかどうかはResponseオブジェクトの status_code アトリビュートを調べればわかる\n",
    "\n",
    "status_code の値が requests.codes.ok と同じ(200)であれば成功している(Not Foundは404)\n",
    "\n",
    "ダウンロードしたWebページはResponseオブジェクトの text アトリビュートに入っていて、呼び出すことで表示することができる"
   ]
  },
  {
   "cell_type": "code",
   "execution_count": 7,
   "metadata": {},
   "outputs": [
    {
     "ename": "HTTPError",
     "evalue": "404 Client Error: Not Found for url: http://inventwithpython.com/page_that_does_not_exist",
     "output_type": "error",
     "traceback": [
      "\u001b[1;31m---------------------------------------------------------------------------\u001b[0m",
      "\u001b[1;31mHTTPError\u001b[0m                                 Traceback (most recent call last)",
      "\u001b[1;32m<ipython-input-7-7987b0684478>\u001b[0m in \u001b[0;36m<module>\u001b[1;34m\u001b[0m\n\u001b[0;32m      1\u001b[0m \u001b[0mres\u001b[0m \u001b[1;33m=\u001b[0m \u001b[0mrequests\u001b[0m\u001b[1;33m.\u001b[0m\u001b[0mget\u001b[0m\u001b[1;33m(\u001b[0m\u001b[1;34m\"http://inventwithpython.com/page_that_does_not_exist\"\u001b[0m\u001b[1;33m)\u001b[0m\u001b[1;33m\u001b[0m\u001b[1;33m\u001b[0m\u001b[0m\n\u001b[0;32m      2\u001b[0m \u001b[1;33m\u001b[0m\u001b[0m\n\u001b[1;32m----> 3\u001b[1;33m \u001b[0mres\u001b[0m\u001b[1;33m.\u001b[0m\u001b[0mraise_for_status\u001b[0m\u001b[1;33m(\u001b[0m\u001b[1;33m)\u001b[0m\u001b[1;33m\u001b[0m\u001b[1;33m\u001b[0m\u001b[0m\n\u001b[0m",
      "\u001b[1;32m~\\anaconda3\\lib\\site-packages\\requests\\models.py\u001b[0m in \u001b[0;36mraise_for_status\u001b[1;34m(self)\u001b[0m\n\u001b[0;32m    938\u001b[0m \u001b[1;33m\u001b[0m\u001b[0m\n\u001b[0;32m    939\u001b[0m         \u001b[1;32mif\u001b[0m \u001b[0mhttp_error_msg\u001b[0m\u001b[1;33m:\u001b[0m\u001b[1;33m\u001b[0m\u001b[1;33m\u001b[0m\u001b[0m\n\u001b[1;32m--> 940\u001b[1;33m             \u001b[1;32mraise\u001b[0m \u001b[0mHTTPError\u001b[0m\u001b[1;33m(\u001b[0m\u001b[0mhttp_error_msg\u001b[0m\u001b[1;33m,\u001b[0m \u001b[0mresponse\u001b[0m\u001b[1;33m=\u001b[0m\u001b[0mself\u001b[0m\u001b[1;33m)\u001b[0m\u001b[1;33m\u001b[0m\u001b[1;33m\u001b[0m\u001b[0m\n\u001b[0m\u001b[0;32m    941\u001b[0m \u001b[1;33m\u001b[0m\u001b[0m\n\u001b[0;32m    942\u001b[0m     \u001b[1;32mdef\u001b[0m \u001b[0mclose\u001b[0m\u001b[1;33m(\u001b[0m\u001b[0mself\u001b[0m\u001b[1;33m)\u001b[0m\u001b[1;33m:\u001b[0m\u001b[1;33m\u001b[0m\u001b[1;33m\u001b[0m\u001b[0m\n",
      "\u001b[1;31mHTTPError\u001b[0m: 404 Client Error: Not Found for url: http://inventwithpython.com/page_that_does_not_exist"
     ]
    }
   ],
   "source": [
    "res = requests.get(\"http://inventwithpython.com/page_that_does_not_exist\")\n",
    "\n",
    "res.raise_for_status()"
   ]
  },
  {
   "cell_type": "markdown",
   "metadata": {},
   "source": [
    "Responseオブジェクトの raise_for_status メソッドを使うとファイルのダウンロードを失敗するとエラーを起こす\n",
    "\n",
    "エラーを起こしてプログラムを停止させたくないときはtry/except文を使う"
   ]
  },
  {
   "cell_type": "code",
   "execution_count": 8,
   "metadata": {},
   "outputs": [],
   "source": [
    "res = requests.get(\"https://automatetheboringstuff.com/files/rj.txt\")\n",
    "res.raise_for_status()\n",
    "with open(r\".\\pydata\\RomeoAndJuliet.txt\", \"wb\") as play_file:\n",
    "    for chunk in res.iter_content(1000000):\n",
    "        play_file.write(chunk)"
   ]
  },
  {
   "cell_type": "markdown",
   "metadata": {},
   "source": [
    "requests のResponseオブジェクトを作ってダウンロードしたら、通常の open 関数と write メソッドを使うことでファイルをPCに保存することができる\n",
    "\n",
    "しかし、Web上のテキストはバイト型のため write メソッドの第二引数に渡すモードは wb を使わなくてはいけない\n",
    "\n",
    "Responseオブジェクトの iter_content メソッドは渡した数値(上では100kb)ごとのデータのチャンク(塊)を返してくれる\n",
    "\n",
    "つまり100kbずつ write メソッドを使って書き出してくれていることになる"
   ]
  },
  {
   "cell_type": "markdown",
   "metadata": {},
   "source": [
    "# BeautifulSoupモジュール(bs4)"
   ]
  },
  {
   "cell_type": "code",
   "execution_count": 9,
   "metadata": {},
   "outputs": [
    {
     "data": {
      "text/plain": [
       "bs4.BeautifulSoup"
      ]
     },
     "execution_count": 9,
     "metadata": {},
     "output_type": "execute_result"
    }
   ],
   "source": [
    "import requests, bs4\n",
    "res = requests.get(\"http://nostarch.com\")\n",
    "res.raise_for_status()\n",
    "no_starch_soup = bs4.BeautifulSoup(res.text)\n",
    "type(no_starch_soup)"
   ]
  },
  {
   "cell_type": "markdown",
   "metadata": {},
   "source": [
    "bs4 の BeautifulSoup 関数にResponseオブジェクトのtextメソッド(解析するHTML)を渡すことで BesutifulSoupオブジェクトを作ることができる"
   ]
  },
  {
   "cell_type": "code",
   "execution_count": 10,
   "metadata": {},
   "outputs": [
    {
     "data": {
      "text/plain": [
       "bs4.BeautifulSoup"
      ]
     },
     "execution_count": 10,
     "metadata": {},
     "output_type": "execute_result"
    }
   ],
   "source": [
    "example_file = open(r\".\\pyworks\\example.html\")\n",
    "example_soup = bs4.BeautifulSoup(example_file)\n",
    "type(example_soup)"
   ]
  },
  {
   "cell_type": "markdown",
   "metadata": {},
   "source": [
    "他にもHTMLのファイルオブジェクトを渡すことでもBeautifulSoupオブジェクトを作ることもできる"
   ]
  },
  {
   "cell_type": "code",
   "execution_count": 11,
   "metadata": {},
   "outputs": [
    {
     "data": {
      "text/plain": [
       "bs4.element.ResultSet"
      ]
     },
     "execution_count": 11,
     "metadata": {},
     "output_type": "execute_result"
    }
   ],
   "source": [
    "example_file = open(r\".\\pyworks\\example.html\")\n",
    "example_soup = bs4.BeautifulSoup(example_file)\n",
    "elems = example_soup.select(\"#author\")\n",
    "type(elems)"
   ]
  },
  {
   "cell_type": "code",
   "execution_count": 12,
   "metadata": {},
   "outputs": [
    {
     "data": {
      "text/plain": [
       "1"
      ]
     },
     "execution_count": 12,
     "metadata": {},
     "output_type": "execute_result"
    }
   ],
   "source": [
    "len(elems)"
   ]
  },
  {
   "cell_type": "code",
   "execution_count": 13,
   "metadata": {},
   "outputs": [
    {
     "data": {
      "text/plain": [
       "bs4.element.Tag"
      ]
     },
     "execution_count": 13,
     "metadata": {},
     "output_type": "execute_result"
    }
   ],
   "source": [
    "type(elems[0])"
   ]
  },
  {
   "cell_type": "code",
   "execution_count": 14,
   "metadata": {},
   "outputs": [
    {
     "data": {
      "text/plain": [
       "'Al Sweigart'"
      ]
     },
     "execution_count": 14,
     "metadata": {},
     "output_type": "execute_result"
    }
   ],
   "source": [
    "elems[0].getText()"
   ]
  },
  {
   "cell_type": "code",
   "execution_count": 15,
   "metadata": {},
   "outputs": [
    {
     "data": {
      "text/plain": [
       "'<span id=\"author\">Al Sweigart</span>'"
      ]
     },
     "execution_count": 15,
     "metadata": {},
     "output_type": "execute_result"
    }
   ],
   "source": [
    "str(elems[0])"
   ]
  },
  {
   "cell_type": "code",
   "execution_count": 16,
   "metadata": {},
   "outputs": [
    {
     "data": {
      "text/plain": [
       "{'id': 'author'}"
      ]
     },
     "execution_count": 16,
     "metadata": {},
     "output_type": "execute_result"
    }
   ],
   "source": [
    "elems[0].attrs"
   ]
  },
  {
   "cell_type": "markdown",
   "metadata": {},
   "source": [
    "BeautifulSoupオブジェクトの select メソッドにCSSセレクタ(正規表現のようなもの)を渡すことでWebページの要素を取得できる\n",
    "\n",
    "よく使われるCSSクラスタの文法\n",
    "\n",
    "|select()に渡すセレクタ|マッチする対象|\n",
    "|:-|:-|\n",
    "|soup.select(\"div\")|すべての`<div>`要素|\n",
    "|soup.select(\"#author\")|id属性がauthorである要素|\n",
    "|soup.select(\".notice\")|CSSクラス属性がnoticeである全要素|\n",
    "|soup.select(\"div span\")|`<div>`要素の中のすべての`<span>`要素|\n",
    "|soup.select(\"div > span\")|`<div>`要素の直下のすべての`<span>`要素(間に他の要素がない)|\n",
    "|soup.select(\"input[name]\")|name属性(値は任意)を持つすべての`<input>`要素|\n",
    "|soup.select(\"input[type='button']\")|type属性の値がbuttonであるすべての`<input>`要素|\n",
    "\n",
    "select メソッドにBeautifulSoupオブジェクトを渡すことでTagオブジェクトのリストのようなもの(Resultsetオブジェクト)を返し、リストの中にはマッチしたすべての要素が入っている\n",
    "\n",
    "Tagオブジェクトの getText メソッドを使うと、開始タグと終了タグを除いた要素の内部テキストを取得できる\n",
    "\n",
    "Tagオブジェクトをstr関数に渡すと、開始タグと終了タグを含んだ文字列を返す\n",
    "\n",
    "Tagオブジェクトのattrsアトリビュートを呼ぶと、要素の属性を辞書として保持しているのを返してくれる"
   ]
  },
  {
   "cell_type": "code",
   "execution_count": 17,
   "metadata": {},
   "outputs": [
    {
     "data": {
      "text/plain": [
       "3"
      ]
     },
     "execution_count": 17,
     "metadata": {},
     "output_type": "execute_result"
    }
   ],
   "source": [
    "p_elems = example_soup.select(\"p\")\n",
    "len(p_elems)"
   ]
  },
  {
   "cell_type": "code",
   "execution_count": 18,
   "metadata": {},
   "outputs": [
    {
     "data": {
      "text/plain": [
       "'<p>Download my <strong>Python</strong> book from <a href=\"http://inventwithpython.com\">my website</a>.</p>'"
      ]
     },
     "execution_count": 18,
     "metadata": {},
     "output_type": "execute_result"
    }
   ],
   "source": [
    "str(p_elems[0])"
   ]
  },
  {
   "cell_type": "code",
   "execution_count": 19,
   "metadata": {},
   "outputs": [
    {
     "data": {
      "text/plain": [
       "'Download my Python book from my website.'"
      ]
     },
     "execution_count": 19,
     "metadata": {},
     "output_type": "execute_result"
    }
   ],
   "source": [
    "p_elems[0].getText()"
   ]
  },
  {
   "cell_type": "code",
   "execution_count": 20,
   "metadata": {},
   "outputs": [
    {
     "data": {
      "text/plain": [
       "'<p class=\"slogan\">Learn Python the easy way!</p>'"
      ]
     },
     "execution_count": 20,
     "metadata": {},
     "output_type": "execute_result"
    }
   ],
   "source": [
    "str(p_elems[1])"
   ]
  },
  {
   "cell_type": "code",
   "execution_count": 21,
   "metadata": {},
   "outputs": [
    {
     "data": {
      "text/plain": [
       "'Learn Python the easy way!'"
      ]
     },
     "execution_count": 21,
     "metadata": {},
     "output_type": "execute_result"
    }
   ],
   "source": [
    "p_elems[1].getText()"
   ]
  },
  {
   "cell_type": "code",
   "execution_count": 22,
   "metadata": {},
   "outputs": [
    {
     "data": {
      "text/plain": [
       "'<p>By <span id=\"author\">Al Sweigart</span></p>'"
      ]
     },
     "execution_count": 22,
     "metadata": {},
     "output_type": "execute_result"
    }
   ],
   "source": [
    "str(p_elems[2])"
   ]
  },
  {
   "cell_type": "code",
   "execution_count": 23,
   "metadata": {},
   "outputs": [
    {
     "data": {
      "text/plain": [
       "'By Al Sweigart'"
      ]
     },
     "execution_count": 23,
     "metadata": {},
     "output_type": "execute_result"
    }
   ],
   "source": [
    "p_elems[2].getText()"
   ]
  },
  {
   "cell_type": "markdown",
   "metadata": {},
   "source": [
    "BeautifulSoupオブジェクトからすべての`<p>`要素を取り出すこともできる"
   ]
  },
  {
   "cell_type": "code",
   "execution_count": 24,
   "metadata": {},
   "outputs": [
    {
     "data": {
      "text/plain": [
       "'<span id=\"author\">Al Sweigart</span>'"
      ]
     },
     "execution_count": 24,
     "metadata": {},
     "output_type": "execute_result"
    }
   ],
   "source": [
    "soup = bs4.BeautifulSoup(open(r\".\\pyworks\\example.html\"))\n",
    "span_elem = soup.select(\"span\")[0]\n",
    "str(span_elem)"
   ]
  },
  {
   "cell_type": "code",
   "execution_count": 25,
   "metadata": {},
   "outputs": [
    {
     "data": {
      "text/plain": [
       "'author'"
      ]
     },
     "execution_count": 25,
     "metadata": {},
     "output_type": "execute_result"
    }
   ],
   "source": [
    "span_elem.get(\"id\")"
   ]
  },
  {
   "cell_type": "code",
   "execution_count": 26,
   "metadata": {},
   "outputs": [
    {
     "data": {
      "text/plain": [
       "True"
      ]
     },
     "execution_count": 26,
     "metadata": {},
     "output_type": "execute_result"
    }
   ],
   "source": [
    "span_elem.get(\"some_noneexistent_addr\") == None"
   ]
  },
  {
   "cell_type": "code",
   "execution_count": 27,
   "metadata": {},
   "outputs": [
    {
     "data": {
      "text/plain": [
       "{'id': 'author'}"
      ]
     },
     "execution_count": 27,
     "metadata": {},
     "output_type": "execute_result"
    }
   ],
   "source": [
    "span_elem.attrs"
   ]
  },
  {
   "cell_type": "markdown",
   "metadata": {},
   "source": [
    "Tagオブジェクトの get メソッドに属性名を渡すと属性値を返してくれる"
   ]
  },
  {
   "cell_type": "markdown",
   "metadata": {},
   "source": [
    "# Seleniumモジュール"
   ]
  },
  {
   "cell_type": "code",
   "execution_count": 28,
   "metadata": {},
   "outputs": [
    {
     "data": {
      "text/plain": [
       "selenium.webdriver.firefox.webdriver.WebDriver"
      ]
     },
     "execution_count": 28,
     "metadata": {},
     "output_type": "execute_result"
    }
   ],
   "source": [
    "from selenium import webdriver\n",
    "browser = webdriver.Firefox()\n",
    "type(browser)"
   ]
  },
  {
   "cell_type": "code",
   "execution_count": 29,
   "metadata": {},
   "outputs": [],
   "source": [
    "browser.get(\"http://inventwithpython.com\")"
   ]
  },
  {
   "cell_type": "markdown",
   "metadata": {},
   "source": [
    "selenium から webdriver をインポートして、webdriverの Firefox 関数を使うとFirefoxのWebブラウザが起動し、その時に返すWebdriver型のオブジェクトを使って操作ができる\n",
    "\n",
    "Webdriver型のメソッドである get メソッドを使ってURLを開くことができる"
   ]
  },
  {
   "cell_type": "code",
   "execution_count": 30,
   "metadata": {},
   "outputs": [
    {
     "name": "stdout",
     "output_type": "stream",
     "text": [
      "そのクラス名を持つ要素は見つからなかった\n"
     ]
    }
   ],
   "source": [
    "browser = webdriver.Firefox()\n",
    "browser.get(\"http://inventwithpython.com\")\n",
    "\n",
    "try:\n",
    "    elem = browser.find_element_by_class_name(\"bookcover\")\n",
    "    print(f\"そのクラス名を持つ要素 <{elem.tag_name}> を見つけた\")\n",
    "except:\n",
    "    print(\"そのクラス名を持つ要素は見つからなかった\")"
   ]
  },
  {
   "cell_type": "markdown",
   "metadata": {},
   "source": [
    "Webdriverオブジェクトにはページの要素を見つけるためのメソッドがいくつかあり、大きく分けて find_element_* と find_elements_* の2種類がある\n",
    "\n",
    "find_element_* メソッドは検索条件にマッチした最初の要素を WebElementオブジェクトとして返す\n",
    "\n",
    "find_elements_* メソッドは検索条件にマッチしたすべての要素を WebElementオブジェクト リストとして返す\n",
    "\n",
    "要素を検索するSeleniumのWebDriverメソッド一覧\n",
    "\n",
    "|メソッド名|返されるWebElementオブジェクトまたはそのリスト|\n",
    "|:-|:-|\n",
    "|browser.find_element_by_class_name(name)|CSSクラスがnameである要素のオブジェクト|\n",
    "|browser.find_elements_by_class_name(name)|CSSクラスがnameである要素のリスト|\n",
    "|browser.find_element_by_css_selector(selector)|CSSセレクタにマッチする要素のオブジェクト|\n",
    "|browser.find_elements_by_css_selector(selector)|CSSセレクタにマッチする要素のリスト|\n",
    "|browser.find_element_by_id(id)|id属性が一致する要素のオブジェクト|\n",
    "|browser.find_elements_by_id(id)|id属性が一致する要素のリスト|\n",
    "|browser.find_element_by_link_text(text)|textに完全一致する`<a>`要素のオブジェクト|\n",
    "|browser.find_elements_by_link_text(text)|textに完全一致する`<a>`要素のリスト|\n",
    "|browser.find_element_by_partial_link_text(text)|textに部分一致する`<a>`要素のオブジェクト|\n",
    "|browser.find_elements_by_partial_link_text(text)|textに部分一致する`<a>`要素のリスト|\n",
    "|browser.find_element_by_name(name)|name属性が一致する要素のオブジェクト|\n",
    "|browser.find_elements_by_name(name)|name属性が一致する要素のリスト|\n",
    "|browser.find_element_by_tag_name(name)|タグ名がnameに一致する要素のオブジェクト(大文字と小文字を区別しない)|\n",
    "|browser.find_elements_by_tag_name(name)|タグ名がnameに一致する要素のリスト(大文字と小文字を区別しない)|\n",
    "\n",
    "WebElementオブジェクトに使えるアトリビュートとメソッド一覧\n",
    "\n",
    "|属性もしくはメソッド|説明|\n",
    "|:-|:-|\n",
    "|tag_name|タグ名。`<a>`なら\"a\"|\n",
    "|get_attribute(name)|要素の属性nameの値|\n",
    "|text|要素の内部テキスト。`<spam>hello</spam>`なら\"hello\"|\n",
    "|clear()|inputやtextarea要素のテキストを消去する|\n",
    "|is_displayed()|要素が可視ならTrue、そうでなければFalseを返す|\n",
    "|is_enabled()|input要素が有効ならTrue、無効ならFalseを返す|\n",
    "|is_selected()|checkboxやradiobutton要素がチェックされていればTrue、されていなければFalseを返す|\n",
    "|location|\"x\"と\"y\"のキーを持つ辞書で、要素のページ上の座標を示す|"
   ]
  },
  {
   "cell_type": "code",
   "execution_count": 36,
   "metadata": {},
   "outputs": [
    {
     "data": {
      "text/plain": [
       "selenium.webdriver.firefox.webelement.FirefoxWebElement"
      ]
     },
     "execution_count": 36,
     "metadata": {},
     "output_type": "execute_result"
    }
   ],
   "source": [
    "browser = webdriver.Firefox()\n",
    "browser.get(\"http://inventwithpython.com\")\n",
    "link_elem = browser.find_element_by_link_text(\"See what's new in the second edition.\")\n",
    "type(link_elem)"
   ]
  },
  {
   "cell_type": "code",
   "execution_count": 37,
   "metadata": {},
   "outputs": [],
   "source": [
    "link_elem.click()"
   ]
  },
  {
   "cell_type": "markdown",
   "metadata": {},
   "source": [
    "WebElementオブジェクトには click というメソッドがあり、その要素上でクリックをすることができる"
   ]
  },
  {
   "cell_type": "code",
   "execution_count": null,
   "metadata": {},
   "outputs": [],
   "source": [
    "browser = webdriver.Firefox()\n",
    "browser.get(\"https://mail.yahoo.com\") # 現在はアドレスが変更されている\n",
    "email_elem = browser.find_element_by_id(\"login-username\")\n",
    "email_elem.send_keys(\"not_my_real_email\") # メールアドレスを内容を入力欄に記入\n",
    "password_elem = browser.find_element_by_id(\"login-passwd\")\n",
    "password_elem.send_keys(\"12345\")　# パスワードを入力欄に記入\n",
    "password_elem.submit() # 入れた内容を送信"
   ]
  },
  {
   "cell_type": "markdown",
   "metadata": {},
   "source": [
    "Webページ上のテキスト入力欄にキー入力するには`<input>`や`<textarea>`要素を見つけ、WebElementオブジェクトに send_keys メソッドを使い、入力したい文字列を渡すことで入力できる\n",
    "\n",
    "そして、WebElementオブジェクトに submit メソッドを呼び出すことで送信をすることができる"
   ]
  },
  {
   "cell_type": "code",
   "execution_count": 40,
   "metadata": {},
   "outputs": [],
   "source": [
    "from selenium.webdriver.common.keys import Keys\n",
    "browser = webdriver.Firefox()\n",
    "browser.get(\"http://nostarch.com\")\n",
    "html_elem = browser.find_element_by_tag_name(\"html\")\n",
    "html_elem.send_keys(Keys.END) # 末尾にスクロール\n",
    "html_elem.send_keys(Keys.HOME) # 先頭にスクロール"
   ]
  },
  {
   "cell_type": "markdown",
   "metadata": {},
   "source": [
    "selenium.webdriver.common.keys メソッドの Keys アトリビュート(長いので`from selenium.webdriver.common.keys import Keys`でインポート)をsend_keys メソッドに渡すことで特殊なキーを入力することができる\n",
    "\n",
    "キーの入力を送るのは`<html>`タグが適切(HTMLファイルは`<html>`で囲まれているため)\n",
    "\n",
    "selenium.webdriver.common.keysモジュールでよく使われる値一覧\n",
    "\n",
    "|アトリビュート|意味|\n",
    "|:-|:-|\n",
    "|Keys.DOWN ,Keys.UP ,Keys.LEFT ,Keys.RIGHT|矢印キー|\n",
    "|Keys.ENTER ,Keys.RETURN|Enter, Returnキー|\n",
    "|Keys.HOME ,Keys.END ,Keys.PAGE_DOWN ,Keys.PAGE_UP|Home ,End ,PageDown ,PageUpキー|\n",
    "|Keys.ESCAPE ,Keys.BACK_SPACE ,Keys.DELETE|Esc ,Backspace ,Deleteキー|\n",
    "|Keys.F1 ,... ,Keys.F12|F1~F12キー|\n",
    "|Keys.TAB|Tabキー|"
   ]
  },
  {
   "cell_type": "code",
   "execution_count": null,
   "metadata": {},
   "outputs": [],
   "source": [
    "browser.quit() # ウィンドウを閉じるをクリックする"
   ]
  },
  {
   "cell_type": "markdown",
   "metadata": {},
   "source": [
    "ウィンドウを閉じるボタンをクリックするにはWebdriver型オブジェクトの quit メソッド呼ぶことでできる\n",
    "\n",
    "ブラウザのボタンをクリックするメソッド一覧\n",
    "\n",
    "|Webdriver型オブジェクトのメソッド|説明|\n",
    "|:-|:-|\n",
    "|browser.back()|戻るボタンをクリックする|\n",
    "|browser.forward()|進むボタンをクリックする|\n",
    "|browser.refresh()|再読み込みボタンをクリックする|\n",
    "|browser.quit()|ウィンドウを閉じるボタンをクリックする|"
   ]
  }
 ],
 "metadata": {
  "kernelspec": {
   "display_name": "Python 3",
   "language": "python",
   "name": "python3"
  },
  "language_info": {
   "codemirror_mode": {
    "name": "ipython",
    "version": 3
   },
   "file_extension": ".py",
   "mimetype": "text/x-python",
   "name": "python",
   "nbconvert_exporter": "python",
   "pygments_lexer": "ipython3",
   "version": "3.7.6"
  }
 },
 "nbformat": 4,
 "nbformat_minor": 4
}
