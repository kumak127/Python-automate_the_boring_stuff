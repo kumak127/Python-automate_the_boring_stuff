{
 "cells": [
  {
   "cell_type": "markdown",
   "metadata": {},
   "source": [
    "# shutil モジュール"
   ]
  },
  {
   "cell_type": "code",
   "execution_count": 5,
   "metadata": {},
   "outputs": [
    {
     "data": {
      "text/plain": [
       "'.\\\\pydata2\\\\test.txt'"
      ]
     },
     "execution_count": 5,
     "metadata": {},
     "output_type": "execute_result"
    }
   ],
   "source": [
    "import shutil, os\n",
    "\n",
    "os.chdir(r\"C:\\Users\\kumak\\提出用\\退屈なことはPythonにやらせよう\")\n",
    "\n",
    "shutil.copy(r\".\\pydata\\test.txt\", r\".\\pydata2\\test.txt\")"
   ]
  },
  {
   "cell_type": "markdown",
   "metadata": {},
   "source": [
    "shutil.copy を使うと第一引数に渡したファイルを第二引数に渡したフォルダにコピーしてくれる"
   ]
  },
  {
   "cell_type": "code",
   "execution_count": 6,
   "metadata": {},
   "outputs": [
    {
     "data": {
      "text/plain": [
       "'.\\\\pydata\\\\test2.txt'"
      ]
     },
     "execution_count": 6,
     "metadata": {},
     "output_type": "execute_result"
    }
   ],
   "source": [
    "shutil.copy(r\".\\pydata\\test.txt\", r\".\\pydata\\test2.txt\")"
   ]
  },
  {
   "cell_type": "markdown",
   "metadata": {},
   "source": [
    "shutil.copy の第二引数にファイル名を渡すとファイルの名前の変えながらコピーしてくれる"
   ]
  },
  {
   "cell_type": "code",
   "execution_count": 9,
   "metadata": {},
   "outputs": [
    {
     "data": {
      "text/plain": [
       "'.\\\\pydata_copy'"
      ]
     },
     "execution_count": 9,
     "metadata": {},
     "output_type": "execute_result"
    }
   ],
   "source": [
    "shutil.copytree(r\".\\pydata\", r\".\\pydata_copy\")"
   ]
  },
  {
   "cell_type": "markdown",
   "metadata": {},
   "source": [
    "shutil.copytree を使うと第一引数に渡したフォルダを第二引数に渡した場所に名前を変えてコピーできる(フォルダの中身もすべてコピーされる)"
   ]
  },
  {
   "cell_type": "code",
   "execution_count": 14,
   "metadata": {},
   "outputs": [
    {
     "data": {
      "text/plain": [
       "'.\\\\pydata2\\\\test.txt'"
      ]
     },
     "execution_count": 14,
     "metadata": {},
     "output_type": "execute_result"
    }
   ],
   "source": [
    "os.remove(r\".\\pydata2\\test.txt\") # すでにファイルがあるとエラーが起きるので一回削除\n",
    "shutil.move(r\".\\pydata\\test.txt\", r\".\\pydata2\")"
   ]
  },
  {
   "cell_type": "markdown",
   "metadata": {},
   "source": [
    "shutil.move を使うと第一引数に渡したファイルやフォルダを第二引数に渡した場所に移動させてくれる"
   ]
  },
  {
   "cell_type": "code",
   "execution_count": 16,
   "metadata": {},
   "outputs": [
    {
     "data": {
      "text/plain": [
       "'.\\\\pydata\\\\test3.txt'"
      ]
     },
     "execution_count": 16,
     "metadata": {},
     "output_type": "execute_result"
    }
   ],
   "source": [
    "shutil.move(r\".\\pydata2\\test.txt\", r\".\\pydata\\test3.txt\")"
   ]
  },
  {
   "cell_type": "markdown",
   "metadata": {},
   "source": [
    "shutil.move の第二引数にファイル名を入れると名前と変えながら移動してくれる"
   ]
  },
  {
   "cell_type": "code",
   "execution_count": 17,
   "metadata": {},
   "outputs": [
    {
     "data": {
      "text/plain": [
       "'.\\\\pydata3\\\\pydata_move'"
      ]
     },
     "execution_count": 17,
     "metadata": {},
     "output_type": "execute_result"
    }
   ],
   "source": [
    "shutil.move(r\".\\pydata\", r\".\\pydata3\\pydata_move\")"
   ]
  },
  {
   "cell_type": "markdown",
   "metadata": {},
   "source": [
    "上記ように移動するフォルダを第一引数に入れて、第二引数に存在しないフォルダと変えたいフォルダ名を入れると、\n",
    "\n",
    "途中のフォルダを作りながら名前を変えてくれる"
   ]
  },
  {
   "cell_type": "code",
   "execution_count": 20,
   "metadata": {},
   "outputs": [],
   "source": [
    "os.unlink(r\".\\pydata3\\pydata_move\\test3.txt\")\n",
    "\n",
    "os.rmdir(r\".\\pydata2\")"
   ]
  },
  {
   "cell_type": "markdown",
   "metadata": {},
   "source": [
    "os.unlink は指定したファイル一つを削除できる\n",
    "\n",
    "os.rmdir は指定した**空の**フォルダを削除することができる"
   ]
  },
  {
   "cell_type": "code",
   "execution_count": 21,
   "metadata": {},
   "outputs": [],
   "source": [
    "shutil.rmtree(r\".\\pydata3\")"
   ]
  },
  {
   "cell_type": "markdown",
   "metadata": {},
   "source": [
    "shutil.rmtree を使うと指定したフォルダと中身をすべてまとめて削除できる(誤って必要なフォルダを削除しないように注意)"
   ]
  },
  {
   "cell_type": "code",
   "execution_count": 37,
   "metadata": {},
   "outputs": [],
   "source": [
    "with open(r\"pydata_copy\\test.txt\", \"w\") as f:\n",
    "    f.write(\"Hello world!\")"
   ]
  },
  {
   "cell_type": "code",
   "execution_count": 22,
   "metadata": {},
   "outputs": [],
   "source": [
    "import send2trash\n",
    "\n",
    "send2trash.send2trash(r\".\\pydata_copy\\test.txt\")"
   ]
  },
  {
   "cell_type": "markdown",
   "metadata": {},
   "source": [
    "send2trash モジュール(サードパーティのモジュールなのでインストールが必要)をインポートして send2trash.send2trash を使うことで、\n",
    "\n",
    "削除するのではなくPCのゴミ箱に移すことが可能(つまり、間違って消しても復元できるので安心)"
   ]
  },
  {
   "cell_type": "code",
   "execution_count": 25,
   "metadata": {},
   "outputs": [
    {
     "data": {
      "text/plain": [
       "'.\\\\pydata\\\\pydata_copy'"
      ]
     },
     "execution_count": 25,
     "metadata": {},
     "output_type": "execute_result"
    }
   ],
   "source": [
    "shutil.move(r\".\\pydata_copy\", r\".\\pydata\") # 見やすくするためにフォルダの名前を変更しておく"
   ]
  },
  {
   "cell_type": "markdown",
   "metadata": {},
   "source": [
    "# ディレクトリツリーを渡り歩く"
   ]
  },
  {
   "cell_type": "code",
   "execution_count": 27,
   "metadata": {},
   "outputs": [
    {
     "name": "stdout",
     "output_type": "stream",
     "text": [
      "The current folder is .\n",
      "SUBFOLDER OF .: .ipynb_checkpoints\n",
      "SUBFOLDER OF .: pydata\n",
      "SUBFOLDER OF .: pyworks\n",
      "SUBFOLDER OF .: __pycache__\n",
      "FILE INSIDE .: 10章_デバック.ipynb\n",
      "FILE INSIDE .: 11章_Webスクレイピング.ipynb\n",
      "FILE INSIDE .: 12章_Excelシート.ipynb\n",
      "FILE INSIDE .: 13章_PDFファイルとWord文書.ipynb\n",
      "FILE INSIDE .: 14章_CSVファイルとJSONデータ.ipynb\n",
      "FILE INSIDE .: 15章_時間制御、自動実行、プログラム起動.ipynb\n",
      "FILE INSIDE .: 16章_電子メールやSMSの送信.ipynb\n",
      "FILE INSIDE .: 17章_画像の操作.ipynb\n",
      "FILE INSIDE .: 18章_GUIオートメーションによるキーボードとマウスの制御.ipynb\n",
      "FILE INSIDE .: 7章_正規表現によるパターンマッチング.ipynb\n",
      "FILE INSIDE .: 8章_ファイルの読み書き.ipynb\n",
      "FILE INSIDE .: 9章_ファイルの管理.ipynb\n",
      "\n",
      "The current folder is .\\.ipynb_checkpoints\n",
      "FILE INSIDE .\\.ipynb_checkpoints: 7章_正規表現によるパターンマッチング-checkpoint.ipynb\n",
      "FILE INSIDE .\\.ipynb_checkpoints: 8章_ファイルの読み書き-checkpoint.ipynb\n",
      "FILE INSIDE .\\.ipynb_checkpoints: 9章_ファイルの管理-checkpoint.ipynb\n",
      "\n",
      "The current folder is .\\pydata\n",
      "SUBFOLDER OF .\\pydata: empty_a\n",
      "SUBFOLDER OF .\\pydata: pydata_copy\n",
      "FILE INSIDE .\\pydata: hello.txt\n",
      "FILE INSIDE .\\pydata: test2.txt\n",
      "FILE INSIDE .\\pydata: 県庁所在地_一覧.txt\n",
      "\n",
      "The current folder is .\\pydata\\empty_a\n",
      "SUBFOLDER OF .\\pydata\\empty_a: empty_b\n",
      "\n",
      "The current folder is .\\pydata\\empty_a\\empty_b\n",
      "SUBFOLDER OF .\\pydata\\empty_a\\empty_b: empty_c\n",
      "\n",
      "The current folder is .\\pydata\\empty_a\\empty_b\\empty_c\n",
      "\n",
      "The current folder is .\\pydata\\pydata_copy\n",
      "SUBFOLDER OF .\\pydata\\pydata_copy: empty_a\n",
      "FILE INSIDE .\\pydata\\pydata_copy: hello.txt\n",
      "FILE INSIDE .\\pydata\\pydata_copy: test2.txt\n",
      "FILE INSIDE .\\pydata\\pydata_copy: 県庁所在地_一覧.txt\n",
      "\n",
      "The current folder is .\\pydata\\pydata_copy\\empty_a\n",
      "SUBFOLDER OF .\\pydata\\pydata_copy\\empty_a: empty_b\n",
      "\n",
      "The current folder is .\\pydata\\pydata_copy\\empty_a\\empty_b\n",
      "SUBFOLDER OF .\\pydata\\pydata_copy\\empty_a\\empty_b: empty_c\n",
      "\n",
      "The current folder is .\\pydata\\pydata_copy\\empty_a\\empty_b\\empty_c\n",
      "\n",
      "The current folder is .\\pyworks\n",
      "FILE INSIDE .\\pyworks: mycats.py\n",
      "\n",
      "The current folder is .\\__pycache__\n",
      "FILE INSIDE .\\__pycache__: mycats.cpython-37.pyc\n",
      "\n"
     ]
    }
   ],
   "source": [
    "for foldername, subfolders, filenames in os.walk(r\".\"):\n",
    "    print(\"The current folder is \" + foldername)\n",
    "    \n",
    "    for subfolder in subfolders:\n",
    "        print(\"SUBFOLDER OF \" + foldername+\": \" + subfolder)\n",
    "        \n",
    "    for filename in filenames:\n",
    "        print(\"FILE INSIDE \" + foldername + \": \" + filename)\n",
    "        \n",
    "    print(\"\")"
   ]
  },
  {
   "cell_type": "markdown",
   "metadata": {},
   "source": [
    "os.walk は、その渡されたフォルダの　①フォルダ名　②中にあるフォルダのリスト　③中にあるファイルのリスト を中身のフォルダの数分だけ返す\n",
    "これを使ってfor文の中に入れればそのフォルダの中のすべてのフォルダとファイルを参照することができる"
   ]
  },
  {
   "cell_type": "markdown",
   "metadata": {},
   "source": [
    "# Zipfileモジュールを使う"
   ]
  },
  {
   "cell_type": "code",
   "execution_count": 1,
   "metadata": {},
   "outputs": [
    {
     "data": {
      "text/plain": [
       "'C:\\\\Users\\\\kumak\\\\提出用\\\\退屈なことはPythonにやらせよう'"
      ]
     },
     "execution_count": 1,
     "metadata": {},
     "output_type": "execute_result"
    }
   ],
   "source": [
    "import os, zipfile"
   ]
  },
  {
   "cell_type": "code",
   "execution_count": 2,
   "metadata": {},
   "outputs": [],
   "source": [
    "with zipfile.ZipFile(\".\\py.zip\", \"w\", compression=zipfile.ZIP_DEFLATED) as new_zip:\n",
    "    new_zip.write(\".\\pyworks\")\n",
    "    new_zip.write(\".\\pydata\", arcname=\"py\")"
   ]
  },
  {
   "cell_type": "markdown",
   "metadata": {},
   "source": [
    "zipfile.ZipFile の第一引数にパスと作成するzipファイルの名前を付けて渡し、モードを書き込みの r にしてZipFileオブジェクトを作る\n",
    "\n",
    "第二引数の compression は圧縮方法で ZIP_DEFLATED は通常のZIP圧縮 デフォルトは ZIP_STORED で圧縮せずに複数ファイルをまとめるだけになる\n",
    "\n",
    "ZipFileオブジェクトに write メソッドを使って、圧縮するファイルやフォルダを指定する　arcname にファイル名を指定して渡すと、その名前で圧縮される"
   ]
  },
  {
   "cell_type": "code",
   "execution_count": 3,
   "metadata": {},
   "outputs": [],
   "source": [
    "with zipfile.ZipFile(r\".\\py.zip\",\"a\", compression=zipfile.ZIP_DEFLATED) as new_zip:\n",
    "    new_zip.write(r\".\\pydata\\hello.txt\")"
   ]
  },
  {
   "cell_type": "markdown",
   "metadata": {},
   "source": [
    "すでにあるZipファイルに追加で入れたい時はモードを追加書き込みの a にする"
   ]
  },
  {
   "cell_type": "code",
   "execution_count": 4,
   "metadata": {},
   "outputs": [],
   "source": [
    "with zipfile.ZipFile(r\".\\py.zip\") as read_zip:\n",
    "    in_file = read_zip.namelist()\n",
    "    bmi_info = read_zip.getinfo(\"pydata/hello.txt\")"
   ]
  },
  {
   "cell_type": "code",
   "execution_count": 5,
   "metadata": {},
   "outputs": [
    {
     "data": {
      "text/plain": [
       "['pyworks/', 'py/', 'pydata/hello.txt']"
      ]
     },
     "execution_count": 5,
     "metadata": {},
     "output_type": "execute_result"
    }
   ],
   "source": [
    "in_file"
   ]
  },
  {
   "cell_type": "code",
   "execution_count": 6,
   "metadata": {},
   "outputs": [
    {
     "data": {
      "text/plain": [
       "39"
      ]
     },
     "execution_count": 6,
     "metadata": {},
     "output_type": "execute_result"
    }
   ],
   "source": [
    "bmi_info.file_size"
   ]
  },
  {
   "cell_type": "code",
   "execution_count": 7,
   "metadata": {},
   "outputs": [
    {
     "data": {
      "text/plain": [
       "41"
      ]
     },
     "execution_count": 7,
     "metadata": {},
     "output_type": "execute_result"
    }
   ],
   "source": [
    "bmi_info.compress_size"
   ]
  },
  {
   "cell_type": "code",
   "execution_count": 8,
   "metadata": {},
   "outputs": [
    {
     "data": {
      "text/plain": [
       "zipfile.ZipInfo"
      ]
     },
     "execution_count": 8,
     "metadata": {},
     "output_type": "execute_result"
    }
   ],
   "source": [
    "type(bmi_info)"
   ]
  },
  {
   "cell_type": "markdown",
   "metadata": {},
   "source": [
    "モードを r もしくは指定しないと読み込み専用のZipFileオブジェクトができる\n",
    "\n",
    "ZipFileオブジェクトに namelist メソッドを使うと、中に入っているすべてのファイルのパスをリストにして返してくれる\n",
    "\n",
    "そのファイルのパスをZipFileオブジェクトの getinfo メソッドに渡すと、zipfile.ZipInfoオブジェクトができ、filesize や compress_size などで詳細を知ることができる(パスの区切りはスラッシュ)"
   ]
  },
  {
   "cell_type": "code",
   "execution_count": 16,
   "metadata": {},
   "outputs": [],
   "source": [
    "with zipfile.ZipFile(r\".\\py.zip\") as read_zip:\n",
    "    read_zip.extractall(r\".\\pydata\\extractall\")"
   ]
  },
  {
   "cell_type": "markdown",
   "metadata": {},
   "source": [
    "読み込みでZipFileオブジェクトを作り、extractall メソッドを使うことでZipファイルの中身すべてを展開することができる\n",
    "\n",
    "引数として指定したパスのフォルダにファイルを展開する"
   ]
  },
  {
   "cell_type": "markdown",
   "metadata": {},
   "source": [
    "読み込みのZipFileオブジェクトに extract メソッドを使うことで、第一引数に渡したファイルのみを展開することもできる\n",
    "\n",
    "第二引数に展開先のフォルダを指定することもできる"
   ]
  },
  {
   "cell_type": "code",
   "execution_count": null,
   "metadata": {},
   "outputs": [],
   "source": []
  }
 ],
 "metadata": {
  "kernelspec": {
   "display_name": "Python 3",
   "language": "python",
   "name": "python3"
  },
  "language_info": {
   "codemirror_mode": {
    "name": "ipython",
    "version": 3
   },
   "file_extension": ".py",
   "mimetype": "text/x-python",
   "name": "python",
   "nbconvert_exporter": "python",
   "pygments_lexer": "ipython3",
   "version": "3.7.6"
  }
 },
 "nbformat": 4,
 "nbformat_minor": 4
}
